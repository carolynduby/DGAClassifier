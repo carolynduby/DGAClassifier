{
 "cells": [
  {
   "cell_type": "code",
   "execution_count": 1,
   "metadata": {
    "colab": {},
    "colab_type": "code",
    "id": "_L5b-Qddgw0s"
   },
   "outputs": [],
   "source": [
    "import os\n",
    "from pprint import pprint\n",
    "import pandas as pd\n",
    "import numpy as np\n",
    "from matplotlib import pyplot\n",
    "from unidecode import unidecode"
   ]
  },
  {
   "cell_type": "markdown",
   "metadata": {
    "colab_type": "text",
    "id": "mqSmS2V7D-k1"
   },
   "source": [
    "# Domain Generating Algorithms - EDA"
   ]
  },
  {
   "cell_type": "markdown",
   "metadata": {
    "colab_type": "text",
    "id": "oNFrWzLUN3I1"
   },
   "source": [
    "## Context:\n",
    "\n",
    "Once malicious software has been installed on a system it needs to be told what to do. To receive instructions the malware needs to communicate with a command and control server.\n",
    "Historically, the domain name of the command and control server was hardcoded into the code of the malware. This made it very easy for cybersecurity professionals to block this communication channel by blacklisting the domain once they discovered it.\n",
    "\n",
    "To avoid this weakness malware programs have started to use Domain Generating Algorithms (or DGAs).  These algorithms generate a number of random domain names where one of the generated domains is the control server. The infected computed scans through these domains trying to contact each, eventually it will try the correct domain. At this stage, the malware can receive instructions remotely.\n",
    "\n",
    "The dataset consists of domains that have been labeled:\n",
    "* `class` - is the domain `legit` or `dga`\n",
    "* `subclass` - where the `class` is not `legit` this will detail the type of malware that generated the domain. If `legit` the value for this will also be `legit`."
   ]
  },
  {
   "cell_type": "markdown",
   "metadata": {
    "colab_type": "text",
    "id": "Uq-fAby8N0jd"
   },
   "source": [
    "## Objective\n",
    "\n",
    "If we assume that:\n",
    "* **True Postive**: Correctly identified a `dga` entry.\n",
    "* **True Negative**: Correctly identified a `legit` entry.\n",
    "* **False Positive**: Incorrectly identifed a `dga` entry as a `legit` entry - *Type 1 Error*.\n",
    "* **False Negative**: Incorrectly identified a `legit` entry as a `dga` entry  - *Type 2 Error*.\n",
    "\n",
    "We futher assume the **False Postive** as the worst outcome, that we allowed a program to establish a connection to a `dga`."
   ]
  },
  {
   "cell_type": "markdown",
   "metadata": {
    "colab_type": "text",
    "id": "EWgCy4Bc_x8Z"
   },
   "source": [
    "# Conclusions for Futher Work\n",
    "\n",
    "\n"
   ]
  },
  {
   "cell_type": "markdown",
   "metadata": {
    "colab_type": "text",
    "id": "LHGHZ_MRODMh"
   },
   "source": [
    "## Overall:\n",
    "\n",
    "* Accuracy alone is not a suffcient metric, rather F1 Score will give a better view of the performance in light of *Type 2 Errors* (False Negatives) being the most undesireable.\n",
    "* Vowel Counts do not provide a clear boundary between `class` entries. However *Vowel Ratios* have some discriminatory value between the `class` entries. This can be nominally improved if we consider only distinct characters.\n",
    "* There is some discriminating value in counting the number of digits, in that where the *Vowel Ratio* is zero `dga` domains have an increased likelyhood of having a zero digit count.\n",
    "* `domain` will be used as the input, as the additional information provided by `host` (e.g. Top Level Domain) would be difficult to action due to `class` imbalances."
   ]
  },
  {
   "cell_type": "markdown",
   "metadata": {
    "colab_type": "text",
    "id": "3F4VZ_dcN8-5"
   },
   "source": [
    "## Column Specific\n",
    "\n",
    "* `domain`\n",
    "    * Does not contain unique values, due to variation of `host` (e.g. companies with country specific sites), however the `class` and `subclass` values are the same across the duplicated observations of `domain`.\n",
    "    * The mimimum length character length of a `dga` entry is 12 characters. Furthermore `dga` entries have a greater variation in character length (`~5.94`) compared to `legit` (`~3.3`) - *this could be a useful feature*.\n",
    "* `host`\n",
    "    * Although it is possible to split out the Top Level Domain - `tld` (e.g. .com,.ru) the distribution is heavily skewed. Furthermore ~99% of the `tld` do not have observations where the `class` is `dga` - *thus as a feature `tld` would not generalise well*."
   ]
  },
  {
   "cell_type": "markdown",
   "metadata": {
    "colab_type": "text",
    "id": "3ScXPiOON4qi"
   },
   "source": [
    "## Considerations for Processing Steps\n",
    "\n",
    "* Convert to lowercase.\n",
    "* Normalise Unicode to ASCII characters sets.\n",
    "* Remove all characters that do not fall into the range of `[a-z0-9\\-]`.\n",
    "* Remove all whitespace.\n",
    "* Remove duplicates.\n",
    "* create `domain_len`, counting the number of characters in domain.\n",
    "* create `domain_vowel_count` and `domain_vowel_ratio` - `domain_vowel_count` is not for use the model but rather required for calculating the ratio of characters in the `domain` that are vowels.\n",
    "* create `domain_digit_count`, counting the number of characters in `domain` that are digits."
   ]
  },
  {
   "cell_type": "markdown",
   "metadata": {
    "colab_type": "text",
    "id": "QNButPHtObSN"
   },
   "source": [
    "# References\n",
    "\n",
    "![Example of URL parts](https://domain.me/wp-content/uploads/2016/10/IP-domain-1.jpg)\n",
    "\n",
    "Image Credit: [domain.me](https://domain.me/what-are-domain-names-how-do-they-work/) I will use the above definitions for referring constituiant parts of a \"domain\".\n",
    "\n",
    "For the canonical definition of URLs I referred to: [Domain names Implementation and Specification ietf.org](https://tools.ietf.org/html/rfc1035)\n",
    "\n",
    "For clarification on Unicode characters in DNS: [Internationalisation of DNS - unicode.org](https://unicode.org/faq/idn.html)"
   ]
  },
  {
   "cell_type": "markdown",
   "metadata": {
    "colab_type": "text",
    "id": "AtEq-HGmi8r7"
   },
   "source": [
    "# Data Preview and Data Types"
   ]
  },
  {
   "cell_type": "code",
   "execution_count": 2,
   "metadata": {},
   "outputs": [],
   "source": [
    "os.chdir(\"../\")"
   ]
  },
  {
   "cell_type": "code",
   "execution_count": 5,
   "metadata": {
    "colab": {},
    "colab_type": "code",
    "id": "AMvWAET9gzI2"
   },
   "outputs": [],
   "source": [
    "data_df = pd.read_csv(\"data/raw/dga_domains.csv\")"
   ]
  },
  {
   "cell_type": "code",
   "execution_count": 6,
   "metadata": {
    "colab": {
     "base_uri": "https://localhost:8080/",
     "height": 204
    },
    "colab_type": "code",
    "id": "GgHSwF20i86i",
    "outputId": "7eb51dab-c70a-4fbd-b9f9-0a3c6b5975e4"
   },
   "outputs": [
    {
     "data": {
      "text/html": [
       "<div>\n",
       "<style scoped>\n",
       "    .dataframe tbody tr th:only-of-type {\n",
       "        vertical-align: middle;\n",
       "    }\n",
       "\n",
       "    .dataframe tbody tr th {\n",
       "        vertical-align: top;\n",
       "    }\n",
       "\n",
       "    .dataframe thead th {\n",
       "        text-align: right;\n",
       "    }\n",
       "</style>\n",
       "<table border=\"1\" class=\"dataframe\">\n",
       "  <thead>\n",
       "    <tr style=\"text-align: right;\">\n",
       "      <th></th>\n",
       "      <th>host</th>\n",
       "      <th>domain</th>\n",
       "      <th>class</th>\n",
       "      <th>subclass</th>\n",
       "    </tr>\n",
       "  </thead>\n",
       "  <tbody>\n",
       "    <tr>\n",
       "      <th>79135</th>\n",
       "      <td>myscoresoft.info</td>\n",
       "      <td>myscoresoft</td>\n",
       "      <td>legit</td>\n",
       "      <td>legit</td>\n",
       "    </tr>\n",
       "    <tr>\n",
       "      <th>60750</th>\n",
       "      <td>jdiqrjrrjvoitck.ru</td>\n",
       "      <td>jdiqrjrrjvoitck</td>\n",
       "      <td>dga</td>\n",
       "      <td>cryptolocker</td>\n",
       "    </tr>\n",
       "    <tr>\n",
       "      <th>121537</th>\n",
       "      <td>viet4rum.com</td>\n",
       "      <td>viet4rum</td>\n",
       "      <td>legit</td>\n",
       "      <td>legit</td>\n",
       "    </tr>\n",
       "    <tr>\n",
       "      <th>21615</th>\n",
       "      <td>buzzstream.tv</td>\n",
       "      <td>buzzstream</td>\n",
       "      <td>legit</td>\n",
       "      <td>legit</td>\n",
       "    </tr>\n",
       "    <tr>\n",
       "      <th>87732</th>\n",
       "      <td>pbguide.com</td>\n",
       "      <td>pbguide</td>\n",
       "      <td>legit</td>\n",
       "      <td>legit</td>\n",
       "    </tr>\n",
       "  </tbody>\n",
       "</table>\n",
       "</div>"
      ],
      "text/plain": [
       "                      host           domain  class      subclass\n",
       "79135     myscoresoft.info      myscoresoft  legit         legit\n",
       "60750   jdiqrjrrjvoitck.ru  jdiqrjrrjvoitck    dga  cryptolocker\n",
       "121537        viet4rum.com         viet4rum  legit         legit\n",
       "21615        buzzstream.tv       buzzstream  legit         legit\n",
       "87732          pbguide.com          pbguide  legit         legit"
      ]
     },
     "execution_count": 6,
     "metadata": {},
     "output_type": "execute_result"
    }
   ],
   "source": [
    "data_df.sample(5, random_state = 9000)"
   ]
  },
  {
   "cell_type": "markdown",
   "metadata": {
    "colab_type": "text",
    "id": "mBM5w8jgL3XL"
   },
   "source": [
    "# Observations on the Data Preview\n",
    "\n",
    "- `host` contains the SLD and the TLD, it does not seem to contain the subdomain e.g. \"www\".\n",
    "- `domain` is just the SLD.\n",
    "- `class` details if the record is legitimate (`legit`) or the result of a Domain Generating Algorithms (`dga`).\n",
    "- `subclass` where `class` is `dga` this column details the malware which used the domain. If the `class` is `legit` the value for the column is `legit`."
   ]
  },
  {
   "cell_type": "code",
   "execution_count": 7,
   "metadata": {
    "colab": {
     "base_uri": "https://localhost:8080/",
     "height": 34
    },
    "colab_type": "code",
    "id": "8-AgHdcpg-Wx",
    "outputId": "1c143bdb-924f-475b-9fd9-b4845efcc3b4"
   },
   "outputs": [
    {
     "data": {
      "text/plain": [
       "(133926, 4)"
      ]
     },
     "execution_count": 7,
     "metadata": {},
     "output_type": "execute_result"
    }
   ],
   "source": [
    "data_df.shape"
   ]
  },
  {
   "cell_type": "code",
   "execution_count": 8,
   "metadata": {
    "colab": {
     "base_uri": "https://localhost:8080/",
     "height": 102
    },
    "colab_type": "code",
    "id": "P_nKuOSOg4Wr",
    "outputId": "8a5fa40b-01d8-403e-8a07-6fae4440ddd4"
   },
   "outputs": [
    {
     "data": {
      "text/plain": [
       "host        object\n",
       "domain      object\n",
       "class       object\n",
       "subclass    object\n",
       "dtype: object"
      ]
     },
     "execution_count": 8,
     "metadata": {},
     "output_type": "execute_result"
    }
   ],
   "source": [
    "data_df.dtypes"
   ]
  },
  {
   "cell_type": "code",
   "execution_count": 9,
   "metadata": {
    "colab": {
     "base_uri": "https://localhost:8080/",
     "height": 102
    },
    "colab_type": "code",
    "id": "w2yYaXcbhyt2",
    "outputId": "24494f81-1d51-4981-9d14-e9ee05b8a28d"
   },
   "outputs": [
    {
     "data": {
      "text/plain": [
       "host        133926\n",
       "domain      133926\n",
       "class       133926\n",
       "subclass    133926\n",
       "dtype: int64"
      ]
     },
     "execution_count": 9,
     "metadata": {},
     "output_type": "execute_result"
    }
   ],
   "source": [
    "data_df.count()"
   ]
  },
  {
   "cell_type": "markdown",
   "metadata": {
    "colab_type": "text",
    "id": "urXS69lhFUuo"
   },
   "source": [
    "# Missing Values\n",
    "\n",
    "Before missing data checks, given we're working with only text columns lets eliminate leading and trailing whitespace, and then replace empty strings with a known value (`np.nan`)."
   ]
  },
  {
   "cell_type": "code",
   "execution_count": 10,
   "metadata": {
    "colab": {},
    "colab_type": "code",
    "id": "AeRgmmqwhdma"
   },
   "outputs": [],
   "source": [
    "for col in data_df.columns:\n",
    "    data_df[col] = data_df[col].apply(lambda x: str(x).strip())"
   ]
  },
  {
   "cell_type": "code",
   "execution_count": 11,
   "metadata": {
    "colab": {},
    "colab_type": "code",
    "id": "wS95qkQ8hWDq"
   },
   "outputs": [],
   "source": [
    "data_df = data_df.replace({ \"\": np.nan })"
   ]
  },
  {
   "cell_type": "code",
   "execution_count": 12,
   "metadata": {
    "colab": {
     "base_uri": "https://localhost:8080/",
     "height": 102
    },
    "colab_type": "code",
    "id": "g6qHJTfPg7n7",
    "outputId": "4ab0a0e8-5613-448a-9681-f6ae5b6f1593"
   },
   "outputs": [
    {
     "data": {
      "text/plain": [
       "host        133926\n",
       "domain      133926\n",
       "class       133926\n",
       "subclass    133926\n",
       "dtype: int64"
      ]
     },
     "execution_count": 12,
     "metadata": {},
     "output_type": "execute_result"
    }
   ],
   "source": [
    "data_df.count()"
   ]
  },
  {
   "cell_type": "code",
   "execution_count": 13,
   "metadata": {
    "colab": {},
    "colab_type": "code",
    "id": "cPA_oH6eN8uC"
   },
   "outputs": [],
   "source": [
    "assert(data_df.dropna(axis = 0, how = \"any\").shape == data_df.shape)"
   ]
  },
  {
   "cell_type": "markdown",
   "metadata": {
    "colab_type": "text",
    "id": "T63kpsM9N2mT"
   },
   "source": [
    "# Observations on Missing Values\n",
    "\n",
    "There appear to be no missing values in the dataset.\n",
    "\n",
    "Although we should check for empty inputs."
   ]
  },
  {
   "cell_type": "markdown",
   "metadata": {
    "colab_type": "text",
    "id": "MZbkmckMGT7u"
   },
   "source": [
    "# Uniqueness\n",
    "\n",
    "Based on my understanding of the dataset, I expect the `host` and the `domain` columns to contain unique values."
   ]
  },
  {
   "cell_type": "code",
   "execution_count": 14,
   "metadata": {
    "colab": {
     "base_uri": "https://localhost:8080/",
     "height": 85
    },
    "colab_type": "code",
    "id": "EfMXpcpHF-5x",
    "outputId": "9c8837f7-d395-4707-a9ed-0530c0621f69"
   },
   "outputs": [
    {
     "name": "stdout",
     "output_type": "stream",
     "text": [
      "host is unique: True\n",
      "domain is unique: False\n",
      "class is unique: False\n",
      "subclass is unique: False\n"
     ]
    }
   ],
   "source": [
    "for col in data_df.columns:\n",
    "    print(col, \"is unique:\", data_df[col].is_unique)"
   ]
  },
  {
   "cell_type": "markdown",
   "metadata": {
    "colab_type": "text",
    "id": "YDWQgu34G31p"
   },
   "source": [
    "It appears I was mistaken, lets see what is in domain."
   ]
  },
  {
   "cell_type": "code",
   "execution_count": 15,
   "metadata": {
    "colab": {
     "base_uri": "https://localhost:8080/",
     "height": 359
    },
    "colab_type": "code",
    "id": "IIwBRwu7Gmd5",
    "outputId": "344ace6f-63bc-43c0-bd04-0c42f78f7e15"
   },
   "outputs": [
    {
     "data": {
      "text/html": [
       "<div>\n",
       "<style scoped>\n",
       "    .dataframe tbody tr th:only-of-type {\n",
       "        vertical-align: middle;\n",
       "    }\n",
       "\n",
       "    .dataframe tbody tr th {\n",
       "        vertical-align: top;\n",
       "    }\n",
       "\n",
       "    .dataframe thead th {\n",
       "        text-align: right;\n",
       "    }\n",
       "</style>\n",
       "<table border=\"1\" class=\"dataframe\">\n",
       "  <thead>\n",
       "    <tr style=\"text-align: right;\">\n",
       "      <th></th>\n",
       "      <th>domain</th>\n",
       "      <th>occurances</th>\n",
       "    </tr>\n",
       "  </thead>\n",
       "  <tbody>\n",
       "    <tr>\n",
       "      <th>0</th>\n",
       "      <td>provincia</td>\n",
       "      <td>47</td>\n",
       "    </tr>\n",
       "    <tr>\n",
       "      <th>1</th>\n",
       "      <td>travian</td>\n",
       "      <td>46</td>\n",
       "    </tr>\n",
       "    <tr>\n",
       "      <th>2</th>\n",
       "      <td>groupon</td>\n",
       "      <td>46</td>\n",
       "    </tr>\n",
       "    <tr>\n",
       "      <th>3</th>\n",
       "      <td>trivago</td>\n",
       "      <td>45</td>\n",
       "    </tr>\n",
       "    <tr>\n",
       "      <th>4</th>\n",
       "      <td>philips</td>\n",
       "      <td>45</td>\n",
       "    </tr>\n",
       "    <tr>\n",
       "      <th>5</th>\n",
       "      <td>careerjet</td>\n",
       "      <td>45</td>\n",
       "    </tr>\n",
       "    <tr>\n",
       "      <th>6</th>\n",
       "      <td>mcdonalds</td>\n",
       "      <td>41</td>\n",
       "    </tr>\n",
       "    <tr>\n",
       "      <th>7</th>\n",
       "      <td>mercedes-benz</td>\n",
       "      <td>40</td>\n",
       "    </tr>\n",
       "    <tr>\n",
       "      <th>8</th>\n",
       "      <td>tripadvisor</td>\n",
       "      <td>40</td>\n",
       "    </tr>\n",
       "    <tr>\n",
       "      <th>9</th>\n",
       "      <td>skyscanner</td>\n",
       "      <td>37</td>\n",
       "    </tr>\n",
       "  </tbody>\n",
       "</table>\n",
       "</div>"
      ],
      "text/plain": [
       "          domain  occurances\n",
       "0      provincia          47\n",
       "1        travian          46\n",
       "2        groupon          46\n",
       "3        trivago          45\n",
       "4        philips          45\n",
       "5      careerjet          45\n",
       "6      mcdonalds          41\n",
       "7  mercedes-benz          40\n",
       "8    tripadvisor          40\n",
       "9     skyscanner          37"
      ]
     },
     "execution_count": 15,
     "metadata": {},
     "output_type": "execute_result"
    }
   ],
   "source": [
    "domain_values_counts_df = pd.DataFrame(data_df[\"domain\"].value_counts().sort_values(ascending = False)).reset_index()\n",
    "domain_values_counts_df.columns = [\"domain\", \"occurances\"]\n",
    "domain_values_counts_df.head(10)"
   ]
  },
  {
   "cell_type": "markdown",
   "metadata": {
    "colab_type": "text",
    "id": "vuMo2-ddHYjr"
   },
   "source": [
    "What is the distribution of the duplication of `domain`?"
   ]
  },
  {
   "cell_type": "code",
   "execution_count": 16,
   "metadata": {
    "colab": {
     "base_uri": "https://localhost:8080/",
     "height": 170
    },
    "colab_type": "code",
    "id": "GrwY5_-gHMKV",
    "outputId": "efd6125d-7e69-4c90-86ee-964ce022da7e"
   },
   "outputs": [
    {
     "data": {
      "text/plain": [
       "count    114525.000000\n",
       "mean          1.169404\n",
       "std           1.076192\n",
       "min           1.000000\n",
       "25%           1.000000\n",
       "50%           1.000000\n",
       "75%           1.000000\n",
       "max          47.000000\n",
       "Name: occurances, dtype: float64"
      ]
     },
     "execution_count": 16,
     "metadata": {},
     "output_type": "execute_result"
    }
   ],
   "source": [
    "domain_values_counts_df[\"occurances\"].describe()"
   ]
  },
  {
   "cell_type": "markdown",
   "metadata": {
    "colab_type": "text",
    "id": "_viWTnwnG-96"
   },
   "source": [
    "It would seem for the majority of the time host and domain are similar. Let's peek at the first 10 entries in our dataset with the most frequently occuring `domain` value."
   ]
  },
  {
   "cell_type": "code",
   "execution_count": 17,
   "metadata": {
    "colab": {
     "base_uri": "https://localhost:8080/",
     "height": 359
    },
    "colab_type": "code",
    "id": "RnvkbEvCHnQ9",
    "outputId": "3d82975f-d4e2-4b61-8e3d-cec35f403dda"
   },
   "outputs": [
    {
     "data": {
      "text/html": [
       "<div>\n",
       "<style scoped>\n",
       "    .dataframe tbody tr th:only-of-type {\n",
       "        vertical-align: middle;\n",
       "    }\n",
       "\n",
       "    .dataframe tbody tr th {\n",
       "        vertical-align: top;\n",
       "    }\n",
       "\n",
       "    .dataframe thead th {\n",
       "        text-align: right;\n",
       "    }\n",
       "</style>\n",
       "<table border=\"1\" class=\"dataframe\">\n",
       "  <thead>\n",
       "    <tr style=\"text-align: right;\">\n",
       "      <th></th>\n",
       "      <th>host</th>\n",
       "      <th>domain</th>\n",
       "      <th>class</th>\n",
       "      <th>subclass</th>\n",
       "    </tr>\n",
       "  </thead>\n",
       "  <tbody>\n",
       "    <tr>\n",
       "      <th>92620</th>\n",
       "      <td>provincia.genova.it</td>\n",
       "      <td>provincia</td>\n",
       "      <td>legit</td>\n",
       "      <td>legit</td>\n",
       "    </tr>\n",
       "    <tr>\n",
       "      <th>92621</th>\n",
       "      <td>provincia.teramo.it</td>\n",
       "      <td>provincia</td>\n",
       "      <td>legit</td>\n",
       "      <td>legit</td>\n",
       "    </tr>\n",
       "    <tr>\n",
       "      <th>92622</th>\n",
       "      <td>provincia.cs.it</td>\n",
       "      <td>provincia</td>\n",
       "      <td>legit</td>\n",
       "      <td>legit</td>\n",
       "    </tr>\n",
       "    <tr>\n",
       "      <th>92623</th>\n",
       "      <td>provincia.so.it</td>\n",
       "      <td>provincia</td>\n",
       "      <td>legit</td>\n",
       "      <td>legit</td>\n",
       "    </tr>\n",
       "    <tr>\n",
       "      <th>92624</th>\n",
       "      <td>provincia.fe.it</td>\n",
       "      <td>provincia</td>\n",
       "      <td>legit</td>\n",
       "      <td>legit</td>\n",
       "    </tr>\n",
       "    <tr>\n",
       "      <th>92625</th>\n",
       "      <td>provincia.udine.it</td>\n",
       "      <td>provincia</td>\n",
       "      <td>legit</td>\n",
       "      <td>legit</td>\n",
       "    </tr>\n",
       "    <tr>\n",
       "      <th>92626</th>\n",
       "      <td>provincia.lecco.it</td>\n",
       "      <td>provincia</td>\n",
       "      <td>legit</td>\n",
       "      <td>legit</td>\n",
       "    </tr>\n",
       "    <tr>\n",
       "      <th>92627</th>\n",
       "      <td>provincia.le.it</td>\n",
       "      <td>provincia</td>\n",
       "      <td>legit</td>\n",
       "      <td>legit</td>\n",
       "    </tr>\n",
       "    <tr>\n",
       "      <th>92628</th>\n",
       "      <td>provincia.treviso.it</td>\n",
       "      <td>provincia</td>\n",
       "      <td>legit</td>\n",
       "      <td>legit</td>\n",
       "    </tr>\n",
       "    <tr>\n",
       "      <th>92629</th>\n",
       "      <td>provincia.tn.it</td>\n",
       "      <td>provincia</td>\n",
       "      <td>legit</td>\n",
       "      <td>legit</td>\n",
       "    </tr>\n",
       "  </tbody>\n",
       "</table>\n",
       "</div>"
      ],
      "text/plain": [
       "                       host     domain  class subclass\n",
       "92620   provincia.genova.it  provincia  legit    legit\n",
       "92621   provincia.teramo.it  provincia  legit    legit\n",
       "92622       provincia.cs.it  provincia  legit    legit\n",
       "92623       provincia.so.it  provincia  legit    legit\n",
       "92624       provincia.fe.it  provincia  legit    legit\n",
       "92625    provincia.udine.it  provincia  legit    legit\n",
       "92626    provincia.lecco.it  provincia  legit    legit\n",
       "92627       provincia.le.it  provincia  legit    legit\n",
       "92628  provincia.treviso.it  provincia  legit    legit\n",
       "92629       provincia.tn.it  provincia  legit    legit"
      ]
     },
     "execution_count": 17,
     "metadata": {},
     "output_type": "execute_result"
    }
   ],
   "source": [
    "data_df[data_df[\"domain\"] == domain_values_counts_df.iloc[0][\"domain\"]].head(10)"
   ]
  },
  {
   "cell_type": "markdown",
   "metadata": {
    "colab_type": "text",
    "id": "I0RqdF1mInzo"
   },
   "source": [
    "Based on the above it would seem that the `host` column contains both the Second Level Domain (SLD) and the Top Level Domain (TLD).\n",
    "\n",
    "From this there are a couple of assumptions:\n",
    "* Splitting the `host` field on `.` characters and taking the first slice will result in a value equal to the domain.\n",
    "* For the many entries that share the same domain, they will belong to the same `class` and `subclass`.\n",
    "\n"
   ]
  },
  {
   "cell_type": "code",
   "execution_count": 18,
   "metadata": {
    "colab": {},
    "colab_type": "code",
    "id": "KrnAfGNSInVP"
   },
   "outputs": [],
   "source": [
    "data_sld = data_df[\"host\"].apply(lambda x: x.split(\".\")[0])"
   ]
  },
  {
   "cell_type": "markdown",
   "metadata": {
    "colab_type": "text",
    "id": "ryNJb2WaKoAW"
   },
   "source": [
    "Let's validate the first assumption."
   ]
  },
  {
   "cell_type": "code",
   "execution_count": 19,
   "metadata": {
    "colab": {},
    "colab_type": "code",
    "id": "0sHU1ldcKeG6"
   },
   "outputs": [],
   "source": [
    "assert(np.all(data_sld == data_df[\"domain\"]))"
   ]
  },
  {
   "cell_type": "markdown",
   "metadata": {
    "colab_type": "text",
    "id": "VOhvGXemKrTf"
   },
   "source": [
    "Now for the second. That for grouped by `host` the number of unique values of `class` and `subclass` will equal one."
   ]
  },
  {
   "cell_type": "code",
   "execution_count": 20,
   "metadata": {
    "colab": {},
    "colab_type": "code",
    "id": "NRiBkB1IKtan"
   },
   "outputs": [],
   "source": [
    "data_grouped_by_domain_sum_df = data_df[[\"domain\", \"class\", \"subclass\"]].groupby(\"domain\").agg(pd.Series.nunique)"
   ]
  },
  {
   "cell_type": "code",
   "execution_count": 21,
   "metadata": {
    "colab": {
     "base_uri": "https://localhost:8080/",
     "height": 235
    },
    "colab_type": "code",
    "id": "cMNPrCRULFm4",
    "outputId": "cd3f553c-b05e-4094-be0e-5a8538025eee"
   },
   "outputs": [
    {
     "data": {
      "text/html": [
       "<div>\n",
       "<style scoped>\n",
       "    .dataframe tbody tr th:only-of-type {\n",
       "        vertical-align: middle;\n",
       "    }\n",
       "\n",
       "    .dataframe tbody tr th {\n",
       "        vertical-align: top;\n",
       "    }\n",
       "\n",
       "    .dataframe thead th {\n",
       "        text-align: right;\n",
       "    }\n",
       "</style>\n",
       "<table border=\"1\" class=\"dataframe\">\n",
       "  <thead>\n",
       "    <tr style=\"text-align: right;\">\n",
       "      <th></th>\n",
       "      <th>class</th>\n",
       "      <th>subclass</th>\n",
       "    </tr>\n",
       "    <tr>\n",
       "      <th>domain</th>\n",
       "      <th></th>\n",
       "      <th></th>\n",
       "    </tr>\n",
       "  </thead>\n",
       "  <tbody>\n",
       "    <tr>\n",
       "      <th>000directory</th>\n",
       "      <td>1</td>\n",
       "      <td>1</td>\n",
       "    </tr>\n",
       "    <tr>\n",
       "      <th>000webhost</th>\n",
       "      <td>1</td>\n",
       "      <td>1</td>\n",
       "    </tr>\n",
       "    <tr>\n",
       "      <th>001fans</th>\n",
       "      <td>1</td>\n",
       "      <td>1</td>\n",
       "    </tr>\n",
       "    <tr>\n",
       "      <th>01-telecharger</th>\n",
       "      <td>1</td>\n",
       "      <td>1</td>\n",
       "    </tr>\n",
       "    <tr>\n",
       "      <th>010shangpu</th>\n",
       "      <td>1</td>\n",
       "      <td>1</td>\n",
       "    </tr>\n",
       "  </tbody>\n",
       "</table>\n",
       "</div>"
      ],
      "text/plain": [
       "                class  subclass\n",
       "domain                         \n",
       "000directory        1         1\n",
       "000webhost          1         1\n",
       "001fans             1         1\n",
       "01-telecharger      1         1\n",
       "010shangpu          1         1"
      ]
     },
     "execution_count": 21,
     "metadata": {},
     "output_type": "execute_result"
    }
   ],
   "source": [
    "data_grouped_by_domain_sum_df.head()"
   ]
  },
  {
   "cell_type": "code",
   "execution_count": 22,
   "metadata": {
    "colab": {
     "base_uri": "https://localhost:8080/",
     "height": 450
    },
    "colab_type": "code",
    "id": "fvy9DZ2XTM8P",
    "outputId": "b5f49beb-6638-4f20-e02c-d11b3ba1d56a"
   },
   "outputs": [
    {
     "data": {
      "text/html": [
       "<div>\n",
       "<style scoped>\n",
       "    .dataframe tbody tr th:only-of-type {\n",
       "        vertical-align: middle;\n",
       "    }\n",
       "\n",
       "    .dataframe tbody tr th {\n",
       "        vertical-align: top;\n",
       "    }\n",
       "\n",
       "    .dataframe thead th {\n",
       "        text-align: right;\n",
       "    }\n",
       "</style>\n",
       "<table border=\"1\" class=\"dataframe\">\n",
       "  <thead>\n",
       "    <tr style=\"text-align: right;\">\n",
       "      <th></th>\n",
       "      <th>class</th>\n",
       "      <th>subclass</th>\n",
       "    </tr>\n",
       "    <tr>\n",
       "      <th>domain</th>\n",
       "      <th></th>\n",
       "      <th></th>\n",
       "    </tr>\n",
       "  </thead>\n",
       "  <tbody>\n",
       "    <tr>\n",
       "      <th>000directory</th>\n",
       "      <td>1</td>\n",
       "      <td>1</td>\n",
       "    </tr>\n",
       "    <tr>\n",
       "      <th>pingwest</th>\n",
       "      <td>1</td>\n",
       "      <td>1</td>\n",
       "    </tr>\n",
       "    <tr>\n",
       "      <th>pinkems</th>\n",
       "      <td>1</td>\n",
       "      <td>1</td>\n",
       "    </tr>\n",
       "    <tr>\n",
       "      <th>pinkemma</th>\n",
       "      <td>1</td>\n",
       "      <td>1</td>\n",
       "    </tr>\n",
       "    <tr>\n",
       "      <th>pinkdino</th>\n",
       "      <td>1</td>\n",
       "      <td>1</td>\n",
       "    </tr>\n",
       "    <tr>\n",
       "      <th>...</th>\n",
       "      <td>...</td>\n",
       "      <td>...</td>\n",
       "    </tr>\n",
       "    <tr>\n",
       "      <th>freshupnow</th>\n",
       "      <td>1</td>\n",
       "      <td>1</td>\n",
       "    </tr>\n",
       "    <tr>\n",
       "      <th>freshtv</th>\n",
       "      <td>1</td>\n",
       "      <td>1</td>\n",
       "    </tr>\n",
       "    <tr>\n",
       "      <th>freshthemes</th>\n",
       "      <td>1</td>\n",
       "      <td>1</td>\n",
       "    </tr>\n",
       "    <tr>\n",
       "      <th>freshteenvideos</th>\n",
       "      <td>1</td>\n",
       "      <td>1</td>\n",
       "    </tr>\n",
       "    <tr>\n",
       "      <th>zzztube</th>\n",
       "      <td>1</td>\n",
       "      <td>1</td>\n",
       "    </tr>\n",
       "  </tbody>\n",
       "</table>\n",
       "<p>114525 rows × 2 columns</p>\n",
       "</div>"
      ],
      "text/plain": [
       "                 class  subclass\n",
       "domain                          \n",
       "000directory         1         1\n",
       "pingwest             1         1\n",
       "pinkems              1         1\n",
       "pinkemma             1         1\n",
       "pinkdino             1         1\n",
       "...                ...       ...\n",
       "freshupnow           1         1\n",
       "freshtv              1         1\n",
       "freshthemes          1         1\n",
       "freshteenvideos      1         1\n",
       "zzztube              1         1\n",
       "\n",
       "[114525 rows x 2 columns]"
      ]
     },
     "execution_count": 22,
     "metadata": {},
     "output_type": "execute_result"
    }
   ],
   "source": [
    "data_grouped_by_domain_sum_df.sort_values(\"class\", ascending = False)"
   ]
  },
  {
   "cell_type": "code",
   "execution_count": 23,
   "metadata": {
    "colab": {},
    "colab_type": "code",
    "id": "VVbIFitCLXxQ"
   },
   "outputs": [],
   "source": [
    "assert(data_grouped_by_domain_sum_df[\"class\"].max() == 1)"
   ]
  },
  {
   "cell_type": "code",
   "execution_count": 24,
   "metadata": {
    "colab": {},
    "colab_type": "code",
    "id": "DdGYxPasLdTy"
   },
   "outputs": [],
   "source": [
    "assert(data_grouped_by_domain_sum_df[\"subclass\"].max() == 1)"
   ]
  },
  {
   "cell_type": "markdown",
   "metadata": {
    "colab_type": "text",
    "id": "e65TatruPCcD"
   },
   "source": [
    "# Observations on Uniqueness\n",
    "\n",
    "* `domain` is **not unique**, if it is considered as part of model it would be prudent to remove the duplicated values."
   ]
  },
  {
   "cell_type": "markdown",
   "metadata": {
    "colab_type": "text",
    "id": "awr-k57rK_Ut"
   },
   "source": [
    "# Data Quality Checks\n",
    "\n",
    "Given we've got mostly string data let's review the assumptions about the data pertaining to the quality of the data:\n",
    "\n",
    "* No control characters, such at linebreak or tabs should be present.\n",
    "* The characterset will be ascii.\n",
    "* There should be a variety of characters \n",
    "\n",
    "\n"
   ]
  },
  {
   "cell_type": "code",
   "execution_count": 25,
   "metadata": {
    "colab": {},
    "colab_type": "code",
    "id": "nZwTUhrjWQul"
   },
   "outputs": [],
   "source": [
    "validate_text_columns = [\"host\", \"domain\"]"
   ]
  },
  {
   "cell_type": "markdown",
   "metadata": {
    "colab_type": "text",
    "id": "YLK9WIlDUysZ"
   },
   "source": [
    "## No Control Characters\n",
    "\n",
    "If we assume that the range of expected characters to be `a-z`, `0-9`, `-`, then we can compare the ordinal values in our dataset to check if they are in this range."
   ]
  },
  {
   "cell_type": "markdown",
   "metadata": {
    "colab_type": "text",
    "id": "T0NWpg4NKBX_"
   },
   "source": [
    "Let's first determine the numeric ranges we need for ascii characters."
   ]
  },
  {
   "cell_type": "code",
   "execution_count": 26,
   "metadata": {
    "colab": {
     "base_uri": "https://localhost:8080/",
     "height": 136
    },
    "colab_type": "code",
    "id": "dD8_uZXzJAFa",
    "outputId": "696c119f-9b77-4670-af2f-1630047020b9"
   },
   "outputs": [
    {
     "name": "stdout",
     "output_type": "stream",
     "text": [
      "- 45\n",
      ". 46\n",
      "0 48\n",
      "1 49\n",
      "9 57\n",
      "a 97\n",
      "z 122\n"
     ]
    }
   ],
   "source": [
    "ascii_ranges = [\"-\", \".\", \"0\", \"1\", \"9\", \"a\", \"z\"]\n",
    "ascii_ord_ranges = list()\n",
    "for c in ascii_ranges:\n",
    "    ascii_ord_ranges.append(ord(c))\n",
    "    print(c, ord(c))"
   ]
  },
  {
   "cell_type": "markdown",
   "metadata": {
    "colab_type": "text",
    "id": "rp6U6rX_KAiX"
   },
   "source": [
    "Lets create our list of `expected_ords` and test the characters we identified for `ascii_ranges` have their numeric representation therein."
   ]
  },
  {
   "cell_type": "code",
   "execution_count": 27,
   "metadata": {
    "colab": {},
    "colab_type": "code",
    "id": "_XXWTI3jJPpj"
   },
   "outputs": [],
   "source": [
    "expected_ords = [ord(\"-\"), ord(\".\")] + list(range(ord(\"0\"), ord(\"9\")+1)) + list(range(ord(\"a\"), ord(\"z\")+ 1))\n",
    "\n",
    "# a simple check to ensure the range domains we identified are present\n",
    "for i in ascii_ord_ranges:\n",
    "    assert(i in expected_ords)"
   ]
  },
  {
   "cell_type": "markdown",
   "metadata": {
    "colab_type": "text",
    "id": "19m-isGQKVuo"
   },
   "source": [
    "Now to create a new dataframe containing text in domain represented as a sequence of number representing the characters.\n",
    "\n",
    "Also taking the additional step of converting the text to lower, this is step that will need to be taken in preprocessing."
   ]
  },
  {
   "cell_type": "code",
   "execution_count": 28,
   "metadata": {
    "colab": {
     "base_uri": "https://localhost:8080/",
     "height": 445
    },
    "colab_type": "code",
    "id": "Yk8apIfLGPc0",
    "outputId": "4f1cb470-d9fe-42c1-87eb-3fc5c7369174"
   },
   "outputs": [
    {
     "name": "stdout",
     "output_type": "stream",
     "text": [
      "host\n"
     ]
    },
    {
     "data": {
      "text/html": [
       "<div>\n",
       "<style scoped>\n",
       "    .dataframe tbody tr th:only-of-type {\n",
       "        vertical-align: middle;\n",
       "    }\n",
       "\n",
       "    .dataframe tbody tr th {\n",
       "        vertical-align: top;\n",
       "    }\n",
       "\n",
       "    .dataframe thead th {\n",
       "        text-align: right;\n",
       "    }\n",
       "</style>\n",
       "<table border=\"1\" class=\"dataframe\">\n",
       "  <thead>\n",
       "    <tr style=\"text-align: right;\">\n",
       "      <th></th>\n",
       "      <th>0</th>\n",
       "      <th>1</th>\n",
       "      <th>2</th>\n",
       "      <th>3</th>\n",
       "      <th>4</th>\n",
       "      <th>5</th>\n",
       "      <th>6</th>\n",
       "      <th>7</th>\n",
       "      <th>8</th>\n",
       "      <th>9</th>\n",
       "      <th>...</th>\n",
       "      <th>50</th>\n",
       "      <th>51</th>\n",
       "      <th>52</th>\n",
       "      <th>53</th>\n",
       "      <th>54</th>\n",
       "      <th>55</th>\n",
       "      <th>56</th>\n",
       "      <th>57</th>\n",
       "      <th>58</th>\n",
       "      <th>59</th>\n",
       "    </tr>\n",
       "  </thead>\n",
       "  <tbody>\n",
       "    <tr>\n",
       "      <th>0</th>\n",
       "      <td>48.0</td>\n",
       "      <td>48.0</td>\n",
       "      <td>48.0</td>\n",
       "      <td>100.0</td>\n",
       "      <td>105.0</td>\n",
       "      <td>114.0</td>\n",
       "      <td>101.0</td>\n",
       "      <td>99.0</td>\n",
       "      <td>116.0</td>\n",
       "      <td>111.0</td>\n",
       "      <td>...</td>\n",
       "      <td>NaN</td>\n",
       "      <td>NaN</td>\n",
       "      <td>NaN</td>\n",
       "      <td>NaN</td>\n",
       "      <td>NaN</td>\n",
       "      <td>NaN</td>\n",
       "      <td>NaN</td>\n",
       "      <td>NaN</td>\n",
       "      <td>NaN</td>\n",
       "      <td>NaN</td>\n",
       "    </tr>\n",
       "    <tr>\n",
       "      <th>1</th>\n",
       "      <td>48.0</td>\n",
       "      <td>48.0</td>\n",
       "      <td>48.0</td>\n",
       "      <td>119.0</td>\n",
       "      <td>101.0</td>\n",
       "      <td>98.0</td>\n",
       "      <td>104.0</td>\n",
       "      <td>111.0</td>\n",
       "      <td>115.0</td>\n",
       "      <td>116.0</td>\n",
       "      <td>...</td>\n",
       "      <td>NaN</td>\n",
       "      <td>NaN</td>\n",
       "      <td>NaN</td>\n",
       "      <td>NaN</td>\n",
       "      <td>NaN</td>\n",
       "      <td>NaN</td>\n",
       "      <td>NaN</td>\n",
       "      <td>NaN</td>\n",
       "      <td>NaN</td>\n",
       "      <td>NaN</td>\n",
       "    </tr>\n",
       "    <tr>\n",
       "      <th>2</th>\n",
       "      <td>48.0</td>\n",
       "      <td>48.0</td>\n",
       "      <td>49.0</td>\n",
       "      <td>102.0</td>\n",
       "      <td>97.0</td>\n",
       "      <td>110.0</td>\n",
       "      <td>115.0</td>\n",
       "      <td>46.0</td>\n",
       "      <td>99.0</td>\n",
       "      <td>111.0</td>\n",
       "      <td>...</td>\n",
       "      <td>NaN</td>\n",
       "      <td>NaN</td>\n",
       "      <td>NaN</td>\n",
       "      <td>NaN</td>\n",
       "      <td>NaN</td>\n",
       "      <td>NaN</td>\n",
       "      <td>NaN</td>\n",
       "      <td>NaN</td>\n",
       "      <td>NaN</td>\n",
       "      <td>NaN</td>\n",
       "    </tr>\n",
       "    <tr>\n",
       "      <th>3</th>\n",
       "      <td>48.0</td>\n",
       "      <td>49.0</td>\n",
       "      <td>45.0</td>\n",
       "      <td>116.0</td>\n",
       "      <td>101.0</td>\n",
       "      <td>108.0</td>\n",
       "      <td>101.0</td>\n",
       "      <td>99.0</td>\n",
       "      <td>104.0</td>\n",
       "      <td>97.0</td>\n",
       "      <td>...</td>\n",
       "      <td>NaN</td>\n",
       "      <td>NaN</td>\n",
       "      <td>NaN</td>\n",
       "      <td>NaN</td>\n",
       "      <td>NaN</td>\n",
       "      <td>NaN</td>\n",
       "      <td>NaN</td>\n",
       "      <td>NaN</td>\n",
       "      <td>NaN</td>\n",
       "      <td>NaN</td>\n",
       "    </tr>\n",
       "    <tr>\n",
       "      <th>4</th>\n",
       "      <td>48.0</td>\n",
       "      <td>49.0</td>\n",
       "      <td>48.0</td>\n",
       "      <td>115.0</td>\n",
       "      <td>104.0</td>\n",
       "      <td>97.0</td>\n",
       "      <td>110.0</td>\n",
       "      <td>103.0</td>\n",
       "      <td>112.0</td>\n",
       "      <td>117.0</td>\n",
       "      <td>...</td>\n",
       "      <td>NaN</td>\n",
       "      <td>NaN</td>\n",
       "      <td>NaN</td>\n",
       "      <td>NaN</td>\n",
       "      <td>NaN</td>\n",
       "      <td>NaN</td>\n",
       "      <td>NaN</td>\n",
       "      <td>NaN</td>\n",
       "      <td>NaN</td>\n",
       "      <td>NaN</td>\n",
       "    </tr>\n",
       "  </tbody>\n",
       "</table>\n",
       "<p>5 rows × 60 columns</p>\n",
       "</div>"
      ],
      "text/plain": [
       "     0     1     2      3      4      5      6      7      8      9   ...  50  \\\n",
       "0  48.0  48.0  48.0  100.0  105.0  114.0  101.0   99.0  116.0  111.0  ... NaN   \n",
       "1  48.0  48.0  48.0  119.0  101.0   98.0  104.0  111.0  115.0  116.0  ... NaN   \n",
       "2  48.0  48.0  49.0  102.0   97.0  110.0  115.0   46.0   99.0  111.0  ... NaN   \n",
       "3  48.0  49.0  45.0  116.0  101.0  108.0  101.0   99.0  104.0   97.0  ... NaN   \n",
       "4  48.0  49.0  48.0  115.0  104.0   97.0  110.0  103.0  112.0  117.0  ... NaN   \n",
       "\n",
       "   51  52  53  54  55  56  57  58  59  \n",
       "0 NaN NaN NaN NaN NaN NaN NaN NaN NaN  \n",
       "1 NaN NaN NaN NaN NaN NaN NaN NaN NaN  \n",
       "2 NaN NaN NaN NaN NaN NaN NaN NaN NaN  \n",
       "3 NaN NaN NaN NaN NaN NaN NaN NaN NaN  \n",
       "4 NaN NaN NaN NaN NaN NaN NaN NaN NaN  \n",
       "\n",
       "[5 rows x 60 columns]"
      ]
     },
     "metadata": {},
     "output_type": "display_data"
    },
    {
     "name": "stdout",
     "output_type": "stream",
     "text": [
      "domain\n"
     ]
    },
    {
     "data": {
      "text/html": [
       "<div>\n",
       "<style scoped>\n",
       "    .dataframe tbody tr th:only-of-type {\n",
       "        vertical-align: middle;\n",
       "    }\n",
       "\n",
       "    .dataframe tbody tr th {\n",
       "        vertical-align: top;\n",
       "    }\n",
       "\n",
       "    .dataframe thead th {\n",
       "        text-align: right;\n",
       "    }\n",
       "</style>\n",
       "<table border=\"1\" class=\"dataframe\">\n",
       "  <thead>\n",
       "    <tr style=\"text-align: right;\">\n",
       "      <th></th>\n",
       "      <th>0</th>\n",
       "      <th>1</th>\n",
       "      <th>2</th>\n",
       "      <th>3</th>\n",
       "      <th>4</th>\n",
       "      <th>5</th>\n",
       "      <th>6</th>\n",
       "      <th>7</th>\n",
       "      <th>8</th>\n",
       "      <th>9</th>\n",
       "      <th>...</th>\n",
       "      <th>46</th>\n",
       "      <th>47</th>\n",
       "      <th>48</th>\n",
       "      <th>49</th>\n",
       "      <th>50</th>\n",
       "      <th>51</th>\n",
       "      <th>52</th>\n",
       "      <th>53</th>\n",
       "      <th>54</th>\n",
       "      <th>55</th>\n",
       "    </tr>\n",
       "  </thead>\n",
       "  <tbody>\n",
       "    <tr>\n",
       "      <th>0</th>\n",
       "      <td>48.0</td>\n",
       "      <td>48.0</td>\n",
       "      <td>48.0</td>\n",
       "      <td>100.0</td>\n",
       "      <td>105.0</td>\n",
       "      <td>114.0</td>\n",
       "      <td>101.0</td>\n",
       "      <td>99.0</td>\n",
       "      <td>116.0</td>\n",
       "      <td>111.0</td>\n",
       "      <td>...</td>\n",
       "      <td>NaN</td>\n",
       "      <td>NaN</td>\n",
       "      <td>NaN</td>\n",
       "      <td>NaN</td>\n",
       "      <td>NaN</td>\n",
       "      <td>NaN</td>\n",
       "      <td>NaN</td>\n",
       "      <td>NaN</td>\n",
       "      <td>NaN</td>\n",
       "      <td>NaN</td>\n",
       "    </tr>\n",
       "    <tr>\n",
       "      <th>1</th>\n",
       "      <td>48.0</td>\n",
       "      <td>48.0</td>\n",
       "      <td>48.0</td>\n",
       "      <td>119.0</td>\n",
       "      <td>101.0</td>\n",
       "      <td>98.0</td>\n",
       "      <td>104.0</td>\n",
       "      <td>111.0</td>\n",
       "      <td>115.0</td>\n",
       "      <td>116.0</td>\n",
       "      <td>...</td>\n",
       "      <td>NaN</td>\n",
       "      <td>NaN</td>\n",
       "      <td>NaN</td>\n",
       "      <td>NaN</td>\n",
       "      <td>NaN</td>\n",
       "      <td>NaN</td>\n",
       "      <td>NaN</td>\n",
       "      <td>NaN</td>\n",
       "      <td>NaN</td>\n",
       "      <td>NaN</td>\n",
       "    </tr>\n",
       "    <tr>\n",
       "      <th>2</th>\n",
       "      <td>48.0</td>\n",
       "      <td>48.0</td>\n",
       "      <td>49.0</td>\n",
       "      <td>102.0</td>\n",
       "      <td>97.0</td>\n",
       "      <td>110.0</td>\n",
       "      <td>115.0</td>\n",
       "      <td>NaN</td>\n",
       "      <td>NaN</td>\n",
       "      <td>NaN</td>\n",
       "      <td>...</td>\n",
       "      <td>NaN</td>\n",
       "      <td>NaN</td>\n",
       "      <td>NaN</td>\n",
       "      <td>NaN</td>\n",
       "      <td>NaN</td>\n",
       "      <td>NaN</td>\n",
       "      <td>NaN</td>\n",
       "      <td>NaN</td>\n",
       "      <td>NaN</td>\n",
       "      <td>NaN</td>\n",
       "    </tr>\n",
       "    <tr>\n",
       "      <th>3</th>\n",
       "      <td>48.0</td>\n",
       "      <td>49.0</td>\n",
       "      <td>45.0</td>\n",
       "      <td>116.0</td>\n",
       "      <td>101.0</td>\n",
       "      <td>108.0</td>\n",
       "      <td>101.0</td>\n",
       "      <td>99.0</td>\n",
       "      <td>104.0</td>\n",
       "      <td>97.0</td>\n",
       "      <td>...</td>\n",
       "      <td>NaN</td>\n",
       "      <td>NaN</td>\n",
       "      <td>NaN</td>\n",
       "      <td>NaN</td>\n",
       "      <td>NaN</td>\n",
       "      <td>NaN</td>\n",
       "      <td>NaN</td>\n",
       "      <td>NaN</td>\n",
       "      <td>NaN</td>\n",
       "      <td>NaN</td>\n",
       "    </tr>\n",
       "    <tr>\n",
       "      <th>4</th>\n",
       "      <td>48.0</td>\n",
       "      <td>49.0</td>\n",
       "      <td>48.0</td>\n",
       "      <td>115.0</td>\n",
       "      <td>104.0</td>\n",
       "      <td>97.0</td>\n",
       "      <td>110.0</td>\n",
       "      <td>103.0</td>\n",
       "      <td>112.0</td>\n",
       "      <td>117.0</td>\n",
       "      <td>...</td>\n",
       "      <td>NaN</td>\n",
       "      <td>NaN</td>\n",
       "      <td>NaN</td>\n",
       "      <td>NaN</td>\n",
       "      <td>NaN</td>\n",
       "      <td>NaN</td>\n",
       "      <td>NaN</td>\n",
       "      <td>NaN</td>\n",
       "      <td>NaN</td>\n",
       "      <td>NaN</td>\n",
       "    </tr>\n",
       "  </tbody>\n",
       "</table>\n",
       "<p>5 rows × 56 columns</p>\n",
       "</div>"
      ],
      "text/plain": [
       "     0     1     2      3      4      5      6      7      8      9   ...  46  \\\n",
       "0  48.0  48.0  48.0  100.0  105.0  114.0  101.0   99.0  116.0  111.0  ... NaN   \n",
       "1  48.0  48.0  48.0  119.0  101.0   98.0  104.0  111.0  115.0  116.0  ... NaN   \n",
       "2  48.0  48.0  49.0  102.0   97.0  110.0  115.0    NaN    NaN    NaN  ... NaN   \n",
       "3  48.0  49.0  45.0  116.0  101.0  108.0  101.0   99.0  104.0   97.0  ... NaN   \n",
       "4  48.0  49.0  48.0  115.0  104.0   97.0  110.0  103.0  112.0  117.0  ... NaN   \n",
       "\n",
       "   47  48  49  50  51  52  53  54  55  \n",
       "0 NaN NaN NaN NaN NaN NaN NaN NaN NaN  \n",
       "1 NaN NaN NaN NaN NaN NaN NaN NaN NaN  \n",
       "2 NaN NaN NaN NaN NaN NaN NaN NaN NaN  \n",
       "3 NaN NaN NaN NaN NaN NaN NaN NaN NaN  \n",
       "4 NaN NaN NaN NaN NaN NaN NaN NaN NaN  \n",
       "\n",
       "[5 rows x 56 columns]"
      ]
     },
     "metadata": {},
     "output_type": "display_data"
    }
   ],
   "source": [
    "ord_data_dfs = dict()\n",
    "\n",
    "for column in validate_text_columns:\n",
    "    print(column)\n",
    "    ord_data_dfs[column] = data_df[column].apply(lambda x: [ord(w) for w in x.lower()]).apply(pd.Series)\n",
    "    display(ord_data_dfs[column].head())"
   ]
  },
  {
   "cell_type": "markdown",
   "metadata": {
    "colab_type": "text",
    "id": "dRGsG6wzLGGC"
   },
   "source": [
    "Let's replace the nothing values with a known number that we will permit to be present."
   ]
  },
  {
   "cell_type": "code",
   "execution_count": 29,
   "metadata": {
    "colab": {},
    "colab_type": "code",
    "id": "vp-C1sMwLMaT"
   },
   "outputs": [],
   "source": [
    "for column in validate_text_columns:\n",
    "      ord_data_dfs[column] = ord_data_dfs[column].fillna(-1)"
   ]
  },
  {
   "cell_type": "code",
   "execution_count": 30,
   "metadata": {
    "colab": {
     "base_uri": "https://localhost:8080/",
     "height": 119
    },
    "colab_type": "code",
    "id": "Ey_PvAVlKtis",
    "outputId": "411e02fe-94e6-4089-be3b-186fa16a252e"
   },
   "outputs": [
    {
     "name": "stdout",
     "output_type": "stream",
     "text": [
      "host\n",
      "host - column: 2 contained unknown ordinal value\n",
      "\n",
      "domain\n",
      "domain - column: 2 contained unknown ordinal value\n",
      "\n"
     ]
    }
   ],
   "source": [
    "unknown_ord_columns = dict()\n",
    "\n",
    "for column in validate_text_columns:\n",
    "    print(column)\n",
    "    unknown_ord_columns[column] = set()\n",
    "\n",
    "    for ord_column in ord_data_dfs[column].columns:\n",
    "        try:\n",
    "            assert(all(ord_data_dfs[column][ord_column].isin(expected_ords + [-1])))\n",
    "        except AssertionError:\n",
    "            print(column, \"- column:\", ord_column, \"contained unknown ordinal value\")\n",
    "            unknown_ord_columns[column].add(ord_column)\n",
    "            continue\n",
    "      \n",
    "    print()"
   ]
  },
  {
   "cell_type": "markdown",
   "metadata": {
    "colab_type": "text",
    "id": "K2VL5DqHLo_O"
   },
   "source": [
    "What did we miss?"
   ]
  },
  {
   "cell_type": "code",
   "execution_count": 31,
   "metadata": {
    "colab": {
     "base_uri": "https://localhost:8080/",
     "height": 221
    },
    "colab_type": "code",
    "id": "_OefeEmXbHbt",
    "outputId": "512929c5-80ec-4a2a-8de6-661a479aefcf"
   },
   "outputs": [
    {
     "name": "stdout",
     "output_type": "stream",
     "text": [
      "host\n",
      "99692    10.0\n",
      "Name: 2, dtype: float64\n"
     ]
    },
    {
     "data": {
      "text/plain": [
       "99692    ru\\ndercxjvpfswhmtwtcfycaijdufa.ru\n",
       "Name: host, dtype: object"
      ]
     },
     "metadata": {},
     "output_type": "display_data"
    },
    {
     "name": "stdout",
     "output_type": "stream",
     "text": [
      "\n",
      "domain\n",
      "99692    10.0\n",
      "Name: 2, dtype: float64\n"
     ]
    },
    {
     "data": {
      "text/plain": [
       "99692    ru\\ndercxjvpfswhmtwtcfycaijdufa\n",
       "Name: domain, dtype: object"
      ]
     },
     "metadata": {},
     "output_type": "display_data"
    },
    {
     "name": "stdout",
     "output_type": "stream",
     "text": [
      "\n"
     ]
    }
   ],
   "source": [
    "for column in validate_text_columns:\n",
    "    print(column)\n",
    "    for ord_column in unknown_ord_columns[column]:    \n",
    "        unknown_ord_index = (~ord_data_dfs[column][ord_column].isin(expected_ords + [-1]))\n",
    "        if any(unknown_ord_index):\n",
    "            print(ord_data_dfs[column].loc[unknown_ord_index][ord_column])\n",
    "            display(data_df.loc[unknown_ord_index][column])\n",
    "\n",
    "    print()"
   ]
  },
  {
   "cell_type": "markdown",
   "metadata": {},
   "source": [
    "Ordinal `10` is a newline."
   ]
  },
  {
   "cell_type": "code",
   "execution_count": 32,
   "metadata": {
    "colab": {
     "base_uri": "https://localhost:8080/",
     "height": 34
    },
    "colab_type": "code",
    "id": "AUcE1VGlLrCr",
    "outputId": "7c537ab5-3416-48aa-ae71-3350a5302081"
   },
   "outputs": [
    {
     "data": {
      "text/plain": [
       "'\\n'"
      ]
     },
     "execution_count": 32,
     "metadata": {},
     "output_type": "execute_result"
    }
   ],
   "source": [
    "chr(10)"
   ]
  },
  {
   "cell_type": "markdown",
   "metadata": {
    "colab_type": "text",
    "id": "s8-w4rRkL9xP"
   },
   "source": [
    "## Observations on Control Characters \n",
    "It would seem we have a line break in our dataset. This could be the result of malformed encoding, or some data capture error.\n",
    "\n",
    "For preprocessing we should: \n",
    "* Convert `domain` and `host` to lowercase\n",
    "* Remove all characters that do not fall within the expected ordinal values for domain.\n"
   ]
  },
  {
   "cell_type": "markdown",
   "metadata": {
    "colab_type": "text",
    "id": "mV2GhSr7RFBp"
   },
   "source": [
    "## Non-ASCII characters\n",
    "\n",
    "Although we've identified a range of characters we will permit, it does assume that we're operating in an ASCII characters set. If we remove all characters that don't meet this criteria we'll have a fair bit of potential information loss for example: `é` could be viewed as `e`.\n",
    "\n",
    "Unicode support has been implemented in dns names as per https://unicode.org/faq/idn.html\n",
    "However for the purposes of dimension reduction we'll assume an ASCII character-set.\n",
    "\n",
    "\n",
    "Create a normalised copy of the two columns of interest `domain` and `host`, and then compare them to the exisiting columns.\n",
    "\n",
    "If using Python 3.7+ one could use: https://docs.python.org/3/library/stdtypes.html#str.isascii"
   ]
  },
  {
   "cell_type": "code",
   "execution_count": 33,
   "metadata": {
    "colab": {
     "base_uri": "https://localhost:8080/",
     "height": 34
    },
    "colab_type": "code",
    "id": "iwkSnGQCQCLe",
    "outputId": "fdc57e89-8aea-4557-da75-533d58f3f79b"
   },
   "outputs": [
    {
     "name": "stdout",
     "output_type": "stream",
     "text": [
      "Python 3.7.1\n"
     ]
    }
   ],
   "source": [
    "! python --version"
   ]
  },
  {
   "cell_type": "code",
   "execution_count": 34,
   "metadata": {
    "colab": {},
    "colab_type": "code",
    "id": "f9LawlgzNO_I"
   },
   "outputs": [],
   "source": [
    "unidecode_data = dict()\n",
    "\n",
    "for column in validate_text_columns:\n",
    "    unidecode_data[column] = data_df[column].apply(unidecode)\n",
    "    try:\n",
    "        assert(all(unidecode_data[column] == data_df[column]))\n",
    "    except AssertionError as e: \n",
    "        print(column, \"contains non-ascii characters\")\n",
    "        raise e"
   ]
  },
  {
   "cell_type": "markdown",
   "metadata": {
    "colab_type": "text",
    "id": "FiusjtM8qGCF"
   },
   "source": [
    "## Observations on ASCII Characters\n",
    "\n",
    "While the provided data appears to be within the ASCII character set, we cannot assume this for further inputs.\n",
    "\n",
    "Normalisation to ASCII will be part of future inputs."
   ]
  },
  {
   "cell_type": "markdown",
   "metadata": {
    "colab_type": "text",
    "id": "UYMDndY6h-Gp"
   },
   "source": [
    "# Distributions of Categorical Data\n",
    "\n",
    "Let's review the occurances of `class` in the dataset."
   ]
  },
  {
   "cell_type": "markdown",
   "metadata": {
    "colab_type": "text",
    "id": "rqeWIefqRhvl"
   },
   "source": [
    "## `class`"
   ]
  },
  {
   "cell_type": "code",
   "execution_count": 35,
   "metadata": {
    "colab": {
     "base_uri": "https://localhost:8080/",
     "height": 68
    },
    "colab_type": "code",
    "id": "JrwlDyJRhSrs",
    "outputId": "a776f61a-8cc2-4d2d-8653-490cf4d7c98c"
   },
   "outputs": [
    {
     "data": {
      "text/plain": [
       "legit    81261\n",
       "dga      52665\n",
       "Name: class, dtype: int64"
      ]
     },
     "execution_count": 35,
     "metadata": {},
     "output_type": "execute_result"
    }
   ],
   "source": [
    "data_df[\"class\"].value_counts()"
   ]
  },
  {
   "cell_type": "markdown",
   "metadata": {
    "colab_type": "text",
    "id": "363OCMxfQcX9"
   },
   "source": [
    "As a ratio?"
   ]
  },
  {
   "cell_type": "code",
   "execution_count": 36,
   "metadata": {
    "colab": {
     "base_uri": "https://localhost:8080/",
     "height": 111
    },
    "colab_type": "code",
    "id": "vkoRenvNiZmn",
    "outputId": "b05f1619-25a2-49da-88cb-f343e29a1d15"
   },
   "outputs": [
    {
     "data": {
      "text/html": [
       "<div>\n",
       "<style scoped>\n",
       "    .dataframe tbody tr th:only-of-type {\n",
       "        vertical-align: middle;\n",
       "    }\n",
       "\n",
       "    .dataframe tbody tr th {\n",
       "        vertical-align: top;\n",
       "    }\n",
       "\n",
       "    .dataframe thead th {\n",
       "        text-align: right;\n",
       "    }\n",
       "</style>\n",
       "<table border=\"1\" class=\"dataframe\">\n",
       "  <thead>\n",
       "    <tr style=\"text-align: right;\">\n",
       "      <th></th>\n",
       "      <th>class</th>\n",
       "    </tr>\n",
       "  </thead>\n",
       "  <tbody>\n",
       "    <tr>\n",
       "      <th>legit</th>\n",
       "      <td>0.60676</td>\n",
       "    </tr>\n",
       "    <tr>\n",
       "      <th>dga</th>\n",
       "      <td>0.39324</td>\n",
       "    </tr>\n",
       "  </tbody>\n",
       "</table>\n",
       "</div>"
      ],
      "text/plain": [
       "         class\n",
       "legit  0.60676\n",
       "dga    0.39324"
      ]
     },
     "execution_count": 36,
     "metadata": {},
     "output_type": "execute_result"
    }
   ],
   "source": [
    "pd.DataFrame(data_df[\"class\"].value_counts()) / len(data_df)"
   ]
  },
  {
   "cell_type": "code",
   "execution_count": 37,
   "metadata": {
    "colab": {
     "base_uri": "https://localhost:8080/",
     "height": 294
    },
    "colab_type": "code",
    "id": "jJ3BElq8iNm-",
    "outputId": "d4ccf7f2-673e-458d-8a19-d7e996ad26a4"
   },
   "outputs": [
    {
     "data": {
      "text/plain": [
       "<matplotlib.axes._subplots.AxesSubplot at 0x209576c87b8>"
      ]
     },
     "execution_count": 37,
     "metadata": {},
     "output_type": "execute_result"
    },
    {
     "data": {
      "image/png": "[encoded data removed]",
      "text/plain": [
       "<Figure size 432x288 with 1 Axes>"
      ]
     },
     "metadata": {
      "needs_background": "light"
     },
     "output_type": "display_data"
    }
   ],
   "source": [
    "data_df[\"class\"].value_counts().plot.bar()"
   ]
  },
  {
   "cell_type": "markdown",
   "metadata": {
    "colab_type": "text",
    "id": "pTqxQi7zRqdx"
   },
   "source": [
    "## Observations on `class` Catagorical Data\n",
    "While not perfectly balanced, there isn't a great imbalance between the two classes. Thus using stratified sampling should be a viable sampling method, without misrepresenting the ground truth.\n",
    "\n",
    "For further robustness additional scoring metrics apart from accuracy should be used, as if our prior assumption around type 1 error (False Positive) being a worse outcome than a type 2 error, accuracy is not sufficient. Given that we have an imbalanced dataset we should consider another metric that accounts for this such as `f1-score`"
   ]
  },
  {
   "cell_type": "markdown",
   "metadata": {
    "colab_type": "text",
    "id": "iFb5g_OmRVlP"
   },
   "source": [
    "## `subclass`"
   ]
  },
  {
   "cell_type": "code",
   "execution_count": 38,
   "metadata": {
    "colab": {
     "base_uri": "https://localhost:8080/",
     "height": 102
    },
    "colab_type": "code",
    "id": "b3B7whCdiD1_",
    "outputId": "dffa5023-71fe-4899-da6b-0667f241500f"
   },
   "outputs": [
    {
     "data": {
      "text/plain": [
       "legit           81261\n",
       "cryptolocker    34319\n",
       "newgoz          10999\n",
       "goz              7347\n",
       "Name: subclass, dtype: int64"
      ]
     },
     "execution_count": 38,
     "metadata": {},
     "output_type": "execute_result"
    }
   ],
   "source": [
    "data_df[\"subclass\"].value_counts()"
   ]
  },
  {
   "cell_type": "code",
   "execution_count": 39,
   "metadata": {
    "colab": {
     "base_uri": "https://localhost:8080/",
     "height": 173
    },
    "colab_type": "code",
    "id": "iYZauo3NiheR",
    "outputId": "843349e1-3a8a-4907-934e-6a2e1b0a48a7"
   },
   "outputs": [
    {
     "data": {
      "text/html": [
       "<div>\n",
       "<style scoped>\n",
       "    .dataframe tbody tr th:only-of-type {\n",
       "        vertical-align: middle;\n",
       "    }\n",
       "\n",
       "    .dataframe tbody tr th {\n",
       "        vertical-align: top;\n",
       "    }\n",
       "\n",
       "    .dataframe thead th {\n",
       "        text-align: right;\n",
       "    }\n",
       "</style>\n",
       "<table border=\"1\" class=\"dataframe\">\n",
       "  <thead>\n",
       "    <tr style=\"text-align: right;\">\n",
       "      <th></th>\n",
       "      <th>subclass</th>\n",
       "    </tr>\n",
       "  </thead>\n",
       "  <tbody>\n",
       "    <tr>\n",
       "      <th>legit</th>\n",
       "      <td>0.606760</td>\n",
       "    </tr>\n",
       "    <tr>\n",
       "      <th>cryptolocker</th>\n",
       "      <td>0.256253</td>\n",
       "    </tr>\n",
       "    <tr>\n",
       "      <th>newgoz</th>\n",
       "      <td>0.082127</td>\n",
       "    </tr>\n",
       "    <tr>\n",
       "      <th>goz</th>\n",
       "      <td>0.054859</td>\n",
       "    </tr>\n",
       "  </tbody>\n",
       "</table>\n",
       "</div>"
      ],
      "text/plain": [
       "              subclass\n",
       "legit         0.606760\n",
       "cryptolocker  0.256253\n",
       "newgoz        0.082127\n",
       "goz           0.054859"
      ]
     },
     "execution_count": 39,
     "metadata": {},
     "output_type": "execute_result"
    }
   ],
   "source": [
    "pd.DataFrame(data_df[\"subclass\"].value_counts()) / len(data_df)"
   ]
  },
  {
   "cell_type": "code",
   "execution_count": 40,
   "metadata": {
    "colab": {
     "base_uri": "https://localhost:8080/",
     "height": 334
    },
    "colab_type": "code",
    "id": "0bxRsCq-iHOt",
    "outputId": "8986ede9-83aa-4cbd-f7a5-063bac61d958"
   },
   "outputs": [
    {
     "data": {
      "text/plain": [
       "<matplotlib.axes._subplots.AxesSubplot at 0x209659efd30>"
      ]
     },
     "execution_count": 40,
     "metadata": {},
     "output_type": "execute_result"
    },
    {
     "data": {
      "image/png": "[encoded data removed]",
      "text/plain": [
       "<Figure size 432x288 with 1 Axes>"
      ]
     },
     "metadata": {
      "needs_background": "light"
     },
     "output_type": "display_data"
    }
   ],
   "source": [
    "data_df[\"subclass\"].value_counts().plot.bar()"
   ]
  },
  {
   "cell_type": "markdown",
   "metadata": {
    "colab_type": "text",
    "id": "A3A4-_SQSral"
   },
   "source": [
    "## Observations on `subclass` Catagorical Data\n",
    "\n",
    "For subclass there is a tail forming in the distribution, if accuracy in determining non `legit` subclasses is sub-par perhaps applying a resample technique such as bootstrapping in training may be required.\n",
    "\n",
    "Accuracy will not be a sufficient metric given the imbalances in representation across `subclass`. If we take the view of a type 2 error (False Positive) is more undesireable than a type 1 error (False Negative) we should look to optimise model specificity and precision over accuracy."
   ]
  },
  {
   "cell_type": "markdown",
   "metadata": {
    "colab_type": "text",
    "id": "pPG_3h9YUMtu"
   },
   "source": [
    "# Distibutions of Quantitative Data\n",
    "\n",
    "While there aren't any Quantitative fields in the dataset we can generate some simple values, such as length of string fields and occurances of characters in strings.\n",
    "\n",
    "Furthermore converting our string data to numeric data will faciliate further quality checks."
   ]
  },
  {
   "cell_type": "markdown",
   "metadata": {
    "colab_type": "text",
    "id": "5OBY8GJaVUMB"
   },
   "source": [
    "## Top Level Domain\n",
    "\n",
    "Let's split out the Top Level Domain (e.g. `com` from `google.com`) and so if there are any insights to be had."
   ]
  },
  {
   "cell_type": "code",
   "execution_count": 41,
   "metadata": {
    "colab": {},
    "colab_type": "code",
    "id": "hZfUot2nU5sd"
   },
   "outputs": [],
   "source": [
    "data_df[\"tld\"] = data_df[\"host\"].apply(lambda x: \".\".join(x.split(\".\")[1:]))"
   ]
  },
  {
   "cell_type": "markdown",
   "metadata": {
    "colab_type": "text",
    "id": "xF4GIMWWE_D_"
   },
   "source": [
    "Let's look at the top 10 Top Level Domains."
   ]
  },
  {
   "cell_type": "code",
   "execution_count": 42,
   "metadata": {
    "colab": {
     "base_uri": "https://localhost:8080/",
     "height": 307
    },
    "colab_type": "code",
    "id": "zK9n6bVXVHcR",
    "outputId": "a0891e0e-ffb1-492b-ff79-6d17ea2975b6"
   },
   "outputs": [
    {
     "data": {
      "text/plain": [
       "<matplotlib.axes._subplots.AxesSubplot at 0x2091e83aa20>"
      ]
     },
     "execution_count": 42,
     "metadata": {},
     "output_type": "execute_result"
    },
    {
     "data": {
      "image/png": "[encoded data removed]",
      "text/plain": [
       "<Figure size 432x288 with 1 Axes>"
      ]
     },
     "metadata": {
      "needs_background": "light"
     },
     "output_type": "display_data"
    }
   ],
   "source": [
    "data_df[\"tld\"].value_counts().head(10).plot.bar()"
   ]
  },
  {
   "cell_type": "markdown",
   "metadata": {
    "colab_type": "text",
    "id": "qxXtQ9BAjgib"
   },
   "source": [
    "\n",
    "The number of of `com` TLDs is not that suprising as it is seen as a desirable domain for legitimate purposes.\n",
    "\n",
    "The the number of `ru` TLDs is both suprising and not suprising upon reflection of potential bias in the collection of the dataset.\n",
    "\n",
    "After the 4th most frequent TLD we have a long tailed distribution. \n",
    "We may not have enough observations if we stratify by `tld`, let's look at the interquartile ranges."
   ]
  },
  {
   "cell_type": "code",
   "execution_count": 43,
   "metadata": {
    "colab": {
     "base_uri": "https://localhost:8080/",
     "height": 170
    },
    "colab_type": "code",
    "id": "K1fT314fjXH8",
    "outputId": "57eef748-73a3-42aa-ba70-909c3e984e44"
   },
   "outputs": [
    {
     "data": {
      "text/plain": [
       "count      723.000000\n",
       "mean       185.236515\n",
       "std       2377.449459\n",
       "min          1.000000\n",
       "25%          1.000000\n",
       "50%          2.000000\n",
       "75%         11.000000\n",
       "max      45070.000000\n",
       "Name: tld, dtype: float64"
      ]
     },
     "execution_count": 43,
     "metadata": {},
     "output_type": "execute_result"
    }
   ],
   "source": [
    "data_df[\"tld\"].value_counts().describe()"
   ]
  },
  {
   "cell_type": "markdown",
   "metadata": {
    "colab_type": "text",
    "id": "oFtUWJ8diGf3"
   },
   "source": [
    "Let's group on TLD and class."
   ]
  },
  {
   "cell_type": "code",
   "execution_count": 44,
   "metadata": {
    "colab": {
     "base_uri": "https://localhost:8080/",
     "height": 235
    },
    "colab_type": "code",
    "id": "_T7oz1PPlUH_",
    "outputId": "213fdbd6-358e-4a95-c23f-dcd5aa4d18fa"
   },
   "outputs": [
    {
     "data": {
      "text/html": [
       "<div>\n",
       "<style scoped>\n",
       "    .dataframe tbody tr th:only-of-type {\n",
       "        vertical-align: middle;\n",
       "    }\n",
       "\n",
       "    .dataframe tbody tr th {\n",
       "        vertical-align: top;\n",
       "    }\n",
       "\n",
       "    .dataframe thead th {\n",
       "        text-align: right;\n",
       "    }\n",
       "</style>\n",
       "<table border=\"1\" class=\"dataframe\">\n",
       "  <thead>\n",
       "    <tr style=\"text-align: right;\">\n",
       "      <th></th>\n",
       "      <th></th>\n",
       "      <th>occurrences</th>\n",
       "    </tr>\n",
       "    <tr>\n",
       "      <th>tld</th>\n",
       "      <th>class</th>\n",
       "      <th></th>\n",
       "    </tr>\n",
       "  </thead>\n",
       "  <tbody>\n",
       "    <tr>\n",
       "      <th>ab.ca</th>\n",
       "      <th>legit</th>\n",
       "      <td>1</td>\n",
       "    </tr>\n",
       "    <tr>\n",
       "      <th>abruzzo.it</th>\n",
       "      <th>legit</th>\n",
       "      <td>1</td>\n",
       "    </tr>\n",
       "    <tr>\n",
       "      <th>ac</th>\n",
       "      <th>legit</th>\n",
       "      <td>4</td>\n",
       "    </tr>\n",
       "    <tr>\n",
       "      <th>ac.at</th>\n",
       "      <th>legit</th>\n",
       "      <td>1</td>\n",
       "    </tr>\n",
       "    <tr>\n",
       "      <th>ac.id</th>\n",
       "      <th>legit</th>\n",
       "      <td>5</td>\n",
       "    </tr>\n",
       "  </tbody>\n",
       "</table>\n",
       "</div>"
      ],
      "text/plain": [
       "                  occurrences\n",
       "tld        class             \n",
       "ab.ca      legit            1\n",
       "abruzzo.it legit            1\n",
       "ac         legit            4\n",
       "ac.at      legit            1\n",
       "ac.id      legit            5"
      ]
     },
     "execution_count": 44,
     "metadata": {},
     "output_type": "execute_result"
    }
   ],
   "source": [
    "grouped_tld_class_df = data_df[[\"tld\", \"class\", \"domain\"]].groupby([\"tld\", \"class\"]).agg(\"count\")\n",
    "grouped_tld_class_df.columns = [\"occurrences\"]\n",
    "grouped_tld_class_df.head()"
   ]
  },
  {
   "cell_type": "markdown",
   "metadata": {
    "colab_type": "text",
    "id": "jab0oQiSol41"
   },
   "source": [
    "The groupby operation will omit group combinations that do not exist, \n",
    "\n",
    "i.e. If there te combination of `za` lga and a `dga` class is not observed in the dataset then it will not appear in the grouped by dataset.\n",
    "\n",
    "For our purposes we do want to be able to query which combinations do not exist."
   ]
  },
  {
   "cell_type": "markdown",
   "metadata": {
    "colab_type": "text",
    "id": "-HyLyGlorhNc"
   },
   "source": [
    "Let's create an empty dataframe to join onto `grouped_tld_class_df` by using a multi-index built out of the product of `tld` and `class`."
   ]
  },
  {
   "cell_type": "code",
   "execution_count": 45,
   "metadata": {
    "colab": {
     "base_uri": "https://localhost:8080/",
     "height": 204
    },
    "colab_type": "code",
    "id": "WdCP2Rv_pQEE",
    "outputId": "2f188e4f-4334-4599-ba6a-dada968bf5f5"
   },
   "outputs": [
    {
     "data": {
      "text/html": [
       "<div>\n",
       "<style scoped>\n",
       "    .dataframe tbody tr th:only-of-type {\n",
       "        vertical-align: middle;\n",
       "    }\n",
       "\n",
       "    .dataframe tbody tr th {\n",
       "        vertical-align: top;\n",
       "    }\n",
       "\n",
       "    .dataframe thead th {\n",
       "        text-align: right;\n",
       "    }\n",
       "</style>\n",
       "<table border=\"1\" class=\"dataframe\">\n",
       "  <thead>\n",
       "    <tr style=\"text-align: right;\">\n",
       "      <th></th>\n",
       "      <th>tld</th>\n",
       "      <th>class</th>\n",
       "    </tr>\n",
       "  </thead>\n",
       "  <tbody>\n",
       "    <tr>\n",
       "      <th>0</th>\n",
       "      <td>com.ar</td>\n",
       "      <td>legit</td>\n",
       "    </tr>\n",
       "    <tr>\n",
       "      <th>1</th>\n",
       "      <td>com.ar</td>\n",
       "      <td>dga</td>\n",
       "    </tr>\n",
       "    <tr>\n",
       "      <th>2</th>\n",
       "      <td>com</td>\n",
       "      <td>legit</td>\n",
       "    </tr>\n",
       "    <tr>\n",
       "      <th>3</th>\n",
       "      <td>com</td>\n",
       "      <td>dga</td>\n",
       "    </tr>\n",
       "    <tr>\n",
       "      <th>4</th>\n",
       "      <td>cn</td>\n",
       "      <td>legit</td>\n",
       "    </tr>\n",
       "  </tbody>\n",
       "</table>\n",
       "</div>"
      ],
      "text/plain": [
       "      tld  class\n",
       "0  com.ar  legit\n",
       "1  com.ar    dga\n",
       "2     com  legit\n",
       "3     com    dga\n",
       "4      cn  legit"
      ]
     },
     "execution_count": 45,
     "metadata": {},
     "output_type": "execute_result"
    }
   ],
   "source": [
    "tld_class_combinations = pd.MultiIndex.from_product([data_df[\"tld\"].unique(),data_df[\"class\"].unique()], names = [\"tld\", \"class\"])\n",
    "\n",
    "# simple check that we have the expected number of combinations\n",
    "assert(len(tld_class_combinations) == len(data_df[\"tld\"].unique()) * len(data_df[\"class\"].unique()))\n",
    "\n",
    "empty_tld_class_combinations_df = pd.DataFrame(index=tld_class_combinations).reset_index()\n",
    "empty_tld_class_combinations_df.head()"
   ]
  },
  {
   "cell_type": "markdown",
   "metadata": {
    "colab_type": "text",
    "id": "LcNle0iDrxrL"
   },
   "source": [
    "We'll join them on using a outer join so that combinations not present in the `grouped_tld_class_df` will have a known empty value `np.nan` in a new column "
   ]
  },
  {
   "cell_type": "code",
   "execution_count": 46,
   "metadata": {
    "colab": {
     "base_uri": "https://localhost:8080/",
     "height": 204
    },
    "colab_type": "code",
    "id": "qnED72JezBht",
    "outputId": "3b8e1f29-fa67-4e6f-b0d0-3265a4d8f459"
   },
   "outputs": [
    {
     "data": {
      "text/html": [
       "<div>\n",
       "<style scoped>\n",
       "    .dataframe tbody tr th:only-of-type {\n",
       "        vertical-align: middle;\n",
       "    }\n",
       "\n",
       "    .dataframe tbody tr th {\n",
       "        vertical-align: top;\n",
       "    }\n",
       "\n",
       "    .dataframe thead th {\n",
       "        text-align: right;\n",
       "    }\n",
       "</style>\n",
       "<table border=\"1\" class=\"dataframe\">\n",
       "  <thead>\n",
       "    <tr style=\"text-align: right;\">\n",
       "      <th></th>\n",
       "      <th>tld</th>\n",
       "      <th>class</th>\n",
       "      <th>occurrences</th>\n",
       "    </tr>\n",
       "  </thead>\n",
       "  <tbody>\n",
       "    <tr>\n",
       "      <th>0</th>\n",
       "      <td>ab.ca</td>\n",
       "      <td>legit</td>\n",
       "      <td>1</td>\n",
       "    </tr>\n",
       "    <tr>\n",
       "      <th>1</th>\n",
       "      <td>abruzzo.it</td>\n",
       "      <td>legit</td>\n",
       "      <td>1</td>\n",
       "    </tr>\n",
       "    <tr>\n",
       "      <th>2</th>\n",
       "      <td>ac</td>\n",
       "      <td>legit</td>\n",
       "      <td>4</td>\n",
       "    </tr>\n",
       "    <tr>\n",
       "      <th>3</th>\n",
       "      <td>ac.at</td>\n",
       "      <td>legit</td>\n",
       "      <td>1</td>\n",
       "    </tr>\n",
       "    <tr>\n",
       "      <th>4</th>\n",
       "      <td>ac.id</td>\n",
       "      <td>legit</td>\n",
       "      <td>5</td>\n",
       "    </tr>\n",
       "  </tbody>\n",
       "</table>\n",
       "</div>"
      ],
      "text/plain": [
       "          tld  class  occurrences\n",
       "0       ab.ca  legit            1\n",
       "1  abruzzo.it  legit            1\n",
       "2          ac  legit            4\n",
       "3       ac.at  legit            1\n",
       "4       ac.id  legit            5"
      ]
     },
     "execution_count": 46,
     "metadata": {},
     "output_type": "execute_result"
    }
   ],
   "source": [
    "grouped_tld_class_df.reset_index().head()"
   ]
  },
  {
   "cell_type": "code",
   "execution_count": 47,
   "metadata": {
    "colab": {},
    "colab_type": "code",
    "id": "BmDWRjF2qULD"
   },
   "outputs": [],
   "source": [
    "exhaustive_tld_class_df = grouped_tld_class_df.reset_index().merge(\n",
    "    empty_tld_class_combinations_df, \n",
    "    how = \"outer\", \n",
    "    on = [\"tld\", \"class\"],\n",
    "    suffixes=(\"\", \"_empty\"), \n",
    "    ).fillna(np.nan).sort_values([\"tld\", \"class\"])"
   ]
  },
  {
   "cell_type": "code",
   "execution_count": 48,
   "metadata": {
    "colab": {
     "base_uri": "https://localhost:8080/",
     "height": 204
    },
    "colab_type": "code",
    "id": "jc4fca-Or-VP",
    "outputId": "af5d241c-cbbd-4eda-b078-e63bc49d5d4f"
   },
   "outputs": [
    {
     "data": {
      "text/html": [
       "<div>\n",
       "<style scoped>\n",
       "    .dataframe tbody tr th:only-of-type {\n",
       "        vertical-align: middle;\n",
       "    }\n",
       "\n",
       "    .dataframe tbody tr th {\n",
       "        vertical-align: top;\n",
       "    }\n",
       "\n",
       "    .dataframe thead th {\n",
       "        text-align: right;\n",
       "    }\n",
       "</style>\n",
       "<table border=\"1\" class=\"dataframe\">\n",
       "  <thead>\n",
       "    <tr style=\"text-align: right;\">\n",
       "      <th></th>\n",
       "      <th>tld</th>\n",
       "      <th>class</th>\n",
       "      <th>occurrences</th>\n",
       "    </tr>\n",
       "  </thead>\n",
       "  <tbody>\n",
       "    <tr>\n",
       "      <th>1187</th>\n",
       "      <td>ab.ca</td>\n",
       "      <td>dga</td>\n",
       "      <td>NaN</td>\n",
       "    </tr>\n",
       "    <tr>\n",
       "      <th>0</th>\n",
       "      <td>ab.ca</td>\n",
       "      <td>legit</td>\n",
       "      <td>1.0</td>\n",
       "    </tr>\n",
       "    <tr>\n",
       "      <th>1367</th>\n",
       "      <td>abruzzo.it</td>\n",
       "      <td>dga</td>\n",
       "      <td>NaN</td>\n",
       "    </tr>\n",
       "    <tr>\n",
       "      <th>1</th>\n",
       "      <td>abruzzo.it</td>\n",
       "      <td>legit</td>\n",
       "      <td>1.0</td>\n",
       "    </tr>\n",
       "    <tr>\n",
       "      <th>1006</th>\n",
       "      <td>ac</td>\n",
       "      <td>dga</td>\n",
       "      <td>NaN</td>\n",
       "    </tr>\n",
       "  </tbody>\n",
       "</table>\n",
       "</div>"
      ],
      "text/plain": [
       "             tld  class  occurrences\n",
       "1187       ab.ca    dga          NaN\n",
       "0          ab.ca  legit          1.0\n",
       "1367  abruzzo.it    dga          NaN\n",
       "1     abruzzo.it  legit          1.0\n",
       "1006          ac    dga          NaN"
      ]
     },
     "execution_count": 48,
     "metadata": {},
     "output_type": "execute_result"
    }
   ],
   "source": [
    "exhaustive_tld_class_df.head()"
   ]
  },
  {
   "cell_type": "markdown",
   "metadata": {
    "colab_type": "text",
    "id": "mKJ01k_PmltW"
   },
   "source": [
    "How many tld do not have any `legit` observations?"
   ]
  },
  {
   "cell_type": "code",
   "execution_count": 49,
   "metadata": {
    "colab": {
     "base_uri": "https://localhost:8080/",
     "height": 34
    },
    "colab_type": "code",
    "id": "bZ5F2fInww8A",
    "outputId": "9a49c703-67c4-41d6-bb60-79b3c94e1b06"
   },
   "outputs": [
    {
     "name": "stdout",
     "output_type": "stream",
     "text": [
      "missing_legit 0\n"
     ]
    }
   ],
   "source": [
    "missing_legit = exhaustive_tld_class_df[ \n",
    "                     (exhaustive_tld_class_df[\"occurrences\"].isnull()) & \n",
    "                     (exhaustive_tld_class_df[\"class\"] == \"legit\") \n",
    "                     ].shape[0]\n",
    "\n",
    "print(\"missing_legit\", missing_legit)"
   ]
  },
  {
   "cell_type": "code",
   "execution_count": 50,
   "metadata": {
    "colab": {
     "base_uri": "https://localhost:8080/",
     "height": 34
    },
    "colab_type": "code",
    "id": "P4lL8aZX8H-x",
    "outputId": "ad5cbf24-a3a8-4689-8482-09f8acc5a6c7"
   },
   "outputs": [
    {
     "data": {
      "text/plain": [
       "0.0"
      ]
     },
     "execution_count": 50,
     "metadata": {},
     "output_type": "execute_result"
    }
   ],
   "source": [
    "missing_legit / len(exhaustive_tld_class_df[\"tld\"].unique())"
   ]
  },
  {
   "cell_type": "markdown",
   "metadata": {
    "colab_type": "text",
    "id": "Z-W8IZfPwVNN"
   },
   "source": [
    "How about tld without a `dga` observation?"
   ]
  },
  {
   "cell_type": "code",
   "execution_count": 51,
   "metadata": {
    "colab": {
     "base_uri": "https://localhost:8080/",
     "height": 34
    },
    "colab_type": "code",
    "id": "BCnReghYxJru",
    "outputId": "26849eb8-955d-4b5a-d2dd-b0609c779024"
   },
   "outputs": [
    {
     "name": "stdout",
     "output_type": "stream",
     "text": [
      "missing_dga 718\n"
     ]
    }
   ],
   "source": [
    "missing_dga = exhaustive_tld_class_df[ \n",
    "                     (exhaustive_tld_class_df[\"occurrences\"].isnull()) & \n",
    "                     (exhaustive_tld_class_df[\"class\"] == \"dga\") \n",
    "                     ].shape[0]\n",
    "                     \n",
    "print(\"missing_dga\", missing_dga)"
   ]
  },
  {
   "cell_type": "markdown",
   "metadata": {
    "colab_type": "text",
    "id": "8ylAy9zc8bzQ"
   },
   "source": [
    "718 Top Level Domains do not have a recorded observation of a `dga` class.\n",
    "\n",
    "Let's express that as a ratio.\n"
   ]
  },
  {
   "cell_type": "code",
   "execution_count": 52,
   "metadata": {
    "colab": {
     "base_uri": "https://localhost:8080/",
     "height": 34
    },
    "colab_type": "code",
    "id": "Z7qDFroj7xLB",
    "outputId": "e9fe6ed7-9137-4d5a-a9c7-3f779806c1e7"
   },
   "outputs": [
    {
     "data": {
      "text/plain": [
       "0.9930843706777317"
      ]
     },
     "execution_count": 52,
     "metadata": {},
     "output_type": "execute_result"
    }
   ],
   "source": [
    "missing_dga / len(exhaustive_tld_class_df[\"tld\"].unique())"
   ]
  },
  {
   "cell_type": "markdown",
   "metadata": {
    "colab_type": "text",
    "id": "nQwgg-vD8f1u"
   },
   "source": [
    "So which TLD have dga observations?"
   ]
  },
  {
   "cell_type": "code",
   "execution_count": 53,
   "metadata": {
    "colab": {
     "base_uri": "https://localhost:8080/",
     "height": 204
    },
    "colab_type": "code",
    "id": "Me_NCcjV8Spt",
    "outputId": "1ee287da-37c8-4d70-c660-e9bdccc9c5b0"
   },
   "outputs": [
    {
     "data": {
      "text/html": [
       "<div>\n",
       "<style scoped>\n",
       "    .dataframe tbody tr th:only-of-type {\n",
       "        vertical-align: middle;\n",
       "    }\n",
       "\n",
       "    .dataframe tbody tr th {\n",
       "        vertical-align: top;\n",
       "    }\n",
       "\n",
       "    .dataframe thead th {\n",
       "        text-align: right;\n",
       "    }\n",
       "</style>\n",
       "<table border=\"1\" class=\"dataframe\">\n",
       "  <thead>\n",
       "    <tr style=\"text-align: right;\">\n",
       "      <th></th>\n",
       "      <th>tld</th>\n",
       "      <th>class</th>\n",
       "      <th>occurrences</th>\n",
       "    </tr>\n",
       "  </thead>\n",
       "  <tbody>\n",
       "    <tr>\n",
       "      <th>44</th>\n",
       "      <td>biz</td>\n",
       "      <td>dga</td>\n",
       "      <td>1834.0</td>\n",
       "    </tr>\n",
       "    <tr>\n",
       "      <th>133</th>\n",
       "      <td>com</td>\n",
       "      <td>dga</td>\n",
       "      <td>2749.0</td>\n",
       "    </tr>\n",
       "    <tr>\n",
       "      <th>481</th>\n",
       "      <td>net</td>\n",
       "      <td>dga</td>\n",
       "      <td>3666.0</td>\n",
       "    </tr>\n",
       "    <tr>\n",
       "      <th>535</th>\n",
       "      <td>org</td>\n",
       "      <td>dga</td>\n",
       "      <td>2750.0</td>\n",
       "    </tr>\n",
       "    <tr>\n",
       "      <th>613</th>\n",
       "      <td>ru</td>\n",
       "      <td>dga</td>\n",
       "      <td>41666.0</td>\n",
       "    </tr>\n",
       "  </tbody>\n",
       "</table>\n",
       "</div>"
      ],
      "text/plain": [
       "     tld class  occurrences\n",
       "44   biz   dga       1834.0\n",
       "133  com   dga       2749.0\n",
       "481  net   dga       3666.0\n",
       "535  org   dga       2750.0\n",
       "613   ru   dga      41666.0"
      ]
     },
     "execution_count": 53,
     "metadata": {},
     "output_type": "execute_result"
    }
   ],
   "source": [
    "exhaustive_tld_class_df[ \n",
    "                     (~exhaustive_tld_class_df[\"occurrences\"].isnull()) & \n",
    "                     (exhaustive_tld_class_df[\"class\"] == \"dga\") \n",
    "                     ]"
   ]
  },
  {
   "cell_type": "markdown",
   "metadata": {
    "colab_type": "text",
    "id": "SPGPW63AxTdE"
   },
   "source": [
    "Let's visualise the absolute difference between classes for our most frequently appearing `tld`."
   ]
  },
  {
   "cell_type": "code",
   "execution_count": 54,
   "metadata": {
    "colab": {
     "base_uri": "https://localhost:8080/",
     "height": 326
    },
    "colab_type": "code",
    "id": "SV-FdG5i3gGi",
    "outputId": "12c2d3d8-2ef8-49a8-88f4-52c30016b915"
   },
   "outputs": [
    {
     "data": {
      "text/plain": [
       "<matplotlib.axes._subplots.AxesSubplot at 0x2090431dcc0>"
      ]
     },
     "execution_count": 54,
     "metadata": {},
     "output_type": "execute_result"
    },
    {
     "data": {
      "image/png": "[encoded data removed]",
      "text/plain": [
       "<Figure size 432x288 with 1 Axes>"
      ]
     },
     "metadata": {
      "needs_background": "light"
     },
     "output_type": "display_data"
    }
   ],
   "source": [
    "abs_difference_tld_class_df = exhaustive_tld_class_df.fillna(0).copy()\n",
    "abs_difference_tld_class_df.loc[abs_difference_tld_class_df[\"class\"] == \"legit\", \"occurrences\"] *= -1\n",
    "abs_difference_tld_class_df = pd.DataFrame(abs_difference_tld_class_df.groupby(\"tld\")[\"occurrences\"].sum().abs()).sort_values(\"occurrences\", ascending = False)\n",
    "abs_difference_tld_class_df.columns = [\"abs_delta_occurrences\"]\n",
    "abs_difference_tld_class_df.head(30).plot.bar()"
   ]
  },
  {
   "cell_type": "markdown",
   "metadata": {
    "colab_type": "text",
    "id": "JYK2zg47kMe5"
   },
   "source": [
    "Let's look at the breakdown of classess for the top two most frequent `tld`: `com` and `ru`."
   ]
  },
  {
   "cell_type": "code",
   "execution_count": 55,
   "metadata": {
    "colab": {
     "base_uri": "https://localhost:8080/",
     "height": 142
    },
    "colab_type": "code",
    "id": "fwQxH7lBkIJO",
    "outputId": "33972463-e6a5-425a-eb37-265bf81454ed"
   },
   "outputs": [
    {
     "data": {
      "text/html": [
       "<div>\n",
       "<style scoped>\n",
       "    .dataframe tbody tr th:only-of-type {\n",
       "        vertical-align: middle;\n",
       "    }\n",
       "\n",
       "    .dataframe tbody tr th {\n",
       "        vertical-align: top;\n",
       "    }\n",
       "\n",
       "    .dataframe thead th {\n",
       "        text-align: right;\n",
       "    }\n",
       "</style>\n",
       "<table border=\"1\" class=\"dataframe\">\n",
       "  <thead>\n",
       "    <tr style=\"text-align: right;\">\n",
       "      <th></th>\n",
       "      <th>occurrences</th>\n",
       "      <th>ratio</th>\n",
       "    </tr>\n",
       "    <tr>\n",
       "      <th>class</th>\n",
       "      <th></th>\n",
       "      <th></th>\n",
       "    </tr>\n",
       "  </thead>\n",
       "  <tbody>\n",
       "    <tr>\n",
       "      <th>dga</th>\n",
       "      <td>2749</td>\n",
       "      <td>0.060994</td>\n",
       "    </tr>\n",
       "    <tr>\n",
       "      <th>legit</th>\n",
       "      <td>42321</td>\n",
       "      <td>0.939006</td>\n",
       "    </tr>\n",
       "  </tbody>\n",
       "</table>\n",
       "</div>"
      ],
      "text/plain": [
       "       occurrences     ratio\n",
       "class                       \n",
       "dga           2749  0.060994\n",
       "legit        42321  0.939006"
      ]
     },
     "execution_count": 55,
     "metadata": {},
     "output_type": "execute_result"
    }
   ],
   "source": [
    "com_by_class_df = grouped_tld_class_df.loc[\"com\", :]\n",
    "com_by_class_df[\"ratio\"] = com_by_class_df[\"occurrences\"] / com_by_class_df[\"occurrences\"].sum()\n",
    "com_by_class_df"
   ]
  },
  {
   "cell_type": "code",
   "execution_count": 56,
   "metadata": {
    "colab": {
     "base_uri": "https://localhost:8080/",
     "height": 142
    },
    "colab_type": "code",
    "id": "YZemPnEAioYA",
    "outputId": "44ee6adb-1995-4c7a-dec0-e63f8f42293c"
   },
   "outputs": [
    {
     "data": {
      "text/html": [
       "<div>\n",
       "<style scoped>\n",
       "    .dataframe tbody tr th:only-of-type {\n",
       "        vertical-align: middle;\n",
       "    }\n",
       "\n",
       "    .dataframe tbody tr th {\n",
       "        vertical-align: top;\n",
       "    }\n",
       "\n",
       "    .dataframe thead th {\n",
       "        text-align: right;\n",
       "    }\n",
       "</style>\n",
       "<table border=\"1\" class=\"dataframe\">\n",
       "  <thead>\n",
       "    <tr style=\"text-align: right;\">\n",
       "      <th></th>\n",
       "      <th>occurrences</th>\n",
       "      <th>ratio</th>\n",
       "    </tr>\n",
       "    <tr>\n",
       "      <th>class</th>\n",
       "      <th></th>\n",
       "      <th></th>\n",
       "    </tr>\n",
       "  </thead>\n",
       "  <tbody>\n",
       "    <tr>\n",
       "      <th>dga</th>\n",
       "      <td>41666</td>\n",
       "      <td>0.942904</td>\n",
       "    </tr>\n",
       "    <tr>\n",
       "      <th>legit</th>\n",
       "      <td>2523</td>\n",
       "      <td>0.057096</td>\n",
       "    </tr>\n",
       "  </tbody>\n",
       "</table>\n",
       "</div>"
      ],
      "text/plain": [
       "       occurrences     ratio\n",
       "class                       \n",
       "dga          41666  0.942904\n",
       "legit         2523  0.057096"
      ]
     },
     "execution_count": 56,
     "metadata": {},
     "output_type": "execute_result"
    }
   ],
   "source": [
    "ru_by_class_df = grouped_tld_class_df.loc[\"ru\", :]\n",
    "ru_by_class_df[\"ratio\"] = ru_by_class_df[\"occurrences\"] / ru_by_class_df[\"occurrences\"].sum()\n",
    "ru_by_class_df"
   ]
  },
  {
   "cell_type": "markdown",
   "metadata": {
    "colab_type": "text",
    "id": "EMDdbocEVbbV"
   },
   "source": [
    "## Observations on Top Level Domain\n",
    "\n",
    "Given: \n",
    "* We do not have exhaustive observations for the product of `tld` and `class` ~99% of TLD do not have observations where class is `dga`\n",
    "* The imbalance where there are observations for both `classes` is heavily skewed\n",
    "\n",
    "Thus `tld` as a feature may be difficult to generalise."
   ]
  },
  {
   "cell_type": "markdown",
   "metadata": {
    "colab_type": "text",
    "id": "5Tqz3S2j9fpf"
   },
   "source": [
    "## Length of Domain\n",
    "\n",
    "Lets review if the length of a `domain` has any indication on the `class` of an observation."
   ]
  },
  {
   "cell_type": "code",
   "execution_count": 57,
   "metadata": {
    "colab": {
     "base_uri": "https://localhost:8080/",
     "height": 34
    },
    "colab_type": "code",
    "id": "IU_-bvLy9onh",
    "outputId": "39354509-2cb5-470e-ee63-7938f4864844"
   },
   "outputs": [
    {
     "data": {
      "text/plain": [
       "(114525, 3)"
      ]
     },
     "execution_count": 57,
     "metadata": {},
     "output_type": "execute_result"
    }
   ],
   "source": [
    "domains_df = data_df[[\"domain\", \"class\", \"subclass\"]].drop_duplicates()\n",
    "domains_df.shape"
   ]
  },
  {
   "cell_type": "code",
   "execution_count": 58,
   "metadata": {
    "colab": {},
    "colab_type": "code",
    "id": "7OdRlzq09vDu"
   },
   "outputs": [],
   "source": [
    "domains_df[\"domain_len\"] = domains_df[\"domain\"].apply(len)"
   ]
  },
  {
   "cell_type": "code",
   "execution_count": 59,
   "metadata": {
    "colab": {
     "base_uri": "https://localhost:8080/",
     "height": 142
    },
    "colab_type": "code",
    "id": "AGlnYUjt96JG",
    "outputId": "6a4ffd07-9c28-427d-f172-2daef578a9ed"
   },
   "outputs": [
    {
     "data": {
      "text/html": [
       "<div>\n",
       "<style scoped>\n",
       "    .dataframe tbody tr th:only-of-type {\n",
       "        vertical-align: middle;\n",
       "    }\n",
       "\n",
       "    .dataframe tbody tr th {\n",
       "        vertical-align: top;\n",
       "    }\n",
       "\n",
       "    .dataframe thead th {\n",
       "        text-align: right;\n",
       "    }\n",
       "</style>\n",
       "<table border=\"1\" class=\"dataframe\">\n",
       "  <thead>\n",
       "    <tr style=\"text-align: right;\">\n",
       "      <th></th>\n",
       "      <th>count</th>\n",
       "      <th>mean</th>\n",
       "      <th>std</th>\n",
       "      <th>min</th>\n",
       "      <th>25%</th>\n",
       "      <th>50%</th>\n",
       "      <th>75%</th>\n",
       "      <th>max</th>\n",
       "    </tr>\n",
       "    <tr>\n",
       "      <th>class</th>\n",
       "      <th></th>\n",
       "      <th></th>\n",
       "      <th></th>\n",
       "      <th></th>\n",
       "      <th></th>\n",
       "      <th></th>\n",
       "      <th></th>\n",
       "      <th></th>\n",
       "    </tr>\n",
       "  </thead>\n",
       "  <tbody>\n",
       "    <tr>\n",
       "      <th>dga</th>\n",
       "      <td>52665.0</td>\n",
       "      <td>17.726764</td>\n",
       "      <td>5.946592</td>\n",
       "      <td>12.0</td>\n",
       "      <td>13.0</td>\n",
       "      <td>15.0</td>\n",
       "      <td>25.0</td>\n",
       "      <td>32.0</td>\n",
       "    </tr>\n",
       "    <tr>\n",
       "      <th>legit</th>\n",
       "      <td>61860.0</td>\n",
       "      <td>10.761752</td>\n",
       "      <td>3.300436</td>\n",
       "      <td>7.0</td>\n",
       "      <td>8.0</td>\n",
       "      <td>10.0</td>\n",
       "      <td>12.0</td>\n",
       "      <td>56.0</td>\n",
       "    </tr>\n",
       "  </tbody>\n",
       "</table>\n",
       "</div>"
      ],
      "text/plain": [
       "         count       mean       std   min   25%   50%   75%   max\n",
       "class                                                            \n",
       "dga    52665.0  17.726764  5.946592  12.0  13.0  15.0  25.0  32.0\n",
       "legit  61860.0  10.761752  3.300436   7.0   8.0  10.0  12.0  56.0"
      ]
     },
     "execution_count": 59,
     "metadata": {},
     "output_type": "execute_result"
    }
   ],
   "source": [
    "domains_len_stats_df = domains_df.groupby(\"class\")[\"domain_len\"].describe()\n",
    "domains_len_stats_df"
   ]
  },
  {
   "cell_type": "code",
   "execution_count": 60,
   "metadata": {
    "colab": {
     "base_uri": "https://localhost:8080/",
     "height": 333
    },
    "colab_type": "code",
    "id": "vcdGtI4_ZdZ3",
    "outputId": "970274f0-3581-4bd1-e797-175901ca0493"
   },
   "outputs": [
    {
     "data": {
      "text/plain": [
       "class\n",
       "dga      AxesSubplot(0.125,0.125;0.775x0.755)\n",
       "legit    AxesSubplot(0.125,0.125;0.775x0.755)\n",
       "Name: domain_len, dtype: object"
      ]
     },
     "execution_count": 60,
     "metadata": {},
     "output_type": "execute_result"
    },
    {
     "data": {
      "image/png": "[encoded data removed]",
      "text/plain": [
       "<Figure size 432x288 with 1 Axes>"
      ]
     },
     "metadata": {
      "needs_background": "light"
     },
     "output_type": "display_data"
    }
   ],
   "source": [
    "domains_df.groupby(\"class\")[\"domain_len\"].plot.kde(legend=True)"
   ]
  },
  {
   "cell_type": "markdown",
   "metadata": {
    "colab_type": "text",
    "id": "0WXGNyIH-Y8h"
   },
   "source": [
    "Looking a the `min` value there is something VERY interesting."
   ]
  },
  {
   "cell_type": "markdown",
   "metadata": {
    "colab_type": "text",
    "id": "2Hy7rZbYAeoc"
   },
   "source": [
    "Let's review the interquartile values to get a better appreciation of the standard deviation values above."
   ]
  },
  {
   "cell_type": "code",
   "execution_count": 61,
   "metadata": {
    "colab": {
     "base_uri": "https://localhost:8080/",
     "height": 308
    },
    "colab_type": "code",
    "id": "iBYKQosUAPpg",
    "outputId": "31b7c5e1-8312-49b3-8159-9199dae73b49"
   },
   "outputs": [
    {
     "data": {
      "text/plain": [
       "<matplotlib.axes._subplots.AxesSubplot at 0x2090ffd6048>"
      ]
     },
     "execution_count": 61,
     "metadata": {},
     "output_type": "execute_result"
    },
    {
     "data": {
      "image/png": "[encoded data removed]",
      "text/plain": [
       "<Figure size 432x288 with 1 Axes>"
      ]
     },
     "metadata": {
      "needs_background": "light"
     },
     "output_type": "display_data"
    }
   ],
   "source": [
    "domains_len_stats_df[domains_len_stats_df.columns[4:]].plot.bar()"
   ]
  },
  {
   "cell_type": "markdown",
   "metadata": {
    "colab_type": "text",
    "id": "20kXFiodA4Q7"
   },
   "source": [
    "Let's have a look at these really long domains."
   ]
  },
  {
   "cell_type": "code",
   "execution_count": 62,
   "metadata": {
    "colab": {
     "base_uri": "https://localhost:8080/",
     "height": 607
    },
    "colab_type": "code",
    "id": "C39Iu40PA_0A",
    "outputId": "6b75f21e-dc24-4011-f9de-5a74deaa1f7c"
   },
   "outputs": [
    {
     "data": {
      "text/html": [
       "<div>\n",
       "<style scoped>\n",
       "    .dataframe tbody tr th:only-of-type {\n",
       "        vertical-align: middle;\n",
       "    }\n",
       "\n",
       "    .dataframe tbody tr th {\n",
       "        vertical-align: top;\n",
       "    }\n",
       "\n",
       "    .dataframe thead th {\n",
       "        text-align: right;\n",
       "    }\n",
       "</style>\n",
       "<table border=\"1\" class=\"dataframe\">\n",
       "  <thead>\n",
       "    <tr style=\"text-align: right;\">\n",
       "      <th></th>\n",
       "      <th></th>\n",
       "      <th>domain</th>\n",
       "      <th>domain_len</th>\n",
       "    </tr>\n",
       "    <tr>\n",
       "      <th>class</th>\n",
       "      <th>subclass</th>\n",
       "      <th></th>\n",
       "      <th></th>\n",
       "    </tr>\n",
       "  </thead>\n",
       "  <tbody>\n",
       "    <tr>\n",
       "      <th rowspan=\"6\" valign=\"top\">dga</th>\n",
       "      <th>goz</th>\n",
       "      <td>fahqfqjnztfukbrsrsgerwqctkdeusjv</td>\n",
       "      <td>32</td>\n",
       "    </tr>\n",
       "    <tr>\n",
       "      <th>goz</th>\n",
       "      <td>lbpzkvfmemaiaqhyemijamofdqbuqkmj</td>\n",
       "      <td>32</td>\n",
       "    </tr>\n",
       "    <tr>\n",
       "      <th>goz</th>\n",
       "      <td>onwgbaaenvofifsoaqnvqokzfqlbmzxc</td>\n",
       "      <td>32</td>\n",
       "    </tr>\n",
       "    <tr>\n",
       "      <th>goz</th>\n",
       "      <td>ozuwydmfvkrwydgyhmmjfifmovnbrofu</td>\n",
       "      <td>32</td>\n",
       "    </tr>\n",
       "    <tr>\n",
       "      <th>goz</th>\n",
       "      <td>twqojncqtsfikbscqsaunfpjcakztkxo</td>\n",
       "      <td>32</td>\n",
       "    </tr>\n",
       "    <tr>\n",
       "      <th>goz</th>\n",
       "      <td>ydeudipztwgaaupvrkdqucbenfoncady</td>\n",
       "      <td>32</td>\n",
       "    </tr>\n",
       "    <tr>\n",
       "      <th rowspan=\"11\" valign=\"top\">legit</th>\n",
       "      <th>legit</th>\n",
       "      <td>americansforresponsiblesolutions</td>\n",
       "      <td>32</td>\n",
       "    </tr>\n",
       "    <tr>\n",
       "      <th>legit</th>\n",
       "      <td>b117f8da23446a91387efea0e428392a</td>\n",
       "      <td>32</td>\n",
       "    </tr>\n",
       "    <tr>\n",
       "      <th>legit</th>\n",
       "      <td>bipolardisorderdepressionanxiety</td>\n",
       "      <td>32</td>\n",
       "    </tr>\n",
       "    <tr>\n",
       "      <th>legit</th>\n",
       "      <td>deutsche-wirtschafts-nachrichten</td>\n",
       "      <td>32</td>\n",
       "    </tr>\n",
       "    <tr>\n",
       "      <th>legit</th>\n",
       "      <td>ostsaechsische-sparkasse-dresden</td>\n",
       "      <td>32</td>\n",
       "    </tr>\n",
       "    <tr>\n",
       "      <th>legit</th>\n",
       "      <td>dellbackupandrecoverycloudstorage</td>\n",
       "      <td>33</td>\n",
       "    </tr>\n",
       "    <tr>\n",
       "      <th>legit</th>\n",
       "      <td>deutsche-mittelstands-nachrichten</td>\n",
       "      <td>33</td>\n",
       "    </tr>\n",
       "    <tr>\n",
       "      <th>legit</th>\n",
       "      <td>insearchoftheworldsmostbeautifulwoman</td>\n",
       "      <td>37</td>\n",
       "    </tr>\n",
       "    <tr>\n",
       "      <th>legit</th>\n",
       "      <td>sparkasse-oberlausitz-niederschlesien</td>\n",
       "      <td>37</td>\n",
       "    </tr>\n",
       "    <tr>\n",
       "      <th>legit</th>\n",
       "      <td>article-directory-free-submission-free-content</td>\n",
       "      <td>46</td>\n",
       "    </tr>\n",
       "    <tr>\n",
       "      <th>legit</th>\n",
       "      <td>gay-sex-pics-porn-pictures-gay-sex-porn-gay-se...</td>\n",
       "      <td>56</td>\n",
       "    </tr>\n",
       "  </tbody>\n",
       "</table>\n",
       "</div>"
      ],
      "text/plain": [
       "                                                           domain  domain_len\n",
       "class subclass                                                               \n",
       "dga   goz                        fahqfqjnztfukbrsrsgerwqctkdeusjv          32\n",
       "      goz                        lbpzkvfmemaiaqhyemijamofdqbuqkmj          32\n",
       "      goz                        onwgbaaenvofifsoaqnvqokzfqlbmzxc          32\n",
       "      goz                        ozuwydmfvkrwydgyhmmjfifmovnbrofu          32\n",
       "      goz                        twqojncqtsfikbscqsaunfpjcakztkxo          32\n",
       "      goz                        ydeudipztwgaaupvrkdqucbenfoncady          32\n",
       "legit legit                      americansforresponsiblesolutions          32\n",
       "      legit                      b117f8da23446a91387efea0e428392a          32\n",
       "      legit                      bipolardisorderdepressionanxiety          32\n",
       "      legit                      deutsche-wirtschafts-nachrichten          32\n",
       "      legit                      ostsaechsische-sparkasse-dresden          32\n",
       "      legit                     dellbackupandrecoverycloudstorage          33\n",
       "      legit                     deutsche-mittelstands-nachrichten          33\n",
       "      legit                 insearchoftheworldsmostbeautifulwoman          37\n",
       "      legit                 sparkasse-oberlausitz-niederschlesien          37\n",
       "      legit        article-directory-free-submission-free-content          46\n",
       "      legit     gay-sex-pics-porn-pictures-gay-sex-porn-gay-se...          56"
      ]
     },
     "execution_count": 62,
     "metadata": {},
     "output_type": "execute_result"
    }
   ],
   "source": [
    "domains_df[domains_df[\"domain_len\"] >= domains_len_stats_df[\"max\"].min()].sort_values([\"class\", \"subclass\", \"domain_len\"]).set_index([\"class\", \"subclass\"])"
   ]
  },
  {
   "cell_type": "markdown",
   "metadata": {
    "colab_type": "text",
    "id": "CD-qe0CdBaHZ"
   },
   "source": [
    "The records that have the largest `domain_len` have repeating \"words\" that can be identified due to hyphen usuage. This might be a pattern that is repeated elsewhere. However it is doubtful that we could reliably generate a measure of \"unique words\" without implementing a dictionary which would be a considerable effort.\n",
    "\n",
    "The other interesting quirk is the presence of `b117f8da23446a91387efea0e428392a` as a legit domain, it looks very much like a `dga` - is this perhaps a mislabeled observation?"
   ]
  },
  {
   "cell_type": "markdown",
   "metadata": {
    "colab_type": "text",
    "id": "uN3hS8kYj1Ds"
   },
   "source": [
    "Let's count the number of records that have a `domain_len` greater than the 75th percentile accross the classes"
   ]
  },
  {
   "cell_type": "code",
   "execution_count": 63,
   "metadata": {
    "colab": {
     "base_uri": "https://localhost:8080/",
     "height": 111
    },
    "colab_type": "code",
    "id": "0SBvBj5yBWRD",
    "outputId": "b415ca4e-d8a0-4dd0-d38e-92d85f4ecd5e"
   },
   "outputs": [
    {
     "data": {
      "text/html": [
       "<div>\n",
       "<style scoped>\n",
       "    .dataframe tbody tr th:only-of-type {\n",
       "        vertical-align: middle;\n",
       "    }\n",
       "\n",
       "    .dataframe tbody tr th {\n",
       "        vertical-align: top;\n",
       "    }\n",
       "\n",
       "    .dataframe thead th {\n",
       "        text-align: right;\n",
       "    }\n",
       "</style>\n",
       "<table border=\"1\" class=\"dataframe\">\n",
       "  <thead>\n",
       "    <tr style=\"text-align: right;\">\n",
       "      <th></th>\n",
       "      <th>class</th>\n",
       "    </tr>\n",
       "  </thead>\n",
       "  <tbody>\n",
       "    <tr>\n",
       "      <th>dga</th>\n",
       "      <td>14643</td>\n",
       "    </tr>\n",
       "    <tr>\n",
       "      <th>legit</th>\n",
       "      <td>124</td>\n",
       "    </tr>\n",
       "  </tbody>\n",
       "</table>\n",
       "</div>"
      ],
      "text/plain": [
       "       class\n",
       "dga    14643\n",
       "legit    124"
      ]
     },
     "execution_count": 63,
     "metadata": {},
     "output_type": "execute_result"
    }
   ],
   "source": [
    "long_domains_by_class_df = pd.DataFrame(domains_df[domains_df[\"domain_len\"] >= domains_len_stats_df[\"75%\"].max()][\"class\"].value_counts())\n",
    "long_domains_by_class_df"
   ]
  },
  {
   "cell_type": "markdown",
   "metadata": {
    "colab_type": "text",
    "id": "gji5b4RlCs6U"
   },
   "source": [
    "These long `legit` domains, what are they as a ratio of all legitimate domains in the dataset. "
   ]
  },
  {
   "cell_type": "code",
   "execution_count": 64,
   "metadata": {
    "colab": {
     "base_uri": "https://localhost:8080/",
     "height": 34
    },
    "colab_type": "code",
    "id": "r97SVokKCjo0",
    "outputId": "3087ad02-974c-41f6-d6e6-193517de4716"
   },
   "outputs": [
    {
     "data": {
      "text/plain": [
       "0.002004526349822179"
      ]
     },
     "execution_count": 64,
     "metadata": {},
     "output_type": "execute_result"
    }
   ],
   "source": [
    "long_domains_by_class_df.loc[\"legit\"][\"class\"] / domains_len_stats_df.loc[\"legit\"][\"count\"]"
   ]
  },
  {
   "cell_type": "markdown",
   "metadata": {
    "colab_type": "text",
    "id": "Zhe07Ect_dfC"
   },
   "source": [
    "## Observations on Length of Domain\n",
    "\n",
    "For this we can deduce that in the dataset we've been given a `dga` record will have at a mimimum a domain of 12 characters long.\n",
    "\n",
    "As for the maximum length where a record is `legit` having a `domain_len` >= 25 is the exception. Potentially we could discard these records, given they represent < 1% of all legit?\n",
    "\n",
    "However there is more variation in the length of `domain` for `dga` records. But the fact there is a point of clear separation (< 12 characters in length), the length of the `domain` would be a useful feature.\n",
    "\n",
    "There is a danger that `domain_len` might have undue importance due to the minimum length of 12 for `dga` - this is something that will need to be considered in model evaluation."
   ]
  },
  {
   "cell_type": "markdown",
   "metadata": {
    "colab_type": "text",
    "id": "ysokwfv4DJEm"
   },
   "source": [
    "## Vowels\n",
    "\n",
    "It would seem that vowels are common occurance across languages as per [Vowel Systems](https://en.wikipedia.org/wiki/Vowel#Systems) on Wikipedia.\n",
    "\n",
    "There are some notable exceptions:\n",
    "* `y` is considered a vowel in certain conditions\n",
    "* `r` as a vowel in Czech and Slovak\n",
    "* Danish has 13 vowels: (a) ɑ (ɐ) e ə ɛ i o ɔ u ø œ y\n",
    "\n",
    "However given that DNS servers resolve non-ASCII characters into encoded ASCII characters we may find that all characters our dataset fall within the standard ASCII ordinal values.\n",
    "If this holds true then we can generate feature on the presence of `['a','e','i','o','u','y']`.\n",
    "\n"
   ]
  },
  {
   "cell_type": "markdown",
   "metadata": {
    "colab_type": "text",
    "id": "cxboJseLLwWH"
   },
   "source": [
    "\n",
    "### Vowel Counts\n",
    "Let's generate a count for the vowels."
   ]
  },
  {
   "cell_type": "code",
   "execution_count": 65,
   "metadata": {
    "colab": {},
    "colab_type": "code",
    "id": "EnfekscWNIMt"
   },
   "outputs": [],
   "source": [
    "vowels = [\"a\", \"e\", \"i\", \"o\", \"u\", \"y\"]"
   ]
  },
  {
   "cell_type": "markdown",
   "metadata": {
    "colab_type": "text",
    "id": "SJPAOlMqUj2R"
   },
   "source": [
    "Let's get the actual vowel counts"
   ]
  },
  {
   "cell_type": "code",
   "execution_count": 66,
   "metadata": {
    "colab": {},
    "colab_type": "code",
    "id": "pHUv9iF7U_le"
   },
   "outputs": [],
   "source": [
    "domain_letter_split = data_df[\"domain\"].apply(lambda x: [w for w in x])"
   ]
  },
  {
   "cell_type": "code",
   "execution_count": 67,
   "metadata": {
    "colab": {},
    "colab_type": "code",
    "id": "sZMoryL6UmU7"
   },
   "outputs": [],
   "source": [
    "data_df[\"domain_vowel_count\"] = domain_letter_split.apply(lambda x: len([w for w in x if w in vowels]))"
   ]
  },
  {
   "cell_type": "code",
   "execution_count": 68,
   "metadata": {
    "colab": {
     "base_uri": "https://localhost:8080/",
     "height": 170
    },
    "colab_type": "code",
    "id": "ik3jYTuvUy7D",
    "outputId": "7fe9085f-89a1-4676-d6ca-10dafadaeebb"
   },
   "outputs": [
    {
     "data": {
      "text/plain": [
       "count    133926.000000\n",
       "mean          3.959873\n",
       "std           1.730825\n",
       "min           0.000000\n",
       "25%           3.000000\n",
       "50%           4.000000\n",
       "75%           5.000000\n",
       "max          18.000000\n",
       "Name: domain_vowel_count, dtype: float64"
      ]
     },
     "execution_count": 68,
     "metadata": {},
     "output_type": "execute_result"
    }
   ],
   "source": [
    "data_df[\"domain_vowel_count\"].describe()"
   ]
  },
  {
   "cell_type": "code",
   "execution_count": 69,
   "metadata": {
    "colab": {
     "base_uri": "https://localhost:8080/",
     "height": 142
    },
    "colab_type": "code",
    "id": "WRKpEKBGVTBW",
    "outputId": "f80eb229-bd1f-4ff2-fa40-bc428d1f34a8"
   },
   "outputs": [
    {
     "data": {
      "text/html": [
       "<div>\n",
       "<style scoped>\n",
       "    .dataframe tbody tr th:only-of-type {\n",
       "        vertical-align: middle;\n",
       "    }\n",
       "\n",
       "    .dataframe tbody tr th {\n",
       "        vertical-align: top;\n",
       "    }\n",
       "\n",
       "    .dataframe thead th {\n",
       "        text-align: right;\n",
       "    }\n",
       "</style>\n",
       "<table border=\"1\" class=\"dataframe\">\n",
       "  <thead>\n",
       "    <tr style=\"text-align: right;\">\n",
       "      <th></th>\n",
       "      <th>count</th>\n",
       "      <th>mean</th>\n",
       "      <th>std</th>\n",
       "      <th>min</th>\n",
       "      <th>25%</th>\n",
       "      <th>50%</th>\n",
       "      <th>75%</th>\n",
       "      <th>max</th>\n",
       "    </tr>\n",
       "    <tr>\n",
       "      <th>class</th>\n",
       "      <th></th>\n",
       "      <th></th>\n",
       "      <th></th>\n",
       "      <th></th>\n",
       "      <th></th>\n",
       "      <th></th>\n",
       "      <th></th>\n",
       "      <th></th>\n",
       "    </tr>\n",
       "  </thead>\n",
       "  <tbody>\n",
       "    <tr>\n",
       "      <th>dga</th>\n",
       "      <td>52665.0</td>\n",
       "      <td>3.733960</td>\n",
       "      <td>1.929190</td>\n",
       "      <td>0.0</td>\n",
       "      <td>2.0</td>\n",
       "      <td>4.0</td>\n",
       "      <td>5.0</td>\n",
       "      <td>16.0</td>\n",
       "    </tr>\n",
       "    <tr>\n",
       "      <th>legit</th>\n",
       "      <td>81261.0</td>\n",
       "      <td>4.106287</td>\n",
       "      <td>1.571861</td>\n",
       "      <td>0.0</td>\n",
       "      <td>3.0</td>\n",
       "      <td>4.0</td>\n",
       "      <td>5.0</td>\n",
       "      <td>18.0</td>\n",
       "    </tr>\n",
       "  </tbody>\n",
       "</table>\n",
       "</div>"
      ],
      "text/plain": [
       "         count      mean       std  min  25%  50%  75%   max\n",
       "class                                                       \n",
       "dga    52665.0  3.733960  1.929190  0.0  2.0  4.0  5.0  16.0\n",
       "legit  81261.0  4.106287  1.571861  0.0  3.0  4.0  5.0  18.0"
      ]
     },
     "execution_count": 69,
     "metadata": {},
     "output_type": "execute_result"
    }
   ],
   "source": [
    "domain_by_class_vowel_stats_df = data_df[[\"class\", \"domain_vowel_count\"]].groupby(\"class\")[\"domain_vowel_count\"].describe()\n",
    "domain_by_class_vowel_stats_df"
   ]
  },
  {
   "cell_type": "code",
   "execution_count": 70,
   "metadata": {
    "colab": {
     "base_uri": "https://localhost:8080/",
     "height": 308
    },
    "colab_type": "code",
    "id": "zuM7ONydWBoz",
    "outputId": "3c7b7528-0ff7-40c1-fd2d-2f5dd37be63c"
   },
   "outputs": [
    {
     "data": {
      "text/plain": [
       "<matplotlib.axes._subplots.AxesSubplot at 0x20911d2f5c0>"
      ]
     },
     "execution_count": 70,
     "metadata": {},
     "output_type": "execute_result"
    },
    {
     "data": {
      "image/png": "[encoded data removed]",
      "text/plain": [
       "<Figure size 432x288 with 1 Axes>"
      ]
     },
     "metadata": {
      "needs_background": "light"
     },
     "output_type": "display_data"
    }
   ],
   "source": [
    "domain_by_class_vowel_stats_df[domain_by_class_vowel_stats_df.columns[1:]].plot.bar()"
   ]
  },
  {
   "cell_type": "code",
   "execution_count": 71,
   "metadata": {
    "colab": {
     "base_uri": "https://localhost:8080/",
     "height": 333
    },
    "colab_type": "code",
    "id": "wLQ8lDJAiOEV",
    "outputId": "c910c896-1e72-40e4-b7aa-93d77b490cd9"
   },
   "outputs": [
    {
     "data": {
      "text/plain": [
       "class\n",
       "dga      AxesSubplot(0.125,0.125;0.775x0.755)\n",
       "legit    AxesSubplot(0.125,0.125;0.775x0.755)\n",
       "Name: domain_vowel_count, dtype: object"
      ]
     },
     "execution_count": 71,
     "metadata": {},
     "output_type": "execute_result"
    },
    {
     "data": {
      "image/png": "[encoded data removed]",
      "text/plain": [
       "<Figure size 432x288 with 1 Axes>"
      ]
     },
     "metadata": {
      "needs_background": "light"
     },
     "output_type": "display_data"
    }
   ],
   "source": [
    "data_df[[\"class\", \"domain_vowel_count\"]].groupby(\"class\")[\"domain_vowel_count\"].plot.kde(\n",
    "    legend = True,\n",
    "    )"
   ]
  },
  {
   "cell_type": "markdown",
   "metadata": {
    "colab_type": "text",
    "id": "GO_1eIX1Vzzq"
   },
   "source": [
    "Not much of a difference in the values between classes. Perhaps if we calculated the number of vowels as a ratio of length of the domain we might get better insights."
   ]
  },
  {
   "cell_type": "markdown",
   "metadata": {
    "colab_type": "text",
    "id": "InMJWtiDX9hX"
   },
   "source": [
    "### Observations on Vowel Count\n",
    "\n",
    "* Raw vowel count does not provide a clear boundary between `class`"
   ]
  },
  {
   "cell_type": "markdown",
   "metadata": {
    "colab_type": "text",
    "id": "Vr6SSFJJfihq"
   },
   "source": [
    "### Vowel Ratios"
   ]
  },
  {
   "cell_type": "code",
   "execution_count": 72,
   "metadata": {
    "colab": {},
    "colab_type": "code",
    "id": "GZgIXBoPVn_w"
   },
   "outputs": [],
   "source": [
    "data_df[\"domain_vowel_ratio\"]  = data_df[\"domain_vowel_count\"] / data_df[\"domain\"].apply(len)"
   ]
  },
  {
   "cell_type": "code",
   "execution_count": 73,
   "metadata": {
    "colab": {
     "base_uri": "https://localhost:8080/",
     "height": 142
    },
    "colab_type": "code",
    "id": "ZycoUX3t4PZb",
    "outputId": "063bbc50-1d6e-4df9-9706-422a26a715b2"
   },
   "outputs": [
    {
     "data": {
      "text/html": [
       "<div>\n",
       "<style scoped>\n",
       "    .dataframe tbody tr th:only-of-type {\n",
       "        vertical-align: middle;\n",
       "    }\n",
       "\n",
       "    .dataframe tbody tr th {\n",
       "        vertical-align: top;\n",
       "    }\n",
       "\n",
       "    .dataframe thead th {\n",
       "        text-align: right;\n",
       "    }\n",
       "</style>\n",
       "<table border=\"1\" class=\"dataframe\">\n",
       "  <thead>\n",
       "    <tr style=\"text-align: right;\">\n",
       "      <th></th>\n",
       "      <th>count</th>\n",
       "      <th>mean</th>\n",
       "      <th>std</th>\n",
       "      <th>min</th>\n",
       "      <th>25%</th>\n",
       "      <th>50%</th>\n",
       "      <th>75%</th>\n",
       "      <th>max</th>\n",
       "    </tr>\n",
       "    <tr>\n",
       "      <th>class</th>\n",
       "      <th></th>\n",
       "      <th></th>\n",
       "      <th></th>\n",
       "      <th></th>\n",
       "      <th></th>\n",
       "      <th></th>\n",
       "      <th></th>\n",
       "      <th></th>\n",
       "    </tr>\n",
       "  </thead>\n",
       "  <tbody>\n",
       "    <tr>\n",
       "      <th>dga</th>\n",
       "      <td>52665.0</td>\n",
       "      <td>0.219425</td>\n",
       "      <td>0.108766</td>\n",
       "      <td>0.0</td>\n",
       "      <td>0.142857</td>\n",
       "      <td>0.214286</td>\n",
       "      <td>0.285714</td>\n",
       "      <td>0.8</td>\n",
       "    </tr>\n",
       "    <tr>\n",
       "      <th>legit</th>\n",
       "      <td>81261.0</td>\n",
       "      <td>0.392103</td>\n",
       "      <td>0.095280</td>\n",
       "      <td>0.0</td>\n",
       "      <td>0.333333</td>\n",
       "      <td>0.400000</td>\n",
       "      <td>0.444444</td>\n",
       "      <td>0.9</td>\n",
       "    </tr>\n",
       "  </tbody>\n",
       "</table>\n",
       "</div>"
      ],
      "text/plain": [
       "         count      mean       std  min       25%       50%       75%  max\n",
       "class                                                                     \n",
       "dga    52665.0  0.219425  0.108766  0.0  0.142857  0.214286  0.285714  0.8\n",
       "legit  81261.0  0.392103  0.095280  0.0  0.333333  0.400000  0.444444  0.9"
      ]
     },
     "execution_count": 73,
     "metadata": {},
     "output_type": "execute_result"
    }
   ],
   "source": [
    "data_df[[\"class\", \"domain_vowel_ratio\"]].groupby(\"class\")[\"domain_vowel_ratio\"].describe()"
   ]
  },
  {
   "cell_type": "markdown",
   "metadata": {
    "colab_type": "text",
    "id": "cZ_q_QHae-gB"
   },
   "source": [
    "Let's visualise the overlap"
   ]
  },
  {
   "cell_type": "code",
   "execution_count": 74,
   "metadata": {
    "colab": {
     "base_uri": "https://localhost:8080/",
     "height": 333
    },
    "colab_type": "code",
    "id": "MsQaXepUdUwK",
    "outputId": "9c33b252-ad5d-4d7c-bc70-c84fb0514b8d"
   },
   "outputs": [
    {
     "data": {
      "text/plain": [
       "class\n",
       "dga      AxesSubplot(0.125,0.125;0.775x0.755)\n",
       "legit    AxesSubplot(0.125,0.125;0.775x0.755)\n",
       "Name: domain_vowel_ratio, dtype: object"
      ]
     },
     "execution_count": 74,
     "metadata": {},
     "output_type": "execute_result"
    },
    {
     "data": {
      "image/png": "[encoded data removed]",
      "text/plain": [
       "<Figure size 432x288 with 1 Axes>"
      ]
     },
     "metadata": {
      "needs_background": "light"
     },
     "output_type": "display_data"
    }
   ],
   "source": [
    "data_df[[\"class\", \"domain_vowel_ratio\"]].groupby(\"class\")[\"domain_vowel_ratio\"].plot.kde(\n",
    "    legend = True,\n",
    "    )"
   ]
  },
  {
   "cell_type": "code",
   "execution_count": 75,
   "metadata": {
    "colab": {
     "base_uri": "https://localhost:8080/",
     "height": 142
    },
    "colab_type": "code",
    "id": "fhmZ8R4Z3N0I",
    "outputId": "0b286ebf-b48d-4259-fb94-ee529ba1fda5"
   },
   "outputs": [
    {
     "data": {
      "text/html": [
       "<div>\n",
       "<style scoped>\n",
       "    .dataframe tbody tr th:only-of-type {\n",
       "        vertical-align: middle;\n",
       "    }\n",
       "\n",
       "    .dataframe tbody tr th {\n",
       "        vertical-align: top;\n",
       "    }\n",
       "\n",
       "    .dataframe thead th {\n",
       "        text-align: right;\n",
       "    }\n",
       "</style>\n",
       "<table border=\"1\" class=\"dataframe\">\n",
       "  <thead>\n",
       "    <tr style=\"text-align: right;\">\n",
       "      <th></th>\n",
       "      <th>count</th>\n",
       "      <th>mean</th>\n",
       "      <th>std</th>\n",
       "      <th>min</th>\n",
       "      <th>25%</th>\n",
       "      <th>50%</th>\n",
       "      <th>75%</th>\n",
       "      <th>max</th>\n",
       "    </tr>\n",
       "    <tr>\n",
       "      <th>class</th>\n",
       "      <th></th>\n",
       "      <th></th>\n",
       "      <th></th>\n",
       "      <th></th>\n",
       "      <th></th>\n",
       "      <th></th>\n",
       "      <th></th>\n",
       "      <th></th>\n",
       "    </tr>\n",
       "  </thead>\n",
       "  <tbody>\n",
       "    <tr>\n",
       "      <th>dga</th>\n",
       "      <td>52665.0</td>\n",
       "      <td>0.219425</td>\n",
       "      <td>0.108766</td>\n",
       "      <td>0.0</td>\n",
       "      <td>0.142857</td>\n",
       "      <td>0.214286</td>\n",
       "      <td>0.285714</td>\n",
       "      <td>0.8</td>\n",
       "    </tr>\n",
       "    <tr>\n",
       "      <th>legit</th>\n",
       "      <td>81261.0</td>\n",
       "      <td>0.392103</td>\n",
       "      <td>0.095280</td>\n",
       "      <td>0.0</td>\n",
       "      <td>0.333333</td>\n",
       "      <td>0.400000</td>\n",
       "      <td>0.444444</td>\n",
       "      <td>0.9</td>\n",
       "    </tr>\n",
       "  </tbody>\n",
       "</table>\n",
       "</div>"
      ],
      "text/plain": [
       "         count      mean       std  min       25%       50%       75%  max\n",
       "class                                                                     \n",
       "dga    52665.0  0.219425  0.108766  0.0  0.142857  0.214286  0.285714  0.8\n",
       "legit  81261.0  0.392103  0.095280  0.0  0.333333  0.400000  0.444444  0.9"
      ]
     },
     "execution_count": 75,
     "metadata": {},
     "output_type": "execute_result"
    }
   ],
   "source": [
    "data_df[[\"class\", \"domain_vowel_ratio\"]].groupby(\"class\")[\"domain_vowel_ratio\"].describe()"
   ]
  },
  {
   "cell_type": "markdown",
   "metadata": {
    "colab_type": "text",
    "id": "7Ace-V-UfI4t"
   },
   "source": [
    "Lets see where how it plays out on IQR by class."
   ]
  },
  {
   "cell_type": "code",
   "execution_count": 76,
   "metadata": {
    "colab": {
     "base_uri": "https://localhost:8080/",
     "height": 142
    },
    "colab_type": "code",
    "id": "nza_ATCFWTOh",
    "outputId": "a6eda8de-f238-4efe-efd6-7a7fee1fa52c"
   },
   "outputs": [
    {
     "data": {
      "text/html": [
       "<div>\n",
       "<style scoped>\n",
       "    .dataframe tbody tr th:only-of-type {\n",
       "        vertical-align: middle;\n",
       "    }\n",
       "\n",
       "    .dataframe tbody tr th {\n",
       "        vertical-align: top;\n",
       "    }\n",
       "\n",
       "    .dataframe thead th {\n",
       "        text-align: right;\n",
       "    }\n",
       "</style>\n",
       "<table border=\"1\" class=\"dataframe\">\n",
       "  <thead>\n",
       "    <tr style=\"text-align: right;\">\n",
       "      <th></th>\n",
       "      <th>count</th>\n",
       "      <th>mean</th>\n",
       "      <th>std</th>\n",
       "      <th>min</th>\n",
       "      <th>25%</th>\n",
       "      <th>50%</th>\n",
       "      <th>75%</th>\n",
       "      <th>max</th>\n",
       "    </tr>\n",
       "    <tr>\n",
       "      <th>class</th>\n",
       "      <th></th>\n",
       "      <th></th>\n",
       "      <th></th>\n",
       "      <th></th>\n",
       "      <th></th>\n",
       "      <th></th>\n",
       "      <th></th>\n",
       "      <th></th>\n",
       "    </tr>\n",
       "  </thead>\n",
       "  <tbody>\n",
       "    <tr>\n",
       "      <th>dga</th>\n",
       "      <td>52665.0</td>\n",
       "      <td>0.219425</td>\n",
       "      <td>0.108766</td>\n",
       "      <td>0.0</td>\n",
       "      <td>0.142857</td>\n",
       "      <td>0.214286</td>\n",
       "      <td>0.285714</td>\n",
       "      <td>0.8</td>\n",
       "    </tr>\n",
       "    <tr>\n",
       "      <th>legit</th>\n",
       "      <td>81261.0</td>\n",
       "      <td>0.392103</td>\n",
       "      <td>0.095280</td>\n",
       "      <td>0.0</td>\n",
       "      <td>0.333333</td>\n",
       "      <td>0.400000</td>\n",
       "      <td>0.444444</td>\n",
       "      <td>0.9</td>\n",
       "    </tr>\n",
       "  </tbody>\n",
       "</table>\n",
       "</div>"
      ],
      "text/plain": [
       "         count      mean       std  min       25%       50%       75%  max\n",
       "class                                                                     \n",
       "dga    52665.0  0.219425  0.108766  0.0  0.142857  0.214286  0.285714  0.8\n",
       "legit  81261.0  0.392103  0.095280  0.0  0.333333  0.400000  0.444444  0.9"
      ]
     },
     "execution_count": 76,
     "metadata": {},
     "output_type": "execute_result"
    }
   ],
   "source": [
    "domain_by_class_vowel_ratio_stats_df = data_df[[\"class\", \"domain_vowel_ratio\"]].groupby(\"class\")[\"domain_vowel_ratio\"].describe()\n",
    "domain_by_class_vowel_ratio_stats_df"
   ]
  },
  {
   "cell_type": "markdown",
   "metadata": {
    "colab_type": "text",
    "id": "NjjHoj39fRWE"
   },
   "source": [
    "Given the 75th percentile of `domain_vowel_ratio` for `dga` is less than the 25th percentile for `legit` what is the overlap as a ratio?"
   ]
  },
  {
   "cell_type": "code",
   "execution_count": 77,
   "metadata": {
    "colab": {
     "base_uri": "https://localhost:8080/",
     "height": 34
    },
    "colab_type": "code",
    "id": "nRTccBCmeiAl",
    "outputId": "ae809009-5c94-4136-dbcc-c67a9bb1e7d3"
   },
   "outputs": [
    {
     "data": {
      "text/plain": [
       "0.17640688645229569"
      ]
     },
     "execution_count": 77,
     "metadata": {},
     "output_type": "execute_result"
    }
   ],
   "source": [
    "number_of_dga_domain_vowel_ratio_overlap = len(data_df[(data_df[\"class\"] == \"dga\") & (data_df[\"domain_vowel_ratio\"] >= domain_by_class_vowel_ratio_stats_df.loc[\"dga\"][\"75%\"])])\n",
    "number_of_dga_domain_vowel_ratio_overlap / len(data_df[(data_df[\"class\"] != \"dga\") & (data_df[\"domain_vowel_ratio\"] >= 0)])"
   ]
  },
  {
   "cell_type": "code",
   "execution_count": 78,
   "metadata": {
    "colab": {
     "base_uri": "https://localhost:8080/",
     "height": 308
    },
    "colab_type": "code",
    "id": "3nKa3na2f51Q",
    "outputId": "34f27ec9-3e2f-4817-af5d-72f25138bef1"
   },
   "outputs": [
    {
     "data": {
      "text/plain": [
       "<matplotlib.axes._subplots.AxesSubplot at 0x209124ca710>"
      ]
     },
     "execution_count": 78,
     "metadata": {},
     "output_type": "execute_result"
    },
    {
     "data": {
      "image/png": "[encoded data removed]",
      "text/plain": [
       "<Figure size 432x288 with 1 Axes>"
      ]
     },
     "metadata": {
      "needs_background": "light"
     },
     "output_type": "display_data"
    }
   ],
   "source": [
    "domain_by_class_vowel_ratio_stats_df[domain_by_class_vowel_ratio_stats_df.columns[1:]].plot.bar()"
   ]
  },
  {
   "cell_type": "markdown",
   "metadata": {
    "colab_type": "text",
    "id": "AJBaBB48Wp7q"
   },
   "source": [
    "It would seem that `dga` class domains have fewer vowels in them as a ratio of all other letters.\n",
    "\n",
    "This is potentially a useful feature for distinguishing, as the 25th percentile `domain_vowel_ratio` for `legit` is higher than the 75th percential `domain_vowel_ratio` for `dga`.\n",
    "\n",
    "Although both have a minimum value of zero."
   ]
  },
  {
   "cell_type": "code",
   "execution_count": 79,
   "metadata": {
    "colab": {
     "base_uri": "https://localhost:8080/",
     "height": 204
    },
    "colab_type": "code",
    "id": "ZDXbi5MfW1t3",
    "outputId": "6fe9a7e0-9baa-4618-b35c-3a8b8ea43360"
   },
   "outputs": [
    {
     "data": {
      "text/html": [
       "<div>\n",
       "<style scoped>\n",
       "    .dataframe tbody tr th:only-of-type {\n",
       "        vertical-align: middle;\n",
       "    }\n",
       "\n",
       "    .dataframe tbody tr th {\n",
       "        vertical-align: top;\n",
       "    }\n",
       "\n",
       "    .dataframe thead th {\n",
       "        text-align: right;\n",
       "    }\n",
       "</style>\n",
       "<table border=\"1\" class=\"dataframe\">\n",
       "  <thead>\n",
       "    <tr style=\"text-align: right;\">\n",
       "      <th></th>\n",
       "      <th>host</th>\n",
       "      <th>domain</th>\n",
       "      <th>class</th>\n",
       "      <th>subclass</th>\n",
       "      <th>tld</th>\n",
       "      <th>domain_vowel_count</th>\n",
       "      <th>domain_vowel_ratio</th>\n",
       "    </tr>\n",
       "  </thead>\n",
       "  <tbody>\n",
       "    <tr>\n",
       "      <th>25925</th>\n",
       "      <td>clktrkng.com</td>\n",
       "      <td>clktrkng</td>\n",
       "      <td>legit</td>\n",
       "      <td>legit</td>\n",
       "      <td>com</td>\n",
       "      <td>0</td>\n",
       "      <td>0.0</td>\n",
       "    </tr>\n",
       "    <tr>\n",
       "      <th>18</th>\n",
       "      <td>0594666.com</td>\n",
       "      <td>0594666</td>\n",
       "      <td>legit</td>\n",
       "      <td>legit</td>\n",
       "      <td>com</td>\n",
       "      <td>0</td>\n",
       "      <td>0.0</td>\n",
       "    </tr>\n",
       "    <tr>\n",
       "      <th>28822</th>\n",
       "      <td>ctctcdn.com</td>\n",
       "      <td>ctctcdn</td>\n",
       "      <td>legit</td>\n",
       "      <td>legit</td>\n",
       "      <td>com</td>\n",
       "      <td>0</td>\n",
       "      <td>0.0</td>\n",
       "    </tr>\n",
       "    <tr>\n",
       "      <th>19050</th>\n",
       "      <td>blt17688.com</td>\n",
       "      <td>blt17688</td>\n",
       "      <td>legit</td>\n",
       "      <td>legit</td>\n",
       "      <td>com</td>\n",
       "      <td>0</td>\n",
       "      <td>0.0</td>\n",
       "    </tr>\n",
       "    <tr>\n",
       "      <th>481</th>\n",
       "      <td>12333sh.gov.cn</td>\n",
       "      <td>12333sh</td>\n",
       "      <td>legit</td>\n",
       "      <td>legit</td>\n",
       "      <td>gov.cn</td>\n",
       "      <td>0</td>\n",
       "      <td>0.0</td>\n",
       "    </tr>\n",
       "  </tbody>\n",
       "</table>\n",
       "</div>"
      ],
      "text/plain": [
       "                 host    domain  class subclass     tld  domain_vowel_count  \\\n",
       "25925    clktrkng.com  clktrkng  legit    legit     com                   0   \n",
       "18        0594666.com   0594666  legit    legit     com                   0   \n",
       "28822     ctctcdn.com   ctctcdn  legit    legit     com                   0   \n",
       "19050    blt17688.com  blt17688  legit    legit     com                   0   \n",
       "481    12333sh.gov.cn   12333sh  legit    legit  gov.cn                   0   \n",
       "\n",
       "       domain_vowel_ratio  \n",
       "25925                 0.0  \n",
       "18                    0.0  \n",
       "28822                 0.0  \n",
       "19050                 0.0  \n",
       "481                   0.0  "
      ]
     },
     "execution_count": 79,
     "metadata": {},
     "output_type": "execute_result"
    }
   ],
   "source": [
    "data_df[(data_df[\"domain_vowel_ratio\"] == 0) & (data_df[\"class\"] == \"legit\")].sample(5, random_state = 42)"
   ]
  },
  {
   "cell_type": "code",
   "execution_count": 80,
   "metadata": {
    "colab": {
     "base_uri": "https://localhost:8080/",
     "height": 224
    },
    "colab_type": "code",
    "id": "UUVshCDvXZ0G",
    "outputId": "271039c6-1a34-4abf-f71d-e942b446e860"
   },
   "outputs": [
    {
     "data": {
      "text/html": [
       "<div>\n",
       "<style scoped>\n",
       "    .dataframe tbody tr th:only-of-type {\n",
       "        vertical-align: middle;\n",
       "    }\n",
       "\n",
       "    .dataframe tbody tr th {\n",
       "        vertical-align: top;\n",
       "    }\n",
       "\n",
       "    .dataframe thead th {\n",
       "        text-align: right;\n",
       "    }\n",
       "</style>\n",
       "<table border=\"1\" class=\"dataframe\">\n",
       "  <thead>\n",
       "    <tr style=\"text-align: right;\">\n",
       "      <th></th>\n",
       "      <th>host</th>\n",
       "      <th>domain</th>\n",
       "      <th>class</th>\n",
       "      <th>subclass</th>\n",
       "      <th>tld</th>\n",
       "      <th>domain_vowel_count</th>\n",
       "      <th>domain_vowel_ratio</th>\n",
       "    </tr>\n",
       "  </thead>\n",
       "  <tbody>\n",
       "    <tr>\n",
       "      <th>23930</th>\n",
       "      <td>cgjrrcjmhncsdg.ru</td>\n",
       "      <td>cgjrrcjmhncsdg</td>\n",
       "      <td>dga</td>\n",
       "      <td>cryptolocker</td>\n",
       "      <td>ru</td>\n",
       "      <td>0</td>\n",
       "      <td>0.0</td>\n",
       "    </tr>\n",
       "    <tr>\n",
       "      <th>81955</th>\n",
       "      <td>nnpwfdspvwvpkk.ru</td>\n",
       "      <td>nnpwfdspvwvpkk</td>\n",
       "      <td>dga</td>\n",
       "      <td>cryptolocker</td>\n",
       "      <td>ru</td>\n",
       "      <td>0</td>\n",
       "      <td>0.0</td>\n",
       "    </tr>\n",
       "    <tr>\n",
       "      <th>31572</th>\n",
       "      <td>dgkhdkrdpwnkqh.ru</td>\n",
       "      <td>dgkhdkrdpwnkqh</td>\n",
       "      <td>dga</td>\n",
       "      <td>cryptolocker</td>\n",
       "      <td>ru</td>\n",
       "      <td>0</td>\n",
       "      <td>0.0</td>\n",
       "    </tr>\n",
       "    <tr>\n",
       "      <th>3142</th>\n",
       "      <td>1hb8cs91x80rctvsxtp91ks942n.net</td>\n",
       "      <td>1hb8cs91x80rctvsxtp91ks942n</td>\n",
       "      <td>dga</td>\n",
       "      <td>newgoz</td>\n",
       "      <td>net</td>\n",
       "      <td>0</td>\n",
       "      <td>0.0</td>\n",
       "    </tr>\n",
       "    <tr>\n",
       "      <th>90143</th>\n",
       "      <td>plcsrmvbrpkbs.ru</td>\n",
       "      <td>plcsrmvbrpkbs</td>\n",
       "      <td>dga</td>\n",
       "      <td>cryptolocker</td>\n",
       "      <td>ru</td>\n",
       "      <td>0</td>\n",
       "      <td>0.0</td>\n",
       "    </tr>\n",
       "  </tbody>\n",
       "</table>\n",
       "</div>"
      ],
      "text/plain": [
       "                                  host                       domain class  \\\n",
       "23930                cgjrrcjmhncsdg.ru               cgjrrcjmhncsdg   dga   \n",
       "81955                nnpwfdspvwvpkk.ru               nnpwfdspvwvpkk   dga   \n",
       "31572                dgkhdkrdpwnkqh.ru               dgkhdkrdpwnkqh   dga   \n",
       "3142   1hb8cs91x80rctvsxtp91ks942n.net  1hb8cs91x80rctvsxtp91ks942n   dga   \n",
       "90143                 plcsrmvbrpkbs.ru                plcsrmvbrpkbs   dga   \n",
       "\n",
       "           subclass  tld  domain_vowel_count  domain_vowel_ratio  \n",
       "23930  cryptolocker   ru                   0                 0.0  \n",
       "81955  cryptolocker   ru                   0                 0.0  \n",
       "31572  cryptolocker   ru                   0                 0.0  \n",
       "3142         newgoz  net                   0                 0.0  \n",
       "90143  cryptolocker   ru                   0                 0.0  "
      ]
     },
     "execution_count": 80,
     "metadata": {},
     "output_type": "execute_result"
    }
   ],
   "source": [
    "data_df[(data_df[\"domain_vowel_ratio\"] == 0) & (data_df[\"class\"] != \"legit\")].sample(5, random_state = 42)"
   ]
  },
  {
   "cell_type": "markdown",
   "metadata": {
    "colab_type": "text",
    "id": "t1L1l5M3XLTi"
   },
   "source": [
    "Seems that the `legit` domains that have a zero vowel count tend to have digits in them, whereas the `dga` domains do not.\n",
    "\n",
    "Perhaps a similar measure for digits as a ratio of domain len would be beneficial."
   ]
  },
  {
   "cell_type": "markdown",
   "metadata": {
    "colab_type": "text",
    "id": "CaC19ngjY8Gx"
   },
   "source": [
    "Before we look into digits lets review the high `domain_vowel_ratio` records."
   ]
  },
  {
   "cell_type": "code",
   "execution_count": 81,
   "metadata": {
    "colab": {},
    "colab_type": "code",
    "id": "kL6B93H_c_oA"
   },
   "outputs": [],
   "source": [
    "domain_vowel_ratio_75th_percentile_df = data_df[data_df[\"domain_vowel_ratio\"] >= domain_by_class_vowel_ratio_stats_df[\"75%\"].min()]"
   ]
  },
  {
   "cell_type": "code",
   "execution_count": 82,
   "metadata": {
    "colab": {
     "base_uri": "https://localhost:8080/",
     "height": 204
    },
    "colab_type": "code",
    "id": "JgULZclSXJ_7",
    "outputId": "b428def8-a412-4f93-e890-48c4f3fa13c3"
   },
   "outputs": [
    {
     "data": {
      "text/html": [
       "<div>\n",
       "<style scoped>\n",
       "    .dataframe tbody tr th:only-of-type {\n",
       "        vertical-align: middle;\n",
       "    }\n",
       "\n",
       "    .dataframe tbody tr th {\n",
       "        vertical-align: top;\n",
       "    }\n",
       "\n",
       "    .dataframe thead th {\n",
       "        text-align: right;\n",
       "    }\n",
       "</style>\n",
       "<table border=\"1\" class=\"dataframe\">\n",
       "  <thead>\n",
       "    <tr style=\"text-align: right;\">\n",
       "      <th></th>\n",
       "      <th>host</th>\n",
       "      <th>domain</th>\n",
       "      <th>class</th>\n",
       "      <th>subclass</th>\n",
       "      <th>tld</th>\n",
       "      <th>domain_vowel_count</th>\n",
       "      <th>domain_vowel_ratio</th>\n",
       "    </tr>\n",
       "  </thead>\n",
       "  <tbody>\n",
       "    <tr>\n",
       "      <th>58155</th>\n",
       "      <td>inrixmedia.com</td>\n",
       "      <td>inrixmedia</td>\n",
       "      <td>legit</td>\n",
       "      <td>legit</td>\n",
       "      <td>com</td>\n",
       "      <td>5</td>\n",
       "      <td>0.500000</td>\n",
       "    </tr>\n",
       "    <tr>\n",
       "      <th>55681</th>\n",
       "      <td>iaosfbbjduor.ru</td>\n",
       "      <td>iaosfbbjduor</td>\n",
       "      <td>dga</td>\n",
       "      <td>cryptolocker</td>\n",
       "      <td>ru</td>\n",
       "      <td>5</td>\n",
       "      <td>0.416667</td>\n",
       "    </tr>\n",
       "    <tr>\n",
       "      <th>46101</th>\n",
       "      <td>gameduell.fr</td>\n",
       "      <td>gameduell</td>\n",
       "      <td>legit</td>\n",
       "      <td>legit</td>\n",
       "      <td>fr</td>\n",
       "      <td>4</td>\n",
       "      <td>0.444444</td>\n",
       "    </tr>\n",
       "    <tr>\n",
       "      <th>87534</th>\n",
       "      <td>patoghkade.com</td>\n",
       "      <td>patoghkade</td>\n",
       "      <td>legit</td>\n",
       "      <td>legit</td>\n",
       "      <td>com</td>\n",
       "      <td>4</td>\n",
       "      <td>0.400000</td>\n",
       "    </tr>\n",
       "    <tr>\n",
       "      <th>44644</th>\n",
       "      <td>freewebsiteadd.com</td>\n",
       "      <td>freewebsiteadd</td>\n",
       "      <td>legit</td>\n",
       "      <td>legit</td>\n",
       "      <td>com</td>\n",
       "      <td>6</td>\n",
       "      <td>0.428571</td>\n",
       "    </tr>\n",
       "  </tbody>\n",
       "</table>\n",
       "</div>"
      ],
      "text/plain": [
       "                     host          domain  class      subclass  tld  \\\n",
       "58155      inrixmedia.com      inrixmedia  legit         legit  com   \n",
       "55681     iaosfbbjduor.ru    iaosfbbjduor    dga  cryptolocker   ru   \n",
       "46101        gameduell.fr       gameduell  legit         legit   fr   \n",
       "87534      patoghkade.com      patoghkade  legit         legit  com   \n",
       "44644  freewebsiteadd.com  freewebsiteadd  legit         legit  com   \n",
       "\n",
       "       domain_vowel_count  domain_vowel_ratio  \n",
       "58155                   5            0.500000  \n",
       "55681                   5            0.416667  \n",
       "46101                   4            0.444444  \n",
       "87534                   4            0.400000  \n",
       "44644                   6            0.428571  "
      ]
     },
     "execution_count": 82,
     "metadata": {},
     "output_type": "execute_result"
    }
   ],
   "source": [
    "domain_vowel_ratio_75th_percentile_df.sample(5, random_state = 42)"
   ]
  },
  {
   "cell_type": "code",
   "execution_count": 83,
   "metadata": {
    "colab": {
     "base_uri": "https://localhost:8080/",
     "height": 34
    },
    "colab_type": "code",
    "id": "BOcUsoEKaSVB",
    "outputId": "e28ac008-2aa6-4fb8-a7a1-d39159d55c62"
   },
   "outputs": [
    {
     "data": {
      "text/plain": [
       "0.6515911772172692"
      ]
     },
     "execution_count": 83,
     "metadata": {},
     "output_type": "execute_result"
    }
   ],
   "source": [
    "len(domain_vowel_ratio_75th_percentile_df) / len(data_df)"
   ]
  },
  {
   "cell_type": "code",
   "execution_count": 84,
   "metadata": {
    "colab": {
     "base_uri": "https://localhost:8080/",
     "height": 294
    },
    "colab_type": "code",
    "id": "XKYVCEZBcznE",
    "outputId": "5efd2349-a951-447c-c257-01cded2bc28c"
   },
   "outputs": [
    {
     "data": {
      "text/plain": [
       "<matplotlib.axes._subplots.AxesSubplot at 0x20911edd4e0>"
      ]
     },
     "execution_count": 84,
     "metadata": {},
     "output_type": "execute_result"
    },
    {
     "data": {
      "image/png": "[encoded data removed]",
      "text/plain": [
       "<Figure size 432x288 with 1 Axes>"
      ]
     },
     "metadata": {
      "needs_background": "light"
     },
     "output_type": "display_data"
    }
   ],
   "source": [
    "data_df[data_df[\"domain_vowel_ratio\"] >= domain_by_class_vowel_ratio_stats_df[\"75%\"].min()][\"class\"].value_counts().plot.bar()"
   ]
  },
  {
   "cell_type": "code",
   "execution_count": 85,
   "metadata": {
    "colab": {
     "base_uri": "https://localhost:8080/",
     "height": 204
    },
    "colab_type": "code",
    "id": "J4ftf0K8aHhe",
    "outputId": "b182611d-279e-43ed-e453-371aa5cc189e"
   },
   "outputs": [
    {
     "data": {
      "text/html": [
       "<div>\n",
       "<style scoped>\n",
       "    .dataframe tbody tr th:only-of-type {\n",
       "        vertical-align: middle;\n",
       "    }\n",
       "\n",
       "    .dataframe tbody tr th {\n",
       "        vertical-align: top;\n",
       "    }\n",
       "\n",
       "    .dataframe thead th {\n",
       "        text-align: right;\n",
       "    }\n",
       "</style>\n",
       "<table border=\"1\" class=\"dataframe\">\n",
       "  <thead>\n",
       "    <tr style=\"text-align: right;\">\n",
       "      <th></th>\n",
       "      <th>host</th>\n",
       "      <th>domain</th>\n",
       "      <th>class</th>\n",
       "      <th>subclass</th>\n",
       "      <th>tld</th>\n",
       "      <th>domain_vowel_count</th>\n",
       "      <th>domain_vowel_ratio</th>\n",
       "    </tr>\n",
       "  </thead>\n",
       "  <tbody>\n",
       "    <tr>\n",
       "      <th>132166</th>\n",
       "      <td>youyuan.com</td>\n",
       "      <td>youyuan</td>\n",
       "      <td>legit</td>\n",
       "      <td>legit</td>\n",
       "      <td>com</td>\n",
       "      <td>6</td>\n",
       "      <td>0.857143</td>\n",
       "    </tr>\n",
       "    <tr>\n",
       "      <th>130553</th>\n",
       "      <td>yahooeu.ru</td>\n",
       "      <td>yahooeu</td>\n",
       "      <td>legit</td>\n",
       "      <td>legit</td>\n",
       "      <td>ru</td>\n",
       "      <td>6</td>\n",
       "      <td>0.857143</td>\n",
       "    </tr>\n",
       "    <tr>\n",
       "      <th>7998</th>\n",
       "      <td>aaaauto.cz</td>\n",
       "      <td>aaaauto</td>\n",
       "      <td>legit</td>\n",
       "      <td>legit</td>\n",
       "      <td>cz</td>\n",
       "      <td>6</td>\n",
       "      <td>0.857143</td>\n",
       "    </tr>\n",
       "    <tr>\n",
       "      <th>86254</th>\n",
       "      <td>ouyaoxiazai.com</td>\n",
       "      <td>ouyaoxiazai</td>\n",
       "      <td>legit</td>\n",
       "      <td>legit</td>\n",
       "      <td>com</td>\n",
       "      <td>9</td>\n",
       "      <td>0.818182</td>\n",
       "    </tr>\n",
       "    <tr>\n",
       "      <th>42306</th>\n",
       "      <td>fiyeoyoeuijayag.ru</td>\n",
       "      <td>fiyeoyoeuijayag</td>\n",
       "      <td>dga</td>\n",
       "      <td>cryptolocker</td>\n",
       "      <td>ru</td>\n",
       "      <td>12</td>\n",
       "      <td>0.800000</td>\n",
       "    </tr>\n",
       "  </tbody>\n",
       "</table>\n",
       "</div>"
      ],
      "text/plain": [
       "                      host           domain  class      subclass  tld  \\\n",
       "132166         youyuan.com          youyuan  legit         legit  com   \n",
       "130553          yahooeu.ru          yahooeu  legit         legit   ru   \n",
       "7998            aaaauto.cz          aaaauto  legit         legit   cz   \n",
       "86254      ouyaoxiazai.com      ouyaoxiazai  legit         legit  com   \n",
       "42306   fiyeoyoeuijayag.ru  fiyeoyoeuijayag    dga  cryptolocker   ru   \n",
       "\n",
       "        domain_vowel_count  domain_vowel_ratio  \n",
       "132166                   6            0.857143  \n",
       "130553                   6            0.857143  \n",
       "7998                     6            0.857143  \n",
       "86254                    9            0.818182  \n",
       "42306                   12            0.800000  "
      ]
     },
     "execution_count": 85,
     "metadata": {},
     "output_type": "execute_result"
    }
   ],
   "source": [
    "data_df[data_df[\"domain_vowel_ratio\"] >= domain_by_class_vowel_ratio_stats_df[\"max\"].min()].sample(5, random_state = 42)"
   ]
  },
  {
   "cell_type": "markdown",
   "metadata": {
    "colab_type": "text",
    "id": "x8UpcuM2Y7Qu"
   },
   "source": [
    "Looking at the above a potential alternative would be to calculate the ratios based on distinct character counts."
   ]
  },
  {
   "cell_type": "code",
   "execution_count": 86,
   "metadata": {
    "colab": {
     "base_uri": "https://localhost:8080/",
     "height": 204
    },
    "colab_type": "code",
    "id": "AWie2TQnaaEU",
    "outputId": "0ebd6e4d-5f8f-42ad-dbd4-4325897904a7"
   },
   "outputs": [
    {
     "data": {
      "text/html": [
       "<div>\n",
       "<style scoped>\n",
       "    .dataframe tbody tr th:only-of-type {\n",
       "        vertical-align: middle;\n",
       "    }\n",
       "\n",
       "    .dataframe tbody tr th {\n",
       "        vertical-align: top;\n",
       "    }\n",
       "\n",
       "    .dataframe thead th {\n",
       "        text-align: right;\n",
       "    }\n",
       "</style>\n",
       "<table border=\"1\" class=\"dataframe\">\n",
       "  <thead>\n",
       "    <tr style=\"text-align: right;\">\n",
       "      <th></th>\n",
       "      <th>domain</th>\n",
       "      <th>domain_distinct</th>\n",
       "    </tr>\n",
       "  </thead>\n",
       "  <tbody>\n",
       "    <tr>\n",
       "      <th>0</th>\n",
       "      <td>000directory</td>\n",
       "      <td>riyect0do</td>\n",
       "    </tr>\n",
       "    <tr>\n",
       "      <th>1</th>\n",
       "      <td>000webhost</td>\n",
       "      <td>bshet0ow</td>\n",
       "    </tr>\n",
       "    <tr>\n",
       "      <th>2</th>\n",
       "      <td>001fans</td>\n",
       "      <td>1sfn0a</td>\n",
       "    </tr>\n",
       "    <tr>\n",
       "      <th>3</th>\n",
       "      <td>01-telecharger</td>\n",
       "      <td>1rghect0l-a</td>\n",
       "    </tr>\n",
       "    <tr>\n",
       "      <th>4</th>\n",
       "      <td>010shangpu</td>\n",
       "      <td>1sghnu0ap</td>\n",
       "    </tr>\n",
       "  </tbody>\n",
       "</table>\n",
       "</div>"
      ],
      "text/plain": [
       "           domain domain_distinct\n",
       "0    000directory       riyect0do\n",
       "1      000webhost        bshet0ow\n",
       "2         001fans          1sfn0a\n",
       "3  01-telecharger     1rghect0l-a\n",
       "4      010shangpu       1sghnu0ap"
      ]
     },
     "execution_count": 86,
     "metadata": {},
     "output_type": "execute_result"
    }
   ],
   "source": [
    "data_df[\"domain_distinct\"] = data_df[\"domain\"].apply(lambda x: ''.join(set(x)))\n",
    "data_df[[\"domain\", \"domain_distinct\"]].head()"
   ]
  },
  {
   "cell_type": "code",
   "execution_count": 87,
   "metadata": {
    "colab": {},
    "colab_type": "code",
    "id": "uoONAJy5dtUe"
   },
   "outputs": [],
   "source": [
    "data_df[\"domain_distinct_vowel_count\"] = data_df[\"domain_distinct\"].apply(lambda x: len([w for w in x if w in vowels]))\n",
    "data_df[\"domain_distinct_vowel_ratio\"] = data_df[\"domain_distinct_vowel_count\"] / data_df[\"domain_distinct\"].apply(len)"
   ]
  },
  {
   "cell_type": "markdown",
   "metadata": {
    "colab_type": "text",
    "id": "ZwiSYXKngI-F"
   },
   "source": [
    "Lets look at the overlap again"
   ]
  },
  {
   "cell_type": "code",
   "execution_count": 88,
   "metadata": {
    "colab": {
     "base_uri": "https://localhost:8080/",
     "height": 333
    },
    "colab_type": "code",
    "id": "pS_sCH_odt_y",
    "outputId": "0302deb0-e4f9-4f98-bb18-8fd6d518f8ef"
   },
   "outputs": [
    {
     "data": {
      "text/plain": [
       "class\n",
       "dga      AxesSubplot(0.125,0.125;0.775x0.755)\n",
       "legit    AxesSubplot(0.125,0.125;0.775x0.755)\n",
       "Name: domain_distinct_vowel_ratio, dtype: object"
      ]
     },
     "execution_count": 88,
     "metadata": {},
     "output_type": "execute_result"
    },
    {
     "data": {
      "image/png": "[encoded data removed]",
      "text/plain": [
       "<Figure size 432x288 with 1 Axes>"
      ]
     },
     "metadata": {
      "needs_background": "light"
     },
     "output_type": "display_data"
    }
   ],
   "source": [
    "data_df[[\"class\", \"domain_distinct_vowel_ratio\"]].groupby(\"class\")[\"domain_distinct_vowel_ratio\"].plot.kde(legend = True)"
   ]
  },
  {
   "cell_type": "code",
   "execution_count": 89,
   "metadata": {
    "colab": {
     "base_uri": "https://localhost:8080/",
     "height": 142
    },
    "colab_type": "code",
    "id": "Ni_AY0lha1uK",
    "outputId": "0e45674a-4e66-4a0f-965d-d91da35c6920"
   },
   "outputs": [
    {
     "data": {
      "text/html": [
       "<div>\n",
       "<style scoped>\n",
       "    .dataframe tbody tr th:only-of-type {\n",
       "        vertical-align: middle;\n",
       "    }\n",
       "\n",
       "    .dataframe tbody tr th {\n",
       "        vertical-align: top;\n",
       "    }\n",
       "\n",
       "    .dataframe thead th {\n",
       "        text-align: right;\n",
       "    }\n",
       "</style>\n",
       "<table border=\"1\" class=\"dataframe\">\n",
       "  <thead>\n",
       "    <tr style=\"text-align: right;\">\n",
       "      <th></th>\n",
       "      <th>count</th>\n",
       "      <th>mean</th>\n",
       "      <th>std</th>\n",
       "      <th>min</th>\n",
       "      <th>25%</th>\n",
       "      <th>50%</th>\n",
       "      <th>75%</th>\n",
       "      <th>max</th>\n",
       "    </tr>\n",
       "    <tr>\n",
       "      <th>class</th>\n",
       "      <th></th>\n",
       "      <th></th>\n",
       "      <th></th>\n",
       "      <th></th>\n",
       "      <th></th>\n",
       "      <th></th>\n",
       "      <th></th>\n",
       "      <th></th>\n",
       "    </tr>\n",
       "  </thead>\n",
       "  <tbody>\n",
       "    <tr>\n",
       "      <th>dga</th>\n",
       "      <td>52665.0</td>\n",
       "      <td>0.221543</td>\n",
       "      <td>0.096206</td>\n",
       "      <td>0.0</td>\n",
       "      <td>0.166667</td>\n",
       "      <td>0.214286</td>\n",
       "      <td>0.277778</td>\n",
       "      <td>0.666667</td>\n",
       "    </tr>\n",
       "    <tr>\n",
       "      <th>legit</th>\n",
       "      <td>81261.0</td>\n",
       "      <td>0.358638</td>\n",
       "      <td>0.097000</td>\n",
       "      <td>0.0</td>\n",
       "      <td>0.285714</td>\n",
       "      <td>0.357143</td>\n",
       "      <td>0.428571</td>\n",
       "      <td>0.833333</td>\n",
       "    </tr>\n",
       "  </tbody>\n",
       "</table>\n",
       "</div>"
      ],
      "text/plain": [
       "         count      mean       std  min       25%       50%       75%  \\\n",
       "class                                                                   \n",
       "dga    52665.0  0.221543  0.096206  0.0  0.166667  0.214286  0.277778   \n",
       "legit  81261.0  0.358638  0.097000  0.0  0.285714  0.357143  0.428571   \n",
       "\n",
       "            max  \n",
       "class            \n",
       "dga    0.666667  \n",
       "legit  0.833333  "
      ]
     },
     "execution_count": 89,
     "metadata": {},
     "output_type": "execute_result"
    }
   ],
   "source": [
    "domain_distinct_vowel_ratio_stats_df = data_df[[\"class\", \"domain_distinct_vowel_ratio\"]].groupby(\"class\")[\"domain_distinct_vowel_ratio\"].describe()\n",
    "domain_distinct_vowel_ratio_stats_df"
   ]
  },
  {
   "cell_type": "code",
   "execution_count": 90,
   "metadata": {
    "colab": {
     "base_uri": "https://localhost:8080/",
     "height": 34
    },
    "colab_type": "code",
    "id": "G-5RrZhbgPDB",
    "outputId": "95704f13-6fce-4252-965b-d9fdd970a919"
   },
   "outputs": [
    {
     "data": {
      "text/plain": [
       "0.1596829967635151"
      ]
     },
     "execution_count": 90,
     "metadata": {},
     "output_type": "execute_result"
    }
   ],
   "source": [
    "number_of_dga_domain_distinct_vowel_ratio_overlap = len(data_df[(data_df[\"class\"] == \"dga\") & (data_df[\"domain_distinct_vowel_ratio\"] >= domain_by_class_vowel_ratio_stats_df.loc[\"dga\"][\"75%\"])])\n",
    "number_of_dga_domain_distinct_vowel_ratio_overlap / len(data_df)\n",
    "number_of_dga_domain_distinct_vowel_ratio_overlap / len(data_df[(data_df[\"class\"] != \"dga\") & (data_df[\"domain_vowel_ratio\"] >= 0)])"
   ]
  },
  {
   "cell_type": "markdown",
   "metadata": {
    "colab_type": "text",
    "id": "bOXmT2W3gvYL"
   },
   "source": [
    "It would seem we've reduced the overlap by ~ 2 percent for `dga` records having a `domain_distinct_vowel_ratio` above the 75th percentile overlapping with `legit` records."
   ]
  },
  {
   "cell_type": "code",
   "execution_count": 91,
   "metadata": {
    "colab": {
     "base_uri": "https://localhost:8080/",
     "height": 308
    },
    "colab_type": "code",
    "id": "ijMsoHPqbUUU",
    "outputId": "b8c44e65-31f0-4f73-a643-0a17aa7c3bfe"
   },
   "outputs": [
    {
     "data": {
      "text/plain": [
       "<matplotlib.axes._subplots.AxesSubplot at 0x209060cab38>"
      ]
     },
     "execution_count": 91,
     "metadata": {},
     "output_type": "execute_result"
    },
    {
     "data": {
      "image/png": "[encoded data removed]",
      "text/plain": [
       "<Figure size 432x288 with 1 Axes>"
      ]
     },
     "metadata": {
      "needs_background": "light"
     },
     "output_type": "display_data"
    }
   ],
   "source": [
    "domain_distinct_vowel_ratio_stats_df[domain_distinct_vowel_ratio_stats_df.columns[1:]].plot.bar()"
   ]
  },
  {
   "cell_type": "markdown",
   "metadata": {
    "colab_type": "text",
    "id": "VI9KUXQfiXbC"
   },
   "source": [
    "### Observations on Vowel Ratios\n",
    "\n",
    "* Vowel Ratios have some discriminatory value between the `class` values.\n",
    "* Vowlel Ratios that are calculated on the distinct character counts provide a nominal improvement."
   ]
  },
  {
   "cell_type": "markdown",
   "metadata": {
    "colab_type": "text",
    "id": "fUKOfwfaiwKn"
   },
   "source": [
    "## Digits\n",
    "\n",
    "As we saw during Vowel Ratio analysis domains with a low to zero vowel count tended to have numbers present.\n",
    "\n",
    "Let's generate similar measures for the counts of digits present."
   ]
  },
  {
   "cell_type": "code",
   "execution_count": 92,
   "metadata": {
    "colab": {},
    "colab_type": "code",
    "id": "5RIjlD1bjRj4"
   },
   "outputs": [],
   "source": [
    "digits = [\"0\",\"1\",\"2\",\"3\",\"4\",\"5\",\"6\",\"7\",\"8\",\"9\"]"
   ]
  },
  {
   "cell_type": "code",
   "execution_count": 93,
   "metadata": {
    "colab": {},
    "colab_type": "code",
    "id": "nJXfJGQtjCJZ"
   },
   "outputs": [],
   "source": [
    "data_df[\"digit_count\"] = domain_letter_split.apply(lambda x: len([w for w in x if w in digits]))"
   ]
  },
  {
   "cell_type": "code",
   "execution_count": 94,
   "metadata": {
    "colab": {
     "base_uri": "https://localhost:8080/",
     "height": 170
    },
    "colab_type": "code",
    "id": "ZjluDkQ-jZgP",
    "outputId": "83d2079d-f505-44ec-a16a-68bcdb1e7f88"
   },
   "outputs": [
    {
     "data": {
      "text/plain": [
       "count    133926.000000\n",
       "mean          0.759136\n",
       "std           2.466659\n",
       "min           0.000000\n",
       "25%           0.000000\n",
       "50%           0.000000\n",
       "75%           0.000000\n",
       "max          21.000000\n",
       "Name: digit_count, dtype: float64"
      ]
     },
     "execution_count": 94,
     "metadata": {},
     "output_type": "execute_result"
    }
   ],
   "source": [
    "data_df[\"digit_count\"].describe()"
   ]
  },
  {
   "cell_type": "code",
   "execution_count": 95,
   "metadata": {
    "colab": {
     "base_uri": "https://localhost:8080/",
     "height": 333
    },
    "colab_type": "code",
    "id": "W8J93SyejfhZ",
    "outputId": "0799f917-5355-4844-a003-8cc133a29d24"
   },
   "outputs": [
    {
     "data": {
      "text/plain": [
       "class\n",
       "dga      AxesSubplot(0.125,0.125;0.775x0.755)\n",
       "legit    AxesSubplot(0.125,0.125;0.775x0.755)\n",
       "Name: digit_count, dtype: object"
      ]
     },
     "execution_count": 95,
     "metadata": {},
     "output_type": "execute_result"
    },
    {
     "data": {
      "image/png": "[encoded data removed]",
      "text/plain": [
       "<Figure size 432x288 with 1 Axes>"
      ]
     },
     "metadata": {
      "needs_background": "light"
     },
     "output_type": "display_data"
    }
   ],
   "source": [
    "data_df[[\"class\", \"digit_count\"]].groupby(\"class\")[\"digit_count\"].plot.kde(legend = True)"
   ]
  },
  {
   "cell_type": "markdown",
   "metadata": {
    "colab_type": "text",
    "id": "Y84qRvVPkBYh"
   },
   "source": [
    "That's a bit difficult to read, let's limit it to just the records where `domain_vowel_ratio` is zero."
   ]
  },
  {
   "cell_type": "code",
   "execution_count": 96,
   "metadata": {
    "colab": {
     "base_uri": "https://localhost:8080/",
     "height": 333
    },
    "colab_type": "code",
    "id": "4JnOCbqljucx",
    "outputId": "b74d2eba-2746-4353-b09e-361b5accde9a"
   },
   "outputs": [
    {
     "data": {
      "text/plain": [
       "class\n",
       "dga      AxesSubplot(0.125,0.125;0.775x0.755)\n",
       "legit    AxesSubplot(0.125,0.125;0.775x0.755)\n",
       "Name: digit_count, dtype: object"
      ]
     },
     "execution_count": 96,
     "metadata": {},
     "output_type": "execute_result"
    },
    {
     "data": {
      "image/png": "[encoded data removed]",
      "text/plain": [
       "<Figure size 432x288 with 1 Axes>"
      ]
     },
     "metadata": {
      "needs_background": "light"
     },
     "output_type": "display_data"
    }
   ],
   "source": [
    "data_df[(data_df[\"domain_vowel_ratio\"] == 0)][[\"class\", \"digit_count\"]].groupby(\"class\")[\"digit_count\"].plot.kde(legend = True)"
   ]
  },
  {
   "cell_type": "markdown",
   "metadata": {
    "colab_type": "text",
    "id": "jd1m8LjHKLTU"
   },
   "source": [
    "Based on the above, further exploration of ratios and distinctness is unlikely to yield a better boundary between our classes."
   ]
  },
  {
   "cell_type": "markdown",
   "metadata": {
    "colab_type": "text",
    "id": "qnuqhfVe2RlD"
   },
   "source": [
    "## Observations on Digits\n",
    "\n",
    "There is some discriminating value in counting the number of digits, in that where the `vowel_ratio` is zero non legit domains have an increased likelyhood of having a zero `digit_count`."
   ]
  },
  {
   "cell_type": "markdown",
   "metadata": {
    "colab_type": "text",
    "id": "obcFQ5oRnPgJ"
   },
   "source": [
    "## Vowel Distances\n",
    "\n",
    "Another hallmark of words that are sensible to humans is the distance between vowel characters."
   ]
  },
  {
   "cell_type": "code",
   "execution_count": 97,
   "metadata": {
    "colab": {
     "base_uri": "https://localhost:8080/",
     "height": 204
    },
    "colab_type": "code",
    "id": "H1-Fmzsdn0j4",
    "outputId": "121682ae-c957-4307-88fc-8160658f4710"
   },
   "outputs": [
    {
     "data": {
      "text/html": [
       "<div>\n",
       "<style scoped>\n",
       "    .dataframe tbody tr th:only-of-type {\n",
       "        vertical-align: middle;\n",
       "    }\n",
       "\n",
       "    .dataframe tbody tr th {\n",
       "        vertical-align: top;\n",
       "    }\n",
       "\n",
       "    .dataframe thead th {\n",
       "        text-align: right;\n",
       "    }\n",
       "</style>\n",
       "<table border=\"1\" class=\"dataframe\">\n",
       "  <thead>\n",
       "    <tr style=\"text-align: right;\">\n",
       "      <th></th>\n",
       "      <th>domain</th>\n",
       "    </tr>\n",
       "  </thead>\n",
       "  <tbody>\n",
       "    <tr>\n",
       "      <th>92284</th>\n",
       "      <td>prof-klub</td>\n",
       "    </tr>\n",
       "    <tr>\n",
       "      <th>91705</th>\n",
       "      <td>preguntados</td>\n",
       "    </tr>\n",
       "    <tr>\n",
       "      <th>51166</th>\n",
       "      <td>hanselman</td>\n",
       "    </tr>\n",
       "    <tr>\n",
       "      <th>35432</th>\n",
       "      <td>earnparttimejobs</td>\n",
       "    </tr>\n",
       "    <tr>\n",
       "      <th>25817</th>\n",
       "      <td>clickthecity</td>\n",
       "    </tr>\n",
       "  </tbody>\n",
       "</table>\n",
       "</div>"
      ],
      "text/plain": [
       "                 domain\n",
       "92284         prof-klub\n",
       "91705       preguntados\n",
       "51166         hanselman\n",
       "35432  earnparttimejobs\n",
       "25817      clickthecity"
      ]
     },
     "execution_count": 97,
     "metadata": {},
     "output_type": "execute_result"
    }
   ],
   "source": [
    "data_df[data_df[\"class\"] == \"legit\"][[\"domain\"]].sample(5, random_state=6)"
   ]
  },
  {
   "cell_type": "code",
   "execution_count": 98,
   "metadata": {
    "colab": {
     "base_uri": "https://localhost:8080/",
     "height": 204
    },
    "colab_type": "code",
    "id": "OVg6qg2zo-4M",
    "outputId": "753cc46b-6055-4c82-898a-322a2823d798"
   },
   "outputs": [
    {
     "data": {
      "text/html": [
       "<div>\n",
       "<style scoped>\n",
       "    .dataframe tbody tr th:only-of-type {\n",
       "        vertical-align: middle;\n",
       "    }\n",
       "\n",
       "    .dataframe tbody tr th {\n",
       "        vertical-align: top;\n",
       "    }\n",
       "\n",
       "    .dataframe thead th {\n",
       "        text-align: right;\n",
       "    }\n",
       "</style>\n",
       "<table border=\"1\" class=\"dataframe\">\n",
       "  <thead>\n",
       "    <tr style=\"text-align: right;\">\n",
       "      <th></th>\n",
       "      <th>domain</th>\n",
       "    </tr>\n",
       "  </thead>\n",
       "  <tbody>\n",
       "    <tr>\n",
       "      <th>29342</th>\n",
       "      <td>cxccqpkrjieafcd</td>\n",
       "    </tr>\n",
       "    <tr>\n",
       "      <th>1108</th>\n",
       "      <td>15g8f6p19cd8h01gar4ueu39g0c</td>\n",
       "    </tr>\n",
       "    <tr>\n",
       "      <th>123240</th>\n",
       "      <td>vvhakmoabppjlku</td>\n",
       "    </tr>\n",
       "    <tr>\n",
       "      <th>79389</th>\n",
       "      <td>n0wkjoqhy1r9xby98i1buvwne</td>\n",
       "    </tr>\n",
       "    <tr>\n",
       "      <th>113764</th>\n",
       "      <td>todairobmamciukjnbheqhce</td>\n",
       "    </tr>\n",
       "  </tbody>\n",
       "</table>\n",
       "</div>"
      ],
      "text/plain": [
       "                             domain\n",
       "29342               cxccqpkrjieafcd\n",
       "1108    15g8f6p19cd8h01gar4ueu39g0c\n",
       "123240              vvhakmoabppjlku\n",
       "79389     n0wkjoqhy1r9xby98i1buvwne\n",
       "113764     todairobmamciukjnbheqhce"
      ]
     },
     "execution_count": 98,
     "metadata": {},
     "output_type": "execute_result"
    }
   ],
   "source": [
    "data_df[data_df[\"class\"] == \"dga\"][[\"domain\"]].sample(5, random_state=6)"
   ]
  },
  {
   "cell_type": "markdown",
   "metadata": {
    "colab_type": "text",
    "id": "5tG7J6w2pHU6"
   },
   "source": [
    "Simply eyeballing the data above we can see that in some cases of `dga` records the occurances of vowels is more sparse.\n",
    "\n",
    "If we construct a measure of this sparsity it may be heplful in distinguishing between the classes. Additionally we'll measure the distances as if we are reading left to right, this does mean that non left to right languages will be penalised."
   ]
  },
  {
   "cell_type": "code",
   "execution_count": 99,
   "metadata": {
    "colab": {},
    "colab_type": "code",
    "id": "QCCl3dUTpi7Z"
   },
   "outputs": [],
   "source": [
    "from typing import List, Callable\n",
    "from numbers import Number\n",
    "from scipy.stats import mode\n",
    "import numpy as np\n",
    "import pandas as pd\n",
    "\n",
    "\n",
    "def character_distance_left_right(text: str, ords_to_search_for: List[int]) -> np.array:\n",
    "    if len(text) == 0:\n",
    "        raise ValueError(\"Must pass in valid value for `text`\")\n",
    "\n",
    "    if len(ords_to_search_for) == 0:\n",
    "        raise ValueError(\"Must pass in valid value for `ords_to_search_for`\")\n",
    "\n",
    "    if not(all([isinstance(x, Number) for x in ords_to_search_for])):\n",
    "        raise TypeError(\"Invalid data type in `ords_to_search_for` expected Number\")\n",
    "\n",
    "    ord_text = np.array([ord(x) for x in text])\n",
    "\n",
    "    match_indexes = np.argwhere(np.isin(ord_text, ords_to_search_for)).flatten()\n",
    "\n",
    "    if match_indexes.size == 0:\n",
    "        return np.array(len(text))\n",
    "\n",
    "    it = np.nditer(ord_text, flags=['f_index'])\n",
    "    last_vowel_index = 0\n",
    "\n",
    "    result = list()\n",
    "    while not it.finished:\n",
    "        result_matches = match_indexes - it.index\n",
    "        forward_matches = result_matches[result_matches >= 0]\n",
    "\n",
    "        if forward_matches.size > 0:\n",
    "            result.append(forward_matches.min())\n",
    "            last_vowel_index = it.index\n",
    "        else:\n",
    "            result.append(it.index - last_vowel_index)\n",
    "\n",
    "        it.iternext()\n",
    "\n",
    "    return np.array(result)\n",
    "\n",
    "\n",
    "def vowel_distance_left_right_in_column(series: pd.Series, distance_function: Callable) -> pd.Series:\n",
    "    if not isinstance(distance_function, Callable):\n",
    "        raise TypeError(\"`distance_function` must be callable\")\n",
    "\n",
    "    vowel_ords = [ord(x) for x in [\"a\", \"e\", \"i\", \"o\", \"u\", \"y\"]]\n",
    "\n",
    "    column_len = series.astype(str).apply(len)\n",
    "    search_for_ords_distances = series.astype(str).apply(lambda x: character_distance_left_right(x, vowel_ords))\n",
    "    search_for_ords_distances = search_for_ords_distances.apply(distance_function) / column_len\n",
    "    search_for_ords_distances = search_for_ords_distances.clip(upper = 1.0)\n",
    "    search_for_ords_distances = search_for_ords_distances.fillna(1.0)\n",
    "\n",
    "    return search_for_ords_distances\n",
    "\n",
    "\n",
    "def vowel_mode_distance_left_right_in_column(series: pd.Series) -> pd.Series:\n",
    "\n",
    "    def get_mode(x: np.array) -> np.float64:\n",
    "        result = mode(x)\n",
    "\n",
    "        if result[1][0] > 1:\n",
    "            return mode(x)[0][0]\n",
    "        else:\n",
    "            # there was no identifiable mode return np.nan\n",
    "            return np.nan\n",
    "\n",
    "    return vowel_distance_left_right_in_column(series, get_mode)\n"
   ]
  },
  {
   "cell_type": "code",
   "execution_count": 100,
   "metadata": {
    "colab": {
     "base_uri": "https://localhost:8080/",
     "height": 34
    },
    "colab_type": "code",
    "id": "Nf6z3lddM1ld",
    "outputId": "58085c86-44f4-4b3a-d29f-e70d7ca38c77"
   },
   "outputs": [
    {
     "data": {
      "text/plain": [
       "array([1, 0, 2, 1, 0], dtype=int64)"
      ]
     },
     "execution_count": 100,
     "metadata": {},
     "output_type": "execute_result"
    }
   ],
   "source": [
    "character_distance_left_right(\"hello\", [ord(x) for x in [\"e\",\"o\"]])"
   ]
  },
  {
   "cell_type": "code",
   "execution_count": 101,
   "metadata": {
    "colab": {
     "base_uri": "https://localhost:8080/",
     "height": 34
    },
    "colab_type": "code",
    "id": "HzlK3Te9bKys",
    "outputId": "7dcda2b1-3164-40fb-aec7-12a674151062"
   },
   "outputs": [
    {
     "data": {
      "text/plain": [
       "array([1, 0, 1, 2, 3], dtype=int64)"
      ]
     },
     "execution_count": 101,
     "metadata": {},
     "output_type": "execute_result"
    }
   ],
   "source": [
    "character_distance_left_right(\"hello\", [ord(x) for x in [\"e\"]])"
   ]
  },
  {
   "cell_type": "code",
   "execution_count": 102,
   "metadata": {
    "colab": {
     "base_uri": "https://localhost:8080/",
     "height": 34
    },
    "colab_type": "code",
    "id": "CaRdnGiQ5yco",
    "outputId": "010b2fa7-235b-4f35-d60e-e571fa19a75c"
   },
   "outputs": [
    {
     "data": {
      "text/plain": [
       "array([8, 7, 6, 5, 4, 3, 2, 1, 0], dtype=int64)"
      ]
     },
     "execution_count": 102,
     "metadata": {},
     "output_type": "execute_result"
    }
   ],
   "source": [
    "character_distance_left_right(\"zzzzzzzze\", [ord(x) for x in [\"e\"]])"
   ]
  },
  {
   "cell_type": "code",
   "execution_count": 103,
   "metadata": {
    "colab": {
     "base_uri": "https://localhost:8080/",
     "height": 34
    },
    "colab_type": "code",
    "id": "OQi8coWNm-AD",
    "outputId": "d1014687-a5f6-4c32-b982-76edd726151d"
   },
   "outputs": [
    {
     "data": {
      "text/plain": [
       "array([0, 1, 2, 3, 4, 5, 6, 7, 8], dtype=int64)"
      ]
     },
     "execution_count": 103,
     "metadata": {},
     "output_type": "execute_result"
    }
   ],
   "source": [
    "character_distance_left_right(\"ezzzzzzzz\", [ord(x) for x in [\"e\"]])"
   ]
  },
  {
   "cell_type": "code",
   "execution_count": 104,
   "metadata": {
    "colab": {},
    "colab_type": "code",
    "id": "Q_uMmWLdpp7I"
   },
   "outputs": [],
   "source": [
    "def search_for_ords_distances(df, column, search_for, label):\n",
    "    result_df = df[[\"class\"]].copy()\n",
    "    search_for_ords = [ord(x) for x in search_for ]\n",
    "    \n",
    "    col_lengths = df[column].apply(len)\n",
    "\n",
    "    result_df[f\"{column}_{label}_distance_mean_ratio\"] = vowel_distance_left_right_in_column(df[column], np.mean)\n",
    "    result_df[f\"{column}_{label}_distance_std_ratio\"] = vowel_distance_left_right_in_column(df[column], np.std)\n",
    "    result_df[f\"{column}_{label}_distance_max_ratio\"] = vowel_distance_left_right_in_column(df[column], np.max)\n",
    "    result_df[f\"{column}_{label}_distance_min_ratio\"] = vowel_distance_left_right_in_column(df[column], np.min)\n",
    "    result_df[f\"{column}_{label}_distance_median_ratio\"] = vowel_distance_left_right_in_column(df[column], np.median)\n",
    "    result_df[f\"{column}_{label}_distance_mode_ratio\"] = vowel_mode_distance_left_right_in_column(df[column])\n",
    "    \n",
    "    return result_df"
   ]
  },
  {
   "cell_type": "code",
   "execution_count": 105,
   "metadata": {
    "colab": {},
    "colab_type": "code",
    "id": "dDZLj-ivqS2t"
   },
   "outputs": [],
   "source": [
    "distances_df = search_for_ords_distances(data_df, \"domain\", [\"a\",\"e\", \"i\", \"o\", \"u\"], \"vowel\")"
   ]
  },
  {
   "cell_type": "code",
   "execution_count": 106,
   "metadata": {
    "colab": {
     "base_uri": "https://localhost:8080/",
     "height": 224
    },
    "colab_type": "code",
    "id": "SgMUorq7x-LX",
    "outputId": "e741d74f-72a0-4109-f3d8-177d98f6b652"
   },
   "outputs": [
    {
     "data": {
      "text/html": [
       "<div>\n",
       "<style scoped>\n",
       "    .dataframe tbody tr th:only-of-type {\n",
       "        vertical-align: middle;\n",
       "    }\n",
       "\n",
       "    .dataframe tbody tr th {\n",
       "        vertical-align: top;\n",
       "    }\n",
       "\n",
       "    .dataframe thead th {\n",
       "        text-align: right;\n",
       "    }\n",
       "</style>\n",
       "<table border=\"1\" class=\"dataframe\">\n",
       "  <thead>\n",
       "    <tr style=\"text-align: right;\">\n",
       "      <th></th>\n",
       "      <th>class</th>\n",
       "      <th>domain_vowel_distance_mean_ratio</th>\n",
       "      <th>domain_vowel_distance_std_ratio</th>\n",
       "      <th>domain_vowel_distance_max_ratio</th>\n",
       "      <th>domain_vowel_distance_min_ratio</th>\n",
       "      <th>domain_vowel_distance_median_ratio</th>\n",
       "      <th>domain_vowel_distance_mode_ratio</th>\n",
       "    </tr>\n",
       "  </thead>\n",
       "  <tbody>\n",
       "    <tr>\n",
       "      <th>0</th>\n",
       "      <td>legit</td>\n",
       "      <td>0.104167</td>\n",
       "      <td>0.102768</td>\n",
       "      <td>0.333333</td>\n",
       "      <td>0.0</td>\n",
       "      <td>0.083333</td>\n",
       "      <td>0.000000</td>\n",
       "    </tr>\n",
       "    <tr>\n",
       "      <th>1</th>\n",
       "      <td>legit</td>\n",
       "      <td>0.160000</td>\n",
       "      <td>0.120000</td>\n",
       "      <td>0.400000</td>\n",
       "      <td>0.0</td>\n",
       "      <td>0.150000</td>\n",
       "      <td>0.100000</td>\n",
       "    </tr>\n",
       "    <tr>\n",
       "      <th>2</th>\n",
       "      <td>legit</td>\n",
       "      <td>0.265306</td>\n",
       "      <td>0.177914</td>\n",
       "      <td>0.571429</td>\n",
       "      <td>0.0</td>\n",
       "      <td>0.285714</td>\n",
       "      <td>0.142857</td>\n",
       "    </tr>\n",
       "    <tr>\n",
       "      <th>3</th>\n",
       "      <td>legit</td>\n",
       "      <td>0.091837</td>\n",
       "      <td>0.082898</td>\n",
       "      <td>0.285714</td>\n",
       "      <td>0.0</td>\n",
       "      <td>0.071429</td>\n",
       "      <td>0.071429</td>\n",
       "    </tr>\n",
       "    <tr>\n",
       "      <th>4</th>\n",
       "      <td>legit</td>\n",
       "      <td>0.210000</td>\n",
       "      <td>0.157797</td>\n",
       "      <td>0.500000</td>\n",
       "      <td>0.0</td>\n",
       "      <td>0.200000</td>\n",
       "      <td>0.000000</td>\n",
       "    </tr>\n",
       "  </tbody>\n",
       "</table>\n",
       "</div>"
      ],
      "text/plain": [
       "   class  domain_vowel_distance_mean_ratio  domain_vowel_distance_std_ratio  \\\n",
       "0  legit                          0.104167                         0.102768   \n",
       "1  legit                          0.160000                         0.120000   \n",
       "2  legit                          0.265306                         0.177914   \n",
       "3  legit                          0.091837                         0.082898   \n",
       "4  legit                          0.210000                         0.157797   \n",
       "\n",
       "   domain_vowel_distance_max_ratio  domain_vowel_distance_min_ratio  \\\n",
       "0                         0.333333                              0.0   \n",
       "1                         0.400000                              0.0   \n",
       "2                         0.571429                              0.0   \n",
       "3                         0.285714                              0.0   \n",
       "4                         0.500000                              0.0   \n",
       "\n",
       "   domain_vowel_distance_median_ratio  domain_vowel_distance_mode_ratio  \n",
       "0                            0.083333                          0.000000  \n",
       "1                            0.150000                          0.100000  \n",
       "2                            0.285714                          0.142857  \n",
       "3                            0.071429                          0.071429  \n",
       "4                            0.200000                          0.000000  "
      ]
     },
     "execution_count": 106,
     "metadata": {},
     "output_type": "execute_result"
    }
   ],
   "source": [
    "distances_df.head()"
   ]
  },
  {
   "cell_type": "code",
   "execution_count": 107,
   "metadata": {
    "colab": {
     "base_uri": "https://localhost:8080/",
     "height": 317
    },
    "colab_type": "code",
    "id": "h8EPr1vZz6cr",
    "outputId": "0efb7d94-6b95-4f55-f30a-d2526f3ee32a"
   },
   "outputs": [
    {
     "data": {
      "text/html": [
       "<div>\n",
       "<style scoped>\n",
       "    .dataframe tbody tr th:only-of-type {\n",
       "        vertical-align: middle;\n",
       "    }\n",
       "\n",
       "    .dataframe tbody tr th {\n",
       "        vertical-align: top;\n",
       "    }\n",
       "\n",
       "    .dataframe thead th {\n",
       "        text-align: right;\n",
       "    }\n",
       "</style>\n",
       "<table border=\"1\" class=\"dataframe\">\n",
       "  <thead>\n",
       "    <tr style=\"text-align: right;\">\n",
       "      <th></th>\n",
       "      <th>domain_vowel_distance_mean_ratio</th>\n",
       "      <th>domain_vowel_distance_std_ratio</th>\n",
       "      <th>domain_vowel_distance_max_ratio</th>\n",
       "      <th>domain_vowel_distance_min_ratio</th>\n",
       "      <th>domain_vowel_distance_median_ratio</th>\n",
       "      <th>domain_vowel_distance_mode_ratio</th>\n",
       "    </tr>\n",
       "  </thead>\n",
       "  <tbody>\n",
       "    <tr>\n",
       "      <th>count</th>\n",
       "      <td>133926.000000</td>\n",
       "      <td>133926.000000</td>\n",
       "      <td>133926.000000</td>\n",
       "      <td>133926.000000</td>\n",
       "      <td>133926.000000</td>\n",
       "      <td>133926.000000</td>\n",
       "    </tr>\n",
       "    <tr>\n",
       "      <th>mean</th>\n",
       "      <td>0.127635</td>\n",
       "      <td>0.103519</td>\n",
       "      <td>0.324496</td>\n",
       "      <td>0.008647</td>\n",
       "      <td>0.117080</td>\n",
       "      <td>0.041880</td>\n",
       "    </tr>\n",
       "    <tr>\n",
       "      <th>std</th>\n",
       "      <td>0.108137</td>\n",
       "      <td>0.049880</td>\n",
       "      <td>0.172109</td>\n",
       "      <td>0.092584</td>\n",
       "      <td>0.105785</td>\n",
       "      <td>0.120629</td>\n",
       "    </tr>\n",
       "    <tr>\n",
       "      <th>min</th>\n",
       "      <td>0.010000</td>\n",
       "      <td>0.000000</td>\n",
       "      <td>0.045455</td>\n",
       "      <td>0.000000</td>\n",
       "      <td>0.000000</td>\n",
       "      <td>0.000000</td>\n",
       "    </tr>\n",
       "    <tr>\n",
       "      <th>25%</th>\n",
       "      <td>0.073964</td>\n",
       "      <td>0.070511</td>\n",
       "      <td>0.200000</td>\n",
       "      <td>0.000000</td>\n",
       "      <td>0.071429</td>\n",
       "      <td>0.000000</td>\n",
       "    </tr>\n",
       "    <tr>\n",
       "      <th>50%</th>\n",
       "      <td>0.102041</td>\n",
       "      <td>0.092807</td>\n",
       "      <td>0.285714</td>\n",
       "      <td>0.000000</td>\n",
       "      <td>0.100000</td>\n",
       "      <td>0.000000</td>\n",
       "    </tr>\n",
       "    <tr>\n",
       "      <th>75%</th>\n",
       "      <td>0.148148</td>\n",
       "      <td>0.125000</td>\n",
       "      <td>0.400000</td>\n",
       "      <td>0.000000</td>\n",
       "      <td>0.142857</td>\n",
       "      <td>0.071429</td>\n",
       "    </tr>\n",
       "    <tr>\n",
       "      <th>max</th>\n",
       "      <td>1.000000</td>\n",
       "      <td>0.288491</td>\n",
       "      <td>1.000000</td>\n",
       "      <td>1.000000</td>\n",
       "      <td>1.000000</td>\n",
       "      <td>1.000000</td>\n",
       "    </tr>\n",
       "  </tbody>\n",
       "</table>\n",
       "</div>"
      ],
      "text/plain": [
       "       domain_vowel_distance_mean_ratio  domain_vowel_distance_std_ratio  \\\n",
       "count                     133926.000000                    133926.000000   \n",
       "mean                           0.127635                         0.103519   \n",
       "std                            0.108137                         0.049880   \n",
       "min                            0.010000                         0.000000   \n",
       "25%                            0.073964                         0.070511   \n",
       "50%                            0.102041                         0.092807   \n",
       "75%                            0.148148                         0.125000   \n",
       "max                            1.000000                         0.288491   \n",
       "\n",
       "       domain_vowel_distance_max_ratio  domain_vowel_distance_min_ratio  \\\n",
       "count                    133926.000000                    133926.000000   \n",
       "mean                          0.324496                         0.008647   \n",
       "std                           0.172109                         0.092584   \n",
       "min                           0.045455                         0.000000   \n",
       "25%                           0.200000                         0.000000   \n",
       "50%                           0.285714                         0.000000   \n",
       "75%                           0.400000                         0.000000   \n",
       "max                           1.000000                         1.000000   \n",
       "\n",
       "       domain_vowel_distance_median_ratio  domain_vowel_distance_mode_ratio  \n",
       "count                       133926.000000                     133926.000000  \n",
       "mean                             0.117080                          0.041880  \n",
       "std                              0.105785                          0.120629  \n",
       "min                              0.000000                          0.000000  \n",
       "25%                              0.071429                          0.000000  \n",
       "50%                              0.100000                          0.000000  \n",
       "75%                              0.142857                          0.071429  \n",
       "max                              1.000000                          1.000000  "
      ]
     },
     "execution_count": 107,
     "metadata": {},
     "output_type": "execute_result"
    }
   ],
   "source": [
    "distances_df.describe()"
   ]
  },
  {
   "cell_type": "code",
   "execution_count": 108,
   "metadata": {
    "colab": {
     "base_uri": "https://localhost:8080/",
     "height": 255
    },
    "colab_type": "code",
    "id": "DBkWqT1Xu6W3",
    "outputId": "b71f57c5-1e7c-477d-8f3b-be5bd3eddb13"
   },
   "outputs": [
    {
     "data": {
      "text/html": [
       "<div>\n",
       "<style scoped>\n",
       "    .dataframe tbody tr th:only-of-type {\n",
       "        vertical-align: middle;\n",
       "    }\n",
       "\n",
       "    .dataframe tbody tr th {\n",
       "        vertical-align: top;\n",
       "    }\n",
       "\n",
       "    .dataframe thead th {\n",
       "        text-align: right;\n",
       "    }\n",
       "</style>\n",
       "<table border=\"1\" class=\"dataframe\">\n",
       "  <thead>\n",
       "    <tr style=\"text-align: right;\">\n",
       "      <th></th>\n",
       "      <th>domain_vowel_distance_mean_ratio</th>\n",
       "      <th>domain_vowel_distance_std_ratio</th>\n",
       "      <th>domain_vowel_distance_max_ratio</th>\n",
       "      <th>domain_vowel_distance_min_ratio</th>\n",
       "      <th>domain_vowel_distance_median_ratio</th>\n",
       "      <th>domain_vowel_distance_mode_ratio</th>\n",
       "    </tr>\n",
       "  </thead>\n",
       "  <tbody>\n",
       "    <tr>\n",
       "      <th>domain_vowel_distance_mean_ratio</th>\n",
       "      <td>1.000000</td>\n",
       "      <td>0.474435</td>\n",
       "      <td>0.862796</td>\n",
       "      <td>0.753417</td>\n",
       "      <td>0.961631</td>\n",
       "      <td>0.734087</td>\n",
       "    </tr>\n",
       "    <tr>\n",
       "      <th>domain_vowel_distance_std_ratio</th>\n",
       "      <td>0.474435</td>\n",
       "      <td>1.000000</td>\n",
       "      <td>0.826758</td>\n",
       "      <td>-0.193823</td>\n",
       "      <td>0.354248</td>\n",
       "      <td>0.040495</td>\n",
       "    </tr>\n",
       "    <tr>\n",
       "      <th>domain_vowel_distance_max_ratio</th>\n",
       "      <td>0.862796</td>\n",
       "      <td>0.826758</td>\n",
       "      <td>1.000000</td>\n",
       "      <td>0.366551</td>\n",
       "      <td>0.760031</td>\n",
       "      <td>0.446619</td>\n",
       "    </tr>\n",
       "    <tr>\n",
       "      <th>domain_vowel_distance_min_ratio</th>\n",
       "      <td>0.753417</td>\n",
       "      <td>-0.193823</td>\n",
       "      <td>0.366551</td>\n",
       "      <td>1.000000</td>\n",
       "      <td>0.779481</td>\n",
       "      <td>0.741782</td>\n",
       "    </tr>\n",
       "    <tr>\n",
       "      <th>domain_vowel_distance_median_ratio</th>\n",
       "      <td>0.961631</td>\n",
       "      <td>0.354248</td>\n",
       "      <td>0.760031</td>\n",
       "      <td>0.779481</td>\n",
       "      <td>1.000000</td>\n",
       "      <td>0.769051</td>\n",
       "    </tr>\n",
       "    <tr>\n",
       "      <th>domain_vowel_distance_mode_ratio</th>\n",
       "      <td>0.734087</td>\n",
       "      <td>0.040495</td>\n",
       "      <td>0.446619</td>\n",
       "      <td>0.741782</td>\n",
       "      <td>0.769051</td>\n",
       "      <td>1.000000</td>\n",
       "    </tr>\n",
       "  </tbody>\n",
       "</table>\n",
       "</div>"
      ],
      "text/plain": [
       "                                    domain_vowel_distance_mean_ratio  \\\n",
       "domain_vowel_distance_mean_ratio                            1.000000   \n",
       "domain_vowel_distance_std_ratio                             0.474435   \n",
       "domain_vowel_distance_max_ratio                             0.862796   \n",
       "domain_vowel_distance_min_ratio                             0.753417   \n",
       "domain_vowel_distance_median_ratio                          0.961631   \n",
       "domain_vowel_distance_mode_ratio                            0.734087   \n",
       "\n",
       "                                    domain_vowel_distance_std_ratio  \\\n",
       "domain_vowel_distance_mean_ratio                           0.474435   \n",
       "domain_vowel_distance_std_ratio                            1.000000   \n",
       "domain_vowel_distance_max_ratio                            0.826758   \n",
       "domain_vowel_distance_min_ratio                           -0.193823   \n",
       "domain_vowel_distance_median_ratio                         0.354248   \n",
       "domain_vowel_distance_mode_ratio                           0.040495   \n",
       "\n",
       "                                    domain_vowel_distance_max_ratio  \\\n",
       "domain_vowel_distance_mean_ratio                           0.862796   \n",
       "domain_vowel_distance_std_ratio                            0.826758   \n",
       "domain_vowel_distance_max_ratio                            1.000000   \n",
       "domain_vowel_distance_min_ratio                            0.366551   \n",
       "domain_vowel_distance_median_ratio                         0.760031   \n",
       "domain_vowel_distance_mode_ratio                           0.446619   \n",
       "\n",
       "                                    domain_vowel_distance_min_ratio  \\\n",
       "domain_vowel_distance_mean_ratio                           0.753417   \n",
       "domain_vowel_distance_std_ratio                           -0.193823   \n",
       "domain_vowel_distance_max_ratio                            0.366551   \n",
       "domain_vowel_distance_min_ratio                            1.000000   \n",
       "domain_vowel_distance_median_ratio                         0.779481   \n",
       "domain_vowel_distance_mode_ratio                           0.741782   \n",
       "\n",
       "                                    domain_vowel_distance_median_ratio  \\\n",
       "domain_vowel_distance_mean_ratio                              0.961631   \n",
       "domain_vowel_distance_std_ratio                               0.354248   \n",
       "domain_vowel_distance_max_ratio                               0.760031   \n",
       "domain_vowel_distance_min_ratio                               0.779481   \n",
       "domain_vowel_distance_median_ratio                            1.000000   \n",
       "domain_vowel_distance_mode_ratio                              0.769051   \n",
       "\n",
       "                                    domain_vowel_distance_mode_ratio  \n",
       "domain_vowel_distance_mean_ratio                            0.734087  \n",
       "domain_vowel_distance_std_ratio                             0.040495  \n",
       "domain_vowel_distance_max_ratio                             0.446619  \n",
       "domain_vowel_distance_min_ratio                             0.741782  \n",
       "domain_vowel_distance_median_ratio                          0.769051  \n",
       "domain_vowel_distance_mode_ratio                            1.000000  "
      ]
     },
     "execution_count": 108,
     "metadata": {},
     "output_type": "execute_result"
    }
   ],
   "source": [
    "pd.DataFrame(distances_df.corr())"
   ]
  },
  {
   "cell_type": "code",
   "execution_count": 109,
   "metadata": {
    "colab": {},
    "colab_type": "code",
    "id": "UlLLVEJXFmue"
   },
   "outputs": [],
   "source": [
    "import matplotlib.pyplot as plt"
   ]
  },
  {
   "cell_type": "code",
   "execution_count": 110,
   "metadata": {
    "colab": {
     "base_uri": "https://localhost:8080/",
     "height": 204
    },
    "colab_type": "code",
    "id": "Q8r821ghIQhz",
    "outputId": "8e38be14-a884-45c4-d7f3-5fed59510d65"
   },
   "outputs": [
    {
     "data": {
      "text/html": [
       "<div>\n",
       "<style scoped>\n",
       "    .dataframe tbody tr th:only-of-type {\n",
       "        vertical-align: middle;\n",
       "    }\n",
       "\n",
       "    .dataframe tbody tr th {\n",
       "        vertical-align: top;\n",
       "    }\n",
       "\n",
       "    .dataframe thead th {\n",
       "        text-align: right;\n",
       "    }\n",
       "</style>\n",
       "<table border=\"1\" class=\"dataframe\">\n",
       "  <thead>\n",
       "    <tr style=\"text-align: right;\">\n",
       "      <th></th>\n",
       "      <th>class</th>\n",
       "      <th>variable</th>\n",
       "      <th>value</th>\n",
       "    </tr>\n",
       "  </thead>\n",
       "  <tbody>\n",
       "    <tr>\n",
       "      <th>294760</th>\n",
       "      <td>legit</td>\n",
       "      <td>domain_vowel_distance_max_ratio</td>\n",
       "      <td>0.095238</td>\n",
       "    </tr>\n",
       "    <tr>\n",
       "      <th>271775</th>\n",
       "      <td>dga</td>\n",
       "      <td>domain_vowel_distance_max_ratio</td>\n",
       "      <td>0.720000</td>\n",
       "    </tr>\n",
       "    <tr>\n",
       "      <th>270714</th>\n",
       "      <td>dga</td>\n",
       "      <td>domain_vowel_distance_max_ratio</td>\n",
       "      <td>0.360000</td>\n",
       "    </tr>\n",
       "    <tr>\n",
       "      <th>431833</th>\n",
       "      <td>legit</td>\n",
       "      <td>domain_vowel_distance_min_ratio</td>\n",
       "      <td>0.000000</td>\n",
       "    </tr>\n",
       "    <tr>\n",
       "      <th>320015</th>\n",
       "      <td>legit</td>\n",
       "      <td>domain_vowel_distance_max_ratio</td>\n",
       "      <td>0.222222</td>\n",
       "    </tr>\n",
       "  </tbody>\n",
       "</table>\n",
       "</div>"
      ],
      "text/plain": [
       "        class                         variable     value\n",
       "294760  legit  domain_vowel_distance_max_ratio  0.095238\n",
       "271775    dga  domain_vowel_distance_max_ratio  0.720000\n",
       "270714    dga  domain_vowel_distance_max_ratio  0.360000\n",
       "431833  legit  domain_vowel_distance_min_ratio  0.000000\n",
       "320015  legit  domain_vowel_distance_max_ratio  0.222222"
      ]
     },
     "execution_count": 110,
     "metadata": {},
     "output_type": "execute_result"
    }
   ],
   "source": [
    "melted_distances_df = distances_df.melt(id_vars=\"class\")\n",
    "melted_distances_df.sample(5)"
   ]
  },
  {
   "cell_type": "code",
   "execution_count": 111,
   "metadata": {
    "colab": {
     "base_uri": "https://localhost:8080/",
     "height": 1000
    },
    "colab_type": "code",
    "id": "1M5YrMbeIl2O",
    "outputId": "8cc7b2ec-6330-4ad9-c2c3-c6771cee7ea0"
   },
   "outputs": [
    {
     "data": {
      "image/png": "[encoded data removed]",
      "text/plain": [
       "<Figure size 720x1728 with 6 Axes>"
      ]
     },
     "metadata": {
      "needs_background": "light"
     },
     "output_type": "display_data"
    }
   ],
   "source": [
    "unique_distance_vars = melted_distances_df[\"variable\"].unique()\n",
    "\n",
    "fig, ax = plt.subplots(figsize=(10,4 * len(unique_distance_vars)), ncols = 1, nrows = len(unique_distance_vars), sharey='all', sharex=True)\n",
    "\n",
    "for i, variable in enumerate(unique_distance_vars):\n",
    "    melted_distances_df[melted_distances_df[\"variable\"] == variable].groupby(\"class\")[\"value\"].plot.kde(\n",
    "        legend = True, \n",
    "        title = variable, \n",
    "        ax = ax[i],\n",
    "        stacked = True,\n",
    "    )"
   ]
  },
  {
   "cell_type": "markdown",
   "metadata": {
    "colab_type": "text",
    "id": "QPjPPuR2PGId"
   },
   "source": [
    "Let's remove `domain_vowel_distance_min_ratio` from consideration, as its peaks between the classes center on the same values.\n",
    "\n",
    "While `domain_vowel_distance_mode_ratio` also shares a peak between the classes there is a some distinction between the class after this first peak. Thus we'll keep it in consideration."
   ]
  },
  {
   "cell_type": "code",
   "execution_count": 112,
   "metadata": {
    "colab": {},
    "colab_type": "code",
    "id": "Whv7xpgGOf7h"
   },
   "outputs": [],
   "source": [
    "melted_distances_df = melted_distances_df[~melted_distances_df[\"variable\"].isin([\"domain_vowel_distance_min_ratio\"])]"
   ]
  },
  {
   "cell_type": "markdown",
   "metadata": {
    "colab_type": "text",
    "id": "TajWRq4WeByX"
   },
   "source": [
    "Let's replot given we're removed features from consideration."
   ]
  },
  {
   "cell_type": "code",
   "execution_count": 113,
   "metadata": {
    "colab": {
     "base_uri": "https://localhost:8080/",
     "height": 1000
    },
    "colab_type": "code",
    "id": "CTT8AoiDOwfI",
    "outputId": "a5cbd8c5-0368-4585-f0df-932236b051df"
   },
   "outputs": [
    {
     "data": {
      "image/png": "[encoded data removed]",
      "text/plain": [
       "<Figure size 720x1440 with 5 Axes>"
      ]
     },
     "metadata": {
      "needs_background": "light"
     },
     "output_type": "display_data"
    }
   ],
   "source": [
    "unique_distance_vars = melted_distances_df[\"variable\"].unique()\n",
    "\n",
    "fig, ax = plt.subplots(figsize=(10,4 * len(unique_distance_vars)), ncols = 1, nrows = len(unique_distance_vars), sharey='all', sharex=True)\n",
    "\n",
    "for i, variable in enumerate(unique_distance_vars):\n",
    "    melted_distances_df[melted_distances_df[\"variable\"] == variable].groupby(\"class\")[\"value\"].plot.kde(\n",
    "        legend = True, \n",
    "        title = variable, \n",
    "        ax = ax[i],\n",
    "    )"
   ]
  },
  {
   "cell_type": "markdown",
   "metadata": {
    "colab_type": "text",
    "id": "tr7darhCeHzs"
   },
   "source": [
    "Now a question must be asked of the remaing vowel distance features, which features are highly correlated. That is if two features are highly correlated then we should not include them both as the information gain would not be worth the additional complexity in our model."
   ]
  },
  {
   "cell_type": "code",
   "execution_count": 114,
   "metadata": {
    "colab": {
     "base_uri": "https://localhost:8080/",
     "height": 224
    },
    "colab_type": "code",
    "id": "mBcz0KHJSC-i",
    "outputId": "82c89ac9-d1d8-4a45-e8e6-fd99557cc582"
   },
   "outputs": [
    {
     "data": {
      "text/html": [
       "<div>\n",
       "<style scoped>\n",
       "    .dataframe tbody tr th:only-of-type {\n",
       "        vertical-align: middle;\n",
       "    }\n",
       "\n",
       "    .dataframe tbody tr th {\n",
       "        vertical-align: top;\n",
       "    }\n",
       "\n",
       "    .dataframe thead th {\n",
       "        text-align: right;\n",
       "    }\n",
       "</style>\n",
       "<table border=\"1\" class=\"dataframe\">\n",
       "  <thead>\n",
       "    <tr style=\"text-align: right;\">\n",
       "      <th></th>\n",
       "      <th>domain_vowel_distance_mean_ratio</th>\n",
       "      <th>domain_vowel_distance_std_ratio</th>\n",
       "      <th>domain_vowel_distance_max_ratio</th>\n",
       "      <th>domain_vowel_distance_median_ratio</th>\n",
       "      <th>domain_vowel_distance_mode_ratio</th>\n",
       "    </tr>\n",
       "  </thead>\n",
       "  <tbody>\n",
       "    <tr>\n",
       "      <th>domain_vowel_distance_mean_ratio</th>\n",
       "      <td>1.000000</td>\n",
       "      <td>0.474435</td>\n",
       "      <td>0.862796</td>\n",
       "      <td>0.961631</td>\n",
       "      <td>0.734087</td>\n",
       "    </tr>\n",
       "    <tr>\n",
       "      <th>domain_vowel_distance_std_ratio</th>\n",
       "      <td>0.474435</td>\n",
       "      <td>1.000000</td>\n",
       "      <td>0.826758</td>\n",
       "      <td>0.354248</td>\n",
       "      <td>0.040495</td>\n",
       "    </tr>\n",
       "    <tr>\n",
       "      <th>domain_vowel_distance_max_ratio</th>\n",
       "      <td>0.862796</td>\n",
       "      <td>0.826758</td>\n",
       "      <td>1.000000</td>\n",
       "      <td>0.760031</td>\n",
       "      <td>0.446619</td>\n",
       "    </tr>\n",
       "    <tr>\n",
       "      <th>domain_vowel_distance_median_ratio</th>\n",
       "      <td>0.961631</td>\n",
       "      <td>0.354248</td>\n",
       "      <td>0.760031</td>\n",
       "      <td>1.000000</td>\n",
       "      <td>0.769051</td>\n",
       "    </tr>\n",
       "    <tr>\n",
       "      <th>domain_vowel_distance_mode_ratio</th>\n",
       "      <td>0.734087</td>\n",
       "      <td>0.040495</td>\n",
       "      <td>0.446619</td>\n",
       "      <td>0.769051</td>\n",
       "      <td>1.000000</td>\n",
       "    </tr>\n",
       "  </tbody>\n",
       "</table>\n",
       "</div>"
      ],
      "text/plain": [
       "                                    domain_vowel_distance_mean_ratio  \\\n",
       "domain_vowel_distance_mean_ratio                            1.000000   \n",
       "domain_vowel_distance_std_ratio                             0.474435   \n",
       "domain_vowel_distance_max_ratio                             0.862796   \n",
       "domain_vowel_distance_median_ratio                          0.961631   \n",
       "domain_vowel_distance_mode_ratio                            0.734087   \n",
       "\n",
       "                                    domain_vowel_distance_std_ratio  \\\n",
       "domain_vowel_distance_mean_ratio                           0.474435   \n",
       "domain_vowel_distance_std_ratio                            1.000000   \n",
       "domain_vowel_distance_max_ratio                            0.826758   \n",
       "domain_vowel_distance_median_ratio                         0.354248   \n",
       "domain_vowel_distance_mode_ratio                           0.040495   \n",
       "\n",
       "                                    domain_vowel_distance_max_ratio  \\\n",
       "domain_vowel_distance_mean_ratio                           0.862796   \n",
       "domain_vowel_distance_std_ratio                            0.826758   \n",
       "domain_vowel_distance_max_ratio                            1.000000   \n",
       "domain_vowel_distance_median_ratio                         0.760031   \n",
       "domain_vowel_distance_mode_ratio                           0.446619   \n",
       "\n",
       "                                    domain_vowel_distance_median_ratio  \\\n",
       "domain_vowel_distance_mean_ratio                              0.961631   \n",
       "domain_vowel_distance_std_ratio                               0.354248   \n",
       "domain_vowel_distance_max_ratio                               0.760031   \n",
       "domain_vowel_distance_median_ratio                            1.000000   \n",
       "domain_vowel_distance_mode_ratio                              0.769051   \n",
       "\n",
       "                                    domain_vowel_distance_mode_ratio  \n",
       "domain_vowel_distance_mean_ratio                            0.734087  \n",
       "domain_vowel_distance_std_ratio                             0.040495  \n",
       "domain_vowel_distance_max_ratio                             0.446619  \n",
       "domain_vowel_distance_median_ratio                          0.769051  \n",
       "domain_vowel_distance_mode_ratio                            1.000000  "
      ]
     },
     "execution_count": 114,
     "metadata": {},
     "output_type": "execute_result"
    }
   ],
   "source": [
    "distances_df[unique_distance_vars].corr()"
   ]
  },
  {
   "cell_type": "code",
   "execution_count": 115,
   "metadata": {
    "colab": {
     "base_uri": "https://localhost:8080/",
     "height": 282
    },
    "colab_type": "code",
    "id": "lhJiNClWRveO",
    "outputId": "9cdf2ddd-7ca2-4bcd-c0ec-2055c6273961"
   },
   "outputs": [
    {
     "data": {
      "text/plain": [
       "<matplotlib.axes._subplots.AxesSubplot at 0x20913519128>"
      ]
     },
     "execution_count": 115,
     "metadata": {},
     "output_type": "execute_result"
    },
    {
     "data": {
      "image/png": "[encoded data removed]",
      "text/plain": [
       "<Figure size 432x288 with 1 Axes>"
      ]
     },
     "metadata": {
      "needs_background": "light"
     },
     "output_type": "display_data"
    }
   ],
   "source": [
    "distances_df[unique_distance_vars].corr().abs().sum().sort_values(ascending = False).plot.barh()"
   ]
  },
  {
   "cell_type": "markdown",
   "metadata": {
    "colab_type": "text",
    "id": "77GUiJY1PzHX"
   },
   "source": [
    "## Observations on Vowel Distances\n",
    "\n",
    "Looking at the correlation table and barplot of absolute correlation magnitudes, we will take `domain_vowel_distance_std_ratio` and `domain_vowel_distance_mode_ratio` forward.\n",
    "\n",
    "Furthermore given the above are expressed as ratios they will not be prone to the issues of length based measures for misclassification."
   ]
  },
  {
   "cell_type": "markdown",
   "metadata": {
    "colab_type": "text",
    "id": "ToIcfJ-DnVc1"
   },
   "source": [
    "## Most Frequent Consonants\n",
    "\n",
    "We've been paying a fair bit of attention to vowels, however it would also be prudent to consider the consonants.\n",
    "\n",
    "Eyeballing the data `dga` observations a variety of consonants and repeating consonants are not uncommon. Is there anything to this hunch?"
   ]
  },
  {
   "cell_type": "code",
   "execution_count": 116,
   "metadata": {
    "colab": {},
    "colab_type": "code",
    "id": "Pz8hSZ-gvIpr"
   },
   "outputs": [],
   "source": [
    "from collections import Counter"
   ]
  },
  {
   "cell_type": "code",
   "execution_count": 117,
   "metadata": {
    "colab": {},
    "colab_type": "code",
    "id": "UzgaDssaZczp"
   },
   "outputs": [],
   "source": [
    "def get_consonant_variety_ratio(s):\n",
    "    s = \"\".join([c for c in list(s) if c not in [\"a\",\"e\",\"i\",\"o\",\"u\",\"y\"]])\n",
    "  \n",
    "    if len(s) == 0:\n",
    "        return 0.0\n",
    "\n",
    "    counter = Counter(s)\n",
    "    counts = np.array(list(counter.values()))\n",
    "  \n",
    "    if np.min(counts) == np.max(counts):\n",
    "        return 1\n",
    "\n",
    "    return np.max(counts) / np.sum(counts)"
   ]
  },
  {
   "cell_type": "code",
   "execution_count": 118,
   "metadata": {
    "colab": {},
    "colab_type": "code",
    "id": "ESI3FWPkvn-v"
   },
   "outputs": [],
   "source": [
    "data_df[\"domain_consonant_variety_ratio\"] = data_df[\"domain\"].apply(lambda x: get_consonant_variety_ratio(x) )"
   ]
  },
  {
   "cell_type": "code",
   "execution_count": 119,
   "metadata": {
    "colab": {
     "base_uri": "https://localhost:8080/",
     "height": 337
    },
    "colab_type": "code",
    "id": "H_SyNK4GaOKY",
    "outputId": "ee7bb2d6-c33e-4ffd-b6d4-b01873cbe5b1"
   },
   "outputs": [
    {
     "data": {
      "text/plain": [
       "class\n",
       "dga      AxesSubplot(0.125,0.125;0.775x0.755)\n",
       "legit    AxesSubplot(0.125,0.125;0.775x0.755)\n",
       "Name: domain_consonant_variety_ratio, dtype: object"
      ]
     },
     "execution_count": 119,
     "metadata": {},
     "output_type": "execute_result"
    },
    {
     "data": {
      "image/png": "[encoded data removed]",
      "text/plain": [
       "<Figure size 432x288 with 1 Axes>"
      ]
     },
     "metadata": {
      "needs_background": "light"
     },
     "output_type": "display_data"
    }
   ],
   "source": [
    "data_df.groupby(\"class\")[\"domain_consonant_variety_ratio\"].plot.kde(legend=True)"
   ]
  },
  {
   "cell_type": "markdown",
   "metadata": {
    "colab_type": "text",
    "id": "7QqEFPESP7nS"
   },
   "source": [
    "## Character Pair Windows\n",
    "\n",
    "A typical step in natural language processing is to tokenize the documents, and then convert the tokenized representation into a numerical representation of the document e.g. Bag of Words, n_grams, Word Vectors.\n",
    "\n",
    "Let's take a slightly naive approach and create a sliding 2 character window over our domains, from this we can find the most frequently occuring two character pairs across the classes. \n",
    "\n",
    "The rationale is that in languages there are certain characters that will frequently appear alongside another. We will build this window in a left to right fashion which does present a limitation for right to left languages.\n"
   ]
  },
  {
   "cell_type": "code",
   "execution_count": 120,
   "metadata": {
    "colab": {},
    "colab_type": "code",
    "id": "JSv_3a6cP7BE"
   },
   "outputs": [],
   "source": [
    "from itertools import islice\n",
    "\n",
    "def text_window(seq, n=2):\n",
    "    \"Returns a sliding window (of width n) over data from the iterable\"\n",
    "    \"   s -> (s0,s1,...s[n-1]), (s1,s2,...,sn), ...                   \"\n",
    "    it = iter(seq)\n",
    "    result = tuple(islice(it, n))\n",
    "    if len(result) == n:\n",
    "        yield result    \n",
    "    for elem in it:\n",
    "        result = result[1:] + (elem,)\n",
    "        yield result"
   ]
  },
  {
   "cell_type": "markdown",
   "metadata": {
    "colab_type": "text",
    "id": "4dlhO9S41y_A"
   },
   "source": [
    "Now let's bring the class back in"
   ]
  },
  {
   "cell_type": "code",
   "execution_count": 121,
   "metadata": {
    "colab": {},
    "colab_type": "code",
    "id": "WtSy6IBARZic"
   },
   "outputs": [],
   "source": [
    "domain_windowed = data_df[\"domain\"].apply(lambda x: [\"\".join(y) for y in text_window(x, 2)])"
   ]
  },
  {
   "cell_type": "code",
   "execution_count": 122,
   "metadata": {
    "colab": {
     "base_uri": "https://localhost:8080/",
     "height": 119
    },
    "colab_type": "code",
    "id": "8x7VWOf618vP",
    "outputId": "cdf8b844-f338-486c-8af4-19ca3a49d1f0"
   },
   "outputs": [
    {
     "data": {
      "text/plain": [
       "0         [00, 00, 0d, di, ir, re, ec, ct, to, or, ry]\n",
       "1                 [00, 00, 0w, we, eb, bh, ho, os, st]\n",
       "2                             [00, 01, 1f, fa, an, ns]\n",
       "3    [01, 1-, -t, te, el, le, ec, ch, ha, ar, rg, g...\n",
       "4                 [01, 10, 0s, sh, ha, an, ng, gp, pu]\n",
       "Name: domain, dtype: object"
      ]
     },
     "execution_count": 122,
     "metadata": {},
     "output_type": "execute_result"
    }
   ],
   "source": [
    "domain_windowed.head()"
   ]
  },
  {
   "cell_type": "markdown",
   "metadata": {
    "colab_type": "text",
    "id": "_9zNQtu417fC"
   },
   "source": [
    "Let's encode the above into a sparsely populated dataframe in a similar fashion to one hot encoding."
   ]
  },
  {
   "cell_type": "code",
   "execution_count": 123,
   "metadata": {
    "colab": {
     "base_uri": "https://localhost:8080/",
     "height": 270
    },
    "colab_type": "code",
    "id": "hK-qqVmMReaf",
    "outputId": "0321b677-7185-4d55-ead4-cfdd88fd5844"
   },
   "outputs": [
    {
     "data": {
      "text/html": [
       "<div>\n",
       "<style scoped>\n",
       "    .dataframe tbody tr th:only-of-type {\n",
       "        vertical-align: middle;\n",
       "    }\n",
       "\n",
       "    .dataframe tbody tr th {\n",
       "        vertical-align: top;\n",
       "    }\n",
       "\n",
       "    .dataframe thead th {\n",
       "        text-align: right;\n",
       "    }\n",
       "</style>\n",
       "<table border=\"1\" class=\"dataframe\">\n",
       "  <thead>\n",
       "    <tr style=\"text-align: right;\">\n",
       "      <th></th>\n",
       "      <th>\\nd</th>\n",
       "      <th>--</th>\n",
       "      <th>-0</th>\n",
       "      <th>-1</th>\n",
       "      <th>-2</th>\n",
       "      <th>-3</th>\n",
       "      <th>-4</th>\n",
       "      <th>-5</th>\n",
       "      <th>-6</th>\n",
       "      <th>-7</th>\n",
       "      <th>...</th>\n",
       "      <th>zq</th>\n",
       "      <th>zr</th>\n",
       "      <th>zs</th>\n",
       "      <th>zt</th>\n",
       "      <th>zu</th>\n",
       "      <th>zv</th>\n",
       "      <th>zw</th>\n",
       "      <th>zx</th>\n",
       "      <th>zy</th>\n",
       "      <th>zz</th>\n",
       "    </tr>\n",
       "  </thead>\n",
       "  <tbody>\n",
       "    <tr>\n",
       "      <th>0</th>\n",
       "      <td>0</td>\n",
       "      <td>0</td>\n",
       "      <td>0</td>\n",
       "      <td>0</td>\n",
       "      <td>0</td>\n",
       "      <td>0</td>\n",
       "      <td>0</td>\n",
       "      <td>0</td>\n",
       "      <td>0</td>\n",
       "      <td>0</td>\n",
       "      <td>...</td>\n",
       "      <td>0</td>\n",
       "      <td>0</td>\n",
       "      <td>0</td>\n",
       "      <td>0</td>\n",
       "      <td>0</td>\n",
       "      <td>0</td>\n",
       "      <td>0</td>\n",
       "      <td>0</td>\n",
       "      <td>0</td>\n",
       "      <td>0</td>\n",
       "    </tr>\n",
       "    <tr>\n",
       "      <th>1</th>\n",
       "      <td>0</td>\n",
       "      <td>0</td>\n",
       "      <td>0</td>\n",
       "      <td>0</td>\n",
       "      <td>0</td>\n",
       "      <td>0</td>\n",
       "      <td>0</td>\n",
       "      <td>0</td>\n",
       "      <td>0</td>\n",
       "      <td>0</td>\n",
       "      <td>...</td>\n",
       "      <td>0</td>\n",
       "      <td>0</td>\n",
       "      <td>0</td>\n",
       "      <td>0</td>\n",
       "      <td>0</td>\n",
       "      <td>0</td>\n",
       "      <td>0</td>\n",
       "      <td>0</td>\n",
       "      <td>0</td>\n",
       "      <td>0</td>\n",
       "    </tr>\n",
       "    <tr>\n",
       "      <th>2</th>\n",
       "      <td>0</td>\n",
       "      <td>0</td>\n",
       "      <td>0</td>\n",
       "      <td>0</td>\n",
       "      <td>0</td>\n",
       "      <td>0</td>\n",
       "      <td>0</td>\n",
       "      <td>0</td>\n",
       "      <td>0</td>\n",
       "      <td>0</td>\n",
       "      <td>...</td>\n",
       "      <td>0</td>\n",
       "      <td>0</td>\n",
       "      <td>0</td>\n",
       "      <td>0</td>\n",
       "      <td>0</td>\n",
       "      <td>0</td>\n",
       "      <td>0</td>\n",
       "      <td>0</td>\n",
       "      <td>0</td>\n",
       "      <td>0</td>\n",
       "    </tr>\n",
       "    <tr>\n",
       "      <th>3</th>\n",
       "      <td>0</td>\n",
       "      <td>0</td>\n",
       "      <td>0</td>\n",
       "      <td>0</td>\n",
       "      <td>0</td>\n",
       "      <td>0</td>\n",
       "      <td>0</td>\n",
       "      <td>0</td>\n",
       "      <td>0</td>\n",
       "      <td>0</td>\n",
       "      <td>...</td>\n",
       "      <td>0</td>\n",
       "      <td>0</td>\n",
       "      <td>0</td>\n",
       "      <td>0</td>\n",
       "      <td>0</td>\n",
       "      <td>0</td>\n",
       "      <td>0</td>\n",
       "      <td>0</td>\n",
       "      <td>0</td>\n",
       "      <td>0</td>\n",
       "    </tr>\n",
       "    <tr>\n",
       "      <th>4</th>\n",
       "      <td>0</td>\n",
       "      <td>0</td>\n",
       "      <td>0</td>\n",
       "      <td>0</td>\n",
       "      <td>0</td>\n",
       "      <td>0</td>\n",
       "      <td>0</td>\n",
       "      <td>0</td>\n",
       "      <td>0</td>\n",
       "      <td>0</td>\n",
       "      <td>...</td>\n",
       "      <td>0</td>\n",
       "      <td>0</td>\n",
       "      <td>0</td>\n",
       "      <td>0</td>\n",
       "      <td>0</td>\n",
       "      <td>0</td>\n",
       "      <td>0</td>\n",
       "      <td>0</td>\n",
       "      <td>0</td>\n",
       "      <td>0</td>\n",
       "    </tr>\n",
       "  </tbody>\n",
       "</table>\n",
       "<p>5 rows × 1368 columns</p>\n",
       "</div>"
      ],
      "text/plain": [
       "   \\nd  --  -0  -1  -2  -3  -4  -5  -6  -7  ...  zq  zr  zs  zt  zu  zv  zw  \\\n",
       "0    0   0   0   0   0   0   0   0   0   0  ...   0   0   0   0   0   0   0   \n",
       "1    0   0   0   0   0   0   0   0   0   0  ...   0   0   0   0   0   0   0   \n",
       "2    0   0   0   0   0   0   0   0   0   0  ...   0   0   0   0   0   0   0   \n",
       "3    0   0   0   0   0   0   0   0   0   0  ...   0   0   0   0   0   0   0   \n",
       "4    0   0   0   0   0   0   0   0   0   0  ...   0   0   0   0   0   0   0   \n",
       "\n",
       "   zx  zy  zz  \n",
       "0   0   0   0  \n",
       "1   0   0   0  \n",
       "2   0   0   0  \n",
       "3   0   0   0  \n",
       "4   0   0   0  \n",
       "\n",
       "[5 rows x 1368 columns]"
      ]
     },
     "execution_count": 123,
     "metadata": {},
     "output_type": "execute_result"
    }
   ],
   "source": [
    "from sklearn.preprocessing import MultiLabelBinarizer\n",
    "\n",
    "mlb = MultiLabelBinarizer()\n",
    "\n",
    "domain_windows_df = pd.DataFrame(mlb.fit_transform(domain_windowed), columns = mlb.classes_, index=data_df.index)\n",
    "domain_windows_df.head()"
   ]
  },
  {
   "cell_type": "markdown",
   "metadata": {
    "colab_type": "text",
    "id": "epBRQ6n_2r-9"
   },
   "source": [
    "Let's being class back in."
   ]
  },
  {
   "cell_type": "code",
   "execution_count": 124,
   "metadata": {
    "colab": {},
    "colab_type": "code",
    "id": "8X2AcgsNRvN0"
   },
   "outputs": [],
   "source": [
    "domain_windows_columns = list(domain_windows_df.columns)\n",
    "domain_windows_df[\"class\"] = data_df[\"class\"]\n",
    "domain_windows_df = domain_windows_df[[\"class\"] + domain_windows_columns]"
   ]
  },
  {
   "cell_type": "code",
   "execution_count": 125,
   "metadata": {
    "colab": {
     "base_uri": "https://localhost:8080/",
     "height": 270
    },
    "colab_type": "code",
    "id": "_mNmS6AFozQz",
    "outputId": "b1b504be-913b-4a64-8b29-db0de0930881"
   },
   "outputs": [
    {
     "data": {
      "text/html": [
       "<div>\n",
       "<style scoped>\n",
       "    .dataframe tbody tr th:only-of-type {\n",
       "        vertical-align: middle;\n",
       "    }\n",
       "\n",
       "    .dataframe tbody tr th {\n",
       "        vertical-align: top;\n",
       "    }\n",
       "\n",
       "    .dataframe thead th {\n",
       "        text-align: right;\n",
       "    }\n",
       "</style>\n",
       "<table border=\"1\" class=\"dataframe\">\n",
       "  <thead>\n",
       "    <tr style=\"text-align: right;\">\n",
       "      <th></th>\n",
       "      <th>class</th>\n",
       "      <th>\\nd</th>\n",
       "      <th>--</th>\n",
       "      <th>-0</th>\n",
       "      <th>-1</th>\n",
       "      <th>-2</th>\n",
       "      <th>-3</th>\n",
       "      <th>-4</th>\n",
       "      <th>-5</th>\n",
       "      <th>-6</th>\n",
       "      <th>...</th>\n",
       "      <th>zq</th>\n",
       "      <th>zr</th>\n",
       "      <th>zs</th>\n",
       "      <th>zt</th>\n",
       "      <th>zu</th>\n",
       "      <th>zv</th>\n",
       "      <th>zw</th>\n",
       "      <th>zx</th>\n",
       "      <th>zy</th>\n",
       "      <th>zz</th>\n",
       "    </tr>\n",
       "  </thead>\n",
       "  <tbody>\n",
       "    <tr>\n",
       "      <th>0</th>\n",
       "      <td>legit</td>\n",
       "      <td>0</td>\n",
       "      <td>0</td>\n",
       "      <td>0</td>\n",
       "      <td>0</td>\n",
       "      <td>0</td>\n",
       "      <td>0</td>\n",
       "      <td>0</td>\n",
       "      <td>0</td>\n",
       "      <td>0</td>\n",
       "      <td>...</td>\n",
       "      <td>0</td>\n",
       "      <td>0</td>\n",
       "      <td>0</td>\n",
       "      <td>0</td>\n",
       "      <td>0</td>\n",
       "      <td>0</td>\n",
       "      <td>0</td>\n",
       "      <td>0</td>\n",
       "      <td>0</td>\n",
       "      <td>0</td>\n",
       "    </tr>\n",
       "    <tr>\n",
       "      <th>1</th>\n",
       "      <td>legit</td>\n",
       "      <td>0</td>\n",
       "      <td>0</td>\n",
       "      <td>0</td>\n",
       "      <td>0</td>\n",
       "      <td>0</td>\n",
       "      <td>0</td>\n",
       "      <td>0</td>\n",
       "      <td>0</td>\n",
       "      <td>0</td>\n",
       "      <td>...</td>\n",
       "      <td>0</td>\n",
       "      <td>0</td>\n",
       "      <td>0</td>\n",
       "      <td>0</td>\n",
       "      <td>0</td>\n",
       "      <td>0</td>\n",
       "      <td>0</td>\n",
       "      <td>0</td>\n",
       "      <td>0</td>\n",
       "      <td>0</td>\n",
       "    </tr>\n",
       "    <tr>\n",
       "      <th>2</th>\n",
       "      <td>legit</td>\n",
       "      <td>0</td>\n",
       "      <td>0</td>\n",
       "      <td>0</td>\n",
       "      <td>0</td>\n",
       "      <td>0</td>\n",
       "      <td>0</td>\n",
       "      <td>0</td>\n",
       "      <td>0</td>\n",
       "      <td>0</td>\n",
       "      <td>...</td>\n",
       "      <td>0</td>\n",
       "      <td>0</td>\n",
       "      <td>0</td>\n",
       "      <td>0</td>\n",
       "      <td>0</td>\n",
       "      <td>0</td>\n",
       "      <td>0</td>\n",
       "      <td>0</td>\n",
       "      <td>0</td>\n",
       "      <td>0</td>\n",
       "    </tr>\n",
       "    <tr>\n",
       "      <th>3</th>\n",
       "      <td>legit</td>\n",
       "      <td>0</td>\n",
       "      <td>0</td>\n",
       "      <td>0</td>\n",
       "      <td>0</td>\n",
       "      <td>0</td>\n",
       "      <td>0</td>\n",
       "      <td>0</td>\n",
       "      <td>0</td>\n",
       "      <td>0</td>\n",
       "      <td>...</td>\n",
       "      <td>0</td>\n",
       "      <td>0</td>\n",
       "      <td>0</td>\n",
       "      <td>0</td>\n",
       "      <td>0</td>\n",
       "      <td>0</td>\n",
       "      <td>0</td>\n",
       "      <td>0</td>\n",
       "      <td>0</td>\n",
       "      <td>0</td>\n",
       "    </tr>\n",
       "    <tr>\n",
       "      <th>4</th>\n",
       "      <td>legit</td>\n",
       "      <td>0</td>\n",
       "      <td>0</td>\n",
       "      <td>0</td>\n",
       "      <td>0</td>\n",
       "      <td>0</td>\n",
       "      <td>0</td>\n",
       "      <td>0</td>\n",
       "      <td>0</td>\n",
       "      <td>0</td>\n",
       "      <td>...</td>\n",
       "      <td>0</td>\n",
       "      <td>0</td>\n",
       "      <td>0</td>\n",
       "      <td>0</td>\n",
       "      <td>0</td>\n",
       "      <td>0</td>\n",
       "      <td>0</td>\n",
       "      <td>0</td>\n",
       "      <td>0</td>\n",
       "      <td>0</td>\n",
       "    </tr>\n",
       "  </tbody>\n",
       "</table>\n",
       "<p>5 rows × 1369 columns</p>\n",
       "</div>"
      ],
      "text/plain": [
       "   class  \\nd  --  -0  -1  -2  -3  -4  -5  -6  ...  zq  zr  zs  zt  zu  zv  \\\n",
       "0  legit    0   0   0   0   0   0   0   0   0  ...   0   0   0   0   0   0   \n",
       "1  legit    0   0   0   0   0   0   0   0   0  ...   0   0   0   0   0   0   \n",
       "2  legit    0   0   0   0   0   0   0   0   0  ...   0   0   0   0   0   0   \n",
       "3  legit    0   0   0   0   0   0   0   0   0  ...   0   0   0   0   0   0   \n",
       "4  legit    0   0   0   0   0   0   0   0   0  ...   0   0   0   0   0   0   \n",
       "\n",
       "   zw  zx  zy  zz  \n",
       "0   0   0   0   0  \n",
       "1   0   0   0   0  \n",
       "2   0   0   0   0  \n",
       "3   0   0   0   0  \n",
       "4   0   0   0   0  \n",
       "\n",
       "[5 rows x 1369 columns]"
      ]
     },
     "execution_count": 125,
     "metadata": {},
     "output_type": "execute_result"
    }
   ],
   "source": [
    "domain_windows_df.head()"
   ]
  },
  {
   "cell_type": "markdown",
   "metadata": {
    "colab_type": "text",
    "id": "BRKgxghU2yYV"
   },
   "source": [
    "Now we'll melt aggregate and melt the dataframe above so we have summed totals."
   ]
  },
  {
   "cell_type": "code",
   "execution_count": 126,
   "metadata": {
    "colab": {
     "base_uri": "https://localhost:8080/",
     "height": 235
    },
    "colab_type": "code",
    "id": "hMzQHQuPRkxv",
    "outputId": "755b6bf8-1e04-4840-f704-f2ded1a8b720"
   },
   "outputs": [
    {
     "data": {
      "text/html": [
       "<div>\n",
       "<style scoped>\n",
       "    .dataframe tbody tr th:only-of-type {\n",
       "        vertical-align: middle;\n",
       "    }\n",
       "\n",
       "    .dataframe tbody tr th {\n",
       "        vertical-align: top;\n",
       "    }\n",
       "\n",
       "    .dataframe thead th {\n",
       "        text-align: right;\n",
       "    }\n",
       "</style>\n",
       "<table border=\"1\" class=\"dataframe\">\n",
       "  <thead>\n",
       "    <tr style=\"text-align: right;\">\n",
       "      <th></th>\n",
       "      <th></th>\n",
       "      <th>value</th>\n",
       "    </tr>\n",
       "    <tr>\n",
       "      <th>class</th>\n",
       "      <th>variable</th>\n",
       "      <th></th>\n",
       "    </tr>\n",
       "  </thead>\n",
       "  <tbody>\n",
       "    <tr>\n",
       "      <th rowspan=\"5\" valign=\"top\">legit</th>\n",
       "      <th>in</th>\n",
       "      <td>12805</td>\n",
       "    </tr>\n",
       "    <tr>\n",
       "      <th>er</th>\n",
       "      <td>12336</td>\n",
       "    </tr>\n",
       "    <tr>\n",
       "      <th>re</th>\n",
       "      <td>10424</td>\n",
       "    </tr>\n",
       "    <tr>\n",
       "      <th>an</th>\n",
       "      <td>9890</td>\n",
       "    </tr>\n",
       "    <tr>\n",
       "      <th>es</th>\n",
       "      <td>9260</td>\n",
       "    </tr>\n",
       "  </tbody>\n",
       "</table>\n",
       "</div>"
      ],
      "text/plain": [
       "                value\n",
       "class variable       \n",
       "legit in        12805\n",
       "      er        12336\n",
       "      re        10424\n",
       "      an         9890\n",
       "      es         9260"
      ]
     },
     "execution_count": 126,
     "metadata": {},
     "output_type": "execute_result"
    }
   ],
   "source": [
    "domain_windows_count_by_class_df = domain_windows_df.groupby([\"class\"]).sum()\n",
    "domain_windows_count_by_class_df = domain_windows_count_by_class_df.reset_index().melt(id_vars=\"class\").groupby([\"class\", \"variable\"]).sum().sort_values(\"value\", ascending = False)\n",
    "domain_windows_count_by_class_df.head()"
   ]
  },
  {
   "cell_type": "markdown",
   "metadata": {
    "colab_type": "text",
    "id": "DAhlPjp63Gbr"
   },
   "source": [
    "For the purposes of visualising we'll need a count of total records by class type."
   ]
  },
  {
   "cell_type": "code",
   "execution_count": 127,
   "metadata": {
    "colab": {},
    "colab_type": "code",
    "id": "Az59InGVzDVX"
   },
   "outputs": [],
   "source": [
    "total_class_counts = data_df[\"class\"].value_counts()\n",
    "total_class_counts.name = \"total\""
   ]
  },
  {
   "cell_type": "markdown",
   "metadata": {
    "colab_type": "text",
    "id": "jgGcinpr3BOA"
   },
   "source": [
    "As we increase the number of pairs we consider the greater the likelihood of getting matches in both the `legit` and `dga` class.\n",
    "\n",
    "Let's gradually increase the number of pairs we're considering and plot the matches compared the total count per class."
   ]
  },
  {
   "cell_type": "code",
   "execution_count": 128,
   "metadata": {
    "colab": {},
    "colab_type": "code",
    "id": "JpOnf31t3vcZ"
   },
   "outputs": [],
   "source": [
    "def display_matching_pairs(windows_count_by_class_df, domain_class, max_pairs, total_class_counts, data_df, domain_windows_df):\n",
    "    matches = list()\n",
    "\n",
    "    grid_col_size = 4\n",
    "\n",
    "    fig, ax = plt.subplots(\n",
    "        figsize=(5 * grid_col_size, 4 * (max_pairs // grid_col_size)), \n",
    "        ncols = grid_col_size, \n",
    "        nrows = (max_pairs // grid_col_size)\n",
    "    )\n",
    "\n",
    "    character_pairs = windows_count_by_class_df.loc[domain_class, :].sort_values(\n",
    "        \"value\", ascending = False\n",
    "    ).head(max_pairs).reset_index()[\"variable\"].values\n",
    "    \n",
    "    print(f\"top {max_pairs} character pairs for {domain_class}:\", character_pairs)\n",
    "\n",
    "    for i in range(0, max_pairs):\n",
    "        class_matching_character_pairs = data_df[(domain_windows_df[character_pairs[:i+1]] > 0).apply(any, axis = 1)][\"class\"].value_counts()\n",
    "        class_matching_character_pairs.name = f\"{i+1}\"\n",
    "        matches.append(class_matching_character_pairs)\n",
    "\n",
    "        pd.DataFrame( [ total_class_counts, class_matching_character_pairs] ).T.plot.barh(legend=\"True\", ax = ax[i // grid_col_size, i % grid_col_size])\n",
    "\n",
    "    return pd.DataFrame(matches)"
   ]
  },
  {
   "cell_type": "code",
   "execution_count": 129,
   "metadata": {
    "colab": {
     "base_uri": "https://localhost:8080/",
     "height": 1000
    },
    "colab_type": "code",
    "id": "u_Wo2t3T4wiJ",
    "outputId": "b51eeb8f-6814-4a37-f82a-c4e6402416ed"
   },
   "outputs": [
    {
     "name": "stdout",
     "output_type": "stream",
     "text": [
      "top 20 character pairs for legit: ['in' 'er' 're' 'an' 'es' 'ar' 'on' 'or' 'st' 'ne' 'te' 'li' 'al' 'ra'\n",
      " 'en' 'ma' 'me' 'to' 'ti' 'le']\n"
     ]
    },
    {
     "data": {
      "image/png": "[encoded data removed]",
      "text/plain": [
       "<Figure size 1440x1440 with 20 Axes>"
      ]
     },
     "metadata": {
      "needs_background": "light"
     },
     "output_type": "display_data"
    }
   ],
   "source": [
    "legit_pair_matches_df = display_matching_pairs(domain_windows_count_by_class_df, \"legit\", 20, total_class_counts, data_df, domain_windows_df)"
   ]
  },
  {
   "cell_type": "markdown",
   "metadata": {
    "colab_type": "text",
    "id": "iHG0ozXj-aa4"
   },
   "source": [
    " Lets we visualise the growth as we increase the number of pairs as a line plot."
   ]
  },
  {
   "cell_type": "code",
   "execution_count": 130,
   "metadata": {
    "colab": {},
    "colab_type": "code",
    "id": "r_yO1zPlH1hU"
   },
   "outputs": [],
   "source": [
    "legit_pair_matches_df[\"diff\"] = legit_pair_matches_df[\"legit\"] - legit_pair_matches_df[\"dga\"]"
   ]
  },
  {
   "cell_type": "code",
   "execution_count": 131,
   "metadata": {
    "colab": {
     "base_uri": "https://localhost:8080/",
     "height": 282
    },
    "colab_type": "code",
    "id": "s6w1a3qe5j8O",
    "outputId": "e2435a3e-7ee1-485b-db77-28da53083db3"
   },
   "outputs": [
    {
     "data": {
      "text/plain": [
       "<matplotlib.axes._subplots.AxesSubplot at 0x2091f712278>"
      ]
     },
     "execution_count": 131,
     "metadata": {},
     "output_type": "execute_result"
    },
    {
     "data": {
      "image/png": "[encoded data removed]",
      "text/plain": [
       "<Figure size 432x288 with 1 Axes>"
      ]
     },
     "metadata": {
      "needs_background": "light"
     },
     "output_type": "display_data"
    }
   ],
   "source": [
    "legit_pair_matches_df.plot(legend=True, ylim=(0,len(data_df)), xticks=range(0,21))"
   ]
  },
  {
   "cell_type": "markdown",
   "metadata": {
    "colab_type": "text",
    "id": "28VewWwiBEtz"
   },
   "source": [
    "The change in `dga` matches seems to be almost linear, let's investigate the rate of change as a gradient to identify where the plateau effect kicks in."
   ]
  },
  {
   "cell_type": "code",
   "execution_count": 132,
   "metadata": {
    "colab": {
     "base_uri": "https://localhost:8080/",
     "height": 265
    },
    "colab_type": "code",
    "id": "OQbaMW2DB6al",
    "outputId": "e844573f-55eb-4009-a6a1-8352da2cbb7c"
   },
   "outputs": [
    {
     "data": {
      "image/png": "[encoded data removed]",
      "text/plain": [
       "<Figure size 432x288 with 1 Axes>"
      ]
     },
     "metadata": {
      "needs_background": "light"
     },
     "output_type": "display_data"
    }
   ],
   "source": [
    "ax = (legit_pair_matches_df.apply(np.gradient)).apply(pd.Series).plot(\n",
    "    xticks=np.arange(20)\n",
    ")\n",
    "ax = ax.set_xticklabels(list(range(1,21)))"
   ]
  },
  {
   "cell_type": "markdown",
   "metadata": {
    "colab_type": "text",
    "id": "iyiBy5ZuBj5Q"
   },
   "source": [
    "It would seem the plateau kicks in good and proper from 9 pairs onwards. "
   ]
  },
  {
   "cell_type": "markdown",
   "metadata": {
    "colab_type": "text",
    "id": "b5aQHHIyJlRm"
   },
   "source": [
    "Let's review the above but for the top pairs for `dga` ."
   ]
  },
  {
   "cell_type": "code",
   "execution_count": 133,
   "metadata": {
    "colab": {
     "base_uri": "https://localhost:8080/",
     "height": 1000
    },
    "colab_type": "code",
    "id": "D-Nn45Yk6PLe",
    "outputId": "4f38a614-4041-4d3d-8abb-4dd6fd214d11"
   },
   "outputs": [
    {
     "name": "stdout",
     "output_type": "stream",
     "text": [
      "top 20 character pairs for dga: ['yh' 'kb' 'yp' 'cu' 'yt' 'yl' 'yx' 'ws' 'qk' 'yd' 'fu' 'oj' 'rc' 'uk'\n",
      " 'nb' 'hu' 'lj' 'mr' 'tk' 'lr']\n"
     ]
    },
    {
     "data": {
      "image/png": "[encoded data removed]",
      "text/plain": [
       "<Figure size 1440x1440 with 20 Axes>"
      ]
     },
     "metadata": {
      "needs_background": "light"
     },
     "output_type": "display_data"
    }
   ],
   "source": [
    "dga_pair_matches_df = display_matching_pairs(domain_windows_count_by_class_df, \"dga\", 20, total_class_counts, data_df, domain_windows_df)"
   ]
  },
  {
   "cell_type": "code",
   "execution_count": 134,
   "metadata": {
    "colab": {},
    "colab_type": "code",
    "id": "4dumBLx5ICrl"
   },
   "outputs": [],
   "source": [
    "dga_pair_matches_df[\"diff\"] = dga_pair_matches_df[\"dga\"] - dga_pair_matches_df[\"legit\"]"
   ]
  },
  {
   "cell_type": "code",
   "execution_count": 135,
   "metadata": {
    "colab": {
     "base_uri": "https://localhost:8080/",
     "height": 282
    },
    "colab_type": "code",
    "id": "hPWFs9nFIwgt",
    "outputId": "ede49a43-c65a-467d-d6e1-4cf68877aea2"
   },
   "outputs": [
    {
     "data": {
      "text/plain": [
       "<matplotlib.axes._subplots.AxesSubplot at 0x209205a1278>"
      ]
     },
     "execution_count": 135,
     "metadata": {},
     "output_type": "execute_result"
    },
    {
     "data": {
      "image/png": "[encoded data removed]",
      "text/plain": [
       "<Figure size 432x288 with 1 Axes>"
      ]
     },
     "metadata": {
      "needs_background": "light"
     },
     "output_type": "display_data"
    }
   ],
   "source": [
    "dga_pair_matches_df.plot(legend=True, ylim=(0,len(data_df)), xticks=range(0,21))"
   ]
  },
  {
   "cell_type": "code",
   "execution_count": 136,
   "metadata": {
    "colab": {
     "base_uri": "https://localhost:8080/",
     "height": 265
    },
    "colab_type": "code",
    "id": "GKSH4nBB6R2A",
    "outputId": "a14ee1b5-7030-4197-c897-310489ba6e2b"
   },
   "outputs": [
    {
     "data": {
      "image/png": "[encoded data removed]",
      "text/plain": [
       "<Figure size 432x288 with 1 Axes>"
      ]
     },
     "metadata": {
      "needs_background": "light"
     },
     "output_type": "display_data"
    }
   ],
   "source": [
    "ax = (dga_pair_matches_df.apply(np.gradient)).apply(pd.Series).plot(\n",
    "    xticks=np.arange(20)\n",
    ")\n",
    "ax = ax.set_xticklabels(list(range(1,21)))"
   ]
  },
  {
   "cell_type": "markdown",
   "metadata": {
    "colab_type": "text",
    "id": "eswJurbzJ0Jr"
   },
   "source": [
    "It would seem the frequent character pairs for `dga` entries when considered for the entire dataset aren't illustrative. The rate of growth in `legit` classes outpaces `dga` matches at a number of steps as we increase the number of pairs to be considered.\n",
    "\n",
    "This would suggest these word pairs are perhaps too noisy to be considered as features in our model."
   ]
  },
  {
   "cell_type": "code",
   "execution_count": 137,
   "metadata": {
    "colab": {
     "base_uri": "https://localhost:8080/",
     "height": 265
    },
    "colab_type": "code",
    "id": "5q3sjA-FIu9Z",
    "outputId": "eb899e72-90d8-41d2-9939-c633efffc3f6"
   },
   "outputs": [
    {
     "data": {
      "image/png": "[encoded data removed]",
      "text/plain": [
       "<Figure size 432x288 with 1 Axes>"
      ]
     },
     "metadata": {
      "needs_background": "light"
     },
     "output_type": "display_data"
    }
   ],
   "source": [
    "ax = (legit_pair_matches_df.apply(np.gradient)).apply(pd.Series).plot(\n",
    "    xticks=np.arange(20)\n",
    ")\n",
    "ax = ax.set_xticklabels(list(range(1,21)))"
   ]
  },
  {
   "cell_type": "markdown",
   "metadata": {},
   "source": [
    "Let's take the top 10 most frequently occuring word pairs in the dataset for `legit` entries."
   ]
  },
  {
   "cell_type": "code",
   "execution_count": 138,
   "metadata": {
    "colab": {
     "base_uri": "https://localhost:8080/",
     "height": 51
    },
    "colab_type": "code",
    "id": "5rW4imoRsbJz",
    "outputId": "4daa7cc4-09a9-4f61-8391-f9dcbd813df9"
   },
   "outputs": [
    {
     "data": {
      "text/plain": [
       "array(['in', 'er', 're', 'an', 'es', 'ar', 'on', 'or', 'st', 'ne'],\n",
       "      dtype=object)"
      ]
     },
     "execution_count": 138,
     "metadata": {},
     "output_type": "execute_result"
    }
   ],
   "source": [
    "legit_character_pairs = domain_windows_count_by_class_df.loc[\"legit\", :].\\\n",
    "    sort_values(\"value\", ascending = False).head(10).reset_index()[\"variable\"].values\n",
    "\n",
    "legit_character_pairs"
   ]
  },
  {
   "cell_type": "code",
   "execution_count": 139,
   "metadata": {
    "colab": {},
    "colab_type": "code",
    "id": "56Sx8SLFyRDF"
   },
   "outputs": [],
   "source": [
    "class_matching_legit_character_pairs = data_df[(domain_windows_df[legit_character_pairs] > 0).\\\n",
    "                                                   apply(any, axis = 1)][\"class\"].value_counts()\n",
    "\n",
    "class_matching_legit_character_pairs.name = \"matching\""
   ]
  },
  {
   "cell_type": "markdown",
   "metadata": {},
   "source": [
    "Now let's plot the number of domains that contain any of the `legit_character_pairs` by class."
   ]
  },
  {
   "cell_type": "code",
   "execution_count": 140,
   "metadata": {
    "colab": {
     "base_uri": "https://localhost:8080/",
     "height": 282
    },
    "colab_type": "code",
    "id": "xTU1AdmFyfqe",
    "outputId": "fe807fbd-96df-46a2-ff3a-3f0cef2dcc08"
   },
   "outputs": [
    {
     "data": {
      "text/plain": [
       "<matplotlib.axes._subplots.AxesSubplot at 0x2091feb46d8>"
      ]
     },
     "execution_count": 140,
     "metadata": {},
     "output_type": "execute_result"
    },
    {
     "data": {
      "image/png": "[encoded data removed]",
      "text/plain": [
       "<Figure size 432x288 with 1 Axes>"
      ]
     },
     "metadata": {
      "needs_background": "light"
     },
     "output_type": "display_data"
    }
   ],
   "source": [
    "pd.DataFrame( [ total_class_counts, class_matching_legit_character_pairs] ).T.plot.barh()"
   ]
  },
  {
   "cell_type": "markdown",
   "metadata": {},
   "source": [
    "Let's get the top most occurring `dga` character pairs."
   ]
  },
  {
   "cell_type": "code",
   "execution_count": 141,
   "metadata": {
    "colab": {
     "base_uri": "https://localhost:8080/",
     "height": 34
    },
    "colab_type": "code",
    "id": "1-iGJSTbt1Wv",
    "outputId": "78d46041-d951-47e6-b23e-8dc5500c62a6"
   },
   "outputs": [
    {
     "data": {
      "text/plain": [
       "array(['yh', 'kb', 'yp', 'cu', 'yt', 'yl', 'yx', 'ws', 'qk', 'yd'],\n",
       "      dtype=object)"
      ]
     },
     "execution_count": 141,
     "metadata": {},
     "output_type": "execute_result"
    }
   ],
   "source": [
    "dga_character_pairs = domain_windows_count_by_class_df.loc[\"dga\", :].sort_values(\"value\", ascending = False).head(10).reset_index()[\"variable\"].values\n",
    "dga_character_pairs"
   ]
  },
  {
   "cell_type": "markdown",
   "metadata": {},
   "source": [
    "Now let's plot the number of domains that contain any of the `dga_character_pairs` by class."
   ]
  },
  {
   "cell_type": "code",
   "execution_count": 142,
   "metadata": {
    "colab": {},
    "colab_type": "code",
    "id": "3VQe3iuPzc_E"
   },
   "outputs": [],
   "source": [
    "class_matching_dga_character_pairs = data_df[(domain_windows_df[dga_character_pairs] > 0).apply(any, axis = 1)][\"class\"].value_counts()\n",
    "class_matching_legit_character_pairs.name = \"matching\""
   ]
  },
  {
   "cell_type": "code",
   "execution_count": 143,
   "metadata": {
    "colab": {
     "base_uri": "https://localhost:8080/",
     "height": 282
    },
    "colab_type": "code",
    "id": "yUzNY12zzgcR",
    "outputId": "1349ac13-8372-484a-9d1e-d722ad95efa0"
   },
   "outputs": [
    {
     "data": {
      "text/plain": [
       "<matplotlib.axes._subplots.AxesSubplot at 0x2091ff2b160>"
      ]
     },
     "execution_count": 143,
     "metadata": {},
     "output_type": "execute_result"
    },
    {
     "data": {
      "image/png": "[encoded data removed]",
      "text/plain": [
       "<Figure size 432x288 with 1 Axes>"
      ]
     },
     "metadata": {
      "needs_background": "light"
     },
     "output_type": "display_data"
    }
   ],
   "source": [
    "pd.DataFrame( [ total_class_counts, class_matching_dga_character_pairs] ).T.plot.barh()"
   ]
  },
  {
   "cell_type": "markdown",
   "metadata": {},
   "source": [
    "## Observations on Character Pair Windows\n",
    "\n",
    "Taking a sample windowed character pairs from `legit` domains ordered by their frequency of appearance as a feature may provide some discriminatory value. The `dga` character pairs are too noisy, probably a result the `words` being generated."
   ]
  },
  {
   "cell_type": "markdown",
   "metadata": {
    "colab_type": "text",
    "id": "qXODOLJoQqOv"
   },
   "source": [
    "# Frequency Analysis\n",
    "\n",
    "If we assigned classes based on their frequency what level of accuracy would we achieve?"
   ]
  },
  {
   "cell_type": "code",
   "execution_count": 144,
   "metadata": {
    "colab": {},
    "colab_type": "code",
    "id": "BT8a_sjmTx0N"
   },
   "outputs": [],
   "source": [
    "def get_probabilities(df, column):\n",
    "    return (pd.DataFrame(df[column].value_counts()) / len(df)).to_dict()[column]"
   ]
  },
  {
   "cell_type": "code",
   "execution_count": 145,
   "metadata": {
    "colab": {
     "base_uri": "https://localhost:8080/",
     "height": 34
    },
    "colab_type": "code",
    "id": "J-RhfL4gUbzU",
    "outputId": "4983a7a3-b9eb-425c-8fee-072da1abc49b"
   },
   "outputs": [
    {
     "data": {
      "text/plain": [
       "{'legit': 0.6067604498006361, 'dga': 0.39323955019936385}"
      ]
     },
     "execution_count": 145,
     "metadata": {},
     "output_type": "execute_result"
    }
   ],
   "source": [
    "class_probabilities = get_probabilities(data_df, \"class\")\n",
    "class_probabilities"
   ]
  },
  {
   "cell_type": "code",
   "execution_count": 146,
   "metadata": {
    "colab": {},
    "colab_type": "code",
    "id": "qApjsvlxBxwp"
   },
   "outputs": [],
   "source": [
    "def random_prob_assignment(probabilities_dict):\n",
    "    return np.random.choice(list(probabilities_dict.keys()), p = list(probabilities_dict.values()))"
   ]
  },
  {
   "cell_type": "code",
   "execution_count": 147,
   "metadata": {
    "colab": {},
    "colab_type": "code",
    "id": "tPTTCaoit9MN"
   },
   "outputs": [],
   "source": [
    "def probability_assignment_accuracy(df, column, probabilities_dict):\n",
    "    assigned_values = df[column].apply(lambda x: random_prob_assignment(probabilities_dict))\n",
    "    return len(df[assigned_values == df[column]]) / len(df)"
   ]
  },
  {
   "cell_type": "code",
   "execution_count": 148,
   "metadata": {
    "colab": {},
    "colab_type": "code",
    "id": "yAAHdy47UhUU"
   },
   "outputs": [],
   "source": [
    "number_of_trials = 10\n",
    "class_probability_assignment_trials = pd.Series([probability_assignment_accuracy(data_df, \"class\", class_probabilities) for x in range(number_of_trials)])"
   ]
  },
  {
   "cell_type": "code",
   "execution_count": 149,
   "metadata": {
    "colab": {
     "base_uri": "https://localhost:8080/",
     "height": 285
    },
    "colab_type": "code",
    "id": "Qx11kXpMUm2z",
    "outputId": "d869a1fb-2a5b-4dfa-bbda-a7fd79efb25b"
   },
   "outputs": [
    {
     "data": {
      "text/plain": [
       "<matplotlib.axes._subplots.AxesSubplot at 0x2091ff8ca90>"
      ]
     },
     "execution_count": 149,
     "metadata": {},
     "output_type": "execute_result"
    },
    {
     "data": {
      "image/png": "[encoded data removed]",
      "text/plain": [
       "<Figure size 432x288 with 1 Axes>"
      ]
     },
     "metadata": {
      "needs_background": "light"
     },
     "output_type": "display_data"
    }
   ],
   "source": [
    "class_probability_assignment_trials.plot.kde()"
   ]
  },
  {
   "cell_type": "code",
   "execution_count": 150,
   "metadata": {
    "colab": {
     "base_uri": "https://localhost:8080/",
     "height": 170
    },
    "colab_type": "code",
    "id": "mauoHBLQUpR0",
    "outputId": "b9a18e4c-28ac-4f73-8791-c6bdf0878f69"
   },
   "outputs": [
    {
     "data": {
      "text/plain": [
       "count    10.000000\n",
       "mean      0.522942\n",
       "std       0.001389\n",
       "min       0.521086\n",
       "25%       0.521881\n",
       "50%       0.522946\n",
       "75%       0.523845\n",
       "max       0.525499\n",
       "dtype: float64"
      ]
     },
     "execution_count": 150,
     "metadata": {},
     "output_type": "execute_result"
    }
   ],
   "source": [
    "class_probability_assignment_trials.describe()"
   ]
  },
  {
   "cell_type": "markdown",
   "metadata": {
    "colab_type": "text",
    "id": "7QQ6jN5y6hXh"
   },
   "source": [
    "Assigning the class based on frequency seems to converge on 52% accuracy, so a favourable coin toss."
   ]
  },
  {
   "cell_type": "code",
   "execution_count": 151,
   "metadata": {
    "colab": {
     "base_uri": "https://localhost:8080/",
     "height": 85
    },
    "colab_type": "code",
    "id": "7iHANaEmj2ka",
    "outputId": "b8bfb406-b6f9-4755-b233-bec91f8099bc"
   },
   "outputs": [
    {
     "data": {
      "text/plain": [
       "{'legit': 0.6067604498006361,\n",
       " 'cryptolocker': 0.2562534533996386,\n",
       " 'newgoz': 0.08212744351358213,\n",
       " 'goz': 0.054858653286143096}"
      ]
     },
     "execution_count": 151,
     "metadata": {},
     "output_type": "execute_result"
    }
   ],
   "source": [
    "subclass_probabilities = get_probabilities(data_df, \"subclass\")\n",
    "subclass_probabilities"
   ]
  },
  {
   "cell_type": "code",
   "execution_count": 152,
   "metadata": {
    "colab": {},
    "colab_type": "code",
    "id": "2ge7cVYHucvh"
   },
   "outputs": [],
   "source": [
    "number_of_trials = 10\n",
    "subclass_probability_assignment_trials = pd.Series([probability_assignment_accuracy(data_df, \"subclass\", subclass_probabilities) for x in range(number_of_trials)])"
   ]
  },
  {
   "cell_type": "code",
   "execution_count": 153,
   "metadata": {
    "colab": {
     "base_uri": "https://localhost:8080/",
     "height": 282
    },
    "colab_type": "code",
    "id": "0EP5I0nLCBA7",
    "outputId": "f6cf3110-8514-4d5c-b022-1ddfd2c00cbe"
   },
   "outputs": [
    {
     "data": {
      "text/plain": [
       "<matplotlib.axes._subplots.AxesSubplot at 0x2094cebc828>"
      ]
     },
     "execution_count": 153,
     "metadata": {},
     "output_type": "execute_result"
    },
    {
     "data": {
      "image/png": "[encoded data removed]",
      "text/plain": [
       "<Figure size 432x288 with 1 Axes>"
      ]
     },
     "metadata": {
      "needs_background": "light"
     },
     "output_type": "display_data"
    }
   ],
   "source": [
    "subclass_probability_assignment_trials.plot.kde()"
   ]
  },
  {
   "cell_type": "code",
   "execution_count": 154,
   "metadata": {
    "colab": {
     "base_uri": "https://localhost:8080/",
     "height": 170
    },
    "colab_type": "code",
    "id": "c6AyJ5qkC2BF",
    "outputId": "5a201237-c79b-4dab-ddcd-4af58e2e340a"
   },
   "outputs": [
    {
     "data": {
      "text/plain": [
       "count    10.000000\n",
       "mean      0.444362\n",
       "std       0.001168\n",
       "min       0.442476\n",
       "25%       0.444122\n",
       "50%       0.444279\n",
       "75%       0.444718\n",
       "max       0.446687\n",
       "dtype: float64"
      ]
     },
     "execution_count": 154,
     "metadata": {},
     "output_type": "execute_result"
    }
   ],
   "source": [
    "subclass_probability_assignment_trials.describe()"
   ]
  },
  {
   "cell_type": "markdown",
   "metadata": {
    "colab_type": "text",
    "id": "m7rRaP2k1gaT"
   },
   "source": [
    "## Observations on Frequency Analysis\n",
    "\n",
    "If we developed a model purely on frequency of class we'd expect an accuaracy of ~52%\n",
    "\n",
    "We could certainly do better with the application of appropriate models."
   ]
  }
 ],
 "metadata": {
  "colab": {
   "collapsed_sections": [],
   "name": "Copy of Phishing Urls - EDA",
   "provenance": [],
   "toc_visible": true
  },
  "kernelspec": {
   "display_name": "domain_generation_algorithm_classifier",
   "language": "python",
   "name": "domain_generation_algorithm_classifier"
  },
  "language_info": {
   "codemirror_mode": {
    "name": "ipython",
    "version": 3
   },
   "file_extension": ".py",
   "mimetype": "text/x-python",
   "name": "python",
   "nbconvert_exporter": "python",
   "pygments_lexer": "ipython3",
   "version": "3.7.1"
  }
 },
 "nbformat": 4,
 "nbformat_minor": 1
}
