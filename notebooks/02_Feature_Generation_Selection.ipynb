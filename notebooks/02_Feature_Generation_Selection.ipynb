{
 "cells": [
  {
   "cell_type": "markdown",
   "metadata": {},
   "source": [
    "# Domain Generating Algorithms - Model / Feature Selection\n",
    "\n",
    "Now that we've explored the data and developed a pipeline for generating features, let's identifying which type of classification model is up to the task.\n",
    "\n",
    "There are a couple of considerations:\n",
    "* Scoring, how well does the model generalise to data it was not trained particularly given the imbalanced nature of the data\n",
    "* Complexity, is the model one that we can explain to people who may not have an understanding of model development but may be held accountable for the decisions made by the model.\n",
    "* Time, how long does it take for the model to be fit\n",
    "\n",
    "Depending on the siutation we can make different trade-offs on the above. I am assuming that priorities are in the order that they listed."
   ]
  },
  {
   "cell_type": "code",
   "execution_count": 1,
   "metadata": {},
   "outputs": [],
   "source": [
    "import os\n",
    "from time import time\n",
    "import numpy as np\n",
    "import pandas as pd\n",
    "import seaborn as sns\n",
    "import matplotlib.pyplot as plt\n",
    "\n",
    "from sklearn.pipeline import Pipeline\n",
    "from sklearn.pipeline import FeatureUnion\n",
    "from sklearn.metrics import confusion_matrix, accuracy_score, precision_score, recall_score, f1_score, classification_report\n",
    "from sklearn.decomposition import PCA\n",
    "from sklearn.preprocessing import StandardScaler\n",
    "from sklearn.model_selection import train_test_split"
   ]
  },
  {
   "cell_type": "markdown",
   "metadata": {},
   "source": [
    "Change our working directory so our project src import will work."
   ]
  },
  {
   "cell_type": "code",
   "execution_count": 2,
   "metadata": {},
   "outputs": [],
   "source": [
    "os.chdir(\"../\")"
   ]
  },
  {
   "cell_type": "code",
   "execution_count": 3,
   "metadata": {},
   "outputs": [
    {
     "name": "stdout",
     "output_type": "stream",
     "text": [
      "external\n",
      "interim\n",
      "processed\n",
      "raw\n"
     ]
    }
   ],
   "source": [
    "! ls data"
   ]
  },
  {
   "cell_type": "markdown",
   "metadata": {},
   "source": [
    "Yes we are let's import the function we need to prepare our data."
   ]
  },
  {
   "cell_type": "markdown",
   "metadata": {},
   "source": [
    "## Reading in and Preprocessing Data"
   ]
  },
  {
   "cell_type": "code",
   "execution_count": 4,
   "metadata": {},
   "outputs": [],
   "source": [
    "from src.preprocessing import NormaliseTextColumnsTransformer"
   ]
  },
  {
   "cell_type": "code",
   "execution_count": 5,
   "metadata": {},
   "outputs": [],
   "source": [
    "input_df = pd.read_csv(\"data/raw/dga_domains.csv\")"
   ]
  },
  {
   "cell_type": "code",
   "execution_count": 6,
   "metadata": {},
   "outputs": [],
   "source": [
    "preprocess_pipeline = Pipeline([\n",
    "    (\n",
    "        \"preprocess\",\n",
    "        NormaliseTextColumnsTransformer(\"normed\", [\"domain\"])\n",
    "    )\n",
    "])"
   ]
  },
  {
   "cell_type": "code",
   "execution_count": 7,
   "metadata": {},
   "outputs": [],
   "source": [
    "preprocess_out = preprocess_pipeline.transform(input_df)"
   ]
  },
  {
   "cell_type": "code",
   "execution_count": 8,
   "metadata": {},
   "outputs": [],
   "source": [
    "df = pd.DataFrame(preprocess_out, columns = preprocess_pipeline[\"preprocess\"].get_feature_names())"
   ]
  },
  {
   "cell_type": "code",
   "execution_count": 9,
   "metadata": {},
   "outputs": [
    {
     "data": {
      "text/html": [
       "<div>\n",
       "<style scoped>\n",
       "    .dataframe tbody tr th:only-of-type {\n",
       "        vertical-align: middle;\n",
       "    }\n",
       "\n",
       "    .dataframe tbody tr th {\n",
       "        vertical-align: top;\n",
       "    }\n",
       "\n",
       "    .dataframe thead th {\n",
       "        text-align: right;\n",
       "    }\n",
       "</style>\n",
       "<table border=\"1\" class=\"dataframe\">\n",
       "  <thead>\n",
       "    <tr style=\"text-align: right;\">\n",
       "      <th></th>\n",
       "      <th>host</th>\n",
       "      <th>class</th>\n",
       "      <th>subclass</th>\n",
       "      <th>domain_normed</th>\n",
       "    </tr>\n",
       "  </thead>\n",
       "  <tbody>\n",
       "    <tr>\n",
       "      <th>0</th>\n",
       "      <td>000directory.com.ar</td>\n",
       "      <td>legit</td>\n",
       "      <td>legit</td>\n",
       "      <td>000directory</td>\n",
       "    </tr>\n",
       "    <tr>\n",
       "      <th>1</th>\n",
       "      <td>000webhost.com</td>\n",
       "      <td>legit</td>\n",
       "      <td>legit</td>\n",
       "      <td>000webhost</td>\n",
       "    </tr>\n",
       "    <tr>\n",
       "      <th>2</th>\n",
       "      <td>001fans.com</td>\n",
       "      <td>legit</td>\n",
       "      <td>legit</td>\n",
       "      <td>001fans</td>\n",
       "    </tr>\n",
       "    <tr>\n",
       "      <th>3</th>\n",
       "      <td>01-telecharger.com</td>\n",
       "      <td>legit</td>\n",
       "      <td>legit</td>\n",
       "      <td>01-telecharger</td>\n",
       "    </tr>\n",
       "    <tr>\n",
       "      <th>4</th>\n",
       "      <td>010shangpu.com</td>\n",
       "      <td>legit</td>\n",
       "      <td>legit</td>\n",
       "      <td>010shangpu</td>\n",
       "    </tr>\n",
       "  </tbody>\n",
       "</table>\n",
       "</div>"
      ],
      "text/plain": [
       "                  host  class subclass   domain_normed\n",
       "0  000directory.com.ar  legit    legit    000directory\n",
       "1       000webhost.com  legit    legit      000webhost\n",
       "2          001fans.com  legit    legit         001fans\n",
       "3   01-telecharger.com  legit    legit  01-telecharger\n",
       "4       010shangpu.com  legit    legit      010shangpu"
      ]
     },
     "execution_count": 9,
     "metadata": {},
     "output_type": "execute_result"
    }
   ],
   "source": [
    "df.head()"
   ]
  },
  {
   "cell_type": "code",
   "execution_count": 10,
   "metadata": {},
   "outputs": [],
   "source": [
    "df = df[[\"class\", \"domain_normed\"]]"
   ]
  },
  {
   "cell_type": "code",
   "execution_count": 11,
   "metadata": {},
   "outputs": [
    {
     "data": {
      "text/plain": [
       "133926"
      ]
     },
     "execution_count": 11,
     "metadata": {},
     "output_type": "execute_result"
    }
   ],
   "source": [
    "len(df)"
   ]
  },
  {
   "cell_type": "code",
   "execution_count": 12,
   "metadata": {},
   "outputs": [],
   "source": [
    "df = df.dropna()"
   ]
  },
  {
   "cell_type": "code",
   "execution_count": 13,
   "metadata": {},
   "outputs": [
    {
     "data": {
      "text/plain": [
       "133926"
      ]
     },
     "execution_count": 13,
     "metadata": {},
     "output_type": "execute_result"
    }
   ],
   "source": [
    "len(df)"
   ]
  },
  {
   "cell_type": "code",
   "execution_count": 14,
   "metadata": {},
   "outputs": [],
   "source": [
    "df = df.drop_duplicates()"
   ]
  },
  {
   "cell_type": "code",
   "execution_count": 15,
   "metadata": {},
   "outputs": [
    {
     "data": {
      "text/plain": [
       "114525"
      ]
     },
     "execution_count": 15,
     "metadata": {},
     "output_type": "execute_result"
    }
   ],
   "source": [
    "len(df)"
   ]
  },
  {
   "cell_type": "code",
   "execution_count": 16,
   "metadata": {},
   "outputs": [
    {
     "data": {
      "text/html": [
       "<div>\n",
       "<style scoped>\n",
       "    .dataframe tbody tr th:only-of-type {\n",
       "        vertical-align: middle;\n",
       "    }\n",
       "\n",
       "    .dataframe tbody tr th {\n",
       "        vertical-align: top;\n",
       "    }\n",
       "\n",
       "    .dataframe thead th {\n",
       "        text-align: right;\n",
       "    }\n",
       "</style>\n",
       "<table border=\"1\" class=\"dataframe\">\n",
       "  <thead>\n",
       "    <tr style=\"text-align: right;\">\n",
       "      <th></th>\n",
       "      <th>class</th>\n",
       "      <th>domain_normed</th>\n",
       "    </tr>\n",
       "  </thead>\n",
       "  <tbody>\n",
       "    <tr>\n",
       "      <th>132340</th>\n",
       "      <td>dga</td>\n",
       "      <td>yravkfemaujp</td>\n",
       "    </tr>\n",
       "    <tr>\n",
       "      <th>111813</th>\n",
       "      <td>legit</td>\n",
       "      <td>thedailystar</td>\n",
       "    </tr>\n",
       "    <tr>\n",
       "      <th>133702</th>\n",
       "      <td>dga</td>\n",
       "      <td>zopguydozeumvnbayzdgadgypvx</td>\n",
       "    </tr>\n",
       "    <tr>\n",
       "      <th>24819</th>\n",
       "      <td>legit</td>\n",
       "      <td>chronofhorse</td>\n",
       "    </tr>\n",
       "    <tr>\n",
       "      <th>62273</th>\n",
       "      <td>legit</td>\n",
       "      <td>joydownload</td>\n",
       "    </tr>\n",
       "    <tr>\n",
       "      <th>96165</th>\n",
       "      <td>legit</td>\n",
       "      <td>rain-mail</td>\n",
       "    </tr>\n",
       "    <tr>\n",
       "      <th>4</th>\n",
       "      <td>legit</td>\n",
       "      <td>010shangpu</td>\n",
       "    </tr>\n",
       "    <tr>\n",
       "      <th>104774</th>\n",
       "      <td>legit</td>\n",
       "      <td>skyworth</td>\n",
       "    </tr>\n",
       "    <tr>\n",
       "      <th>12691</th>\n",
       "      <td>legit</td>\n",
       "      <td>apnicommunity</td>\n",
       "    </tr>\n",
       "    <tr>\n",
       "      <th>128368</th>\n",
       "      <td>dga</td>\n",
       "      <td>xctcyhlcqeapdmadcynrtt</td>\n",
       "    </tr>\n",
       "  </tbody>\n",
       "</table>\n",
       "</div>"
      ],
      "text/plain": [
       "        class                domain_normed\n",
       "132340    dga                 yravkfemaujp\n",
       "111813  legit                 thedailystar\n",
       "133702    dga  zopguydozeumvnbayzdgadgypvx\n",
       "24819   legit                 chronofhorse\n",
       "62273   legit                  joydownload\n",
       "96165   legit                    rain-mail\n",
       "4       legit                   010shangpu\n",
       "104774  legit                     skyworth\n",
       "12691   legit                apnicommunity\n",
       "128368    dga       xctcyhlcqeapdmadcynrtt"
      ]
     },
     "execution_count": 16,
     "metadata": {},
     "output_type": "execute_result"
    }
   ],
   "source": [
    "df.sample(10, random_state = 6)"
   ]
  },
  {
   "cell_type": "markdown",
   "metadata": {},
   "source": [
    "We've previously limited the scope of the effort to only consider the `domain` and the `class` attrbiute."
   ]
  },
  {
   "cell_type": "code",
   "execution_count": 17,
   "metadata": {},
   "outputs": [],
   "source": [
    "X = df[[\"domain_normed\"]]\n",
    "y = df[\"class\"]"
   ]
  },
  {
   "cell_type": "code",
   "execution_count": 18,
   "metadata": {},
   "outputs": [],
   "source": [
    "from src.features.transformer import CharacterCountTransformer\n",
    "from src.features.transformer import CharacterVarietyRatioTransformer\n",
    "from src.features.transformer import CharacterDistanceLeftRightTransformer\n",
    "from src.features.transformer import CharacterRatioTransformer\n",
    "from src.features.transformer import BinarizeCharacterPairsTransformer\n",
    "from src.features.transformer import CountCharacterPairsTransformer\n",
    "from src.features.transformer import TextLengthTransformer"
   ]
  },
  {
   "cell_type": "code",
   "execution_count": 19,
   "metadata": {},
   "outputs": [],
   "source": [
    "from src.features import mode"
   ]
  },
  {
   "cell_type": "markdown",
   "metadata": {},
   "source": [
    "Let's construct a Pipeline for generating some features we are interested in based on the EDA."
   ]
  },
  {
   "cell_type": "code",
   "execution_count": 20,
   "metadata": {},
   "outputs": [],
   "source": [
    "column = \"domain_normed\"\n",
    "\n",
    "generate_features = FeatureUnion([\n",
    "    (\n",
    "        \"digit_ratio\", \n",
    "        CharacterRatioTransformer(\n",
    "            \"digit_ratio\", [column], \n",
    "            [x for x in \"1234567890\"]\n",
    "        )\n",
    "    ),\n",
    "    (\n",
    "        \"vowel_ratio\", \n",
    "        CharacterRatioTransformer(\n",
    "            \"vowel_ratio\", [column], \n",
    "            [x for x in \"aeiouy\"]\n",
    "        )\n",
    "    ),\n",
    "    (\n",
    "        \"vowel_distance_std_ratio\",\n",
    "        CharacterDistanceLeftRightTransformer(\n",
    "            \"vowel_distance_std_ratio\", [column], \n",
    "            [x for x in \"aeiouy\"], np.std, \n",
    "            True\n",
    "        )\n",
    "    ),\n",
    "    (\n",
    "        \"vowel_distance_mode_ratio\",\n",
    "        CharacterDistanceLeftRightTransformer(\n",
    "            \"vowel_distance_mode_ratio\", [column], \n",
    "            [x for x in \"aeiouy\"], mode, \n",
    "            True\n",
    "        )\n",
    "    ),\n",
    "    (\n",
    "        \"consonants_variety_ratio\",\n",
    "        CharacterVarietyRatioTransformer(\n",
    "            \"consonants_variety_ratio\", [column],\n",
    "            [x for x in \"aeiouy\"]\n",
    "        )\n",
    "    ),\n",
    "    (\n",
    "        \"len\",\n",
    "        TextLengthTransformer(\n",
    "            \"len\", [column],\n",
    "        )\n",
    "    )\n",
    "])"
   ]
  },
  {
   "cell_type": "code",
   "execution_count": 21,
   "metadata": {},
   "outputs": [],
   "source": [
    "pipeline = Pipeline([\n",
    "    (\n",
    "        \"generate_features\",\n",
    "        generate_features\n",
    "    ) \n",
    "])"
   ]
  },
  {
   "cell_type": "code",
   "execution_count": 22,
   "metadata": {},
   "outputs": [],
   "source": [
    "eda_X = pipeline.transform(X)"
   ]
  },
  {
   "cell_type": "code",
   "execution_count": 23,
   "metadata": {},
   "outputs": [
    {
     "data": {
      "text/plain": [
       "array([[ 0.25      ,  0.33      ,  0.10276839,  0.        ,  0.38      ,\n",
       "        12.        ]])"
      ]
     },
     "execution_count": 23,
     "metadata": {},
     "output_type": "execute_result"
    }
   ],
   "source": [
    "eda_X[0:1]"
   ]
  },
  {
   "cell_type": "markdown",
   "metadata": {},
   "source": [
    "Let's get our new column names"
   ]
  },
  {
   "cell_type": "code",
   "execution_count": 24,
   "metadata": {},
   "outputs": [
    {
     "data": {
      "text/plain": [
       "['digit_ratio__domain_normed_digit_ratio',\n",
       " 'vowel_ratio__domain_normed_vowel_ratio',\n",
       " 'vowel_distance_std_ratio__domain_normed_vowel_distance_std_ratio',\n",
       " 'vowel_distance_mode_ratio__domain_normed_vowel_distance_mode_ratio',\n",
       " 'consonants_variety_ratio__domain_normed_consonants_variety_ratio',\n",
       " 'len__domain_normed_len']"
      ]
     },
     "execution_count": 24,
     "metadata": {},
     "output_type": "execute_result"
    }
   ],
   "source": [
    "generated_feature_names = pipeline['generate_features'].get_feature_names()\n",
    "generated_feature_names"
   ]
  },
  {
   "cell_type": "markdown",
   "metadata": {},
   "source": [
    "## Character Pair Counts and Binarised Appereances"
   ]
  },
  {
   "cell_type": "markdown",
   "metadata": {},
   "source": [
    "We were also interested the character pair windows, This could be encoded as binary (was a character pair present) or as a count (how many times did the character appear).\n",
    "\n",
    "However given that these will be very sparse, let's validate if there is any explanatory power to had in including only a subset of these columns by using Principal Componenet Analysis.\n",
    "\n",
    "In EDA the top 20 character pairs for `legit` records were identified."
   ]
  },
  {
   "cell_type": "code",
   "execution_count": 25,
   "metadata": {},
   "outputs": [],
   "source": [
    "top_20_legit_pairs  = ['in','er','re','an','es','ar','on', 'or', 'st', 'ne', 'te', 'li', 'al', 'ra',\n",
    " 'en', 'ma', 'me', 'to', 'ti', 'le']"
   ]
  },
  {
   "cell_type": "markdown",
   "metadata": {},
   "source": [
    "However lets see if we can identify other pairs with explanatory power using PCA."
   ]
  },
  {
   "cell_type": "code",
   "execution_count": 26,
   "metadata": {},
   "outputs": [],
   "source": [
    "bin_pairs = BinarizeCharacterPairsTransformer(\"bin_pair\", [\"domain_normed\"])\n",
    "bin_pca = PCA()\n",
    "\n",
    "bin_pipeline = Pipeline([\n",
    "    (\n",
    "        \"bin_pair\", \n",
    "        bin_pairs\n",
    "    ),\n",
    "    (\n",
    "        \"standard_scaler\",\n",
    "        StandardScaler()\n",
    "    ),\n",
    "    (\n",
    "        \"pca\",\n",
    "        bin_pca,\n",
    "    )\n",
    "])"
   ]
  },
  {
   "cell_type": "code",
   "execution_count": 27,
   "metadata": {},
   "outputs": [],
   "source": [
    "bin_X = bin_pipeline.fit_transform(X)"
   ]
  },
  {
   "cell_type": "markdown",
   "metadata": {},
   "source": [
    "Let's plot cumulative sum of explained variance as determined by PCA."
   ]
  },
  {
   "cell_type": "code",
   "execution_count": 28,
   "metadata": {},
   "outputs": [
    {
     "data": {
      "text/plain": [
       "<matplotlib.axes._subplots.AxesSubplot at 0x1f8943cab70>"
      ]
     },
     "execution_count": 28,
     "metadata": {},
     "output_type": "execute_result"
    },
    {
     "data": {
      "image/png": "[encoded data removed]",
      "text/plain": [
       "<Figure size 432x288 with 1 Axes>"
      ]
     },
     "metadata": {
      "needs_background": "light"
     },
     "output_type": "display_data"
    }
   ],
   "source": [
    "pd.Series(bin_pipeline['pca'].explained_variance_ratio_.cumsum()).plot()"
   ]
  },
  {
   "cell_type": "markdown",
   "metadata": {},
   "source": [
    "It appears that isn't a point as we increase the number of variables (our character pairs) drasticially increases the explained variance. Thus complexity and performance trade off in adding in additional variables, isn't looking too favourably.\n",
    "\n",
    "Having said that let's look at the difference in the cumulative explained variance."
   ]
  },
  {
   "cell_type": "code",
   "execution_count": 29,
   "metadata": {},
   "outputs": [
    {
     "data": {
      "text/plain": [
       "<matplotlib.axes._subplots.AxesSubplot at 0x1f89b185c88>"
      ]
     },
     "execution_count": 29,
     "metadata": {},
     "output_type": "execute_result"
    },
    {
     "data": {
      "image/png": "[encoded data removed]",
      "text/plain": [
       "<Figure size 432x288 with 1 Axes>"
      ]
     },
     "metadata": {
      "needs_background": "light"
     },
     "output_type": "display_data"
    }
   ],
   "source": [
    "pd.Series(np.diff(bin_pipeline['pca'].explained_variance_ratio_.cumsum())).plot()"
   ]
  },
  {
   "cell_type": "markdown",
   "metadata": {},
   "source": [
    "Let's focus on the begining of the line where the greatest differences in cumulative explained ratio reside,"
   ]
  },
  {
   "cell_type": "code",
   "execution_count": 30,
   "metadata": {},
   "outputs": [
    {
     "data": {
      "text/plain": [
       "<matplotlib.axes._subplots.AxesSubplot at 0x1f89ae5e3c8>"
      ]
     },
     "execution_count": 30,
     "metadata": {},
     "output_type": "execute_result"
    },
    {
     "data": {
      "image/png": "[encoded data removed]",
      "text/plain": [
       "<Figure size 432x288 with 1 Axes>"
      ]
     },
     "metadata": {
      "needs_background": "light"
     },
     "output_type": "display_data"
    }
   ],
   "source": [
    "pd.Series(np.diff(bin_pipeline['pca'].explained_variance_ratio_.cumsum()[:50])).plot()"
   ]
  },
  {
   "cell_type": "markdown",
   "metadata": {},
   "source": [
    "It would seem around 35 pairs the cumulative increase between steps starts to platuea. Like we did in our eda lets consider the top 20 from our PCA analysis. "
   ]
  },
  {
   "cell_type": "code",
   "execution_count": 31,
   "metadata": {},
   "outputs": [],
   "source": [
    "def get_pca_important_feature_per_component(pca, feature_names):\n",
    "    # as per https://stackoverflow.com/a/56722874/2805700\n",
    "    # number of components\n",
    "    n_pcs= pca.components_.shape[0]\n",
    "\n",
    "    # get the index of the most important feature on EACH component i.e. largest absolute value\n",
    "    # using LIST COMPREHENSION HERE\n",
    "    most_important = [np.abs(pca.components_[i]).argmax() for i in range(n_pcs)]\n",
    "\n",
    "    initial_feature_names = feature_names\n",
    "\n",
    "    # get the names\n",
    "    most_important_names = [initial_feature_names[most_important[i]] for i in range(n_pcs)]\n",
    "\n",
    "    # using LIST COMPREHENSION HERE AGAIN\n",
    "    dic = {'PC{}'.format(i+1): most_important_names[i] for i in range(n_pcs)}\n",
    "\n",
    "    # build the dataframe\n",
    "    return pd.DataFrame(sorted(dic.items()))"
   ]
  },
  {
   "cell_type": "code",
   "execution_count": 32,
   "metadata": {},
   "outputs": [
    {
     "data": {
      "text/plain": [
       "domain_normed_bin_pair_--    9\n",
       "domain_normed_bin_pair_or    8\n",
       "domain_normed_bin_pair_2-    8\n",
       "domain_normed_bin_pair_9-    8\n",
       "domain_normed_bin_pair_-1    8\n",
       "domain_normed_bin_pair_36    7\n",
       "domain_normed_bin_pair_e-    7\n",
       "domain_normed_bin_pair_on    7\n",
       "domain_normed_bin_pair_ff    6\n",
       "domain_normed_bin_pair_yw    6\n",
       "domain_normed_bin_pair_j-    6\n",
       "domain_normed_bin_pair_fe    6\n",
       "domain_normed_bin_pair_ve    6\n",
       "domain_normed_bin_pair_ws    6\n",
       "domain_normed_bin_pair_ee    6\n",
       "domain_normed_bin_pair_xx    5\n",
       "domain_normed_bin_pair_ss    5\n",
       "domain_normed_bin_pair_ct    5\n",
       "domain_normed_bin_pair_dt    5\n",
       "domain_normed_bin_pair_zl    5\n",
       "Name: 1, dtype: int64"
      ]
     },
     "execution_count": 32,
     "metadata": {},
     "output_type": "execute_result"
    }
   ],
   "source": [
    "get_pca_important_feature_per_component(\n",
    "    bin_pipeline['pca'],\n",
    "    bin_pipeline['bin_pair'].get_feature_names()\n",
    ")[1].value_counts()[:20]"
   ]
  },
  {
   "cell_type": "markdown",
   "metadata": {},
   "source": [
    "Very different seat of pairs as determined by PCA, compared to our EDA. How much variance do these variables explain?"
   ]
  },
  {
   "cell_type": "code",
   "execution_count": 33,
   "metadata": {},
   "outputs": [
    {
     "data": {
      "text/plain": [
       "array([0.00960384, 0.01419793, 0.01641204, 0.01812022, 0.0197454 ,\n",
       "       0.021323  , 0.02289102, 0.0244544 , 0.02598596, 0.02751267,\n",
       "       0.02902835, 0.03053819, 0.03203986, 0.03353207, 0.03502186,\n",
       "       0.03650117, 0.0379731 , 0.0394346 , 0.04089305, 0.0423447 ])"
      ]
     },
     "execution_count": 33,
     "metadata": {},
     "output_type": "execute_result"
    }
   ],
   "source": [
    "bin_pipeline['pca'].explained_variance_ratio_.cumsum()[:20]"
   ]
  },
  {
   "cell_type": "markdown",
   "metadata": {},
   "source": [
    "~ 4.2% of the dataset variance."
   ]
  },
  {
   "cell_type": "markdown",
   "metadata": {},
   "source": [
    "Now lets calculate the same for the counts."
   ]
  },
  {
   "cell_type": "code",
   "execution_count": 34,
   "metadata": {},
   "outputs": [],
   "source": [
    "count_pairs = CountCharacterPairsTransformer(\n",
    "    \"count_pair\", [\"domain_normed\"],\n",
    ")\n",
    "count_pca = PCA()\n",
    "\n",
    "count_pipeline = Pipeline([\n",
    "    (\n",
    "        \"count_pair\", \n",
    "        count_pairs,\n",
    "    ),\n",
    "    (\n",
    "        \"standard_scaler\",\n",
    "        StandardScaler()\n",
    "    ),    \n",
    "    (\n",
    "        \"pca\",\n",
    "        count_pca,\n",
    "    )\n",
    "])"
   ]
  },
  {
   "cell_type": "code",
   "execution_count": 35,
   "metadata": {},
   "outputs": [],
   "source": [
    "count_X = count_pipeline.fit_transform(X)"
   ]
  },
  {
   "cell_type": "code",
   "execution_count": 36,
   "metadata": {},
   "outputs": [
    {
     "data": {
      "text/plain": [
       "<matplotlib.axes._subplots.AxesSubplot at 0x1f89514add8>"
      ]
     },
     "execution_count": 36,
     "metadata": {},
     "output_type": "execute_result"
    },
    {
     "data": {
      "image/png": "[encoded data removed]",
      "text/plain": [
       "<Figure size 432x288 with 1 Axes>"
      ]
     },
     "metadata": {
      "needs_background": "light"
     },
     "output_type": "display_data"
    }
   ],
   "source": [
    "pd.Series(np.diff(count_pipeline['pca'].explained_variance_ratio_.cumsum())).plot()"
   ]
  },
  {
   "cell_type": "code",
   "execution_count": 37,
   "metadata": {},
   "outputs": [
    {
     "data": {
      "text/plain": [
       "<matplotlib.axes._subplots.AxesSubplot at 0x1f8929efef0>"
      ]
     },
     "execution_count": 37,
     "metadata": {},
     "output_type": "execute_result"
    },
    {
     "data": {
      "image/png": "[encoded data removed]",
      "text/plain": [
       "<Figure size 432x288 with 1 Axes>"
      ]
     },
     "metadata": {
      "needs_background": "light"
     },
     "output_type": "display_data"
    }
   ],
   "source": [
    "pd.Series(np.diff(count_pipeline['pca'].explained_variance_ratio_.cumsum()[:50])).plot()"
   ]
  },
  {
   "cell_type": "markdown",
   "metadata": {},
   "source": [
    "Now let's compare the explainable variance between bins and counts."
   ]
  },
  {
   "cell_type": "code",
   "execution_count": 38,
   "metadata": {},
   "outputs": [
    {
     "data": {
      "text/plain": [
       "array([0.01011302, 0.01496249, 0.0175134 , 0.0193576 , 0.02105553,\n",
       "       0.02270803, 0.02435471, 0.02597587, 0.02758862, 0.02919265,\n",
       "       0.03079464, 0.03237973, 0.03396163, 0.03554053, 0.03711008,\n",
       "       0.03866747, 0.04021594, 0.04176239, 0.04329578, 0.04482392])"
      ]
     },
     "execution_count": 38,
     "metadata": {},
     "output_type": "execute_result"
    }
   ],
   "source": [
    "count_pipeline['pca'].explained_variance_ratio_.cumsum()[:20]"
   ]
  },
  {
   "cell_type": "markdown",
   "metadata": {},
   "source": [
    "~ 4.4% of the dataset variance. Lets see which pairs they were."
   ]
  },
  {
   "cell_type": "code",
   "execution_count": 39,
   "metadata": {
    "scrolled": false
   },
   "outputs": [
    {
     "name": "stdout",
     "output_type": "stream",
     "text": [
      "domain_normed_count_pair_we    9\n",
      "domain_normed_count_pair_ff    7\n",
      "domain_normed_count_pair_di    7\n",
      "domain_normed_count_pair_jj    6\n",
      "domain_normed_count_pair_oo    6\n",
      "domain_normed_count_pair_ga    6\n",
      "domain_normed_count_pair_36    6\n",
      "domain_normed_count_pair_re    6\n",
      "domain_normed_count_pair_qq    6\n",
      "domain_normed_count_pair_or    6\n",
      "domain_normed_count_pair_vv    5\n",
      "domain_normed_count_pair_ve    5\n",
      "domain_normed_count_pair_he    5\n",
      "domain_normed_count_pair_ct    5\n",
      "domain_normed_count_pair_gg    5\n",
      "domain_normed_count_pair_ne    5\n",
      "domain_normed_count_pair_pv    5\n",
      "domain_normed_count_pair_12    5\n",
      "domain_normed_count_pair_wc    5\n",
      "domain_normed_count_pair_ss    5\n",
      "Name: 1, dtype: int64\n"
     ]
    }
   ],
   "source": [
    "count_pca_feature_importance = get_pca_important_feature_per_component(\n",
    "    count_pipeline['pca'],\n",
    "    count_pipeline['count_pair'].get_feature_names()\n",
    ")[1].value_counts()\n",
    "\n",
    "print(count_pca_feature_importance[:20])"
   ]
  },
  {
   "cell_type": "markdown",
   "metadata": {},
   "source": [
    "Given the nominal increase using counts rather than the binary approach, lets go forward with the counts.\n",
    "\n",
    "Let's extract the pairs identifed by PCA removing any that already appear in the `top_20_legit_pairs`."
   ]
  },
  {
   "cell_type": "code",
   "execution_count": 40,
   "metadata": {},
   "outputs": [
    {
     "name": "stdout",
     "output_type": "stream",
     "text": [
      "['we', 'ff', 'di', 'jj', 'oo', 'ga', '36', 're', 'qq', 'or', 'vv', 've', 'he', 'ct', 'gg', 'ne', 'pv', '12', 'wc', 'ss']\n",
      "['we', 'ff', 'di', 'jj', 'oo', 'ga', '36', 'qq', 'vv', 've', 'he', 'ct', 'gg', 'pv', '12', 'wc', 'ss']\n"
     ]
    }
   ],
   "source": [
    "pca_pairs = [x.replace(\"domain_normed_count_pair_\", \"\") for x in  count_pca_feature_importance.index[0:20]]\n",
    "print(pca_pairs)\n",
    "pca_pairs = [x for x in pca_pairs if x not in top_20_legit_pairs] \n",
    "print(pca_pairs)"
   ]
  },
  {
   "cell_type": "markdown",
   "metadata": {},
   "source": [
    "We could consider these pairs in addition to the ones we've previously identified."
   ]
  },
  {
   "cell_type": "markdown",
   "metadata": {},
   "source": [
    "# Feature Generation Pipeline\n"
   ]
  },
  {
   "cell_type": "code",
   "execution_count": 41,
   "metadata": {},
   "outputs": [],
   "source": [
    "combined_features = FeatureUnion([\n",
    "    (\n",
    "        \"generate_features\",\n",
    "        generate_features\n",
    "    ),\n",
    "    (\n",
    "        \"count_pairs_legit\",\n",
    "        CountCharacterPairsTransformer(\n",
    "            \"count_pair\", [\"domain_normed\"], top_20_legit_pairs\n",
    "        )\n",
    "    ),\n",
    "    (\n",
    "        \"count_pairs_pca\",\n",
    "        CountCharacterPairsTransformer(\n",
    "            \"count_pair\", [\"domain_normed\"], pca_pairs\n",
    "        )        \n",
    "    )\n",
    "])"
   ]
  },
  {
   "cell_type": "markdown",
   "metadata": {},
   "source": [
    "Once again let's apply PCA to identify the features that have explanatory power."
   ]
  },
  {
   "cell_type": "code",
   "execution_count": 42,
   "metadata": {},
   "outputs": [],
   "source": [
    "combined_pipeline = Pipeline([\n",
    "    (\n",
    "        \"combined_features\",\n",
    "        combined_features\n",
    "    ),\n",
    "    (\n",
    "        \"standard_scaler\",\n",
    "        StandardScaler()\n",
    "    ),\n",
    "])"
   ]
  },
  {
   "cell_type": "code",
   "execution_count": 43,
   "metadata": {},
   "outputs": [],
   "source": [
    "combined_X = combined_pipeline.fit_transform(X)"
   ]
  },
  {
   "cell_type": "code",
   "execution_count": 44,
   "metadata": {},
   "outputs": [],
   "source": [
    "combined_features_names = combined_pipeline[\"combined_features\"].get_feature_names()"
   ]
  },
  {
   "cell_type": "code",
   "execution_count": 45,
   "metadata": {},
   "outputs": [],
   "source": [
    "combined_pca_pipeline = Pipeline([\n",
    "    (\n",
    "        \"combined_pipeline\",\n",
    "        combined_pipeline\n",
    "    ),\n",
    "    (\n",
    "        \"pca\",\n",
    "        PCA(),\n",
    "    )\n",
    "])"
   ]
  },
  {
   "cell_type": "code",
   "execution_count": 46,
   "metadata": {},
   "outputs": [],
   "source": [
    "combined_pca_X = combined_pca_pipeline.fit_transform(X)"
   ]
  },
  {
   "cell_type": "code",
   "execution_count": 47,
   "metadata": {},
   "outputs": [
    {
     "data": {
      "text/plain": [
       "<matplotlib.axes._subplots.AxesSubplot at 0x1f89502a4a8>"
      ]
     },
     "execution_count": 47,
     "metadata": {},
     "output_type": "execute_result"
    },
    {
     "data": {
      "image/png": "[encoded data removed]",
      "text/plain": [
       "<Figure size 432x288 with 1 Axes>"
      ]
     },
     "metadata": {
      "needs_background": "light"
     },
     "output_type": "display_data"
    }
   ],
   "source": [
    "pd.Series(np.diff(combined_pca_pipeline['pca'].explained_variance_ratio_.cumsum())).plot()"
   ]
  },
  {
   "cell_type": "markdown",
   "metadata": {},
   "source": [
    "Let's have a look at the importance of our combined features."
   ]
  },
  {
   "cell_type": "code",
   "execution_count": 48,
   "metadata": {},
   "outputs": [
    {
     "name": "stdout",
     "output_type": "stream",
     "text": [
      "count_pairs_pca__domain_normed_count_pair_pv                                             3\n",
      "count_pairs_legit__domain_normed_count_pair_to                                           2\n",
      "count_pairs_pca__domain_normed_count_pair_qq                                             2\n",
      "count_pairs_pca__domain_normed_count_pair_ga                                             2\n",
      "count_pairs_legit__domain_normed_count_pair_le                                           2\n",
      "count_pairs_pca__domain_normed_count_pair_jj                                             2\n",
      "count_pairs_legit__domain_normed_count_pair_in                                           2\n",
      "count_pairs_legit__domain_normed_count_pair_ra                                           2\n",
      "generate_features__vowel_distance_mode_ratio__domain_normed_vowel_distance_mode_ratio    2\n",
      "count_pairs_legit__domain_normed_count_pair_es                                           2\n",
      "generate_features__vowel_ratio__domain_normed_vowel_ratio                                2\n",
      "count_pairs_legit__domain_normed_count_pair_al                                           1\n",
      "count_pairs_legit__domain_normed_count_pair_ar                                           1\n",
      "generate_features__len__domain_normed_len                                                1\n",
      "count_pairs_legit__domain_normed_count_pair_on                                           1\n",
      "count_pairs_legit__domain_normed_count_pair_me                                           1\n",
      "count_pairs_pca__domain_normed_count_pair_ff                                             1\n",
      "count_pairs_legit__domain_normed_count_pair_ti                                           1\n",
      "count_pairs_pca__domain_normed_count_pair_vv                                             1\n",
      "count_pairs_legit__domain_normed_count_pair_en                                           1\n",
      "count_pairs_pca__domain_normed_count_pair_oo                                             1\n",
      "count_pairs_legit__domain_normed_count_pair_or                                           1\n",
      "count_pairs_pca__domain_normed_count_pair_36                                             1\n",
      "count_pairs_pca__domain_normed_count_pair_gg                                             1\n",
      "count_pairs_legit__domain_normed_count_pair_re                                           1\n",
      "count_pairs_pca__domain_normed_count_pair_12                                             1\n",
      "count_pairs_pca__domain_normed_count_pair_we                                             1\n",
      "generate_features__digit_ratio__domain_normed_digit_ratio                                1\n",
      "count_pairs_legit__domain_normed_count_pair_li                                           1\n",
      "count_pairs_pca__domain_normed_count_pair_he                                             1\n",
      "count_pairs_pca__domain_normed_count_pair_ct                                             1\n",
      "Name: 1, dtype: int64\n"
     ]
    }
   ],
   "source": [
    "combined_pca_feature_importance = get_pca_important_feature_per_component(\n",
    "    combined_pca_pipeline['pca'],\n",
    "    combined_features_names,\n",
    ")[1].value_counts()\n",
    "\n",
    "print(combined_pca_feature_importance)"
   ]
  },
  {
   "cell_type": "markdown",
   "metadata": {},
   "source": [
    "Another approach to reducing the number of dimensions we're using the Recursive Feature Elminiation. By recursively fitting a number of models to our data while holding out a variable, we evalute which model performed the worst and then remove the omitted variable in that model.\n",
    "\n",
    "Using L2 penalty (Ridge) as L1 (Lasso) would perform feature selection which dont want to happen in this case outside of RFE."
   ]
  },
  {
   "cell_type": "code",
   "execution_count": 49,
   "metadata": {},
   "outputs": [],
   "source": [
    "from sklearn.linear_model import SGDClassifier\n",
    "model = SGDClassifier(penalty = \"l2\", tol = 1e-4)"
   ]
  },
  {
   "cell_type": "code",
   "execution_count": 50,
   "metadata": {},
   "outputs": [
    {
     "data": {
      "text/plain": [
       "11"
      ]
     },
     "execution_count": 50,
     "metadata": {},
     "output_type": "execute_result"
    }
   ],
   "source": [
    "# how many features to select?\n",
    "len(combined_pca_feature_importance[combined_pca_feature_importance > 1])"
   ]
  },
  {
   "cell_type": "code",
   "execution_count": 51,
   "metadata": {},
   "outputs": [
    {
     "data": {
      "text/plain": [
       "array([0.06205051, 0.10873642, 0.14343778, 0.17635935, 0.20585005,\n",
       "       0.2346375 , 0.26314965, 0.29050858, 0.31623804, 0.34121414,\n",
       "       0.36609794])"
      ]
     },
     "execution_count": 51,
     "metadata": {},
     "output_type": "execute_result"
    }
   ],
   "source": [
    "combined_pca_pipeline['pca'].explained_variance_ratio_.cumsum()[:11]"
   ]
  },
  {
   "cell_type": "code",
   "execution_count": 52,
   "metadata": {},
   "outputs": [],
   "source": [
    "from sklearn.model_selection import train_test_split\n",
    "\n",
    "X_train, X_test, y_train, y_test = train_test_split(\n",
    "    combined_X, y,\n",
    "    test_size = 0.1,\n",
    "    random_state = 24,\n",
    "    stratify = y,\n",
    ")"
   ]
  },
  {
   "cell_type": "code",
   "execution_count": 53,
   "metadata": {},
   "outputs": [
    {
     "name": "stdout",
     "output_type": "stream",
     "text": [
      "Fitting estimator with 43 features.\n",
      "Fitting estimator with 42 features.\n",
      "Fitting estimator with 41 features.\n",
      "Fitting estimator with 40 features.\n",
      "Fitting estimator with 39 features.\n",
      "Fitting estimator with 38 features.\n",
      "Fitting estimator with 37 features.\n",
      "Fitting estimator with 36 features.\n",
      "Fitting estimator with 35 features.\n",
      "Fitting estimator with 34 features.\n",
      "Fitting estimator with 33 features.\n",
      "Fitting estimator with 32 features.\n",
      "Fitting estimator with 31 features.\n",
      "Fitting estimator with 30 features.\n",
      "Fitting estimator with 29 features.\n",
      "Fitting estimator with 28 features.\n",
      "Fitting estimator with 27 features.\n",
      "Fitting estimator with 26 features.\n",
      "Fitting estimator with 25 features.\n",
      "Fitting estimator with 24 features.\n",
      "Fitting estimator with 23 features.\n",
      "Fitting estimator with 22 features.\n",
      "Fitting estimator with 21 features.\n",
      "Fitting estimator with 20 features.\n",
      "Fitting estimator with 19 features.\n",
      "Fitting estimator with 18 features.\n",
      "Fitting estimator with 17 features.\n",
      "Fitting estimator with 16 features.\n",
      "Fitting estimator with 15 features.\n",
      "Fitting estimator with 14 features.\n",
      "Fitting estimator with 13 features.\n",
      "Fitting estimator with 12 features.\n",
      "Fitting estimator with 11 features.\n",
      "Fitting estimator with 10 features.\n",
      "Fitting estimator with 9 features.\n",
      "Fitting estimator with 8 features.\n",
      "Fitting estimator with 7 features.\n",
      "Fitting estimator with 6 features.\n"
     ]
    }
   ],
   "source": [
    "from sklearn.feature_selection import RFECV\n",
    "from sklearn.model_selection import StratifiedKFold\n",
    "\n",
    "rfe = RFECV(\n",
    "    model, \n",
    "    verbose = 2,\n",
    "    cv = StratifiedKFold(2),\n",
    "    n_jobs = -1,\n",
    "    scoring='accuracy', # given we're using statified sampling it will acount for imbalance\n",
    ")\n",
    "\n",
    "rfe = rfe.fit(X_train, y_train)"
   ]
  },
  {
   "cell_type": "code",
   "execution_count": 54,
   "metadata": {},
   "outputs": [
    {
     "name": "stdout",
     "output_type": "stream",
     "text": [
      "Features sorted by their rank:\n"
     ]
    },
    {
     "data": {
      "text/plain": [
       "[(1, 'generate_features__digit_ratio__domain_normed_digit_ratio'),\n",
       " (1, 'generate_features__len__domain_normed_len'),\n",
       " (1,\n",
       "  'generate_features__vowel_distance_mode_ratio__domain_normed_vowel_distance_mode_ratio'),\n",
       " (1,\n",
       "  'generate_features__vowel_distance_std_ratio__domain_normed_vowel_distance_std_ratio'),\n",
       " (1, 'generate_features__vowel_ratio__domain_normed_vowel_ratio'),\n",
       " (2,\n",
       "  'generate_features__consonants_variety_ratio__domain_normed_consonants_variety_ratio'),\n",
       " (3, 'count_pairs_legit__domain_normed_count_pair_an'),\n",
       " (4, 'count_pairs_pca__domain_normed_count_pair_ff'),\n",
       " (5, 'count_pairs_legit__domain_normed_count_pair_ma'),\n",
       " (6, 'count_pairs_pca__domain_normed_count_pair_ve'),\n",
       " (7, 'count_pairs_legit__domain_normed_count_pair_to'),\n",
       " (8, 'count_pairs_legit__domain_normed_count_pair_me'),\n",
       " (9, 'count_pairs_legit__domain_normed_count_pair_er'),\n",
       " (10, 'count_pairs_pca__domain_normed_count_pair_gg'),\n",
       " (11, 'count_pairs_pca__domain_normed_count_pair_we'),\n",
       " (12, 'count_pairs_legit__domain_normed_count_pair_in'),\n",
       " (13, 'count_pairs_pca__domain_normed_count_pair_12'),\n",
       " (14, 'count_pairs_legit__domain_normed_count_pair_ar'),\n",
       " (15, 'count_pairs_legit__domain_normed_count_pair_on'),\n",
       " (16, 'count_pairs_legit__domain_normed_count_pair_ra'),\n",
       " (17, 'count_pairs_legit__domain_normed_count_pair_st'),\n",
       " (18, 'count_pairs_pca__domain_normed_count_pair_oo'),\n",
       " (19, 'count_pairs_legit__domain_normed_count_pair_li'),\n",
       " (20, 'count_pairs_legit__domain_normed_count_pair_le'),\n",
       " (21, 'count_pairs_pca__domain_normed_count_pair_vv'),\n",
       " (22, 'count_pairs_legit__domain_normed_count_pair_te'),\n",
       " (23, 'count_pairs_pca__domain_normed_count_pair_jj'),\n",
       " (24, 'count_pairs_legit__domain_normed_count_pair_en'),\n",
       " (25, 'count_pairs_pca__domain_normed_count_pair_wc'),\n",
       " (26, 'count_pairs_legit__domain_normed_count_pair_al'),\n",
       " (27, 'count_pairs_legit__domain_normed_count_pair_es'),\n",
       " (28, 'count_pairs_legit__domain_normed_count_pair_ne'),\n",
       " (29, 'count_pairs_pca__domain_normed_count_pair_ss'),\n",
       " (30, 'count_pairs_legit__domain_normed_count_pair_re'),\n",
       " (31, 'count_pairs_pca__domain_normed_count_pair_ct'),\n",
       " (32, 'count_pairs_pca__domain_normed_count_pair_he'),\n",
       " (33, 'count_pairs_pca__domain_normed_count_pair_di'),\n",
       " (34, 'count_pairs_legit__domain_normed_count_pair_ti'),\n",
       " (35, 'count_pairs_pca__domain_normed_count_pair_qq'),\n",
       " (36, 'count_pairs_pca__domain_normed_count_pair_pv'),\n",
       " (37, 'count_pairs_pca__domain_normed_count_pair_36'),\n",
       " (38, 'count_pairs_pca__domain_normed_count_pair_ga'),\n",
       " (39, 'count_pairs_legit__domain_normed_count_pair_or')]"
      ]
     },
     "execution_count": 54,
     "metadata": {},
     "output_type": "execute_result"
    }
   ],
   "source": [
    "print(\"Features sorted by their rank:\")\n",
    "combined_feature_rfe_importances = sorted(zip(map(lambda x: round(x, 4), rfe.ranking_), combined_features_names))\n",
    "combined_feature_rfe_importances"
   ]
  },
  {
   "cell_type": "markdown",
   "metadata": {},
   "source": [
    "Now that we have identified our features lets apply them to some different types of models."
   ]
  },
  {
   "cell_type": "code",
   "execution_count": 57,
   "metadata": {},
   "outputs": [
    {
     "data": {
      "text/plain": [
       "['digit_ratio',\n",
       " 'len',\n",
       " 'vowel_distance_mode_ratio',\n",
       " 'vowel_distance_std_ratio',\n",
       " 'vowel_ratio',\n",
       " 'consonants_variety_ratio',\n",
       " 'an',\n",
       " 'ff',\n",
       " 'ma',\n",
       " 've',\n",
       " 'to',\n",
       " 'me',\n",
       " 'er',\n",
       " 'gg',\n",
       " 'we',\n",
       " 'in',\n",
       " '12',\n",
       " 'ar',\n",
       " 'on',\n",
       " 'ra',\n",
       " 'st',\n",
       " 'oo',\n",
       " 'li',\n",
       " 'le',\n",
       " 'vv',\n",
       " 'te',\n",
       " 'jj',\n",
       " 'en',\n",
       " 'wc',\n",
       " 'al',\n",
       " 'es',\n",
       " 'ne',\n",
       " 'ss',\n",
       " 're',\n",
       " 'ct',\n",
       " 'he',\n",
       " 'di',\n",
       " 'ti',\n",
       " 'qq',\n",
       " 'pv',\n",
       " '36',\n",
       " 'ga',\n",
       " 'or']"
      ]
     },
     "execution_count": 57,
     "metadata": {},
     "output_type": "execute_result"
    }
   ],
   "source": [
    "[x[1].split(\"__\")[1].replace(\"domain_normed_count_pair_\", \"\") for x in combined_feature_rfe_importances]"
   ]
  },
  {
   "cell_type": "code",
   "execution_count": null,
   "metadata": {},
   "outputs": [],
   "source": []
  }
 ],
 "metadata": {
  "kernelspec": {
   "display_name": "domain_generation_algorithm_classifier",
   "language": "python",
   "name": "domain_generation_algorithm_classifier"
  },
  "language_info": {
   "codemirror_mode": {
    "name": "ipython",
    "version": 3
   },
   "file_extension": ".py",
   "mimetype": "text/x-python",
   "name": "python",
   "nbconvert_exporter": "python",
   "pygments_lexer": "ipython3",
   "version": "3.7.1"
  }
 },
 "nbformat": 4,
 "nbformat_minor": 2
}
