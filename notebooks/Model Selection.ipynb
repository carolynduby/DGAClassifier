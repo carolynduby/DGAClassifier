{
 "cells": [
  {
   "cell_type": "markdown",
   "metadata": {},
   "source": [
    "# Domain Generating Algorithms - Model / Feature Selection\n",
    "\n",
    "Now that we've explored the data and developed a pipeline for generating features, let's identifying which type of classification model is up to the task.\n",
    "\n",
    "There are a couple of considerations:\n",
    "* Scoring, how well does the model generalise to data it was not trained particularly given the imbalanced nature of the data\n",
    "* Complexity, is the model one that we can explain to people who may not have an understanding of model development but may be held accountable for the decisions made by the model.\n",
    "* Time, how long does it take for the model to be fit\n",
    "\n",
    "Depending on the siutation we can make different trade-offs on the above. I am assuming that priorities are in the order that they listed."
   ]
  },
  {
   "cell_type": "code",
   "execution_count": 1,
   "metadata": {},
   "outputs": [],
   "source": [
    "import os\n",
    "from time import time\n",
    "import numpy as np\n",
    "import pandas as pd\n",
    "import seaborn as sns\n",
    "import matplotlib.pyplot as plt\n",
    "\n",
    "from sklearn.pipeline import Pipeline\n",
    "from sklearn.pipeline import FeatureUnion\n",
    "from sklearn.metrics import confusion_matrix, accuracy_score, precision_score, recall_score, f1_score, classification_report\n",
    "from sklearn.decomposition import PCA\n",
    "from sklearn.preprocessing import StandardScaler\n",
    "from sklearn.model_selection import train_test_split"
   ]
  },
  {
   "cell_type": "markdown",
   "metadata": {},
   "source": [
    "Change our working directory so our project src import will work."
   ]
  },
  {
   "cell_type": "code",
   "execution_count": 2,
   "metadata": {},
   "outputs": [],
   "source": [
    "os.chdir(\"../\")"
   ]
  },
  {
   "cell_type": "code",
   "execution_count": 3,
   "metadata": {},
   "outputs": [
    {
     "name": "stdout",
     "output_type": "stream",
     "text": [
      "external\n",
      "interim\n",
      "processed\n",
      "raw\n"
     ]
    }
   ],
   "source": [
    "! ls data"
   ]
  },
  {
   "cell_type": "markdown",
   "metadata": {},
   "source": [
    "Yes we are let's import the function we need to prepare our data."
   ]
  },
  {
   "cell_type": "markdown",
   "metadata": {},
   "source": [
    "## Reading in and Preprocessing Data"
   ]
  },
  {
   "cell_type": "code",
   "execution_count": 4,
   "metadata": {},
   "outputs": [],
   "source": [
    "from src.preprocess import normalise_column"
   ]
  },
  {
   "cell_type": "code",
   "execution_count": 5,
   "metadata": {},
   "outputs": [],
   "source": [
    "df = pd.read_csv(\"data/raw/dga_domains.csv\")"
   ]
  },
  {
   "cell_type": "code",
   "execution_count": 6,
   "metadata": {},
   "outputs": [
    {
     "data": {
      "text/plain": [
       "133926"
      ]
     },
     "execution_count": 6,
     "metadata": {},
     "output_type": "execute_result"
    }
   ],
   "source": [
    "len(df)"
   ]
  },
  {
   "cell_type": "code",
   "execution_count": 7,
   "metadata": {},
   "outputs": [],
   "source": [
    "df = df[[\"domain\", \"class\"]]"
   ]
  },
  {
   "cell_type": "code",
   "execution_count": 8,
   "metadata": {},
   "outputs": [],
   "source": [
    "df[\"domain\"] = normalise_column(df[\"domain\"])"
   ]
  },
  {
   "cell_type": "code",
   "execution_count": 9,
   "metadata": {},
   "outputs": [],
   "source": [
    "df = df.dropna()"
   ]
  },
  {
   "cell_type": "code",
   "execution_count": 10,
   "metadata": {},
   "outputs": [
    {
     "data": {
      "text/plain": [
       "114525"
      ]
     },
     "execution_count": 10,
     "metadata": {},
     "output_type": "execute_result"
    }
   ],
   "source": [
    "len(df)"
   ]
  },
  {
   "cell_type": "code",
   "execution_count": 11,
   "metadata": {},
   "outputs": [
    {
     "data": {
      "text/html": [
       "<div>\n",
       "<style scoped>\n",
       "    .dataframe tbody tr th:only-of-type {\n",
       "        vertical-align: middle;\n",
       "    }\n",
       "\n",
       "    .dataframe tbody tr th {\n",
       "        vertical-align: top;\n",
       "    }\n",
       "\n",
       "    .dataframe thead th {\n",
       "        text-align: right;\n",
       "    }\n",
       "</style>\n",
       "<table border=\"1\" class=\"dataframe\">\n",
       "  <thead>\n",
       "    <tr style=\"text-align: right;\">\n",
       "      <th></th>\n",
       "      <th>domain</th>\n",
       "      <th>class</th>\n",
       "    </tr>\n",
       "  </thead>\n",
       "  <tbody>\n",
       "    <tr>\n",
       "      <th>132340</th>\n",
       "      <td>yravkfemaujp</td>\n",
       "      <td>dga</td>\n",
       "    </tr>\n",
       "    <tr>\n",
       "      <th>111813</th>\n",
       "      <td>thedailystar</td>\n",
       "      <td>legit</td>\n",
       "    </tr>\n",
       "    <tr>\n",
       "      <th>133702</th>\n",
       "      <td>zopguydozeumvnbayzdgadgypvx</td>\n",
       "      <td>dga</td>\n",
       "    </tr>\n",
       "    <tr>\n",
       "      <th>24819</th>\n",
       "      <td>chronofhorse</td>\n",
       "      <td>legit</td>\n",
       "    </tr>\n",
       "    <tr>\n",
       "      <th>62273</th>\n",
       "      <td>joydownload</td>\n",
       "      <td>legit</td>\n",
       "    </tr>\n",
       "    <tr>\n",
       "      <th>96165</th>\n",
       "      <td>rain-mail</td>\n",
       "      <td>legit</td>\n",
       "    </tr>\n",
       "    <tr>\n",
       "      <th>4</th>\n",
       "      <td>010shangpu</td>\n",
       "      <td>legit</td>\n",
       "    </tr>\n",
       "    <tr>\n",
       "      <th>104774</th>\n",
       "      <td>skyworth</td>\n",
       "      <td>legit</td>\n",
       "    </tr>\n",
       "    <tr>\n",
       "      <th>12691</th>\n",
       "      <td>apnicommunity</td>\n",
       "      <td>legit</td>\n",
       "    </tr>\n",
       "    <tr>\n",
       "      <th>128368</th>\n",
       "      <td>xctcyhlcqeapdmadcynrtt</td>\n",
       "      <td>dga</td>\n",
       "    </tr>\n",
       "  </tbody>\n",
       "</table>\n",
       "</div>"
      ],
      "text/plain": [
       "                             domain  class\n",
       "132340                 yravkfemaujp    dga\n",
       "111813                 thedailystar  legit\n",
       "133702  zopguydozeumvnbayzdgadgypvx    dga\n",
       "24819                  chronofhorse  legit\n",
       "62273                   joydownload  legit\n",
       "96165                     rain-mail  legit\n",
       "4                        010shangpu  legit\n",
       "104774                     skyworth  legit\n",
       "12691                 apnicommunity  legit\n",
       "128368       xctcyhlcqeapdmadcynrtt    dga"
      ]
     },
     "execution_count": 11,
     "metadata": {},
     "output_type": "execute_result"
    }
   ],
   "source": [
    "df.sample(10, random_state = 6)"
   ]
  },
  {
   "cell_type": "code",
   "execution_count": 12,
   "metadata": {},
   "outputs": [],
   "source": [
    "from src.features.transformers import CharacterCountTransformer\n",
    "from src.features.transformers import CharacterVarietyRatioTransformer\n",
    "from src.features.transformers import CharacterDistanceLeftRightTransformer\n",
    "from src.features.transformers import CharacterRatioTransformer\n",
    "from src.features.transformers import BinarizeCharacterPairsTransformer\n",
    "from src.features.transformers import CountCharacterPairsTransformer\n",
    "from src.features.transformers import TextLengthTransformer"
   ]
  },
  {
   "cell_type": "code",
   "execution_count": 13,
   "metadata": {},
   "outputs": [],
   "source": [
    "from src.features import get_mode"
   ]
  },
  {
   "cell_type": "markdown",
   "metadata": {},
   "source": [
    "Let's construct a Pipeline for generating some features we are interested in"
   ]
  },
  {
   "cell_type": "code",
   "execution_count": 14,
   "metadata": {},
   "outputs": [],
   "source": [
    "generate_features = FeatureUnion([\n",
    "    (\n",
    "        \"digit_ratio\", \n",
    "        CharacterRatioTransformer(\n",
    "            \"digit_ratio\", [\"domain\"], \n",
    "            [x for x in \"1234567890\"]\n",
    "        )\n",
    "    ),\n",
    "    (\n",
    "        \"vowel_ratio\", \n",
    "        CharacterRatioTransformer(\n",
    "            \"vowel_ratio\", [\"domain\"], \n",
    "            [x for x in \"aeiouy\"]\n",
    "        )\n",
    "    ),\n",
    "    (\n",
    "        \"vowel_distance_std_ratio\",\n",
    "        CharacterDistanceLeftRightTransformer(\n",
    "            \"vowel_distance_std_ratio\", [\"domain\"], \n",
    "            [x for x in \"aeiouy\"], np.std, \n",
    "            True\n",
    "        )\n",
    "    ),\n",
    "    (\n",
    "        \"vowel_distance_mode_ratio\",\n",
    "        CharacterDistanceLeftRightTransformer(\n",
    "            \"vowel_distance_mode_ratio\", [\"domain\"], \n",
    "            [x for x in \"aeiouy\"], get_mode, \n",
    "            True\n",
    "        )\n",
    "    ),\n",
    "    (\n",
    "        \"consonants_variety_ratio\",\n",
    "        CharacterVarietyRatioTransformer(\n",
    "            \"consonants_variety_ratio\", [\"domain\"],\n",
    "            [x for x in \"aeiouy\"]\n",
    "        )\n",
    "    ),\n",
    "    (\n",
    "        \"len\",\n",
    "        TextLengthTransformer(\n",
    "            \"len\", [\"domain\"],\n",
    "        )\n",
    "    )\n",
    "])"
   ]
  },
  {
   "cell_type": "code",
   "execution_count": 15,
   "metadata": {},
   "outputs": [],
   "source": [
    "pipeline = Pipeline([\n",
    "    (\n",
    "        \"generate_features\",\n",
    "        generate_features\n",
    "    ),\n",
    "    (\n",
    "        \"standard_scaler\",\n",
    "        StandardScaler()\n",
    "    ),\n",
    "    (\n",
    "        \"pca\",\n",
    "        PCA(),\n",
    "    ) \n",
    "])"
   ]
  },
  {
   "cell_type": "markdown",
   "metadata": {},
   "source": [
    "We've previously limited the scope of the effort to only consider the `domain` and the `class` attrbiute."
   ]
  },
  {
   "cell_type": "code",
   "execution_count": 16,
   "metadata": {},
   "outputs": [],
   "source": [
    "X = df[[\"domain\"]]\n",
    "y = df[\"class\"]"
   ]
  },
  {
   "cell_type": "code",
   "execution_count": 17,
   "metadata": {},
   "outputs": [
    {
     "name": "stdout",
     "output_type": "stream",
     "text": [
      "['dga' 'legit']\n"
     ]
    }
   ],
   "source": [
    "from sklearn.preprocessing import LabelEncoder\n",
    "class_le = LabelEncoder()\n",
    "class_le.fit(y)\n",
    "print(class_le.classes_)\n",
    "np.save('label_class.npy', class_le.classes_)"
   ]
  },
  {
   "cell_type": "code",
   "execution_count": 18,
   "metadata": {},
   "outputs": [],
   "source": [
    "y = class_le.transform(y)"
   ]
  },
  {
   "cell_type": "code",
   "execution_count": 19,
   "metadata": {},
   "outputs": [],
   "source": [
    "new_X = pipeline.fit_transform(X)"
   ]
  },
  {
   "cell_type": "markdown",
   "metadata": {},
   "source": [
    "Let's get our new column names"
   ]
  },
  {
   "cell_type": "code",
   "execution_count": 20,
   "metadata": {},
   "outputs": [
    {
     "data": {
      "text/plain": [
       "['digit_ratio__domain_digit_ratio',\n",
       " 'vowel_ratio__domain_vowel_ratio',\n",
       " 'vowel_distance_std_ratio__domain_vowel_distance_std_ratio',\n",
       " 'vowel_distance_mode_ratio__domain_vowel_distance_mode_ratio',\n",
       " 'consonants_variety_ratio__domain_consonants_variety_ratio',\n",
       " 'len__domain_len']"
      ]
     },
     "execution_count": 20,
     "metadata": {},
     "output_type": "execute_result"
    }
   ],
   "source": [
    "generated_feature_names = pipeline['generate_features'].get_feature_names()\n",
    "generated_feature_names"
   ]
  },
  {
   "cell_type": "markdown",
   "metadata": {},
   "source": [
    "Let's inspect the explanatory power of our generated features."
   ]
  },
  {
   "cell_type": "code",
   "execution_count": 21,
   "metadata": {},
   "outputs": [
    {
     "data": {
      "text/plain": [
       "<matplotlib.axes._subplots.AxesSubplot at 0x227029ff5c0>"
      ]
     },
     "execution_count": 21,
     "metadata": {},
     "output_type": "execute_result"
    },
    {
     "data": {
      "image/png": "[encoded data removed]",
      "text/plain": [
       "<Figure size 576x432 with 1 Axes>"
      ]
     },
     "metadata": {
      "needs_background": "light"
     },
     "output_type": "display_data"
    }
   ],
   "source": [
    "fig, ax = plt.subplots(figsize=(8,6))\n",
    "\n",
    "pca_generated_features_df = pd.DataFrame(\n",
    "    {\n",
    "        \"cumulative\": pd.Series(pipeline['pca'].explained_variance_ratio_.cumsum()),\n",
    "        \"step\": pd.Series(pipeline['pca'].explained_variance_ratio_),\n",
    "    }\n",
    ")\n",
    "\n",
    "pca_generated_features_df.plot(ax = ax)"
   ]
  },
  {
   "cell_type": "markdown",
   "metadata": {},
   "source": [
    "Let's look at the components and relate them back to our columns and determine which column has the most explanatory power."
   ]
  },
  {
   "cell_type": "code",
   "execution_count": 22,
   "metadata": {},
   "outputs": [],
   "source": [
    "def get_pca_important_feature_per_component(pca, feature_names):\n",
    "    # as per https://stackoverflow.com/a/56722874/2805700\n",
    "    # number of components\n",
    "    n_pcs= pca.components_.shape[0]\n",
    "\n",
    "    # get the index of the most important feature on EACH component i.e. largest absolute value\n",
    "    # using LIST COMPREHENSION HERE\n",
    "    most_important = [np.abs(pca.components_[i]).argmax() for i in range(n_pcs)]\n",
    "\n",
    "    initial_feature_names = feature_names\n",
    "\n",
    "    # get the names\n",
    "    most_important_names = [initial_feature_names[most_important[i]] for i in range(n_pcs)]\n",
    "\n",
    "    # using LIST COMPREHENSION HERE AGAIN\n",
    "    dic = {'PC{}'.format(i+1): most_important_names[i] for i in range(n_pcs)}\n",
    "\n",
    "    # build the dataframe\n",
    "    return pd.DataFrame(sorted(dic.items()))"
   ]
  },
  {
   "cell_type": "markdown",
   "metadata": {},
   "source": [
    "Let's tally this up for easier viewing"
   ]
  },
  {
   "cell_type": "code",
   "execution_count": 23,
   "metadata": {},
   "outputs": [
    {
     "data": {
      "text/plain": [
       "vowel_distance_mode_ratio__domain_vowel_distance_mode_ratio    2\n",
       "vowel_ratio__domain_vowel_ratio                                2\n",
       "len__domain_len                                                1\n",
       "digit_ratio__domain_digit_ratio                                1\n",
       "Name: 1, dtype: int64"
      ]
     },
     "execution_count": 23,
     "metadata": {},
     "output_type": "execute_result"
    }
   ],
   "source": [
    "get_pca_important_feature_per_component(\n",
    "    pipeline['pca'],\n",
    "    generated_feature_names\n",
    ")[1].value_counts()"
   ]
  },
  {
   "cell_type": "markdown",
   "metadata": {},
   "source": [
    "It seems `vowel_ratio__domain_vowel_ratio` and `vowel_distance_mode_ratio__domain_vowel_distance_mode_ratio` are both important to two of our components, making a compelling case to keep them in."
   ]
  },
  {
   "cell_type": "markdown",
   "metadata": {},
   "source": [
    "## Character Pair Counts and Binarised Appereances"
   ]
  },
  {
   "cell_type": "markdown",
   "metadata": {},
   "source": [
    "We were also interested the character pair windows, This could be encoded as binary (was a character pair present) or as a count (how many times did the character appear).\n",
    "\n",
    "However given that these will be very sparse, let's validate if there is any explanatory power to had in including only a subset of these columns by using Principal Componenet Analysis.\n",
    "\n",
    "In EDA the top 20 character pairs for `legit` records we're identified. We'll limit the otherwise very large matrix to only these characters."
   ]
  },
  {
   "cell_type": "code",
   "execution_count": 24,
   "metadata": {},
   "outputs": [],
   "source": [
    "top_20_legit_pairs = ['in','er','re','an','es','ar','on', 'or', 'st', 'ne', 'te', 'li', 'al', 'ra',\n",
    " 'en', 'ma', 'me', 'to', 'ti', 'le']"
   ]
  },
  {
   "cell_type": "code",
   "execution_count": 25,
   "metadata": {},
   "outputs": [],
   "source": [
    "bin_pairs = BinarizeCharacterPairsTransformer(\"bin_pair\", [\"domain\"], top_20_legit_pairs)\n",
    "bin_pca = PCA()\n",
    "\n",
    "bin_pipeline = Pipeline([\n",
    "    (\n",
    "        \"bin_pair\", \n",
    "        bin_pairs\n",
    "    ),\n",
    "    (\n",
    "        \"standard_scaler\",\n",
    "        StandardScaler()\n",
    "    ),\n",
    "    (\n",
    "        \"pca\",\n",
    "        bin_pca,\n",
    "    )\n",
    "])"
   ]
  },
  {
   "cell_type": "code",
   "execution_count": 26,
   "metadata": {},
   "outputs": [],
   "source": [
    "bin_X = bin_pipeline.fit_transform(X)"
   ]
  },
  {
   "cell_type": "code",
   "execution_count": 27,
   "metadata": {},
   "outputs": [
    {
     "data": {
      "text/plain": [
       "domain_bin_pair_ti    3\n",
       "domain_bin_pair_in    3\n",
       "domain_bin_pair_re    2\n",
       "domain_bin_pair_to    2\n",
       "domain_bin_pair_ma    2\n",
       "domain_bin_pair_li    1\n",
       "domain_bin_pair_te    1\n",
       "domain_bin_pair_ne    1\n",
       "domain_bin_pair_es    1\n",
       "domain_bin_pair_ar    1\n",
       "domain_bin_pair_en    1\n",
       "domain_bin_pair_le    1\n",
       "domain_bin_pair_al    1\n",
       "Name: 1, dtype: int64"
      ]
     },
     "execution_count": 27,
     "metadata": {},
     "output_type": "execute_result"
    }
   ],
   "source": [
    "get_pca_important_feature_per_component(\n",
    "    bin_pipeline['pca'],\n",
    "    bin_pipeline['bin_pair'].get_feature_names()\n",
    ")[1].value_counts()"
   ]
  },
  {
   "cell_type": "code",
   "execution_count": 28,
   "metadata": {},
   "outputs": [
    {
     "data": {
      "text/plain": [
       "array([0.08911559, 0.16008119, 0.22420605, 0.28432649, 0.3400348 ,\n",
       "       0.39483239, 0.44789034, 0.49983133, 0.55026677, 0.59903135,\n",
       "       0.64691266, 0.69343651, 0.73761933, 0.78159745, 0.82273385,\n",
       "       0.86195008, 0.89931005, 0.93585843, 0.96951878, 1.        ])"
      ]
     },
     "execution_count": 28,
     "metadata": {},
     "output_type": "execute_result"
    }
   ],
   "source": [
    "bin_pipeline['pca'].explained_variance_ratio_.cumsum()"
   ]
  },
  {
   "cell_type": "markdown",
   "metadata": {},
   "source": [
    "Now lets calculate the same for the counts."
   ]
  },
  {
   "cell_type": "code",
   "execution_count": 29,
   "metadata": {},
   "outputs": [],
   "source": [
    "count_pairs = CountCharacterPairsTransformer(\n",
    "    \"count_pair\", [\"domain\"], top_20_legit_pairs\n",
    ")\n",
    "count_pca = PCA()\n",
    "\n",
    "count_pipeline = Pipeline([\n",
    "    (\n",
    "        \"count_pair\", \n",
    "        count_pairs,\n",
    "    ),\n",
    "    (\n",
    "        \"standard_scaler\",\n",
    "        StandardScaler()\n",
    "    ),    \n",
    "    (\n",
    "        \"pca\",\n",
    "        count_pca,\n",
    "    )\n",
    "])"
   ]
  },
  {
   "cell_type": "code",
   "execution_count": 30,
   "metadata": {},
   "outputs": [],
   "source": [
    "count_X = count_pipeline.fit_transform(X)"
   ]
  },
  {
   "cell_type": "markdown",
   "metadata": {},
   "source": [
    "Now let's compare the explainable variance between bins and counts."
   ]
  },
  {
   "cell_type": "code",
   "execution_count": 31,
   "metadata": {},
   "outputs": [
    {
     "name": "stdout",
     "output_type": "stream",
     "text": [
      "domain_count_pair_in    3\n",
      "domain_count_pair_ne    2\n",
      "domain_count_pair_ar    2\n",
      "domain_count_pair_to    2\n",
      "domain_count_pair_ma    2\n",
      "domain_count_pair_en    2\n",
      "domain_count_pair_ti    1\n",
      "domain_count_pair_te    1\n",
      "domain_count_pair_al    1\n",
      "domain_count_pair_es    1\n",
      "domain_count_pair_le    1\n",
      "domain_count_pair_re    1\n",
      "domain_count_pair_li    1\n",
      "Name: 1, dtype: int64\n"
     ]
    }
   ],
   "source": [
    "count_pca_feature_importance = get_pca_important_feature_per_component(\n",
    "    count_pipeline['pca'],\n",
    "    count_pipeline['count_pair'].get_feature_names()\n",
    ")[1].value_counts()\n",
    "\n",
    "print(count_pca_feature_importance)"
   ]
  },
  {
   "cell_type": "code",
   "execution_count": 32,
   "metadata": {},
   "outputs": [
    {
     "data": {
      "text/plain": [
       "array([0.09761082, 0.16852594, 0.23238748, 0.29244951, 0.34785526,\n",
       "       0.40220607, 0.45505504, 0.50652177, 0.55663057, 0.6049895 ,\n",
       "       0.65259762, 0.69839617, 0.74205789, 0.78553732, 0.82643154,\n",
       "       0.86502948, 0.90188742, 0.93781715, 0.97037977, 1.        ])"
      ]
     },
     "execution_count": 32,
     "metadata": {},
     "output_type": "execute_result"
    }
   ],
   "source": [
    "count_pipeline['pca'].explained_variance_ratio_.cumsum()[:20]"
   ]
  },
  {
   "cell_type": "markdown",
   "metadata": {},
   "source": [
    "Let's plot the rate increase of explainability per additional feature."
   ]
  },
  {
   "cell_type": "code",
   "execution_count": 33,
   "metadata": {},
   "outputs": [],
   "source": [
    "pca_sparse_df = pd.DataFrame(\n",
    "    {\n",
    "        \"counts\": pd.Series(count_pca.explained_variance_ratio_.cumsum()),\n",
    "        \"binarized\": pd.Series(bin_pca.explained_variance_ratio_.cumsum()),\n",
    "    }\n",
    ")"
   ]
  },
  {
   "cell_type": "code",
   "execution_count": 34,
   "metadata": {
    "scrolled": false
   },
   "outputs": [
    {
     "data": {
      "text/plain": [
       "<matplotlib.axes._subplots.AxesSubplot at 0x22701e8be48>"
      ]
     },
     "execution_count": 34,
     "metadata": {},
     "output_type": "execute_result"
    },
    {
     "data": {
      "image/png": "[encoded data removed]",
      "text/plain": [
       "<Figure size 576x432 with 1 Axes>"
      ]
     },
     "metadata": {
      "needs_background": "light"
     },
     "output_type": "display_data"
    }
   ],
   "source": [
    "fig, ax = plt.subplots(figsize=(8,6))\n",
    "\n",
    "pca_sparse_df.plot(ax = ax)"
   ]
  },
  {
   "cell_type": "markdown",
   "metadata": {},
   "source": [
    "It seems there is little to no difference in the increase of explainability per additional feature between counts and bins.\n",
    "\n",
    "We'll take counts forward to model selection."
   ]
  },
  {
   "cell_type": "code",
   "execution_count": 35,
   "metadata": {},
   "outputs": [],
   "source": [
    "combined_features = FeatureUnion([\n",
    "    (\n",
    "        \"generate_features\",\n",
    "        generate_features\n",
    "    ),\n",
    "    (\n",
    "        \"count_pairs\",\n",
    "        count_pairs,\n",
    "    )    \n",
    "])"
   ]
  },
  {
   "cell_type": "code",
   "execution_count": 36,
   "metadata": {},
   "outputs": [],
   "source": [
    "combined_pipeline = Pipeline([\n",
    "    (\n",
    "        \"combined_features\",\n",
    "        combined_features\n",
    "    ),\n",
    "    (\n",
    "        \"standard_scaler\",\n",
    "        StandardScaler()\n",
    "    ),\n",
    "    (\n",
    "        \"pca\",\n",
    "        PCA(),\n",
    "    ) \n",
    "])"
   ]
  },
  {
   "cell_type": "code",
   "execution_count": 37,
   "metadata": {},
   "outputs": [],
   "source": [
    "combined_X = combined_pipeline.fit_transform(X)"
   ]
  },
  {
   "cell_type": "code",
   "execution_count": 38,
   "metadata": {},
   "outputs": [
    {
     "name": "stdout",
     "output_type": "stream",
     "text": [
      "['generate_features__digit_ratio__domain_digit_ratio', 'generate_features__vowel_ratio__domain_vowel_ratio', 'generate_features__vowel_distance_std_ratio__domain_vowel_distance_std_ratio', 'generate_features__vowel_distance_mode_ratio__domain_vowel_distance_mode_ratio', 'generate_features__consonants_variety_ratio__domain_consonants_variety_ratio', 'generate_features__len__domain_len', 'count_pairs__domain_count_pair_al', 'count_pairs__domain_count_pair_an', 'count_pairs__domain_count_pair_ar', 'count_pairs__domain_count_pair_en', 'count_pairs__domain_count_pair_er', 'count_pairs__domain_count_pair_es', 'count_pairs__domain_count_pair_in', 'count_pairs__domain_count_pair_le', 'count_pairs__domain_count_pair_li', 'count_pairs__domain_count_pair_ma', 'count_pairs__domain_count_pair_me', 'count_pairs__domain_count_pair_ne', 'count_pairs__domain_count_pair_on', 'count_pairs__domain_count_pair_or', 'count_pairs__domain_count_pair_ra', 'count_pairs__domain_count_pair_re', 'count_pairs__domain_count_pair_st', 'count_pairs__domain_count_pair_te', 'count_pairs__domain_count_pair_ti', 'count_pairs__domain_count_pair_to']\n"
     ]
    }
   ],
   "source": [
    "combined_features_names = combined_features.get_feature_names()\n",
    "print(combined_features_names)"
   ]
  },
  {
   "cell_type": "markdown",
   "metadata": {},
   "source": [
    "## Model Evaluation\n",
    "\n",
    "Given our potential datasets:\n",
    "* Features we've generated from `domain`\n",
    "* Character pair counts in `domain`\n",
    "* The combination of the above\n",
    "\n",
    "Let's test them on some naive models to see their performance."
   ]
  },
  {
   "cell_type": "code",
   "execution_count": 39,
   "metadata": {},
   "outputs": [],
   "source": [
    "X_train, X_test, y_train, y_test = train_test_split(\n",
    "    combined_X, y,\n",
    "    test_size = 0.3,\n",
    "    random_state = 42,\n",
    "    stratify = y,\n",
    ")"
   ]
  },
  {
   "cell_type": "code",
   "execution_count": 40,
   "metadata": {},
   "outputs": [],
   "source": [
    "def naive_model_evaluation(\n",
    "    X_train, y_train,\n",
    "    X_test, y_test,\n",
    "    tuning_param_values,\n",
    "    get_model,\n",
    "    get_model_complexity = None,\n",
    "):\n",
    "    \n",
    "    models = dict()\n",
    "    \n",
    "    col_names = [\n",
    "        'type', 'hyper_param_val', 'complexity', \"accuracy_score\", \n",
    "        \"precision_score\", \"recall_score\", \"f1_score\", \"fit_time_in_seconds\"\n",
    "    ]\n",
    "\n",
    "    metrics = np.zeros((len(Cs), len(col_names)))\n",
    "    metrics[:,1] = tuning_param_values\n",
    "\n",
    "    for index, value in enumerate(tuning_param_values):\n",
    "        model = get_model(value)\n",
    "\n",
    "        fit_start = time()\n",
    "        model.fit(X_train, y_train)\n",
    "        fit_time_in_seconds = float(time() - fit_start)\n",
    "        \n",
    "        models[value] = model\n",
    "\n",
    "        test_predictions = model.predict(X_test)\n",
    "        \n",
    "        if get_model_complexity is not None:\n",
    "            metrics[index, 2] = get_model_complexity(model)\n",
    "        else:\n",
    "            metrics[index, 2] = np.nan\n",
    "                \n",
    "        metrics[index, 3] = accuracy_score(y_test, test_predictions)\n",
    "        metrics[index, 4] = precision_score(y_test, test_predictions)\n",
    "        metrics[index, 5] = recall_score(y_test, test_predictions)\n",
    "        metrics[index, 6] = f1_score(y_test, test_predictions)\n",
    "        metrics[index, 7] = fit_time_in_seconds\n",
    "\n",
    "\n",
    "    metrics_df = pd.DataFrame(metrics, columns=col_names)\n",
    "    metrics_df[\"type\"] = type(model).__name__\n",
    "    \n",
    "    display(metrics_df)\n",
    "    \n",
    "    return models, metrics_df   \n",
    "    "
   ]
  },
  {
   "cell_type": "code",
   "execution_count": 41,
   "metadata": {},
   "outputs": [],
   "source": [
    "NUMER_OF_ITERATIONS = 5"
   ]
  },
  {
   "cell_type": "code",
   "execution_count": 42,
   "metadata": {},
   "outputs": [],
   "source": [
    "Cs = np.linspace(0.0001, 1.0, NUMER_OF_ITERATIONS)"
   ]
  },
  {
   "cell_type": "code",
   "execution_count": 43,
   "metadata": {},
   "outputs": [
    {
     "data": {
      "text/html": [
       "<div>\n",
       "<style scoped>\n",
       "    .dataframe tbody tr th:only-of-type {\n",
       "        vertical-align: middle;\n",
       "    }\n",
       "\n",
       "    .dataframe tbody tr th {\n",
       "        vertical-align: top;\n",
       "    }\n",
       "\n",
       "    .dataframe thead th {\n",
       "        text-align: right;\n",
       "    }\n",
       "</style>\n",
       "<table border=\"1\" class=\"dataframe\">\n",
       "  <thead>\n",
       "    <tr style=\"text-align: right;\">\n",
       "      <th></th>\n",
       "      <th>type</th>\n",
       "      <th>hyper_param_val</th>\n",
       "      <th>complexity</th>\n",
       "      <th>accuracy_score</th>\n",
       "      <th>precision_score</th>\n",
       "      <th>recall_score</th>\n",
       "      <th>f1_score</th>\n",
       "      <th>fit_time_in_seconds</th>\n",
       "    </tr>\n",
       "  </thead>\n",
       "  <tbody>\n",
       "    <tr>\n",
       "      <th>0</th>\n",
       "      <td>LogisticRegression</td>\n",
       "      <td>0.000100</td>\n",
       "      <td>1.0</td>\n",
       "      <td>0.835904</td>\n",
       "      <td>0.840897</td>\n",
       "      <td>0.858659</td>\n",
       "      <td>0.849685</td>\n",
       "      <td>0.169497</td>\n",
       "    </tr>\n",
       "    <tr>\n",
       "      <th>1</th>\n",
       "      <td>LogisticRegression</td>\n",
       "      <td>0.250075</td>\n",
       "      <td>26.0</td>\n",
       "      <td>0.884830</td>\n",
       "      <td>0.890088</td>\n",
       "      <td>0.897618</td>\n",
       "      <td>0.893837</td>\n",
       "      <td>0.297498</td>\n",
       "    </tr>\n",
       "    <tr>\n",
       "      <th>2</th>\n",
       "      <td>LogisticRegression</td>\n",
       "      <td>0.500050</td>\n",
       "      <td>26.0</td>\n",
       "      <td>0.884801</td>\n",
       "      <td>0.890082</td>\n",
       "      <td>0.897564</td>\n",
       "      <td>0.893808</td>\n",
       "      <td>0.301997</td>\n",
       "    </tr>\n",
       "    <tr>\n",
       "      <th>3</th>\n",
       "      <td>LogisticRegression</td>\n",
       "      <td>0.750025</td>\n",
       "      <td>26.0</td>\n",
       "      <td>0.884801</td>\n",
       "      <td>0.890082</td>\n",
       "      <td>0.897564</td>\n",
       "      <td>0.893808</td>\n",
       "      <td>0.306500</td>\n",
       "    </tr>\n",
       "    <tr>\n",
       "      <th>4</th>\n",
       "      <td>LogisticRegression</td>\n",
       "      <td>1.000000</td>\n",
       "      <td>26.0</td>\n",
       "      <td>0.884830</td>\n",
       "      <td>0.890088</td>\n",
       "      <td>0.897618</td>\n",
       "      <td>0.893837</td>\n",
       "      <td>0.280498</td>\n",
       "    </tr>\n",
       "  </tbody>\n",
       "</table>\n",
       "</div>"
      ],
      "text/plain": [
       "                 type  hyper_param_val  complexity  accuracy_score  \\\n",
       "0  LogisticRegression         0.000100         1.0        0.835904   \n",
       "1  LogisticRegression         0.250075        26.0        0.884830   \n",
       "2  LogisticRegression         0.500050        26.0        0.884801   \n",
       "3  LogisticRegression         0.750025        26.0        0.884801   \n",
       "4  LogisticRegression         1.000000        26.0        0.884830   \n",
       "\n",
       "   precision_score  recall_score  f1_score  fit_time_in_seconds  \n",
       "0         0.840897      0.858659  0.849685             0.169497  \n",
       "1         0.890088      0.897618  0.893837             0.297498  \n",
       "2         0.890082      0.897564  0.893808             0.301997  \n",
       "3         0.890082      0.897564  0.893808             0.306500  \n",
       "4         0.890088      0.897618  0.893837             0.280498  "
      ]
     },
     "metadata": {},
     "output_type": "display_data"
    }
   ],
   "source": [
    "from sklearn.linear_model import LogisticRegression\n",
    "\n",
    "def get_logistic_reg(c):\n",
    "    return LogisticRegression(\n",
    "        class_weight=\"balanced\", \n",
    "        random_state = 42,\n",
    "        penalty = 'l1',\n",
    "        C = c,        \n",
    "        solver = \"liblinear\",\n",
    "    )\n",
    "\n",
    "def get_logistic_reg_complexity(model):\n",
    "    return np.count_nonzero(model.coef_)\n",
    "\n",
    "logistic_regressors, logistic_regressors_df = naive_model_evaluation(\n",
    "    X_train, y_train,\n",
    "    X_test, y_test,\n",
    "    Cs, get_logistic_reg, get_logistic_reg_complexity,\n",
    ")"
   ]
  },
  {
   "cell_type": "code",
   "execution_count": 44,
   "metadata": {},
   "outputs": [
    {
     "data": {
      "text/html": [
       "<div>\n",
       "<style scoped>\n",
       "    .dataframe tbody tr th:only-of-type {\n",
       "        vertical-align: middle;\n",
       "    }\n",
       "\n",
       "    .dataframe tbody tr th {\n",
       "        vertical-align: top;\n",
       "    }\n",
       "\n",
       "    .dataframe thead th {\n",
       "        text-align: right;\n",
       "    }\n",
       "</style>\n",
       "<table border=\"1\" class=\"dataframe\">\n",
       "  <thead>\n",
       "    <tr style=\"text-align: right;\">\n",
       "      <th></th>\n",
       "      <th>type</th>\n",
       "      <th>hyper_param_val</th>\n",
       "      <th>complexity</th>\n",
       "      <th>accuracy_score</th>\n",
       "      <th>precision_score</th>\n",
       "      <th>recall_score</th>\n",
       "      <th>f1_score</th>\n",
       "      <th>fit_time_in_seconds</th>\n",
       "    </tr>\n",
       "  </thead>\n",
       "  <tbody>\n",
       "    <tr>\n",
       "      <th>0</th>\n",
       "      <td>LinearSVC</td>\n",
       "      <td>0.000100</td>\n",
       "      <td>26.0</td>\n",
       "      <td>0.883113</td>\n",
       "      <td>0.877950</td>\n",
       "      <td>0.910120</td>\n",
       "      <td>0.893745</td>\n",
       "      <td>0.313997</td>\n",
       "    </tr>\n",
       "    <tr>\n",
       "      <th>1</th>\n",
       "      <td>LinearSVC</td>\n",
       "      <td>0.250075</td>\n",
       "      <td>26.0</td>\n",
       "      <td>0.883579</td>\n",
       "      <td>0.885663</td>\n",
       "      <td>0.900744</td>\n",
       "      <td>0.893140</td>\n",
       "      <td>30.597517</td>\n",
       "    </tr>\n",
       "    <tr>\n",
       "      <th>2</th>\n",
       "      <td>LinearSVC</td>\n",
       "      <td>0.500050</td>\n",
       "      <td>26.0</td>\n",
       "      <td>0.883579</td>\n",
       "      <td>0.885663</td>\n",
       "      <td>0.900744</td>\n",
       "      <td>0.893140</td>\n",
       "      <td>76.535519</td>\n",
       "    </tr>\n",
       "    <tr>\n",
       "      <th>3</th>\n",
       "      <td>LinearSVC</td>\n",
       "      <td>0.750025</td>\n",
       "      <td>26.0</td>\n",
       "      <td>0.883579</td>\n",
       "      <td>0.885663</td>\n",
       "      <td>0.900744</td>\n",
       "      <td>0.893140</td>\n",
       "      <td>129.083517</td>\n",
       "    </tr>\n",
       "    <tr>\n",
       "      <th>4</th>\n",
       "      <td>LinearSVC</td>\n",
       "      <td>1.000000</td>\n",
       "      <td>26.0</td>\n",
       "      <td>0.883579</td>\n",
       "      <td>0.885663</td>\n",
       "      <td>0.900744</td>\n",
       "      <td>0.893140</td>\n",
       "      <td>138.360981</td>\n",
       "    </tr>\n",
       "  </tbody>\n",
       "</table>\n",
       "</div>"
      ],
      "text/plain": [
       "        type  hyper_param_val  complexity  accuracy_score  precision_score  \\\n",
       "0  LinearSVC         0.000100        26.0        0.883113         0.877950   \n",
       "1  LinearSVC         0.250075        26.0        0.883579         0.885663   \n",
       "2  LinearSVC         0.500050        26.0        0.883579         0.885663   \n",
       "3  LinearSVC         0.750025        26.0        0.883579         0.885663   \n",
       "4  LinearSVC         1.000000        26.0        0.883579         0.885663   \n",
       "\n",
       "   recall_score  f1_score  fit_time_in_seconds  \n",
       "0      0.910120  0.893745             0.313997  \n",
       "1      0.900744  0.893140            30.597517  \n",
       "2      0.900744  0.893140            76.535519  \n",
       "3      0.900744  0.893140           129.083517  \n",
       "4      0.900744  0.893140           138.360981  "
      ]
     },
     "metadata": {},
     "output_type": "display_data"
    }
   ],
   "source": [
    "from sklearn.svm import LinearSVC\n",
    "\n",
    "def get_svc(c):\n",
    "    return LinearSVC(\n",
    "        class_weight=\"balanced\",\n",
    "        random_state = 42,\n",
    "        penalty = 'l2',\n",
    "        C = c,\n",
    "        max_iter = 10000,\n",
    "    )\n",
    "\n",
    "def get_svc_complexity(model):\n",
    "    return np.count_nonzero(model.coef_)\n",
    "\n",
    "svcs, svcs_df = naive_model_evaluation(\n",
    "    X_train, y_train,\n",
    "    X_test, y_test,\n",
    "    Cs, get_svc, get_svc_complexity,\n",
    ")"
   ]
  },
  {
   "cell_type": "code",
   "execution_count": 45,
   "metadata": {},
   "outputs": [
    {
     "data": {
      "text/html": [
       "<div>\n",
       "<style scoped>\n",
       "    .dataframe tbody tr th:only-of-type {\n",
       "        vertical-align: middle;\n",
       "    }\n",
       "\n",
       "    .dataframe tbody tr th {\n",
       "        vertical-align: top;\n",
       "    }\n",
       "\n",
       "    .dataframe thead th {\n",
       "        text-align: right;\n",
       "    }\n",
       "</style>\n",
       "<table border=\"1\" class=\"dataframe\">\n",
       "  <thead>\n",
       "    <tr style=\"text-align: right;\">\n",
       "      <th></th>\n",
       "      <th>type</th>\n",
       "      <th>hyper_param_val</th>\n",
       "      <th>complexity</th>\n",
       "      <th>accuracy_score</th>\n",
       "      <th>precision_score</th>\n",
       "      <th>recall_score</th>\n",
       "      <th>f1_score</th>\n",
       "      <th>fit_time_in_seconds</th>\n",
       "    </tr>\n",
       "  </thead>\n",
       "  <tbody>\n",
       "    <tr>\n",
       "      <th>0</th>\n",
       "      <td>RandomForestClassifier</td>\n",
       "      <td>5.0</td>\n",
       "      <td>NaN</td>\n",
       "      <td>0.925403</td>\n",
       "      <td>0.924473</td>\n",
       "      <td>0.938571</td>\n",
       "      <td>0.931469</td>\n",
       "      <td>1.458681</td>\n",
       "    </tr>\n",
       "    <tr>\n",
       "      <th>1</th>\n",
       "      <td>RandomForestClassifier</td>\n",
       "      <td>628.0</td>\n",
       "      <td>NaN</td>\n",
       "      <td>0.935503</td>\n",
       "      <td>0.930234</td>\n",
       "      <td>0.951988</td>\n",
       "      <td>0.940985</td>\n",
       "      <td>60.220703</td>\n",
       "    </tr>\n",
       "    <tr>\n",
       "      <th>2</th>\n",
       "      <td>RandomForestClassifier</td>\n",
       "      <td>1252.0</td>\n",
       "      <td>NaN</td>\n",
       "      <td>0.935590</td>\n",
       "      <td>0.930789</td>\n",
       "      <td>0.951503</td>\n",
       "      <td>0.941032</td>\n",
       "      <td>133.261000</td>\n",
       "    </tr>\n",
       "    <tr>\n",
       "      <th>3</th>\n",
       "      <td>RandomForestClassifier</td>\n",
       "      <td>1876.0</td>\n",
       "      <td>NaN</td>\n",
       "      <td>0.935706</td>\n",
       "      <td>0.930713</td>\n",
       "      <td>0.951827</td>\n",
       "      <td>0.941151</td>\n",
       "      <td>221.644998</td>\n",
       "    </tr>\n",
       "    <tr>\n",
       "      <th>4</th>\n",
       "      <td>RandomForestClassifier</td>\n",
       "      <td>2500.0</td>\n",
       "      <td>NaN</td>\n",
       "      <td>0.935823</td>\n",
       "      <td>0.930773</td>\n",
       "      <td>0.951988</td>\n",
       "      <td>0.941261</td>\n",
       "      <td>330.311500</td>\n",
       "    </tr>\n",
       "  </tbody>\n",
       "</table>\n",
       "</div>"
      ],
      "text/plain": [
       "                     type  hyper_param_val  complexity  accuracy_score  \\\n",
       "0  RandomForestClassifier              5.0         NaN        0.925403   \n",
       "1  RandomForestClassifier            628.0         NaN        0.935503   \n",
       "2  RandomForestClassifier           1252.0         NaN        0.935590   \n",
       "3  RandomForestClassifier           1876.0         NaN        0.935706   \n",
       "4  RandomForestClassifier           2500.0         NaN        0.935823   \n",
       "\n",
       "   precision_score  recall_score  f1_score  fit_time_in_seconds  \n",
       "0         0.924473      0.938571  0.931469             1.458681  \n",
       "1         0.930234      0.951988  0.940985            60.220703  \n",
       "2         0.930789      0.951503  0.941032           133.261000  \n",
       "3         0.930713      0.951827  0.941151           221.644998  \n",
       "4         0.930773      0.951988  0.941261           330.311500  "
      ]
     },
     "metadata": {},
     "output_type": "display_data"
    }
   ],
   "source": [
    "from sklearn.ensemble import RandomForestClassifier\n",
    "\n",
    "n_estimators = np.linspace(5, 2500, NUMER_OF_ITERATIONS, dtype=int)\n",
    "\n",
    "def get_random_forrest(n):\n",
    "    return RandomForestClassifier(\n",
    "        n_estimators=n,\n",
    "        class_weight=\"balanced\",\n",
    "        random_state=42,\n",
    "        n_jobs = -1,\n",
    "    )\n",
    "\n",
    "rfs, rfs_df = naive_model_evaluation(\n",
    "    X_train, y_train,\n",
    "    X_test, y_test,\n",
    "    n_estimators, get_random_forrest, None,\n",
    ")"
   ]
  },
  {
   "cell_type": "code",
   "execution_count": 46,
   "metadata": {},
   "outputs": [
    {
     "data": {
      "text/html": [
       "<div>\n",
       "<style scoped>\n",
       "    .dataframe tbody tr th:only-of-type {\n",
       "        vertical-align: middle;\n",
       "    }\n",
       "\n",
       "    .dataframe tbody tr th {\n",
       "        vertical-align: top;\n",
       "    }\n",
       "\n",
       "    .dataframe thead th {\n",
       "        text-align: right;\n",
       "    }\n",
       "</style>\n",
       "<table border=\"1\" class=\"dataframe\">\n",
       "  <thead>\n",
       "    <tr style=\"text-align: right;\">\n",
       "      <th></th>\n",
       "      <th>type</th>\n",
       "      <th>hyper_param_val</th>\n",
       "      <th>complexity</th>\n",
       "      <th>accuracy_score</th>\n",
       "      <th>precision_score</th>\n",
       "      <th>recall_score</th>\n",
       "      <th>f1_score</th>\n",
       "      <th>fit_time_in_seconds</th>\n",
       "    </tr>\n",
       "  </thead>\n",
       "  <tbody>\n",
       "    <tr>\n",
       "      <th>0</th>\n",
       "      <td>KNeighborsClassifier</td>\n",
       "      <td>600.0</td>\n",
       "      <td>NaN</td>\n",
       "      <td>0.858374</td>\n",
       "      <td>0.810082</td>\n",
       "      <td>0.963735</td>\n",
       "      <td>0.880254</td>\n",
       "      <td>1.075998</td>\n",
       "    </tr>\n",
       "    <tr>\n",
       "      <th>1</th>\n",
       "      <td>KNeighborsClassifier</td>\n",
       "      <td>450.0</td>\n",
       "      <td>NaN</td>\n",
       "      <td>0.870278</td>\n",
       "      <td>0.825794</td>\n",
       "      <td>0.962981</td>\n",
       "      <td>0.889127</td>\n",
       "      <td>0.788000</td>\n",
       "    </tr>\n",
       "    <tr>\n",
       "      <th>2</th>\n",
       "      <td>KNeighborsClassifier</td>\n",
       "      <td>301.0</td>\n",
       "      <td>NaN</td>\n",
       "      <td>0.883579</td>\n",
       "      <td>0.846718</td>\n",
       "      <td>0.957862</td>\n",
       "      <td>0.898867</td>\n",
       "      <td>0.949997</td>\n",
       "    </tr>\n",
       "    <tr>\n",
       "      <th>3</th>\n",
       "      <td>KNeighborsClassifier</td>\n",
       "      <td>152.0</td>\n",
       "      <td>NaN</td>\n",
       "      <td>0.893329</td>\n",
       "      <td>0.862413</td>\n",
       "      <td>0.954844</td>\n",
       "      <td>0.906278</td>\n",
       "      <td>0.872002</td>\n",
       "    </tr>\n",
       "    <tr>\n",
       "      <th>4</th>\n",
       "      <td>KNeighborsClassifier</td>\n",
       "      <td>3.0</td>\n",
       "      <td>NaN</td>\n",
       "      <td>0.902410</td>\n",
       "      <td>0.899019</td>\n",
       "      <td>0.922998</td>\n",
       "      <td>0.910851</td>\n",
       "      <td>0.960001</td>\n",
       "    </tr>\n",
       "  </tbody>\n",
       "</table>\n",
       "</div>"
      ],
      "text/plain": [
       "                   type  hyper_param_val  complexity  accuracy_score  \\\n",
       "0  KNeighborsClassifier            600.0         NaN        0.858374   \n",
       "1  KNeighborsClassifier            450.0         NaN        0.870278   \n",
       "2  KNeighborsClassifier            301.0         NaN        0.883579   \n",
       "3  KNeighborsClassifier            152.0         NaN        0.893329   \n",
       "4  KNeighborsClassifier              3.0         NaN        0.902410   \n",
       "\n",
       "   precision_score  recall_score  f1_score  fit_time_in_seconds  \n",
       "0         0.810082      0.963735  0.880254             1.075998  \n",
       "1         0.825794      0.962981  0.889127             0.788000  \n",
       "2         0.846718      0.957862  0.898867             0.949997  \n",
       "3         0.862413      0.954844  0.906278             0.872002  \n",
       "4         0.899019      0.922998  0.910851             0.960001  "
      ]
     },
     "metadata": {},
     "output_type": "display_data"
    }
   ],
   "source": [
    "from sklearn.neighbors import KNeighborsClassifier\n",
    "\n",
    "# smaller values of k are more complex models\n",
    "n_neighbours = np.flip(np.linspace(3, 600, 5, dtype=int))\n",
    "\n",
    "def get_knn(n):\n",
    "    return KNeighborsClassifier(\n",
    "            n_neighbors = n,\n",
    "            n_jobs = -1\n",
    "        )\n",
    "\n",
    "knns, knn_df = naive_model_evaluation(\n",
    "    X_train, y_train,\n",
    "    X_test, y_test,\n",
    "    n_neighbours, get_knn, None,\n",
    ")"
   ]
  },
  {
   "cell_type": "code",
   "execution_count": 47,
   "metadata": {},
   "outputs": [],
   "source": [
    "all_models_df = pd.concat([\n",
    "    logistic_regressors_df,\n",
    "    svcs_df,\n",
    "    rfs_df,\n",
    "    knn_df,\n",
    "])"
   ]
  },
  {
   "cell_type": "code",
   "execution_count": 48,
   "metadata": {},
   "outputs": [
    {
     "data": {
      "text/plain": [
       "array(['LogisticRegression', 'LinearSVC', 'RandomForestClassifier',\n",
       "       'KNeighborsClassifier'], dtype=object)"
      ]
     },
     "execution_count": 48,
     "metadata": {},
     "output_type": "execute_result"
    }
   ],
   "source": [
    "all_models_df[\"type\"].unique()"
   ]
  },
  {
   "cell_type": "code",
   "execution_count": 79,
   "metadata": {},
   "outputs": [],
   "source": [
    "def display_top_quartile_scores(all_models_df, column, smaller_is_better = False, groupby = \"type\", unstack = True):\n",
    "    column_scores = all_models_df[column].describe()    \n",
    "    \n",
    "    report_df = all_models_df[all_models_df[column] >= column_scores[\"75%\"]].sort_values(column, ascending = False)\n",
    "    \n",
    "    if smaller_is_better:\n",
    "        report_df = all_models_df[all_models_df[column] <= column_scores[\"25%\"]].sort_values(column, ascending = True)\n",
    "    \n",
    "    display(report_df.reset_index(drop=True))\n",
    "    \n",
    "    fig, ax = plt.subplots(figsize=(8,6))\n",
    "    \n",
    "    if unstack:\n",
    "        plot_score_df = all_models_df[[groupby,column]].groupby(groupby).apply(lambda x: x.unstack()).drop(groupby, axis = 1).T\n",
    "        plot_score_df.columns = plot_score_df.columns.get_level_values(0)\n",
    "    else:\n",
    "        plot_score_df = all_models_df[[groupby,column]].set_index(groupby)\n",
    "    \n",
    "    plot_score_df = plot_score_df.reset_index(drop = True)\n",
    "    return plot_score_df.plot(ax = ax)"
   ]
  },
  {
   "cell_type": "code",
   "execution_count": 50,
   "metadata": {},
   "outputs": [
    {
     "data": {
      "text/html": [
       "<div>\n",
       "<style scoped>\n",
       "    .dataframe tbody tr th:only-of-type {\n",
       "        vertical-align: middle;\n",
       "    }\n",
       "\n",
       "    .dataframe tbody tr th {\n",
       "        vertical-align: top;\n",
       "    }\n",
       "\n",
       "    .dataframe thead th {\n",
       "        text-align: right;\n",
       "    }\n",
       "</style>\n",
       "<table border=\"1\" class=\"dataframe\">\n",
       "  <thead>\n",
       "    <tr style=\"text-align: right;\">\n",
       "      <th></th>\n",
       "      <th>type</th>\n",
       "      <th>hyper_param_val</th>\n",
       "      <th>complexity</th>\n",
       "      <th>accuracy_score</th>\n",
       "      <th>precision_score</th>\n",
       "      <th>recall_score</th>\n",
       "      <th>f1_score</th>\n",
       "      <th>fit_time_in_seconds</th>\n",
       "    </tr>\n",
       "  </thead>\n",
       "  <tbody>\n",
       "    <tr>\n",
       "      <th>0</th>\n",
       "      <td>RandomForestClassifier</td>\n",
       "      <td>2500.0</td>\n",
       "      <td>NaN</td>\n",
       "      <td>0.935823</td>\n",
       "      <td>0.930773</td>\n",
       "      <td>0.951988</td>\n",
       "      <td>0.941261</td>\n",
       "      <td>330.311500</td>\n",
       "    </tr>\n",
       "    <tr>\n",
       "      <th>1</th>\n",
       "      <td>RandomForestClassifier</td>\n",
       "      <td>1876.0</td>\n",
       "      <td>NaN</td>\n",
       "      <td>0.935706</td>\n",
       "      <td>0.930713</td>\n",
       "      <td>0.951827</td>\n",
       "      <td>0.941151</td>\n",
       "      <td>221.644998</td>\n",
       "    </tr>\n",
       "    <tr>\n",
       "      <th>2</th>\n",
       "      <td>RandomForestClassifier</td>\n",
       "      <td>1252.0</td>\n",
       "      <td>NaN</td>\n",
       "      <td>0.935590</td>\n",
       "      <td>0.930789</td>\n",
       "      <td>0.951503</td>\n",
       "      <td>0.941032</td>\n",
       "      <td>133.261000</td>\n",
       "    </tr>\n",
       "    <tr>\n",
       "      <th>3</th>\n",
       "      <td>RandomForestClassifier</td>\n",
       "      <td>628.0</td>\n",
       "      <td>NaN</td>\n",
       "      <td>0.935503</td>\n",
       "      <td>0.930234</td>\n",
       "      <td>0.951988</td>\n",
       "      <td>0.940985</td>\n",
       "      <td>60.220703</td>\n",
       "    </tr>\n",
       "    <tr>\n",
       "      <th>4</th>\n",
       "      <td>RandomForestClassifier</td>\n",
       "      <td>5.0</td>\n",
       "      <td>NaN</td>\n",
       "      <td>0.925403</td>\n",
       "      <td>0.924473</td>\n",
       "      <td>0.938571</td>\n",
       "      <td>0.931469</td>\n",
       "      <td>1.458681</td>\n",
       "    </tr>\n",
       "  </tbody>\n",
       "</table>\n",
       "</div>"
      ],
      "text/plain": [
       "                     type  hyper_param_val  complexity  accuracy_score  \\\n",
       "0  RandomForestClassifier           2500.0         NaN        0.935823   \n",
       "1  RandomForestClassifier           1876.0         NaN        0.935706   \n",
       "2  RandomForestClassifier           1252.0         NaN        0.935590   \n",
       "3  RandomForestClassifier            628.0         NaN        0.935503   \n",
       "4  RandomForestClassifier              5.0         NaN        0.925403   \n",
       "\n",
       "   precision_score  recall_score  f1_score  fit_time_in_seconds  \n",
       "0         0.930773      0.951988  0.941261           330.311500  \n",
       "1         0.930713      0.951827  0.941151           221.644998  \n",
       "2         0.930789      0.951503  0.941032           133.261000  \n",
       "3         0.930234      0.951988  0.940985            60.220703  \n",
       "4         0.924473      0.938571  0.931469             1.458681  "
      ]
     },
     "metadata": {},
     "output_type": "display_data"
    },
    {
     "data": {
      "text/plain": [
       "<matplotlib.axes._subplots.AxesSubplot at 0x227023d4668>"
      ]
     },
     "execution_count": 50,
     "metadata": {},
     "output_type": "execute_result"
    },
    {
     "data": {
      "image/png": "[encoded data removed]",
      "text/plain": [
       "<Figure size 576x432 with 1 Axes>"
      ]
     },
     "metadata": {
      "needs_background": "light"
     },
     "output_type": "display_data"
    }
   ],
   "source": [
    "display_top_quartile_scores(all_models_df, \"accuracy_score\")"
   ]
  },
  {
   "cell_type": "code",
   "execution_count": 51,
   "metadata": {},
   "outputs": [
    {
     "data": {
      "text/html": [
       "<div>\n",
       "<style scoped>\n",
       "    .dataframe tbody tr th:only-of-type {\n",
       "        vertical-align: middle;\n",
       "    }\n",
       "\n",
       "    .dataframe tbody tr th {\n",
       "        vertical-align: top;\n",
       "    }\n",
       "\n",
       "    .dataframe thead th {\n",
       "        text-align: right;\n",
       "    }\n",
       "</style>\n",
       "<table border=\"1\" class=\"dataframe\">\n",
       "  <thead>\n",
       "    <tr style=\"text-align: right;\">\n",
       "      <th></th>\n",
       "      <th>type</th>\n",
       "      <th>hyper_param_val</th>\n",
       "      <th>complexity</th>\n",
       "      <th>accuracy_score</th>\n",
       "      <th>precision_score</th>\n",
       "      <th>recall_score</th>\n",
       "      <th>f1_score</th>\n",
       "      <th>fit_time_in_seconds</th>\n",
       "    </tr>\n",
       "  </thead>\n",
       "  <tbody>\n",
       "    <tr>\n",
       "      <th>0</th>\n",
       "      <td>RandomForestClassifier</td>\n",
       "      <td>1252.0</td>\n",
       "      <td>NaN</td>\n",
       "      <td>0.935590</td>\n",
       "      <td>0.930789</td>\n",
       "      <td>0.951503</td>\n",
       "      <td>0.941032</td>\n",
       "      <td>133.261000</td>\n",
       "    </tr>\n",
       "    <tr>\n",
       "      <th>1</th>\n",
       "      <td>RandomForestClassifier</td>\n",
       "      <td>2500.0</td>\n",
       "      <td>NaN</td>\n",
       "      <td>0.935823</td>\n",
       "      <td>0.930773</td>\n",
       "      <td>0.951988</td>\n",
       "      <td>0.941261</td>\n",
       "      <td>330.311500</td>\n",
       "    </tr>\n",
       "    <tr>\n",
       "      <th>2</th>\n",
       "      <td>RandomForestClassifier</td>\n",
       "      <td>1876.0</td>\n",
       "      <td>NaN</td>\n",
       "      <td>0.935706</td>\n",
       "      <td>0.930713</td>\n",
       "      <td>0.951827</td>\n",
       "      <td>0.941151</td>\n",
       "      <td>221.644998</td>\n",
       "    </tr>\n",
       "    <tr>\n",
       "      <th>3</th>\n",
       "      <td>RandomForestClassifier</td>\n",
       "      <td>628.0</td>\n",
       "      <td>NaN</td>\n",
       "      <td>0.935503</td>\n",
       "      <td>0.930234</td>\n",
       "      <td>0.951988</td>\n",
       "      <td>0.940985</td>\n",
       "      <td>60.220703</td>\n",
       "    </tr>\n",
       "    <tr>\n",
       "      <th>4</th>\n",
       "      <td>RandomForestClassifier</td>\n",
       "      <td>5.0</td>\n",
       "      <td>NaN</td>\n",
       "      <td>0.925403</td>\n",
       "      <td>0.924473</td>\n",
       "      <td>0.938571</td>\n",
       "      <td>0.931469</td>\n",
       "      <td>1.458681</td>\n",
       "    </tr>\n",
       "  </tbody>\n",
       "</table>\n",
       "</div>"
      ],
      "text/plain": [
       "                     type  hyper_param_val  complexity  accuracy_score  \\\n",
       "0  RandomForestClassifier           1252.0         NaN        0.935590   \n",
       "1  RandomForestClassifier           2500.0         NaN        0.935823   \n",
       "2  RandomForestClassifier           1876.0         NaN        0.935706   \n",
       "3  RandomForestClassifier            628.0         NaN        0.935503   \n",
       "4  RandomForestClassifier              5.0         NaN        0.925403   \n",
       "\n",
       "   precision_score  recall_score  f1_score  fit_time_in_seconds  \n",
       "0         0.930789      0.951503  0.941032           133.261000  \n",
       "1         0.930773      0.951988  0.941261           330.311500  \n",
       "2         0.930713      0.951827  0.941151           221.644998  \n",
       "3         0.930234      0.951988  0.940985            60.220703  \n",
       "4         0.924473      0.938571  0.931469             1.458681  "
      ]
     },
     "metadata": {},
     "output_type": "display_data"
    },
    {
     "data": {
      "text/plain": [
       "<matplotlib.axes._subplots.AxesSubplot at 0x227013e0940>"
      ]
     },
     "execution_count": 51,
     "metadata": {},
     "output_type": "execute_result"
    },
    {
     "data": {
      "image/png": "[encoded data removed]",
      "text/plain": [
       "<Figure size 576x432 with 1 Axes>"
      ]
     },
     "metadata": {
      "needs_background": "light"
     },
     "output_type": "display_data"
    }
   ],
   "source": [
    "display_top_quartile_scores(all_models_df, \"precision_score\")"
   ]
  },
  {
   "cell_type": "code",
   "execution_count": 52,
   "metadata": {},
   "outputs": [
    {
     "data": {
      "text/html": [
       "<div>\n",
       "<style scoped>\n",
       "    .dataframe tbody tr th:only-of-type {\n",
       "        vertical-align: middle;\n",
       "    }\n",
       "\n",
       "    .dataframe tbody tr th {\n",
       "        vertical-align: top;\n",
       "    }\n",
       "\n",
       "    .dataframe thead th {\n",
       "        text-align: right;\n",
       "    }\n",
       "</style>\n",
       "<table border=\"1\" class=\"dataframe\">\n",
       "  <thead>\n",
       "    <tr style=\"text-align: right;\">\n",
       "      <th></th>\n",
       "      <th>type</th>\n",
       "      <th>hyper_param_val</th>\n",
       "      <th>complexity</th>\n",
       "      <th>accuracy_score</th>\n",
       "      <th>precision_score</th>\n",
       "      <th>recall_score</th>\n",
       "      <th>f1_score</th>\n",
       "      <th>fit_time_in_seconds</th>\n",
       "    </tr>\n",
       "  </thead>\n",
       "  <tbody>\n",
       "    <tr>\n",
       "      <th>0</th>\n",
       "      <td>KNeighborsClassifier</td>\n",
       "      <td>600.0</td>\n",
       "      <td>NaN</td>\n",
       "      <td>0.858374</td>\n",
       "      <td>0.810082</td>\n",
       "      <td>0.963735</td>\n",
       "      <td>0.880254</td>\n",
       "      <td>1.075998</td>\n",
       "    </tr>\n",
       "    <tr>\n",
       "      <th>1</th>\n",
       "      <td>KNeighborsClassifier</td>\n",
       "      <td>450.0</td>\n",
       "      <td>NaN</td>\n",
       "      <td>0.870278</td>\n",
       "      <td>0.825794</td>\n",
       "      <td>0.962981</td>\n",
       "      <td>0.889127</td>\n",
       "      <td>0.788000</td>\n",
       "    </tr>\n",
       "    <tr>\n",
       "      <th>2</th>\n",
       "      <td>KNeighborsClassifier</td>\n",
       "      <td>301.0</td>\n",
       "      <td>NaN</td>\n",
       "      <td>0.883579</td>\n",
       "      <td>0.846718</td>\n",
       "      <td>0.957862</td>\n",
       "      <td>0.898867</td>\n",
       "      <td>0.949997</td>\n",
       "    </tr>\n",
       "    <tr>\n",
       "      <th>3</th>\n",
       "      <td>KNeighborsClassifier</td>\n",
       "      <td>152.0</td>\n",
       "      <td>NaN</td>\n",
       "      <td>0.893329</td>\n",
       "      <td>0.862413</td>\n",
       "      <td>0.954844</td>\n",
       "      <td>0.906278</td>\n",
       "      <td>0.872002</td>\n",
       "    </tr>\n",
       "    <tr>\n",
       "      <th>4</th>\n",
       "      <td>RandomForestClassifier</td>\n",
       "      <td>628.0</td>\n",
       "      <td>NaN</td>\n",
       "      <td>0.935503</td>\n",
       "      <td>0.930234</td>\n",
       "      <td>0.951988</td>\n",
       "      <td>0.940985</td>\n",
       "      <td>60.220703</td>\n",
       "    </tr>\n",
       "    <tr>\n",
       "      <th>5</th>\n",
       "      <td>RandomForestClassifier</td>\n",
       "      <td>2500.0</td>\n",
       "      <td>NaN</td>\n",
       "      <td>0.935823</td>\n",
       "      <td>0.930773</td>\n",
       "      <td>0.951988</td>\n",
       "      <td>0.941261</td>\n",
       "      <td>330.311500</td>\n",
       "    </tr>\n",
       "  </tbody>\n",
       "</table>\n",
       "</div>"
      ],
      "text/plain": [
       "                     type  hyper_param_val  complexity  accuracy_score  \\\n",
       "0    KNeighborsClassifier            600.0         NaN        0.858374   \n",
       "1    KNeighborsClassifier            450.0         NaN        0.870278   \n",
       "2    KNeighborsClassifier            301.0         NaN        0.883579   \n",
       "3    KNeighborsClassifier            152.0         NaN        0.893329   \n",
       "4  RandomForestClassifier            628.0         NaN        0.935503   \n",
       "5  RandomForestClassifier           2500.0         NaN        0.935823   \n",
       "\n",
       "   precision_score  recall_score  f1_score  fit_time_in_seconds  \n",
       "0         0.810082      0.963735  0.880254             1.075998  \n",
       "1         0.825794      0.962981  0.889127             0.788000  \n",
       "2         0.846718      0.957862  0.898867             0.949997  \n",
       "3         0.862413      0.954844  0.906278             0.872002  \n",
       "4         0.930234      0.951988  0.940985            60.220703  \n",
       "5         0.930773      0.951988  0.941261           330.311500  "
      ]
     },
     "metadata": {},
     "output_type": "display_data"
    },
    {
     "data": {
      "text/plain": [
       "<matplotlib.axes._subplots.AxesSubplot at 0x22701a24518>"
      ]
     },
     "execution_count": 52,
     "metadata": {},
     "output_type": "execute_result"
    },
    {
     "data": {
      "image/png": "[encoded data removed]",
      "text/plain": [
       "<Figure size 576x432 with 1 Axes>"
      ]
     },
     "metadata": {
      "needs_background": "light"
     },
     "output_type": "display_data"
    }
   ],
   "source": [
    "display_top_quartile_scores(all_models_df, \"recall_score\")"
   ]
  },
  {
   "cell_type": "code",
   "execution_count": 53,
   "metadata": {},
   "outputs": [
    {
     "data": {
      "text/html": [
       "<div>\n",
       "<style scoped>\n",
       "    .dataframe tbody tr th:only-of-type {\n",
       "        vertical-align: middle;\n",
       "    }\n",
       "\n",
       "    .dataframe tbody tr th {\n",
       "        vertical-align: top;\n",
       "    }\n",
       "\n",
       "    .dataframe thead th {\n",
       "        text-align: right;\n",
       "    }\n",
       "</style>\n",
       "<table border=\"1\" class=\"dataframe\">\n",
       "  <thead>\n",
       "    <tr style=\"text-align: right;\">\n",
       "      <th></th>\n",
       "      <th>type</th>\n",
       "      <th>hyper_param_val</th>\n",
       "      <th>complexity</th>\n",
       "      <th>accuracy_score</th>\n",
       "      <th>precision_score</th>\n",
       "      <th>recall_score</th>\n",
       "      <th>f1_score</th>\n",
       "      <th>fit_time_in_seconds</th>\n",
       "    </tr>\n",
       "  </thead>\n",
       "  <tbody>\n",
       "    <tr>\n",
       "      <th>0</th>\n",
       "      <td>RandomForestClassifier</td>\n",
       "      <td>2500.0</td>\n",
       "      <td>NaN</td>\n",
       "      <td>0.935823</td>\n",
       "      <td>0.930773</td>\n",
       "      <td>0.951988</td>\n",
       "      <td>0.941261</td>\n",
       "      <td>330.311500</td>\n",
       "    </tr>\n",
       "    <tr>\n",
       "      <th>1</th>\n",
       "      <td>RandomForestClassifier</td>\n",
       "      <td>1876.0</td>\n",
       "      <td>NaN</td>\n",
       "      <td>0.935706</td>\n",
       "      <td>0.930713</td>\n",
       "      <td>0.951827</td>\n",
       "      <td>0.941151</td>\n",
       "      <td>221.644998</td>\n",
       "    </tr>\n",
       "    <tr>\n",
       "      <th>2</th>\n",
       "      <td>RandomForestClassifier</td>\n",
       "      <td>1252.0</td>\n",
       "      <td>NaN</td>\n",
       "      <td>0.935590</td>\n",
       "      <td>0.930789</td>\n",
       "      <td>0.951503</td>\n",
       "      <td>0.941032</td>\n",
       "      <td>133.261000</td>\n",
       "    </tr>\n",
       "    <tr>\n",
       "      <th>3</th>\n",
       "      <td>RandomForestClassifier</td>\n",
       "      <td>628.0</td>\n",
       "      <td>NaN</td>\n",
       "      <td>0.935503</td>\n",
       "      <td>0.930234</td>\n",
       "      <td>0.951988</td>\n",
       "      <td>0.940985</td>\n",
       "      <td>60.220703</td>\n",
       "    </tr>\n",
       "    <tr>\n",
       "      <th>4</th>\n",
       "      <td>RandomForestClassifier</td>\n",
       "      <td>5.0</td>\n",
       "      <td>NaN</td>\n",
       "      <td>0.925403</td>\n",
       "      <td>0.924473</td>\n",
       "      <td>0.938571</td>\n",
       "      <td>0.931469</td>\n",
       "      <td>1.458681</td>\n",
       "    </tr>\n",
       "  </tbody>\n",
       "</table>\n",
       "</div>"
      ],
      "text/plain": [
       "                     type  hyper_param_val  complexity  accuracy_score  \\\n",
       "0  RandomForestClassifier           2500.0         NaN        0.935823   \n",
       "1  RandomForestClassifier           1876.0         NaN        0.935706   \n",
       "2  RandomForestClassifier           1252.0         NaN        0.935590   \n",
       "3  RandomForestClassifier            628.0         NaN        0.935503   \n",
       "4  RandomForestClassifier              5.0         NaN        0.925403   \n",
       "\n",
       "   precision_score  recall_score  f1_score  fit_time_in_seconds  \n",
       "0         0.930773      0.951988  0.941261           330.311500  \n",
       "1         0.930713      0.951827  0.941151           221.644998  \n",
       "2         0.930789      0.951503  0.941032           133.261000  \n",
       "3         0.930234      0.951988  0.940985            60.220703  \n",
       "4         0.924473      0.938571  0.931469             1.458681  "
      ]
     },
     "metadata": {},
     "output_type": "display_data"
    },
    {
     "data": {
      "text/plain": [
       "<matplotlib.axes._subplots.AxesSubplot at 0x22701a99da0>"
      ]
     },
     "execution_count": 53,
     "metadata": {},
     "output_type": "execute_result"
    },
    {
     "data": {
      "image/png": "[encoded data removed]",
      "text/plain": [
       "<Figure size 576x432 with 1 Axes>"
      ]
     },
     "metadata": {
      "needs_background": "light"
     },
     "output_type": "display_data"
    }
   ],
   "source": [
    "display_top_quartile_scores(all_models_df, \"f1_score\")"
   ]
  },
  {
   "cell_type": "code",
   "execution_count": 54,
   "metadata": {},
   "outputs": [
    {
     "data": {
      "text/html": [
       "<div>\n",
       "<style scoped>\n",
       "    .dataframe tbody tr th:only-of-type {\n",
       "        vertical-align: middle;\n",
       "    }\n",
       "\n",
       "    .dataframe tbody tr th {\n",
       "        vertical-align: top;\n",
       "    }\n",
       "\n",
       "    .dataframe thead th {\n",
       "        text-align: right;\n",
       "    }\n",
       "</style>\n",
       "<table border=\"1\" class=\"dataframe\">\n",
       "  <thead>\n",
       "    <tr style=\"text-align: right;\">\n",
       "      <th></th>\n",
       "      <th>type</th>\n",
       "      <th>hyper_param_val</th>\n",
       "      <th>complexity</th>\n",
       "      <th>accuracy_score</th>\n",
       "      <th>precision_score</th>\n",
       "      <th>recall_score</th>\n",
       "      <th>f1_score</th>\n",
       "      <th>fit_time_in_seconds</th>\n",
       "    </tr>\n",
       "  </thead>\n",
       "  <tbody>\n",
       "    <tr>\n",
       "      <th>0</th>\n",
       "      <td>LogisticRegression</td>\n",
       "      <td>0.000100</td>\n",
       "      <td>1.0</td>\n",
       "      <td>0.835904</td>\n",
       "      <td>0.840897</td>\n",
       "      <td>0.858659</td>\n",
       "      <td>0.849685</td>\n",
       "      <td>0.169497</td>\n",
       "    </tr>\n",
       "    <tr>\n",
       "      <th>1</th>\n",
       "      <td>LogisticRegression</td>\n",
       "      <td>1.000000</td>\n",
       "      <td>26.0</td>\n",
       "      <td>0.884830</td>\n",
       "      <td>0.890088</td>\n",
       "      <td>0.897618</td>\n",
       "      <td>0.893837</td>\n",
       "      <td>0.280498</td>\n",
       "    </tr>\n",
       "    <tr>\n",
       "      <th>2</th>\n",
       "      <td>LogisticRegression</td>\n",
       "      <td>0.250075</td>\n",
       "      <td>26.0</td>\n",
       "      <td>0.884830</td>\n",
       "      <td>0.890088</td>\n",
       "      <td>0.897618</td>\n",
       "      <td>0.893837</td>\n",
       "      <td>0.297498</td>\n",
       "    </tr>\n",
       "    <tr>\n",
       "      <th>3</th>\n",
       "      <td>LogisticRegression</td>\n",
       "      <td>0.500050</td>\n",
       "      <td>26.0</td>\n",
       "      <td>0.884801</td>\n",
       "      <td>0.890082</td>\n",
       "      <td>0.897564</td>\n",
       "      <td>0.893808</td>\n",
       "      <td>0.301997</td>\n",
       "    </tr>\n",
       "    <tr>\n",
       "      <th>4</th>\n",
       "      <td>LogisticRegression</td>\n",
       "      <td>0.750025</td>\n",
       "      <td>26.0</td>\n",
       "      <td>0.884801</td>\n",
       "      <td>0.890082</td>\n",
       "      <td>0.897564</td>\n",
       "      <td>0.893808</td>\n",
       "      <td>0.306500</td>\n",
       "    </tr>\n",
       "  </tbody>\n",
       "</table>\n",
       "</div>"
      ],
      "text/plain": [
       "                 type  hyper_param_val  complexity  accuracy_score  \\\n",
       "0  LogisticRegression         0.000100         1.0        0.835904   \n",
       "1  LogisticRegression         1.000000        26.0        0.884830   \n",
       "2  LogisticRegression         0.250075        26.0        0.884830   \n",
       "3  LogisticRegression         0.500050        26.0        0.884801   \n",
       "4  LogisticRegression         0.750025        26.0        0.884801   \n",
       "\n",
       "   precision_score  recall_score  f1_score  fit_time_in_seconds  \n",
       "0         0.840897      0.858659  0.849685             0.169497  \n",
       "1         0.890088      0.897618  0.893837             0.280498  \n",
       "2         0.890088      0.897618  0.893837             0.297498  \n",
       "3         0.890082      0.897564  0.893808             0.301997  \n",
       "4         0.890082      0.897564  0.893808             0.306500  "
      ]
     },
     "metadata": {},
     "output_type": "display_data"
    },
    {
     "data": {
      "text/plain": [
       "<matplotlib.axes._subplots.AxesSubplot at 0x22701b6f9b0>"
      ]
     },
     "execution_count": 54,
     "metadata": {},
     "output_type": "execute_result"
    },
    {
     "data": {
      "image/png": "[encoded data removed]",
      "text/plain": [
       "<Figure size 576x432 with 1 Axes>"
      ]
     },
     "metadata": {
      "needs_background": "light"
     },
     "output_type": "display_data"
    }
   ],
   "source": [
    "display_top_quartile_scores(all_models_df, \"fit_time_in_seconds\", True)"
   ]
  },
  {
   "cell_type": "markdown",
   "metadata": {},
   "source": [
    "Consider all of the above, it seems our RandomForrest with 628 estimators is a viable candidate."
   ]
  },
  {
   "cell_type": "code",
   "execution_count": 55,
   "metadata": {},
   "outputs": [],
   "source": [
    "candidate_model = rfs[628]"
   ]
  },
  {
   "cell_type": "markdown",
   "metadata": {},
   "source": [
    "One attribute of forrest based models is they are able to report the relative importance of the features used in building the forrest."
   ]
  },
  {
   "cell_type": "code",
   "execution_count": 56,
   "metadata": {},
   "outputs": [],
   "source": [
    "def get_importances(estimator, X_columns):\n",
    "    return pd.Series(estimator.feature_importances_, index = X_columns).sort_values(ascending = False)"
   ]
  },
  {
   "cell_type": "code",
   "execution_count": 57,
   "metadata": {},
   "outputs": [
    {
     "name": "stdout",
     "output_type": "stream",
     "text": [
      "generate_features__digit_ratio__domain_digit_ratio                                0.344165\n",
      "count_pairs__domain_count_pair_ti                                                 0.124021\n",
      "generate_features__vowel_ratio__domain_vowel_ratio                                0.086099\n",
      "count_pairs__domain_count_pair_on                                                 0.054307\n",
      "count_pairs__domain_count_pair_ar                                                 0.048866\n",
      "generate_features__consonants_variety_ratio__domain_consonants_variety_ratio      0.039594\n",
      "count_pairs__domain_count_pair_to                                                 0.025686\n",
      "count_pairs__domain_count_pair_re                                                 0.021711\n",
      "count_pairs__domain_count_pair_or                                                 0.020197\n",
      "count_pairs__domain_count_pair_te                                                 0.019593\n",
      "generate_features__len__domain_len                                                0.019592\n",
      "count_pairs__domain_count_pair_le                                                 0.018459\n",
      "generate_features__vowel_distance_std_ratio__domain_vowel_distance_std_ratio      0.017010\n",
      "count_pairs__domain_count_pair_me                                                 0.015191\n",
      "generate_features__vowel_distance_mode_ratio__domain_vowel_distance_mode_ratio    0.014995\n",
      "count_pairs__domain_count_pair_st                                                 0.014353\n",
      "count_pairs__domain_count_pair_in                                                 0.014140\n",
      "count_pairs__domain_count_pair_en                                                 0.013739\n",
      "count_pairs__domain_count_pair_ma                                                 0.012759\n",
      "count_pairs__domain_count_pair_ne                                                 0.012535\n",
      "count_pairs__domain_count_pair_ra                                                 0.011371\n",
      "count_pairs__domain_count_pair_an                                                 0.011338\n",
      "count_pairs__domain_count_pair_er                                                 0.011217\n",
      "count_pairs__domain_count_pair_al                                                 0.010307\n",
      "count_pairs__domain_count_pair_es                                                 0.010174\n",
      "count_pairs__domain_count_pair_li                                                 0.008580\n",
      "dtype: float64\n",
      "len(candiate_importances) 26\n"
     ]
    }
   ],
   "source": [
    "candiate_importances = get_importances(candidate_model, combined_features_names)\n",
    "print(candiate_importances)\n",
    "print(\"len(candiate_importances)\", len(candiate_importances))"
   ]
  },
  {
   "cell_type": "markdown",
   "metadata": {},
   "source": [
    "Let's evaluate our candidate model and another model that we'll build with the same number of estimators but using a reduced number of features."
   ]
  },
  {
   "cell_type": "code",
   "execution_count": 58,
   "metadata": {},
   "outputs": [],
   "source": [
    "def display_confusion_matrix(y_actual, y_predictions, class_names):\n",
    "    \n",
    "    cm = confusion_matrix(y_actual, y_predictions)\n",
    "    \n",
    "    df_cm = pd.DataFrame(\n",
    "        cm, index = class_names, columns = class_names, \n",
    "    )\n",
    "    \n",
    "    figsize = (10,7)\n",
    "    fontsize=14    \n",
    "    \n",
    "    fig = plt.figure(figsize=figsize)\n",
    "    try:\n",
    "        heatmap = sns.heatmap(df_cm, annot=True, fmt=\"d\")\n",
    "    except ValueError:\n",
    "        raise ValueError(\"Confusion matrix values must be integers.\")\n",
    "    heatmap.yaxis.set_ticklabels(heatmap.yaxis.get_ticklabels(), rotation=0, ha='right', fontsize=fontsize)\n",
    "    heatmap.xaxis.set_ticklabels(heatmap.xaxis.get_ticklabels(), rotation=45, ha='right', fontsize=fontsize)\n",
    "    plt.ylabel('True label')\n",
    "    plt.xlabel('Predicted label')\n",
    "    "
   ]
  },
  {
   "cell_type": "code",
   "execution_count": 59,
   "metadata": {},
   "outputs": [],
   "source": [
    "def evaluate_model(model, X_train, y_train, X_test, y_test, class_names):\n",
    "    \n",
    "    train_predictions = model.predict(X_train)\n",
    "    print(\"Training Report\")\n",
    "    print(classification_report(y_train, train_predictions))\n",
    "    \n",
    "    test_predictions = model.predict(X_test)\n",
    "    print(\"Test Report\")\n",
    "    print(classification_report(y_test, test_predictions))\n",
    "    \n",
    "    display_confusion_matrix(y_test, test_predictions, class_names)"
   ]
  },
  {
   "cell_type": "code",
   "execution_count": 60,
   "metadata": {},
   "outputs": [
    {
     "name": "stdout",
     "output_type": "stream",
     "text": [
      "Training Report\n",
      "              precision    recall  f1-score   support\n",
      "\n",
      "           0       0.97      0.98      0.97     36865\n",
      "           1       0.98      0.98      0.98     43302\n",
      "\n",
      "    accuracy                           0.98     80167\n",
      "   macro avg       0.98      0.98      0.98     80167\n",
      "weighted avg       0.98      0.98      0.98     80167\n",
      "\n",
      "Test Report\n",
      "              precision    recall  f1-score   support\n",
      "\n",
      "           0       0.94      0.92      0.93     15800\n",
      "           1       0.93      0.95      0.94     18558\n",
      "\n",
      "    accuracy                           0.94     34358\n",
      "   macro avg       0.94      0.93      0.93     34358\n",
      "weighted avg       0.94      0.94      0.94     34358\n",
      "\n"
     ]
    },
    {
     "data": {
      "image/png": "[encoded data removed]",
      "text/plain": [
       "<Figure size 720x504 with 2 Axes>"
      ]
     },
     "metadata": {
      "needs_background": "light"
     },
     "output_type": "display_data"
    }
   ],
   "source": [
    "evaluate_model(candidate_model, X_train, y_train, X_test, y_test, class_le.classes_)"
   ]
  },
  {
   "cell_type": "markdown",
   "metadata": {},
   "source": [
    "While we've already extracted the feature importances as fitted in our candidate model, another approach is to use Recursive Feature Elimination. We achive this fitting a number of models and gradually reducing the number of features progressively until we've reached the target number of features.\n",
    "\n",
    "This gives a means of ranking of the most important features."
   ]
  },
  {
   "cell_type": "code",
   "execution_count": 61,
   "metadata": {},
   "outputs": [
    {
     "name": "stdout",
     "output_type": "stream",
     "text": [
      "Fitting estimator with 26 features.\n",
      "Fitting estimator with 25 features.\n",
      "Fitting estimator with 24 features.\n",
      "Fitting estimator with 23 features.\n",
      "Fitting estimator with 22 features.\n",
      "Fitting estimator with 21 features.\n",
      "Fitting estimator with 20 features.\n",
      "Fitting estimator with 19 features.\n",
      "Fitting estimator with 18 features.\n",
      "Fitting estimator with 17 features.\n",
      "Fitting estimator with 16 features.\n",
      "Fitting estimator with 15 features.\n",
      "Fitting estimator with 14 features.\n",
      "Fitting estimator with 13 features.\n",
      "Fitting estimator with 12 features.\n",
      "Fitting estimator with 11 features.\n",
      "Fitting estimator with 10 features.\n",
      "Fitting estimator with 9 features.\n",
      "Fitting estimator with 8 features.\n",
      "Fitting estimator with 7 features.\n",
      "Fitting estimator with 6 features.\n",
      "Fitting estimator with 5 features.\n",
      "Fitting estimator with 4 features.\n",
      "Fitting estimator with 3 features.\n",
      "Fitting estimator with 2 features.\n"
     ]
    }
   ],
   "source": [
    "from sklearn.feature_selection import RFE\n",
    "\n",
    "rfe = RFE(candidate_model, n_features_to_select=1, verbose = 1)\n",
    "rfe = rfe.fit(X_train, y_train)"
   ]
  },
  {
   "cell_type": "code",
   "execution_count": 62,
   "metadata": {},
   "outputs": [
    {
     "name": "stdout",
     "output_type": "stream",
     "text": [
      "Features sorted by their rank:\n"
     ]
    },
    {
     "data": {
      "text/plain": [
       "[(1, 'generate_features__digit_ratio__domain_digit_ratio'),\n",
       " (2, 'count_pairs__domain_count_pair_ti'),\n",
       " (3, 'generate_features__vowel_ratio__domain_vowel_ratio'),\n",
       " (4, 'count_pairs__domain_count_pair_ar'),\n",
       " (5, 'count_pairs__domain_count_pair_on'),\n",
       " (6,\n",
       "  'generate_features__consonants_variety_ratio__domain_consonants_variety_ratio'),\n",
       " (7, 'count_pairs__domain_count_pair_re'),\n",
       " (8, 'count_pairs__domain_count_pair_to'),\n",
       " (9, 'count_pairs__domain_count_pair_te'),\n",
       " (10, 'generate_features__len__domain_len'),\n",
       " (11, 'count_pairs__domain_count_pair_le'),\n",
       " (12,\n",
       "  'generate_features__vowel_distance_std_ratio__domain_vowel_distance_std_ratio'),\n",
       " (13, 'count_pairs__domain_count_pair_or'),\n",
       " (14, 'count_pairs__domain_count_pair_me'),\n",
       " (15, 'count_pairs__domain_count_pair_in'),\n",
       " (16,\n",
       "  'generate_features__vowel_distance_mode_ratio__domain_vowel_distance_mode_ratio'),\n",
       " (17, 'count_pairs__domain_count_pair_st'),\n",
       " (18, 'count_pairs__domain_count_pair_ne'),\n",
       " (19, 'count_pairs__domain_count_pair_ma'),\n",
       " (20, 'count_pairs__domain_count_pair_en'),\n",
       " (21, 'count_pairs__domain_count_pair_ra'),\n",
       " (22, 'count_pairs__domain_count_pair_an'),\n",
       " (23, 'count_pairs__domain_count_pair_er'),\n",
       " (24, 'count_pairs__domain_count_pair_es'),\n",
       " (25, 'count_pairs__domain_count_pair_al'),\n",
       " (26, 'count_pairs__domain_count_pair_li')]"
      ]
     },
     "execution_count": 62,
     "metadata": {},
     "output_type": "execute_result"
    }
   ],
   "source": [
    "print(\"Features sorted by their rank:\")\n",
    "combined_feature_rfe_importances = sorted(zip(map(lambda x: round(x, 4), rfe.ranking_), combined_features_names))\n",
    "combined_feature_rfe_importances"
   ]
  },
  {
   "cell_type": "markdown",
   "metadata": {},
   "source": [
    "Given the above let's refit our candidate model, using the above information."
   ]
  },
  {
   "cell_type": "code",
   "execution_count": 63,
   "metadata": {},
   "outputs": [
    {
     "data": {
      "text/plain": [
       "RandomForestClassifier(bootstrap=True, ccp_alpha=0.0, class_weight='balanced',\n",
       "                       criterion='gini', max_depth=None, max_features='auto',\n",
       "                       max_leaf_nodes=None, max_samples=None,\n",
       "                       min_impurity_decrease=0.0, min_impurity_split=None,\n",
       "                       min_samples_leaf=1, min_samples_split=2,\n",
       "                       min_weight_fraction_leaf=0.0, n_estimators=628,\n",
       "                       n_jobs=-1, oob_score=False, random_state=42, verbose=0,\n",
       "                       warm_start=False)"
      ]
     },
     "execution_count": 63,
     "metadata": {},
     "output_type": "execute_result"
    }
   ],
   "source": [
    "get_random_forrest(628)"
   ]
  },
  {
   "cell_type": "code",
   "execution_count": 64,
   "metadata": {},
   "outputs": [],
   "source": [
    "combined_X_df = pd.DataFrame(\n",
    "    combined_X, columns = combined_features.get_feature_names()\n",
    ")"
   ]
  },
  {
   "cell_type": "code",
   "execution_count": 65,
   "metadata": {},
   "outputs": [],
   "source": [
    "rfe_rfs = dict()"
   ]
  },
  {
   "cell_type": "code",
   "execution_count": 66,
   "metadata": {},
   "outputs": [
    {
     "data": {
      "text/plain": [
       "['generate_features__digit_ratio__domain_digit_ratio']"
      ]
     },
     "execution_count": 66,
     "metadata": {},
     "output_type": "execute_result"
    }
   ],
   "source": [
    "[x[1] for x in combined_feature_rfe_importances][:1]"
   ]
  },
  {
   "cell_type": "code",
   "execution_count": 67,
   "metadata": {
    "scrolled": false
   },
   "outputs": [
    {
     "data": {
      "text/html": [
       "<div>\n",
       "<style scoped>\n",
       "    .dataframe tbody tr th:only-of-type {\n",
       "        vertical-align: middle;\n",
       "    }\n",
       "\n",
       "    .dataframe tbody tr th {\n",
       "        vertical-align: top;\n",
       "    }\n",
       "\n",
       "    .dataframe thead th {\n",
       "        text-align: right;\n",
       "    }\n",
       "</style>\n",
       "<table border=\"1\" class=\"dataframe\">\n",
       "  <thead>\n",
       "    <tr style=\"text-align: right;\">\n",
       "      <th></th>\n",
       "      <th>feature_count</th>\n",
       "      <th>accuracy_score</th>\n",
       "      <th>precision_score</th>\n",
       "      <th>recall_score</th>\n",
       "      <th>f1_score</th>\n",
       "      <th>fit_time_in_seconds</th>\n",
       "    </tr>\n",
       "  </thead>\n",
       "  <tbody>\n",
       "    <tr>\n",
       "      <th>0</th>\n",
       "      <td>1.0</td>\n",
       "      <td>0.000000</td>\n",
       "      <td>0.000000</td>\n",
       "      <td>0.000000</td>\n",
       "      <td>0.000000</td>\n",
       "      <td>0.000000</td>\n",
       "    </tr>\n",
       "    <tr>\n",
       "      <th>1</th>\n",
       "      <td>2.0</td>\n",
       "      <td>0.906106</td>\n",
       "      <td>0.899312</td>\n",
       "      <td>0.930327</td>\n",
       "      <td>0.914557</td>\n",
       "      <td>30.585483</td>\n",
       "    </tr>\n",
       "    <tr>\n",
       "      <th>2</th>\n",
       "      <td>3.0</td>\n",
       "      <td>0.926334</td>\n",
       "      <td>0.922809</td>\n",
       "      <td>0.942451</td>\n",
       "      <td>0.932526</td>\n",
       "      <td>35.618983</td>\n",
       "    </tr>\n",
       "    <tr>\n",
       "      <th>3</th>\n",
       "      <td>4.0</td>\n",
       "      <td>0.927353</td>\n",
       "      <td>0.924023</td>\n",
       "      <td>0.943043</td>\n",
       "      <td>0.933436</td>\n",
       "      <td>49.044996</td>\n",
       "    </tr>\n",
       "    <tr>\n",
       "      <th>4</th>\n",
       "      <td>5.0</td>\n",
       "      <td>0.929303</td>\n",
       "      <td>0.925635</td>\n",
       "      <td>0.945037</td>\n",
       "      <td>0.935235</td>\n",
       "      <td>42.955584</td>\n",
       "    </tr>\n",
       "    <tr>\n",
       "      <th>5</th>\n",
       "      <td>6.0</td>\n",
       "      <td>0.931370</td>\n",
       "      <td>0.927576</td>\n",
       "      <td>0.946869</td>\n",
       "      <td>0.937123</td>\n",
       "      <td>42.835363</td>\n",
       "    </tr>\n",
       "    <tr>\n",
       "      <th>6</th>\n",
       "      <td>7.0</td>\n",
       "      <td>0.932388</td>\n",
       "      <td>0.927755</td>\n",
       "      <td>0.948701</td>\n",
       "      <td>0.938111</td>\n",
       "      <td>40.584491</td>\n",
       "    </tr>\n",
       "    <tr>\n",
       "      <th>7</th>\n",
       "      <td>8.0</td>\n",
       "      <td>0.938530</td>\n",
       "      <td>0.936326</td>\n",
       "      <td>0.950857</td>\n",
       "      <td>0.943535</td>\n",
       "      <td>42.064000</td>\n",
       "    </tr>\n",
       "    <tr>\n",
       "      <th>8</th>\n",
       "      <td>9.0</td>\n",
       "      <td>0.939112</td>\n",
       "      <td>0.936949</td>\n",
       "      <td>0.951288</td>\n",
       "      <td>0.944064</td>\n",
       "      <td>60.324625</td>\n",
       "    </tr>\n",
       "    <tr>\n",
       "      <th>9</th>\n",
       "      <td>10.0</td>\n",
       "      <td>0.938471</td>\n",
       "      <td>0.936088</td>\n",
       "      <td>0.951018</td>\n",
       "      <td>0.943494</td>\n",
       "      <td>67.786226</td>\n",
       "    </tr>\n",
       "    <tr>\n",
       "      <th>10</th>\n",
       "      <td>11.0</td>\n",
       "      <td>0.938995</td>\n",
       "      <td>0.935918</td>\n",
       "      <td>0.952258</td>\n",
       "      <td>0.944017</td>\n",
       "      <td>56.093482</td>\n",
       "    </tr>\n",
       "    <tr>\n",
       "      <th>11</th>\n",
       "      <td>12.0</td>\n",
       "      <td>0.938122</td>\n",
       "      <td>0.934525</td>\n",
       "      <td>0.952150</td>\n",
       "      <td>0.943255</td>\n",
       "      <td>62.353501</td>\n",
       "    </tr>\n",
       "    <tr>\n",
       "      <th>12</th>\n",
       "      <td>13.0</td>\n",
       "      <td>0.937307</td>\n",
       "      <td>0.933006</td>\n",
       "      <td>0.952312</td>\n",
       "      <td>0.942560</td>\n",
       "      <td>64.275006</td>\n",
       "    </tr>\n",
       "    <tr>\n",
       "      <th>13</th>\n",
       "      <td>14.0</td>\n",
       "      <td>0.936841</td>\n",
       "      <td>0.932721</td>\n",
       "      <td>0.951719</td>\n",
       "      <td>0.942124</td>\n",
       "      <td>69.152500</td>\n",
       "    </tr>\n",
       "    <tr>\n",
       "      <th>14</th>\n",
       "      <td>15.0</td>\n",
       "      <td>0.937074</td>\n",
       "      <td>0.932065</td>\n",
       "      <td>0.952958</td>\n",
       "      <td>0.942396</td>\n",
       "      <td>73.598385</td>\n",
       "    </tr>\n",
       "    <tr>\n",
       "      <th>15</th>\n",
       "      <td>16.0</td>\n",
       "      <td>0.938122</td>\n",
       "      <td>0.934204</td>\n",
       "      <td>0.952527</td>\n",
       "      <td>0.943276</td>\n",
       "      <td>83.416404</td>\n",
       "    </tr>\n",
       "    <tr>\n",
       "      <th>16</th>\n",
       "      <td>17.0</td>\n",
       "      <td>0.937540</td>\n",
       "      <td>0.933583</td>\n",
       "      <td>0.952096</td>\n",
       "      <td>0.942749</td>\n",
       "      <td>86.752480</td>\n",
       "    </tr>\n",
       "    <tr>\n",
       "      <th>17</th>\n",
       "      <td>18.0</td>\n",
       "      <td>0.937045</td>\n",
       "      <td>0.932700</td>\n",
       "      <td>0.952150</td>\n",
       "      <td>0.942325</td>\n",
       "      <td>92.822504</td>\n",
       "    </tr>\n",
       "    <tr>\n",
       "      <th>18</th>\n",
       "      <td>19.0</td>\n",
       "      <td>0.937278</td>\n",
       "      <td>0.932820</td>\n",
       "      <td>0.952473</td>\n",
       "      <td>0.942544</td>\n",
       "      <td>88.425522</td>\n",
       "    </tr>\n",
       "    <tr>\n",
       "      <th>19</th>\n",
       "      <td>20.0</td>\n",
       "      <td>0.936259</td>\n",
       "      <td>0.931737</td>\n",
       "      <td>0.951719</td>\n",
       "      <td>0.941622</td>\n",
       "      <td>93.999963</td>\n",
       "    </tr>\n",
       "    <tr>\n",
       "      <th>20</th>\n",
       "      <td>21.0</td>\n",
       "      <td>0.936114</td>\n",
       "      <td>0.930855</td>\n",
       "      <td>0.952473</td>\n",
       "      <td>0.941540</td>\n",
       "      <td>103.998980</td>\n",
       "    </tr>\n",
       "    <tr>\n",
       "      <th>21</th>\n",
       "      <td>22.0</td>\n",
       "      <td>0.936201</td>\n",
       "      <td>0.930956</td>\n",
       "      <td>0.952527</td>\n",
       "      <td>0.941618</td>\n",
       "      <td>109.974744</td>\n",
       "    </tr>\n",
       "    <tr>\n",
       "      <th>22</th>\n",
       "      <td>23.0</td>\n",
       "      <td>0.934979</td>\n",
       "      <td>0.929489</td>\n",
       "      <td>0.951827</td>\n",
       "      <td>0.940525</td>\n",
       "      <td>118.838621</td>\n",
       "    </tr>\n",
       "    <tr>\n",
       "      <th>23</th>\n",
       "      <td>24.0</td>\n",
       "      <td>0.934775</td>\n",
       "      <td>0.928966</td>\n",
       "      <td>0.952042</td>\n",
       "      <td>0.940362</td>\n",
       "      <td>128.717303</td>\n",
       "    </tr>\n",
       "    <tr>\n",
       "      <th>24</th>\n",
       "      <td>25.0</td>\n",
       "      <td>0.936114</td>\n",
       "      <td>0.931264</td>\n",
       "      <td>0.951988</td>\n",
       "      <td>0.941512</td>\n",
       "      <td>134.599689</td>\n",
       "    </tr>\n",
       "  </tbody>\n",
       "</table>\n",
       "</div>"
      ],
      "text/plain": [
       "    feature_count  accuracy_score  precision_score  recall_score  f1_score  \\\n",
       "0             1.0        0.000000         0.000000      0.000000  0.000000   \n",
       "1             2.0        0.906106         0.899312      0.930327  0.914557   \n",
       "2             3.0        0.926334         0.922809      0.942451  0.932526   \n",
       "3             4.0        0.927353         0.924023      0.943043  0.933436   \n",
       "4             5.0        0.929303         0.925635      0.945037  0.935235   \n",
       "5             6.0        0.931370         0.927576      0.946869  0.937123   \n",
       "6             7.0        0.932388         0.927755      0.948701  0.938111   \n",
       "7             8.0        0.938530         0.936326      0.950857  0.943535   \n",
       "8             9.0        0.939112         0.936949      0.951288  0.944064   \n",
       "9            10.0        0.938471         0.936088      0.951018  0.943494   \n",
       "10           11.0        0.938995         0.935918      0.952258  0.944017   \n",
       "11           12.0        0.938122         0.934525      0.952150  0.943255   \n",
       "12           13.0        0.937307         0.933006      0.952312  0.942560   \n",
       "13           14.0        0.936841         0.932721      0.951719  0.942124   \n",
       "14           15.0        0.937074         0.932065      0.952958  0.942396   \n",
       "15           16.0        0.938122         0.934204      0.952527  0.943276   \n",
       "16           17.0        0.937540         0.933583      0.952096  0.942749   \n",
       "17           18.0        0.937045         0.932700      0.952150  0.942325   \n",
       "18           19.0        0.937278         0.932820      0.952473  0.942544   \n",
       "19           20.0        0.936259         0.931737      0.951719  0.941622   \n",
       "20           21.0        0.936114         0.930855      0.952473  0.941540   \n",
       "21           22.0        0.936201         0.930956      0.952527  0.941618   \n",
       "22           23.0        0.934979         0.929489      0.951827  0.940525   \n",
       "23           24.0        0.934775         0.928966      0.952042  0.940362   \n",
       "24           25.0        0.936114         0.931264      0.951988  0.941512   \n",
       "\n",
       "    fit_time_in_seconds  \n",
       "0              0.000000  \n",
       "1             30.585483  \n",
       "2             35.618983  \n",
       "3             49.044996  \n",
       "4             42.955584  \n",
       "5             42.835363  \n",
       "6             40.584491  \n",
       "7             42.064000  \n",
       "8             60.324625  \n",
       "9             67.786226  \n",
       "10            56.093482  \n",
       "11            62.353501  \n",
       "12            64.275006  \n",
       "13            69.152500  \n",
       "14            73.598385  \n",
       "15            83.416404  \n",
       "16            86.752480  \n",
       "17            92.822504  \n",
       "18            88.425522  \n",
       "19            93.999963  \n",
       "20           103.998980  \n",
       "21           109.974744  \n",
       "22           118.838621  \n",
       "23           128.717303  \n",
       "24           134.599689  "
      ]
     },
     "metadata": {},
     "output_type": "display_data"
    }
   ],
   "source": [
    "rfe_rfs = dict()\n",
    "\n",
    "col_names = [\n",
    "    \"feature_count\", \"accuracy_score\", \n",
    "    \"precision_score\", \"recall_score\", \"f1_score\", \"fit_time_in_seconds\"\n",
    "]\n",
    "\n",
    "feature_range = list(range(1, len(combined_feature_rfe_importances)))\n",
    "\n",
    "metrics = np.zeros((len(feature_range), len(col_names)))\n",
    "metrics[:,0] = feature_range\n",
    "\n",
    "for i in range(1,len(feature_range)):\n",
    "    columns = [x[1] for x in combined_feature_rfe_importances][:i+1]\n",
    "\n",
    "    # really inefficient could do masking to get the columns I want\n",
    "    combined_X_train, combined_X_test, combined_y_train, combined_y_test = train_test_split(\n",
    "        combined_X_df[columns].values, y,\n",
    "        test_size = 0.3,\n",
    "        random_state = 42,\n",
    "        stratify = y,\n",
    "    )\n",
    "    \n",
    "    model = get_random_forrest(628)  \n",
    "\n",
    "    fit_start = time()\n",
    "    model.fit(combined_X_train, combined_y_train)\n",
    "    fit_time_in_seconds = float(time() - fit_start)\n",
    "\n",
    "    rfe_rfs[i] = model\n",
    "\n",
    "    test_predictions = model.predict(combined_X_test)\n",
    "\n",
    "    metrics[i, 1] = accuracy_score(combined_y_test, test_predictions)\n",
    "    metrics[i, 2] = precision_score(combined_y_test, test_predictions)\n",
    "    metrics[i, 3] = recall_score(combined_y_test, test_predictions)\n",
    "    metrics[i, 4] = f1_score(combined_y_test, test_predictions)\n",
    "    metrics[i, 5] = fit_time_in_seconds\n",
    "    \n",
    "metrics_df = pd.DataFrame(metrics, columns=col_names)\n",
    "\n",
    "display(metrics_df)"
   ]
  },
  {
   "cell_type": "code",
   "execution_count": 87,
   "metadata": {},
   "outputs": [],
   "source": [
    "metrics_df = metrics_df.loc[1:]"
   ]
  },
  {
   "cell_type": "code",
   "execution_count": 96,
   "metadata": {},
   "outputs": [
    {
     "data": {
      "text/html": [
       "<div>\n",
       "<style scoped>\n",
       "    .dataframe tbody tr th:only-of-type {\n",
       "        vertical-align: middle;\n",
       "    }\n",
       "\n",
       "    .dataframe tbody tr th {\n",
       "        vertical-align: top;\n",
       "    }\n",
       "\n",
       "    .dataframe thead th {\n",
       "        text-align: right;\n",
       "    }\n",
       "</style>\n",
       "<table border=\"1\" class=\"dataframe\">\n",
       "  <thead>\n",
       "    <tr style=\"text-align: right;\">\n",
       "      <th></th>\n",
       "      <th>feature_count</th>\n",
       "      <th>accuracy_score</th>\n",
       "      <th>precision_score</th>\n",
       "      <th>recall_score</th>\n",
       "      <th>f1_score</th>\n",
       "      <th>fit_time_in_seconds</th>\n",
       "    </tr>\n",
       "  </thead>\n",
       "  <tbody>\n",
       "    <tr>\n",
       "      <th>0</th>\n",
       "      <td>9.0</td>\n",
       "      <td>0.939112</td>\n",
       "      <td>0.936949</td>\n",
       "      <td>0.951288</td>\n",
       "      <td>0.944064</td>\n",
       "      <td>60.324625</td>\n",
       "    </tr>\n",
       "    <tr>\n",
       "      <th>1</th>\n",
       "      <td>11.0</td>\n",
       "      <td>0.938995</td>\n",
       "      <td>0.935918</td>\n",
       "      <td>0.952258</td>\n",
       "      <td>0.944017</td>\n",
       "      <td>56.093482</td>\n",
       "    </tr>\n",
       "    <tr>\n",
       "      <th>2</th>\n",
       "      <td>8.0</td>\n",
       "      <td>0.938530</td>\n",
       "      <td>0.936326</td>\n",
       "      <td>0.950857</td>\n",
       "      <td>0.943535</td>\n",
       "      <td>42.064000</td>\n",
       "    </tr>\n",
       "    <tr>\n",
       "      <th>3</th>\n",
       "      <td>10.0</td>\n",
       "      <td>0.938471</td>\n",
       "      <td>0.936088</td>\n",
       "      <td>0.951018</td>\n",
       "      <td>0.943494</td>\n",
       "      <td>67.786226</td>\n",
       "    </tr>\n",
       "    <tr>\n",
       "      <th>4</th>\n",
       "      <td>12.0</td>\n",
       "      <td>0.938122</td>\n",
       "      <td>0.934525</td>\n",
       "      <td>0.952150</td>\n",
       "      <td>0.943255</td>\n",
       "      <td>62.353501</td>\n",
       "    </tr>\n",
       "    <tr>\n",
       "      <th>5</th>\n",
       "      <td>16.0</td>\n",
       "      <td>0.938122</td>\n",
       "      <td>0.934204</td>\n",
       "      <td>0.952527</td>\n",
       "      <td>0.943276</td>\n",
       "      <td>83.416404</td>\n",
       "    </tr>\n",
       "  </tbody>\n",
       "</table>\n",
       "</div>"
      ],
      "text/plain": [
       "   feature_count  accuracy_score  precision_score  recall_score  f1_score  \\\n",
       "0            9.0        0.939112         0.936949      0.951288  0.944064   \n",
       "1           11.0        0.938995         0.935918      0.952258  0.944017   \n",
       "2            8.0        0.938530         0.936326      0.950857  0.943535   \n",
       "3           10.0        0.938471         0.936088      0.951018  0.943494   \n",
       "4           12.0        0.938122         0.934525      0.952150  0.943255   \n",
       "5           16.0        0.938122         0.934204      0.952527  0.943276   \n",
       "\n",
       "   fit_time_in_seconds  \n",
       "0            60.324625  \n",
       "1            56.093482  \n",
       "2            42.064000  \n",
       "3            67.786226  \n",
       "4            62.353501  \n",
       "5            83.416404  "
      ]
     },
     "metadata": {},
     "output_type": "display_data"
    },
    {
     "data": {
      "text/plain": [
       "<matplotlib.axes._subplots.AxesSubplot at 0x22710c23f60>"
      ]
     },
     "execution_count": 96,
     "metadata": {},
     "output_type": "execute_result"
    },
    {
     "data": {
      "image/png": "[encoded data removed]",
      "text/plain": [
       "<Figure size 576x432 with 1 Axes>"
      ]
     },
     "metadata": {
      "needs_background": "light"
     },
     "output_type": "display_data"
    }
   ],
   "source": [
    "display_top_quartile_scores(metrics_df, \"accuracy_score\", groupby = \"feature_count\", unstack = False)"
   ]
  },
  {
   "cell_type": "code",
   "execution_count": 89,
   "metadata": {},
   "outputs": [
    {
     "data": {
      "text/html": [
       "<div>\n",
       "<style scoped>\n",
       "    .dataframe tbody tr th:only-of-type {\n",
       "        vertical-align: middle;\n",
       "    }\n",
       "\n",
       "    .dataframe tbody tr th {\n",
       "        vertical-align: top;\n",
       "    }\n",
       "\n",
       "    .dataframe thead th {\n",
       "        text-align: right;\n",
       "    }\n",
       "</style>\n",
       "<table border=\"1\" class=\"dataframe\">\n",
       "  <thead>\n",
       "    <tr style=\"text-align: right;\">\n",
       "      <th></th>\n",
       "      <th>feature_count</th>\n",
       "      <th>accuracy_score</th>\n",
       "      <th>precision_score</th>\n",
       "      <th>recall_score</th>\n",
       "      <th>f1_score</th>\n",
       "      <th>fit_time_in_seconds</th>\n",
       "    </tr>\n",
       "  </thead>\n",
       "  <tbody>\n",
       "    <tr>\n",
       "      <th>0</th>\n",
       "      <td>9.0</td>\n",
       "      <td>0.939112</td>\n",
       "      <td>0.936949</td>\n",
       "      <td>0.951288</td>\n",
       "      <td>0.944064</td>\n",
       "      <td>60.324625</td>\n",
       "    </tr>\n",
       "    <tr>\n",
       "      <th>1</th>\n",
       "      <td>8.0</td>\n",
       "      <td>0.938530</td>\n",
       "      <td>0.936326</td>\n",
       "      <td>0.950857</td>\n",
       "      <td>0.943535</td>\n",
       "      <td>42.064000</td>\n",
       "    </tr>\n",
       "    <tr>\n",
       "      <th>2</th>\n",
       "      <td>10.0</td>\n",
       "      <td>0.938471</td>\n",
       "      <td>0.936088</td>\n",
       "      <td>0.951018</td>\n",
       "      <td>0.943494</td>\n",
       "      <td>67.786226</td>\n",
       "    </tr>\n",
       "    <tr>\n",
       "      <th>3</th>\n",
       "      <td>11.0</td>\n",
       "      <td>0.938995</td>\n",
       "      <td>0.935918</td>\n",
       "      <td>0.952258</td>\n",
       "      <td>0.944017</td>\n",
       "      <td>56.093482</td>\n",
       "    </tr>\n",
       "    <tr>\n",
       "      <th>4</th>\n",
       "      <td>12.0</td>\n",
       "      <td>0.938122</td>\n",
       "      <td>0.934525</td>\n",
       "      <td>0.952150</td>\n",
       "      <td>0.943255</td>\n",
       "      <td>62.353501</td>\n",
       "    </tr>\n",
       "    <tr>\n",
       "      <th>5</th>\n",
       "      <td>16.0</td>\n",
       "      <td>0.938122</td>\n",
       "      <td>0.934204</td>\n",
       "      <td>0.952527</td>\n",
       "      <td>0.943276</td>\n",
       "      <td>83.416404</td>\n",
       "    </tr>\n",
       "  </tbody>\n",
       "</table>\n",
       "</div>"
      ],
      "text/plain": [
       "   feature_count  accuracy_score  precision_score  recall_score  f1_score  \\\n",
       "0            9.0        0.939112         0.936949      0.951288  0.944064   \n",
       "1            8.0        0.938530         0.936326      0.950857  0.943535   \n",
       "2           10.0        0.938471         0.936088      0.951018  0.943494   \n",
       "3           11.0        0.938995         0.935918      0.952258  0.944017   \n",
       "4           12.0        0.938122         0.934525      0.952150  0.943255   \n",
       "5           16.0        0.938122         0.934204      0.952527  0.943276   \n",
       "\n",
       "   fit_time_in_seconds  \n",
       "0            60.324625  \n",
       "1            42.064000  \n",
       "2            67.786226  \n",
       "3            56.093482  \n",
       "4            62.353501  \n",
       "5            83.416404  "
      ]
     },
     "metadata": {},
     "output_type": "display_data"
    },
    {
     "data": {
      "text/plain": [
       "<matplotlib.axes._subplots.AxesSubplot at 0x2270c703390>"
      ]
     },
     "execution_count": 89,
     "metadata": {},
     "output_type": "execute_result"
    },
    {
     "data": {
      "image/png": "[encoded data removed]",
      "text/plain": [
       "<Figure size 576x432 with 1 Axes>"
      ]
     },
     "metadata": {
      "needs_background": "light"
     },
     "output_type": "display_data"
    }
   ],
   "source": [
    "display_top_quartile_scores(metrics_df, \"precision_score\", groupby = \"feature_count\", unstack = False)"
   ]
  },
  {
   "cell_type": "code",
   "execution_count": 90,
   "metadata": {},
   "outputs": [
    {
     "data": {
      "text/html": [
       "<div>\n",
       "<style scoped>\n",
       "    .dataframe tbody tr th:only-of-type {\n",
       "        vertical-align: middle;\n",
       "    }\n",
       "\n",
       "    .dataframe tbody tr th {\n",
       "        vertical-align: top;\n",
       "    }\n",
       "\n",
       "    .dataframe thead th {\n",
       "        text-align: right;\n",
       "    }\n",
       "</style>\n",
       "<table border=\"1\" class=\"dataframe\">\n",
       "  <thead>\n",
       "    <tr style=\"text-align: right;\">\n",
       "      <th></th>\n",
       "      <th>feature_count</th>\n",
       "      <th>accuracy_score</th>\n",
       "      <th>precision_score</th>\n",
       "      <th>recall_score</th>\n",
       "      <th>f1_score</th>\n",
       "      <th>fit_time_in_seconds</th>\n",
       "    </tr>\n",
       "  </thead>\n",
       "  <tbody>\n",
       "    <tr>\n",
       "      <th>0</th>\n",
       "      <td>15.0</td>\n",
       "      <td>0.937074</td>\n",
       "      <td>0.932065</td>\n",
       "      <td>0.952958</td>\n",
       "      <td>0.942396</td>\n",
       "      <td>73.598385</td>\n",
       "    </tr>\n",
       "    <tr>\n",
       "      <th>1</th>\n",
       "      <td>16.0</td>\n",
       "      <td>0.938122</td>\n",
       "      <td>0.934204</td>\n",
       "      <td>0.952527</td>\n",
       "      <td>0.943276</td>\n",
       "      <td>83.416404</td>\n",
       "    </tr>\n",
       "    <tr>\n",
       "      <th>2</th>\n",
       "      <td>22.0</td>\n",
       "      <td>0.936201</td>\n",
       "      <td>0.930956</td>\n",
       "      <td>0.952527</td>\n",
       "      <td>0.941618</td>\n",
       "      <td>109.974744</td>\n",
       "    </tr>\n",
       "    <tr>\n",
       "      <th>3</th>\n",
       "      <td>19.0</td>\n",
       "      <td>0.937278</td>\n",
       "      <td>0.932820</td>\n",
       "      <td>0.952473</td>\n",
       "      <td>0.942544</td>\n",
       "      <td>88.425522</td>\n",
       "    </tr>\n",
       "    <tr>\n",
       "      <th>4</th>\n",
       "      <td>21.0</td>\n",
       "      <td>0.936114</td>\n",
       "      <td>0.930855</td>\n",
       "      <td>0.952473</td>\n",
       "      <td>0.941540</td>\n",
       "      <td>103.998980</td>\n",
       "    </tr>\n",
       "    <tr>\n",
       "      <th>5</th>\n",
       "      <td>13.0</td>\n",
       "      <td>0.937307</td>\n",
       "      <td>0.933006</td>\n",
       "      <td>0.952312</td>\n",
       "      <td>0.942560</td>\n",
       "      <td>64.275006</td>\n",
       "    </tr>\n",
       "  </tbody>\n",
       "</table>\n",
       "</div>"
      ],
      "text/plain": [
       "   feature_count  accuracy_score  precision_score  recall_score  f1_score  \\\n",
       "0           15.0        0.937074         0.932065      0.952958  0.942396   \n",
       "1           16.0        0.938122         0.934204      0.952527  0.943276   \n",
       "2           22.0        0.936201         0.930956      0.952527  0.941618   \n",
       "3           19.0        0.937278         0.932820      0.952473  0.942544   \n",
       "4           21.0        0.936114         0.930855      0.952473  0.941540   \n",
       "5           13.0        0.937307         0.933006      0.952312  0.942560   \n",
       "\n",
       "   fit_time_in_seconds  \n",
       "0            73.598385  \n",
       "1            83.416404  \n",
       "2           109.974744  \n",
       "3            88.425522  \n",
       "4           103.998980  \n",
       "5            64.275006  "
      ]
     },
     "metadata": {},
     "output_type": "display_data"
    },
    {
     "data": {
      "text/plain": [
       "<matplotlib.axes._subplots.AxesSubplot at 0x2270c7486d8>"
      ]
     },
     "execution_count": 90,
     "metadata": {},
     "output_type": "execute_result"
    },
    {
     "data": {
      "image/png": "[encoded data removed]",
      "text/plain": [
       "<Figure size 576x432 with 1 Axes>"
      ]
     },
     "metadata": {
      "needs_background": "light"
     },
     "output_type": "display_data"
    }
   ],
   "source": [
    "display_top_quartile_scores(metrics_df, \"recall_score\", groupby = \"feature_count\", unstack = False)"
   ]
  },
  {
   "cell_type": "code",
   "execution_count": 91,
   "metadata": {},
   "outputs": [
    {
     "data": {
      "text/html": [
       "<div>\n",
       "<style scoped>\n",
       "    .dataframe tbody tr th:only-of-type {\n",
       "        vertical-align: middle;\n",
       "    }\n",
       "\n",
       "    .dataframe tbody tr th {\n",
       "        vertical-align: top;\n",
       "    }\n",
       "\n",
       "    .dataframe thead th {\n",
       "        text-align: right;\n",
       "    }\n",
       "</style>\n",
       "<table border=\"1\" class=\"dataframe\">\n",
       "  <thead>\n",
       "    <tr style=\"text-align: right;\">\n",
       "      <th></th>\n",
       "      <th>feature_count</th>\n",
       "      <th>accuracy_score</th>\n",
       "      <th>precision_score</th>\n",
       "      <th>recall_score</th>\n",
       "      <th>f1_score</th>\n",
       "      <th>fit_time_in_seconds</th>\n",
       "    </tr>\n",
       "  </thead>\n",
       "  <tbody>\n",
       "    <tr>\n",
       "      <th>0</th>\n",
       "      <td>9.0</td>\n",
       "      <td>0.939112</td>\n",
       "      <td>0.936949</td>\n",
       "      <td>0.951288</td>\n",
       "      <td>0.944064</td>\n",
       "      <td>60.324625</td>\n",
       "    </tr>\n",
       "    <tr>\n",
       "      <th>1</th>\n",
       "      <td>11.0</td>\n",
       "      <td>0.938995</td>\n",
       "      <td>0.935918</td>\n",
       "      <td>0.952258</td>\n",
       "      <td>0.944017</td>\n",
       "      <td>56.093482</td>\n",
       "    </tr>\n",
       "    <tr>\n",
       "      <th>2</th>\n",
       "      <td>8.0</td>\n",
       "      <td>0.938530</td>\n",
       "      <td>0.936326</td>\n",
       "      <td>0.950857</td>\n",
       "      <td>0.943535</td>\n",
       "      <td>42.064000</td>\n",
       "    </tr>\n",
       "    <tr>\n",
       "      <th>3</th>\n",
       "      <td>10.0</td>\n",
       "      <td>0.938471</td>\n",
       "      <td>0.936088</td>\n",
       "      <td>0.951018</td>\n",
       "      <td>0.943494</td>\n",
       "      <td>67.786226</td>\n",
       "    </tr>\n",
       "    <tr>\n",
       "      <th>4</th>\n",
       "      <td>16.0</td>\n",
       "      <td>0.938122</td>\n",
       "      <td>0.934204</td>\n",
       "      <td>0.952527</td>\n",
       "      <td>0.943276</td>\n",
       "      <td>83.416404</td>\n",
       "    </tr>\n",
       "    <tr>\n",
       "      <th>5</th>\n",
       "      <td>12.0</td>\n",
       "      <td>0.938122</td>\n",
       "      <td>0.934525</td>\n",
       "      <td>0.952150</td>\n",
       "      <td>0.943255</td>\n",
       "      <td>62.353501</td>\n",
       "    </tr>\n",
       "  </tbody>\n",
       "</table>\n",
       "</div>"
      ],
      "text/plain": [
       "   feature_count  accuracy_score  precision_score  recall_score  f1_score  \\\n",
       "0            9.0        0.939112         0.936949      0.951288  0.944064   \n",
       "1           11.0        0.938995         0.935918      0.952258  0.944017   \n",
       "2            8.0        0.938530         0.936326      0.950857  0.943535   \n",
       "3           10.0        0.938471         0.936088      0.951018  0.943494   \n",
       "4           16.0        0.938122         0.934204      0.952527  0.943276   \n",
       "5           12.0        0.938122         0.934525      0.952150  0.943255   \n",
       "\n",
       "   fit_time_in_seconds  \n",
       "0            60.324625  \n",
       "1            56.093482  \n",
       "2            42.064000  \n",
       "3            67.786226  \n",
       "4            83.416404  \n",
       "5            62.353501  "
      ]
     },
     "metadata": {},
     "output_type": "display_data"
    },
    {
     "data": {
      "text/plain": [
       "<matplotlib.axes._subplots.AxesSubplot at 0x2270c7b7240>"
      ]
     },
     "execution_count": 91,
     "metadata": {},
     "output_type": "execute_result"
    },
    {
     "data": {
      "image/png": "[encoded data removed]",
      "text/plain": [
       "<Figure size 576x432 with 1 Axes>"
      ]
     },
     "metadata": {
      "needs_background": "light"
     },
     "output_type": "display_data"
    }
   ],
   "source": [
    "display_top_quartile_scores(metrics_df, \"f1_score\", groupby = \"feature_count\", unstack = False)"
   ]
  },
  {
   "cell_type": "code",
   "execution_count": 92,
   "metadata": {},
   "outputs": [
    {
     "data": {
      "text/html": [
       "<div>\n",
       "<style scoped>\n",
       "    .dataframe tbody tr th:only-of-type {\n",
       "        vertical-align: middle;\n",
       "    }\n",
       "\n",
       "    .dataframe tbody tr th {\n",
       "        vertical-align: top;\n",
       "    }\n",
       "\n",
       "    .dataframe thead th {\n",
       "        text-align: right;\n",
       "    }\n",
       "</style>\n",
       "<table border=\"1\" class=\"dataframe\">\n",
       "  <thead>\n",
       "    <tr style=\"text-align: right;\">\n",
       "      <th></th>\n",
       "      <th>feature_count</th>\n",
       "      <th>accuracy_score</th>\n",
       "      <th>precision_score</th>\n",
       "      <th>recall_score</th>\n",
       "      <th>f1_score</th>\n",
       "      <th>fit_time_in_seconds</th>\n",
       "    </tr>\n",
       "  </thead>\n",
       "  <tbody>\n",
       "    <tr>\n",
       "      <th>0</th>\n",
       "      <td>2.0</td>\n",
       "      <td>0.906106</td>\n",
       "      <td>0.899312</td>\n",
       "      <td>0.930327</td>\n",
       "      <td>0.914557</td>\n",
       "      <td>30.585483</td>\n",
       "    </tr>\n",
       "    <tr>\n",
       "      <th>1</th>\n",
       "      <td>3.0</td>\n",
       "      <td>0.926334</td>\n",
       "      <td>0.922809</td>\n",
       "      <td>0.942451</td>\n",
       "      <td>0.932526</td>\n",
       "      <td>35.618983</td>\n",
       "    </tr>\n",
       "    <tr>\n",
       "      <th>2</th>\n",
       "      <td>7.0</td>\n",
       "      <td>0.932388</td>\n",
       "      <td>0.927755</td>\n",
       "      <td>0.948701</td>\n",
       "      <td>0.938111</td>\n",
       "      <td>40.584491</td>\n",
       "    </tr>\n",
       "    <tr>\n",
       "      <th>3</th>\n",
       "      <td>8.0</td>\n",
       "      <td>0.938530</td>\n",
       "      <td>0.936326</td>\n",
       "      <td>0.950857</td>\n",
       "      <td>0.943535</td>\n",
       "      <td>42.064000</td>\n",
       "    </tr>\n",
       "    <tr>\n",
       "      <th>4</th>\n",
       "      <td>6.0</td>\n",
       "      <td>0.931370</td>\n",
       "      <td>0.927576</td>\n",
       "      <td>0.946869</td>\n",
       "      <td>0.937123</td>\n",
       "      <td>42.835363</td>\n",
       "    </tr>\n",
       "    <tr>\n",
       "      <th>5</th>\n",
       "      <td>5.0</td>\n",
       "      <td>0.929303</td>\n",
       "      <td>0.925635</td>\n",
       "      <td>0.945037</td>\n",
       "      <td>0.935235</td>\n",
       "      <td>42.955584</td>\n",
       "    </tr>\n",
       "  </tbody>\n",
       "</table>\n",
       "</div>"
      ],
      "text/plain": [
       "   feature_count  accuracy_score  precision_score  recall_score  f1_score  \\\n",
       "0            2.0        0.906106         0.899312      0.930327  0.914557   \n",
       "1            3.0        0.926334         0.922809      0.942451  0.932526   \n",
       "2            7.0        0.932388         0.927755      0.948701  0.938111   \n",
       "3            8.0        0.938530         0.936326      0.950857  0.943535   \n",
       "4            6.0        0.931370         0.927576      0.946869  0.937123   \n",
       "5            5.0        0.929303         0.925635      0.945037  0.935235   \n",
       "\n",
       "   fit_time_in_seconds  \n",
       "0            30.585483  \n",
       "1            35.618983  \n",
       "2            40.584491  \n",
       "3            42.064000  \n",
       "4            42.835363  \n",
       "5            42.955584  "
      ]
     },
     "metadata": {},
     "output_type": "display_data"
    },
    {
     "data": {
      "text/plain": [
       "<matplotlib.axes._subplots.AxesSubplot at 0x2270c8166d8>"
      ]
     },
     "execution_count": 92,
     "metadata": {},
     "output_type": "execute_result"
    },
    {
     "data": {
      "image/png": "[encoded data removed]",
      "text/plain": [
       "<Figure size 576x432 with 1 Axes>"
      ]
     },
     "metadata": {
      "needs_background": "light"
     },
     "output_type": "display_data"
    }
   ],
   "source": [
    "display_top_quartile_scores(metrics_df, \"fit_time_in_seconds\", True, \"feature_count\", unstack = False)"
   ]
  },
  {
   "cell_type": "markdown",
   "metadata": {},
   "source": [
    "Unsuprisingly the fit time increases with the number of features. Less features means less time to train."
   ]
  },
  {
   "cell_type": "markdown",
   "metadata": {},
   "source": [
    "Given our models with 9 and 15 features are best performers based on the metrics we've selected, lets visualise the differences."
   ]
  },
  {
   "cell_type": "code",
   "execution_count": 144,
   "metadata": {},
   "outputs": [
    {
     "data": {
      "text/plain": [
       "<matplotlib.axes._subplots.AxesSubplot at 0x227717709e8>"
      ]
     },
     "execution_count": 144,
     "metadata": {},
     "output_type": "execute_result"
    },
    {
     "data": {
      "image/png": "[encoded data removed]",
      "text/plain": [
       "<Figure size 432x288 with 1 Axes>"
      ]
     },
     "metadata": {
      "needs_background": "light"
     },
     "output_type": "display_data"
    }
   ],
   "source": [
    "metrics_df[metrics_df[\"feature_count\"].isin([9,15])][[\n",
    "    \"accuracy_score\", \"precision_score\", \"recall_score\", \"f1_score\"\n",
    "]].T.plot.bar(ylim=(0.9, 1.0), rot =0)"
   ]
  },
  {
   "cell_type": "markdown",
   "metadata": {},
   "source": [
    "These will be the features we carry forward."
   ]
  },
  {
   "cell_type": "code",
   "execution_count": 159,
   "metadata": {},
   "outputs": [
    {
     "data": {
      "text/plain": [
       "['generate_features__digit_ratio__domain_digit_ratio',\n",
       " 'count_pairs__domain_count_pair_ti',\n",
       " 'generate_features__vowel_ratio__domain_vowel_ratio',\n",
       " 'count_pairs__domain_count_pair_ar',\n",
       " 'count_pairs__domain_count_pair_on',\n",
       " 'generate_features__consonants_variety_ratio__domain_consonants_variety_ratio',\n",
       " 'count_pairs__domain_count_pair_re',\n",
       " 'count_pairs__domain_count_pair_to',\n",
       " 'count_pairs__domain_count_pair_te']"
      ]
     },
     "execution_count": 159,
     "metadata": {},
     "output_type": "execute_result"
    }
   ],
   "source": [
    "grid_search_columns = [x[1] for x in combined_feature_rfe_importances][:9]\n",
    "grid_search_columns"
   ]
  },
  {
   "cell_type": "code",
   "execution_count": 161,
   "metadata": {},
   "outputs": [],
   "source": [
    "# really inefficient could do masking to get the columns I want\n",
    "grid_X_train, grid_X_test, grid_y_train, grid_y_test = train_test_split(\n",
    "    combined_X_df[keep_columns].values, y,\n",
    "    test_size = 0.3,\n",
    "    random_state = 42,\n",
    "    stratify = y,\n",
    ")\n"
   ]
  },
  {
   "cell_type": "code",
   "execution_count": 162,
   "metadata": {},
   "outputs": [],
   "source": [
    "from sklearn.ensemble import RandomForestClassifier\n",
    "from sklearn.model_selection import GridSearchCV\n",
    "from sklearn.metrics import classification_report"
   ]
  },
  {
   "cell_type": "code",
   "execution_count": null,
   "metadata": {},
   "outputs": [],
   "source": [
    "rf = RandomForestClassifier(\n",
    "    bootstrap = True,\n",
    "    criterion = \"gini\",\n",
    "    max_features = \"sqrt\",\n",
    "    class_weight = \"balanced_subsample\",\n",
    "    oob_score = False,\n",
    "    random_state = 42,\n",
    ")"
   ]
  },
  {
   "cell_type": "code",
   "execution_count": 178,
   "metadata": {},
   "outputs": [],
   "source": [
    "param_grid = {\n",
    "    \"max_depth\": np.linspace(5, 50, 3, dtype = int),\n",
    "    \"n_estimators\": np.linspace(25, 628, 8, dtype = int),\n",
    "    \"min_samples_split\": np.linspace(5, 30, 3, dtype = int),\n",
    "    \"min_samples_leaf\": np.linspace(2, 16, 3, dtype = int),\n",
    "}"
   ]
  },
  {
   "cell_type": "code",
   "execution_count": 179,
   "metadata": {},
   "outputs": [],
   "source": [
    "CV_rf = GridSearchCV(\n",
    "    rf,\n",
    "    param_grid,\n",
    "    scoring=\"f1_micro\",\n",
    "    n_jobs=-1,\n",
    "    cv=2,\n",
    "    refit=True,\n",
    "    verbose=1,\n",
    "    error_score=\"raise\",\n",
    "    return_train_score=False,\n",
    ")"
   ]
  },
  {
   "cell_type": "code",
   "execution_count": 180,
   "metadata": {},
   "outputs": [
    {
     "name": "stdout",
     "output_type": "stream",
     "text": [
      "Fitting 2 folds for each of 216 candidates, totalling 432 fits\n"
     ]
    },
    {
     "name": "stderr",
     "output_type": "stream",
     "text": [
      "[Parallel(n_jobs=-1)]: Using backend LokyBackend with 4 concurrent workers.\n",
      "[Parallel(n_jobs=-1)]: Done  42 tasks      | elapsed:  4.0min\n",
      "[Parallel(n_jobs=-1)]: Done 192 tasks      | elapsed: 22.6min\n",
      "[Parallel(n_jobs=-1)]: Done 432 out of 432 | elapsed: 60.6min finished\n"
     ]
    },
    {
     "data": {
      "text/plain": [
       "GridSearchCV(cv=2, error_score='raise',\n",
       "             estimator=RandomForestClassifier(bootstrap=True, ccp_alpha=0.0,\n",
       "                                              class_weight='balanced_subsample',\n",
       "                                              criterion='gini', max_depth=None,\n",
       "                                              max_features='auto',\n",
       "                                              max_leaf_nodes=None,\n",
       "                                              max_samples=None,\n",
       "                                              min_impurity_decrease=0.0,\n",
       "                                              min_impurity_split=None,\n",
       "                                              min_samples_leaf=1,\n",
       "                                              min_samples_split=2,\n",
       "                                              min_weight_fraction_leaf=0.0,\n",
       "                                              n_estimat...s=-1,\n",
       "                                              oob_score=False, random_state=42,\n",
       "                                              verbose=0, warm_start=False),\n",
       "             iid='deprecated', n_jobs=-1,\n",
       "             param_grid={'max_depth': array([ 5, 27, 50]),\n",
       "                         'min_samples_leaf': array([ 2,  9, 16]),\n",
       "                         'min_samples_split': array([ 5, 17, 30]),\n",
       "                         'n_estimators': array([ 25, 111, 197, 283, 369, 455, 541, 628])},\n",
       "             pre_dispatch='2*n_jobs', refit=True, return_train_score=False,\n",
       "             scoring='f1_micro', verbose=1)"
      ]
     },
     "execution_count": 180,
     "metadata": {},
     "output_type": "execute_result"
    }
   ],
   "source": [
    "CV_rf.fit(grid_X_train, grid_y_train)"
   ]
  },
  {
   "cell_type": "code",
   "execution_count": 181,
   "metadata": {},
   "outputs": [
    {
     "name": "stdout",
     "output_type": "stream",
     "text": [
      "{'max_depth': 27, 'min_samples_leaf': 2, 'min_samples_split': 17, 'n_estimators': 369}\n"
     ]
    }
   ],
   "source": [
    "print(CV_rf.best_params_)"
   ]
  },
  {
   "cell_type": "code",
   "execution_count": 182,
   "metadata": {},
   "outputs": [],
   "source": [
    "best_grid_rf = CV_rf.best_estimator_"
   ]
  },
  {
   "cell_type": "code",
   "execution_count": 183,
   "metadata": {},
   "outputs": [
    {
     "name": "stdout",
     "output_type": "stream",
     "text": [
      "Training Report\n",
      "              precision    recall  f1-score   support\n",
      "\n",
      "           0       0.96      0.96      0.96     36865\n",
      "           1       0.96      0.97      0.97     43302\n",
      "\n",
      "    accuracy                           0.96     80167\n",
      "   macro avg       0.96      0.96      0.96     80167\n",
      "weighted avg       0.96      0.96      0.96     80167\n",
      "\n",
      "Test Report\n",
      "              precision    recall  f1-score   support\n",
      "\n",
      "           0       0.94      0.93      0.93     15800\n",
      "           1       0.94      0.95      0.94     18558\n",
      "\n",
      "    accuracy                           0.94     34358\n",
      "   macro avg       0.94      0.94      0.94     34358\n",
      "weighted avg       0.94      0.94      0.94     34358\n",
      "\n"
     ]
    },
    {
     "data": {
      "image/png": "[encoded data removed]",
      "text/plain": [
       "<Figure size 720x504 with 2 Axes>"
      ]
     },
     "metadata": {
      "needs_background": "light"
     },
     "output_type": "display_data"
    }
   ],
   "source": [
    "evaluate_model(\n",
    "    best_grid_rf, \n",
    "    grid_X_train, grid_y_train, \n",
    "    grid_X_test, grid_y_test, \n",
    "    class_le.classes_\n",
    ")"
   ]
  },
  {
   "cell_type": "code",
   "execution_count": null,
   "metadata": {},
   "outputs": [],
   "source": []
  }
 ],
 "metadata": {
  "kernelspec": {
   "display_name": ".venv",
   "language": "python",
   "name": ".venv"
  },
  "language_info": {
   "codemirror_mode": {
    "name": "ipython",
    "version": 3
   },
   "file_extension": ".py",
   "mimetype": "text/x-python",
   "name": "python",
   "nbconvert_exporter": "python",
   "pygments_lexer": "ipython3",
   "version": "3.7.1"
  }
 },
 "nbformat": 4,
 "nbformat_minor": 2
}
